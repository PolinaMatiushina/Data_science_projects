{
  "cells": [
    {
      "cell_type": "markdown",
      "metadata": {
        "id": "8tkXD3v_CeV6"
      },
      "source": [
        "# Определение стоимости автомобилей"
      ]
    },
    {
      "cell_type": "code",
      "execution_count": 1,
      "metadata": {
        "colab": {
          "base_uri": "https://localhost:8080/"
        },
        "id": "HII-eM5EClPB",
        "outputId": "fff047bd-3a80-4c9c-943a-407af09dc551"
      },
      "outputs": [
        {
          "output_type": "stream",
          "name": "stdout",
          "text": [
            "Drive already mounted at /content/drive; to attempt to forcibly remount, call drive.mount(\"/content/drive\", force_remount=True).\n"
          ]
        }
      ],
      "source": [
        "try:\n",
        "    from google.colab import drive\n",
        "    drive.mount('/content/drive')\n",
        "except:\n",
        "    print('')"
      ]
    },
    {
      "cell_type": "markdown",
      "metadata": {
        "id": "bdpOBT_JCeWH"
      },
      "source": [
        "Сервис по продаже автомобилей с пробегом «Не бит, не крашен» разрабатывает приложение для привлечения новых клиентов. В нём можно быстро узнать рыночную стоимость своего автомобиля. В нашем распоряжении исторические данные: технические характеристики, комплектации и цены автомобилей. \n",
        "\n",
        "**Цель исследования:**\n",
        "- Построить модель машинного обучения для определения рыночной стоимости автомобиля. \n",
        "\n",
        "**Заказчику важны:**\n",
        "- Качество предсказания: значение метрики **RMSE** должно быть **меньше 2500**;\n",
        "- Время обучения модели;\n",
        "- Скорость предсказания целевой переменной;\n",
        "\n",
        "\n",
        "**Ход исследования:**\n",
        "- Загрузка и обзор предоставленных данных;\n",
        "- Предобработка данных;\n",
        "- Подготовка признаков для обучения модели;\n",
        "- Обучение моделей с различными гиперпараметрами;\n",
        "- Анализ моделей, выбор лучшей;\n",
        "- Тестирование отобранной модели на тестовой выборке;\n",
        "- Финальный вывод.\n"
      ]
    },
    {
      "cell_type": "markdown",
      "metadata": {
        "id": "aQcKmxFnIkj3"
      },
      "source": [
        "## Загрузка и обзор данных"
      ]
    },
    {
      "cell_type": "code",
      "execution_count": 2,
      "metadata": {
        "colab": {
          "base_uri": "https://localhost:8080/"
        },
        "id": "f5Qc6O4W_3qG",
        "outputId": "325818c4-8818-4350-f9ad-d47e251c35ec"
      },
      "outputs": [
        {
          "output_type": "stream",
          "name": "stdout",
          "text": [
            "Looking in indexes: https://pypi.org/simple, https://us-python.pkg.dev/colab-wheels/public/simple/\n",
            "Requirement already satisfied: fast_ml in /usr/local/lib/python3.9/dist-packages (3.68)\n",
            "Looking in indexes: https://pypi.org/simple, https://us-python.pkg.dev/colab-wheels/public/simple/\n",
            "Requirement already satisfied: Catboost in /usr/local/lib/python3.9/dist-packages (1.1.1)\n",
            "Requirement already satisfied: scipy in /usr/local/lib/python3.9/dist-packages (from Catboost) (1.10.1)\n",
            "Requirement already satisfied: plotly in /usr/local/lib/python3.9/dist-packages (from Catboost) (5.13.1)\n",
            "Requirement already satisfied: numpy>=1.16.0 in /usr/local/lib/python3.9/dist-packages (from Catboost) (1.22.4)\n",
            "Requirement already satisfied: graphviz in /usr/local/lib/python3.9/dist-packages (from Catboost) (0.20.1)\n",
            "Requirement already satisfied: pandas>=0.24.0 in /usr/local/lib/python3.9/dist-packages (from Catboost) (1.4.4)\n",
            "Requirement already satisfied: matplotlib in /usr/local/lib/python3.9/dist-packages (from Catboost) (3.7.1)\n",
            "Requirement already satisfied: six in /usr/local/lib/python3.9/dist-packages (from Catboost) (1.16.0)\n",
            "Requirement already satisfied: pytz>=2020.1 in /usr/local/lib/python3.9/dist-packages (from pandas>=0.24.0->Catboost) (2022.7.1)\n",
            "Requirement already satisfied: python-dateutil>=2.8.1 in /usr/local/lib/python3.9/dist-packages (from pandas>=0.24.0->Catboost) (2.8.2)\n",
            "Requirement already satisfied: fonttools>=4.22.0 in /usr/local/lib/python3.9/dist-packages (from matplotlib->Catboost) (4.39.3)\n",
            "Requirement already satisfied: cycler>=0.10 in /usr/local/lib/python3.9/dist-packages (from matplotlib->Catboost) (0.11.0)\n",
            "Requirement already satisfied: packaging>=20.0 in /usr/local/lib/python3.9/dist-packages (from matplotlib->Catboost) (23.0)\n",
            "Requirement already satisfied: pillow>=6.2.0 in /usr/local/lib/python3.9/dist-packages (from matplotlib->Catboost) (8.4.0)\n",
            "Requirement already satisfied: kiwisolver>=1.0.1 in /usr/local/lib/python3.9/dist-packages (from matplotlib->Catboost) (1.4.4)\n",
            "Requirement already satisfied: contourpy>=1.0.1 in /usr/local/lib/python3.9/dist-packages (from matplotlib->Catboost) (1.0.7)\n",
            "Requirement already satisfied: importlib-resources>=3.2.0 in /usr/local/lib/python3.9/dist-packages (from matplotlib->Catboost) (5.12.0)\n",
            "Requirement already satisfied: pyparsing>=2.3.1 in /usr/local/lib/python3.9/dist-packages (from matplotlib->Catboost) (3.0.9)\n",
            "Requirement already satisfied: tenacity>=6.2.0 in /usr/local/lib/python3.9/dist-packages (from plotly->Catboost) (8.2.2)\n",
            "Requirement already satisfied: zipp>=3.1.0 in /usr/local/lib/python3.9/dist-packages (from importlib-resources>=3.2.0->matplotlib->Catboost) (3.15.0)\n"
          ]
        }
      ],
      "source": [
        "!pip install fast_ml \n",
        "!pip install Catboost"
      ]
    },
    {
      "cell_type": "code",
      "execution_count": 3,
      "metadata": {
        "id": "7hIMDtBvCeWK"
      },
      "outputs": [],
      "source": [
        "# Импортируем необходимые для работы библиотеки и функции\n",
        "import warnings\n",
        "import pandas as pd\n",
        "import numpy as np\n",
        "import matplotlib.pyplot as plt\n",
        "import seaborn as sns\n",
        "import time\n",
        "\n",
        "from sklearn.linear_model import LinearRegression, Ridge\n",
        "from sklearn.ensemble import RandomForestRegressor\n",
        "from sklearn.tree import DecisionTreeRegressor\n",
        "from lightgbm import LGBMRegressor\n",
        "from catboost import CatBoostRegressor\n",
        "\n",
        "from fast_ml.model_development import train_valid_test_split\n",
        "from sklearn.compose import make_column_transformer\n",
        "from sklearn.model_selection import RandomizedSearchCV\n",
        "from sklearn.pipeline import make_pipeline\n",
        "from sklearn.preprocessing import (\n",
        "    OneHotEncoder,\n",
        "    OrdinalEncoder,\n",
        "    StandardScaler\n",
        ")\n",
        "from sklearn.metrics import mean_squared_error, r2_score\n",
        "\n",
        "#настройки\n",
        "warnings.filterwarnings('ignore')\n",
        "\n",
        "#константы\n",
        "RANDOM_STATE = 37"
      ]
    },
    {
      "cell_type": "markdown",
      "metadata": {
        "id": "vkPIhPWoFcCF"
      },
      "source": [
        "**Ознакомимся с данными.** Выведем на экран общую информацию, числовое описание данных, первые 5 строк:"
      ]
    },
    {
      "cell_type": "code",
      "execution_count": 4,
      "metadata": {
        "colab": {
          "base_uri": "https://localhost:8080/",
          "height": 1000
        },
        "id": "Bz6_6kmUFeDc",
        "outputId": "4a0d302e-18c3-42e4-be1c-be6c9e6ac7e2"
      },
      "outputs": [
        {
          "output_type": "stream",
          "name": "stdout",
          "text": [
            "<class 'pandas.core.frame.DataFrame'>\n",
            "RangeIndex: 354369 entries, 0 to 354368\n",
            "Data columns (total 16 columns):\n",
            " #   Column             Non-Null Count   Dtype \n",
            "---  ------             --------------   ----- \n",
            " 0   DateCrawled        354369 non-null  object\n",
            " 1   Price              354369 non-null  int64 \n",
            " 2   VehicleType        316879 non-null  object\n",
            " 3   RegistrationYear   354369 non-null  int64 \n",
            " 4   Gearbox            334536 non-null  object\n",
            " 5   Power              354369 non-null  int64 \n",
            " 6   Model              334664 non-null  object\n",
            " 7   Kilometer          354369 non-null  int64 \n",
            " 8   RegistrationMonth  354369 non-null  int64 \n",
            " 9   FuelType           321474 non-null  object\n",
            " 10  Brand              354369 non-null  object\n",
            " 11  Repaired           283215 non-null  object\n",
            " 12  DateCreated        354369 non-null  object\n",
            " 13  NumberOfPictures   354369 non-null  int64 \n",
            " 14  PostalCode         354369 non-null  int64 \n",
            " 15  LastSeen           354369 non-null  object\n",
            "dtypes: int64(7), object(9)\n",
            "memory usage: 43.3+ MB\n"
          ]
        },
        {
          "output_type": "display_data",
          "data": {
            "text/plain": [
              "           DateCrawled  Price VehicleType  RegistrationYear Gearbox  Power  \\\n",
              "0  2016-03-24 11:52:17    480         NaN              1993  manual      0   \n",
              "1  2016-03-24 10:58:45  18300       coupe              2011  manual    190   \n",
              "2  2016-03-14 12:52:21   9800         suv              2004    auto    163   \n",
              "3  2016-03-17 16:54:04   1500       small              2001  manual     75   \n",
              "4  2016-03-31 17:25:20   3600       small              2008  manual     69   \n",
              "\n",
              "   Model  Kilometer  RegistrationMonth  FuelType       Brand Repaired  \\\n",
              "0   golf     150000                  0    petrol  volkswagen      NaN   \n",
              "1    NaN     125000                  5  gasoline        audi      yes   \n",
              "2  grand     125000                  8  gasoline        jeep      NaN   \n",
              "3   golf     150000                  6    petrol  volkswagen       no   \n",
              "4  fabia      90000                  7  gasoline       skoda       no   \n",
              "\n",
              "           DateCreated  NumberOfPictures  PostalCode             LastSeen  \n",
              "0  2016-03-24 00:00:00                 0       70435  2016-04-07 03:16:57  \n",
              "1  2016-03-24 00:00:00                 0       66954  2016-04-07 01:46:50  \n",
              "2  2016-03-14 00:00:00                 0       90480  2016-04-05 12:47:46  \n",
              "3  2016-03-17 00:00:00                 0       91074  2016-03-17 17:40:17  \n",
              "4  2016-03-31 00:00:00                 0       60437  2016-04-06 10:17:21  "
            ],
            "text/html": [
              "\n",
              "  <div id=\"df-7317d179-7b0c-4be9-824a-64d8b2f47377\">\n",
              "    <div class=\"colab-df-container\">\n",
              "      <div>\n",
              "<style scoped>\n",
              "    .dataframe tbody tr th:only-of-type {\n",
              "        vertical-align: middle;\n",
              "    }\n",
              "\n",
              "    .dataframe tbody tr th {\n",
              "        vertical-align: top;\n",
              "    }\n",
              "\n",
              "    .dataframe thead th {\n",
              "        text-align: right;\n",
              "    }\n",
              "</style>\n",
              "<table border=\"1\" class=\"dataframe\">\n",
              "  <thead>\n",
              "    <tr style=\"text-align: right;\">\n",
              "      <th></th>\n",
              "      <th>DateCrawled</th>\n",
              "      <th>Price</th>\n",
              "      <th>VehicleType</th>\n",
              "      <th>RegistrationYear</th>\n",
              "      <th>Gearbox</th>\n",
              "      <th>Power</th>\n",
              "      <th>Model</th>\n",
              "      <th>Kilometer</th>\n",
              "      <th>RegistrationMonth</th>\n",
              "      <th>FuelType</th>\n",
              "      <th>Brand</th>\n",
              "      <th>Repaired</th>\n",
              "      <th>DateCreated</th>\n",
              "      <th>NumberOfPictures</th>\n",
              "      <th>PostalCode</th>\n",
              "      <th>LastSeen</th>\n",
              "    </tr>\n",
              "  </thead>\n",
              "  <tbody>\n",
              "    <tr>\n",
              "      <th>0</th>\n",
              "      <td>2016-03-24 11:52:17</td>\n",
              "      <td>480</td>\n",
              "      <td>NaN</td>\n",
              "      <td>1993</td>\n",
              "      <td>manual</td>\n",
              "      <td>0</td>\n",
              "      <td>golf</td>\n",
              "      <td>150000</td>\n",
              "      <td>0</td>\n",
              "      <td>petrol</td>\n",
              "      <td>volkswagen</td>\n",
              "      <td>NaN</td>\n",
              "      <td>2016-03-24 00:00:00</td>\n",
              "      <td>0</td>\n",
              "      <td>70435</td>\n",
              "      <td>2016-04-07 03:16:57</td>\n",
              "    </tr>\n",
              "    <tr>\n",
              "      <th>1</th>\n",
              "      <td>2016-03-24 10:58:45</td>\n",
              "      <td>18300</td>\n",
              "      <td>coupe</td>\n",
              "      <td>2011</td>\n",
              "      <td>manual</td>\n",
              "      <td>190</td>\n",
              "      <td>NaN</td>\n",
              "      <td>125000</td>\n",
              "      <td>5</td>\n",
              "      <td>gasoline</td>\n",
              "      <td>audi</td>\n",
              "      <td>yes</td>\n",
              "      <td>2016-03-24 00:00:00</td>\n",
              "      <td>0</td>\n",
              "      <td>66954</td>\n",
              "      <td>2016-04-07 01:46:50</td>\n",
              "    </tr>\n",
              "    <tr>\n",
              "      <th>2</th>\n",
              "      <td>2016-03-14 12:52:21</td>\n",
              "      <td>9800</td>\n",
              "      <td>suv</td>\n",
              "      <td>2004</td>\n",
              "      <td>auto</td>\n",
              "      <td>163</td>\n",
              "      <td>grand</td>\n",
              "      <td>125000</td>\n",
              "      <td>8</td>\n",
              "      <td>gasoline</td>\n",
              "      <td>jeep</td>\n",
              "      <td>NaN</td>\n",
              "      <td>2016-03-14 00:00:00</td>\n",
              "      <td>0</td>\n",
              "      <td>90480</td>\n",
              "      <td>2016-04-05 12:47:46</td>\n",
              "    </tr>\n",
              "    <tr>\n",
              "      <th>3</th>\n",
              "      <td>2016-03-17 16:54:04</td>\n",
              "      <td>1500</td>\n",
              "      <td>small</td>\n",
              "      <td>2001</td>\n",
              "      <td>manual</td>\n",
              "      <td>75</td>\n",
              "      <td>golf</td>\n",
              "      <td>150000</td>\n",
              "      <td>6</td>\n",
              "      <td>petrol</td>\n",
              "      <td>volkswagen</td>\n",
              "      <td>no</td>\n",
              "      <td>2016-03-17 00:00:00</td>\n",
              "      <td>0</td>\n",
              "      <td>91074</td>\n",
              "      <td>2016-03-17 17:40:17</td>\n",
              "    </tr>\n",
              "    <tr>\n",
              "      <th>4</th>\n",
              "      <td>2016-03-31 17:25:20</td>\n",
              "      <td>3600</td>\n",
              "      <td>small</td>\n",
              "      <td>2008</td>\n",
              "      <td>manual</td>\n",
              "      <td>69</td>\n",
              "      <td>fabia</td>\n",
              "      <td>90000</td>\n",
              "      <td>7</td>\n",
              "      <td>gasoline</td>\n",
              "      <td>skoda</td>\n",
              "      <td>no</td>\n",
              "      <td>2016-03-31 00:00:00</td>\n",
              "      <td>0</td>\n",
              "      <td>60437</td>\n",
              "      <td>2016-04-06 10:17:21</td>\n",
              "    </tr>\n",
              "  </tbody>\n",
              "</table>\n",
              "</div>\n",
              "      <button class=\"colab-df-convert\" onclick=\"convertToInteractive('df-7317d179-7b0c-4be9-824a-64d8b2f47377')\"\n",
              "              title=\"Convert this dataframe to an interactive table.\"\n",
              "              style=\"display:none;\">\n",
              "        \n",
              "  <svg xmlns=\"http://www.w3.org/2000/svg\" height=\"24px\"viewBox=\"0 0 24 24\"\n",
              "       width=\"24px\">\n",
              "    <path d=\"M0 0h24v24H0V0z\" fill=\"none\"/>\n",
              "    <path d=\"M18.56 5.44l.94 2.06.94-2.06 2.06-.94-2.06-.94-.94-2.06-.94 2.06-2.06.94zm-11 1L8.5 8.5l.94-2.06 2.06-.94-2.06-.94L8.5 2.5l-.94 2.06-2.06.94zm10 10l.94 2.06.94-2.06 2.06-.94-2.06-.94-.94-2.06-.94 2.06-2.06.94z\"/><path d=\"M17.41 7.96l-1.37-1.37c-.4-.4-.92-.59-1.43-.59-.52 0-1.04.2-1.43.59L10.3 9.45l-7.72 7.72c-.78.78-.78 2.05 0 2.83L4 21.41c.39.39.9.59 1.41.59.51 0 1.02-.2 1.41-.59l7.78-7.78 2.81-2.81c.8-.78.8-2.07 0-2.86zM5.41 20L4 18.59l7.72-7.72 1.47 1.35L5.41 20z\"/>\n",
              "  </svg>\n",
              "      </button>\n",
              "      \n",
              "  <style>\n",
              "    .colab-df-container {\n",
              "      display:flex;\n",
              "      flex-wrap:wrap;\n",
              "      gap: 12px;\n",
              "    }\n",
              "\n",
              "    .colab-df-convert {\n",
              "      background-color: #E8F0FE;\n",
              "      border: none;\n",
              "      border-radius: 50%;\n",
              "      cursor: pointer;\n",
              "      display: none;\n",
              "      fill: #1967D2;\n",
              "      height: 32px;\n",
              "      padding: 0 0 0 0;\n",
              "      width: 32px;\n",
              "    }\n",
              "\n",
              "    .colab-df-convert:hover {\n",
              "      background-color: #E2EBFA;\n",
              "      box-shadow: 0px 1px 2px rgba(60, 64, 67, 0.3), 0px 1px 3px 1px rgba(60, 64, 67, 0.15);\n",
              "      fill: #174EA6;\n",
              "    }\n",
              "\n",
              "    [theme=dark] .colab-df-convert {\n",
              "      background-color: #3B4455;\n",
              "      fill: #D2E3FC;\n",
              "    }\n",
              "\n",
              "    [theme=dark] .colab-df-convert:hover {\n",
              "      background-color: #434B5C;\n",
              "      box-shadow: 0px 1px 3px 1px rgba(0, 0, 0, 0.15);\n",
              "      filter: drop-shadow(0px 1px 2px rgba(0, 0, 0, 0.3));\n",
              "      fill: #FFFFFF;\n",
              "    }\n",
              "  </style>\n",
              "\n",
              "      <script>\n",
              "        const buttonEl =\n",
              "          document.querySelector('#df-7317d179-7b0c-4be9-824a-64d8b2f47377 button.colab-df-convert');\n",
              "        buttonEl.style.display =\n",
              "          google.colab.kernel.accessAllowed ? 'block' : 'none';\n",
              "\n",
              "        async function convertToInteractive(key) {\n",
              "          const element = document.querySelector('#df-7317d179-7b0c-4be9-824a-64d8b2f47377');\n",
              "          const dataTable =\n",
              "            await google.colab.kernel.invokeFunction('convertToInteractive',\n",
              "                                                     [key], {});\n",
              "          if (!dataTable) return;\n",
              "\n",
              "          const docLinkHtml = 'Like what you see? Visit the ' +\n",
              "            '<a target=\"_blank\" href=https://colab.research.google.com/notebooks/data_table.ipynb>data table notebook</a>'\n",
              "            + ' to learn more about interactive tables.';\n",
              "          element.innerHTML = '';\n",
              "          dataTable['output_type'] = 'display_data';\n",
              "          await google.colab.output.renderOutput(dataTable, element);\n",
              "          const docLink = document.createElement('div');\n",
              "          docLink.innerHTML = docLinkHtml;\n",
              "          element.appendChild(docLink);\n",
              "        }\n",
              "      </script>\n",
              "    </div>\n",
              "  </div>\n",
              "  "
            ]
          },
          "metadata": {}
        },
        {
          "output_type": "display_data",
          "data": {
            "text/plain": [
              "               Price  RegistrationYear          Power      Kilometer  \\\n",
              "count  354369.000000     354369.000000  354369.000000  354369.000000   \n",
              "mean     4416.656776       2004.234448     110.094337  128211.172535   \n",
              "std      4514.158514         90.227958     189.850405   37905.341530   \n",
              "min         0.000000       1000.000000       0.000000    5000.000000   \n",
              "25%      1050.000000       1999.000000      69.000000  125000.000000   \n",
              "50%      2700.000000       2003.000000     105.000000  150000.000000   \n",
              "75%      6400.000000       2008.000000     143.000000  150000.000000   \n",
              "max     20000.000000       9999.000000   20000.000000  150000.000000   \n",
              "\n",
              "       RegistrationMonth  NumberOfPictures     PostalCode  \n",
              "count      354369.000000          354369.0  354369.000000  \n",
              "mean            5.714645               0.0   50508.689087  \n",
              "std             3.726421               0.0   25783.096248  \n",
              "min             0.000000               0.0    1067.000000  \n",
              "25%             3.000000               0.0   30165.000000  \n",
              "50%             6.000000               0.0   49413.000000  \n",
              "75%             9.000000               0.0   71083.000000  \n",
              "max            12.000000               0.0   99998.000000  "
            ],
            "text/html": [
              "\n",
              "  <div id=\"df-29b3584f-2ea1-460a-b506-687633dbaa10\">\n",
              "    <div class=\"colab-df-container\">\n",
              "      <div>\n",
              "<style scoped>\n",
              "    .dataframe tbody tr th:only-of-type {\n",
              "        vertical-align: middle;\n",
              "    }\n",
              "\n",
              "    .dataframe tbody tr th {\n",
              "        vertical-align: top;\n",
              "    }\n",
              "\n",
              "    .dataframe thead th {\n",
              "        text-align: right;\n",
              "    }\n",
              "</style>\n",
              "<table border=\"1\" class=\"dataframe\">\n",
              "  <thead>\n",
              "    <tr style=\"text-align: right;\">\n",
              "      <th></th>\n",
              "      <th>Price</th>\n",
              "      <th>RegistrationYear</th>\n",
              "      <th>Power</th>\n",
              "      <th>Kilometer</th>\n",
              "      <th>RegistrationMonth</th>\n",
              "      <th>NumberOfPictures</th>\n",
              "      <th>PostalCode</th>\n",
              "    </tr>\n",
              "  </thead>\n",
              "  <tbody>\n",
              "    <tr>\n",
              "      <th>count</th>\n",
              "      <td>354369.000000</td>\n",
              "      <td>354369.000000</td>\n",
              "      <td>354369.000000</td>\n",
              "      <td>354369.000000</td>\n",
              "      <td>354369.000000</td>\n",
              "      <td>354369.0</td>\n",
              "      <td>354369.000000</td>\n",
              "    </tr>\n",
              "    <tr>\n",
              "      <th>mean</th>\n",
              "      <td>4416.656776</td>\n",
              "      <td>2004.234448</td>\n",
              "      <td>110.094337</td>\n",
              "      <td>128211.172535</td>\n",
              "      <td>5.714645</td>\n",
              "      <td>0.0</td>\n",
              "      <td>50508.689087</td>\n",
              "    </tr>\n",
              "    <tr>\n",
              "      <th>std</th>\n",
              "      <td>4514.158514</td>\n",
              "      <td>90.227958</td>\n",
              "      <td>189.850405</td>\n",
              "      <td>37905.341530</td>\n",
              "      <td>3.726421</td>\n",
              "      <td>0.0</td>\n",
              "      <td>25783.096248</td>\n",
              "    </tr>\n",
              "    <tr>\n",
              "      <th>min</th>\n",
              "      <td>0.000000</td>\n",
              "      <td>1000.000000</td>\n",
              "      <td>0.000000</td>\n",
              "      <td>5000.000000</td>\n",
              "      <td>0.000000</td>\n",
              "      <td>0.0</td>\n",
              "      <td>1067.000000</td>\n",
              "    </tr>\n",
              "    <tr>\n",
              "      <th>25%</th>\n",
              "      <td>1050.000000</td>\n",
              "      <td>1999.000000</td>\n",
              "      <td>69.000000</td>\n",
              "      <td>125000.000000</td>\n",
              "      <td>3.000000</td>\n",
              "      <td>0.0</td>\n",
              "      <td>30165.000000</td>\n",
              "    </tr>\n",
              "    <tr>\n",
              "      <th>50%</th>\n",
              "      <td>2700.000000</td>\n",
              "      <td>2003.000000</td>\n",
              "      <td>105.000000</td>\n",
              "      <td>150000.000000</td>\n",
              "      <td>6.000000</td>\n",
              "      <td>0.0</td>\n",
              "      <td>49413.000000</td>\n",
              "    </tr>\n",
              "    <tr>\n",
              "      <th>75%</th>\n",
              "      <td>6400.000000</td>\n",
              "      <td>2008.000000</td>\n",
              "      <td>143.000000</td>\n",
              "      <td>150000.000000</td>\n",
              "      <td>9.000000</td>\n",
              "      <td>0.0</td>\n",
              "      <td>71083.000000</td>\n",
              "    </tr>\n",
              "    <tr>\n",
              "      <th>max</th>\n",
              "      <td>20000.000000</td>\n",
              "      <td>9999.000000</td>\n",
              "      <td>20000.000000</td>\n",
              "      <td>150000.000000</td>\n",
              "      <td>12.000000</td>\n",
              "      <td>0.0</td>\n",
              "      <td>99998.000000</td>\n",
              "    </tr>\n",
              "  </tbody>\n",
              "</table>\n",
              "</div>\n",
              "      <button class=\"colab-df-convert\" onclick=\"convertToInteractive('df-29b3584f-2ea1-460a-b506-687633dbaa10')\"\n",
              "              title=\"Convert this dataframe to an interactive table.\"\n",
              "              style=\"display:none;\">\n",
              "        \n",
              "  <svg xmlns=\"http://www.w3.org/2000/svg\" height=\"24px\"viewBox=\"0 0 24 24\"\n",
              "       width=\"24px\">\n",
              "    <path d=\"M0 0h24v24H0V0z\" fill=\"none\"/>\n",
              "    <path d=\"M18.56 5.44l.94 2.06.94-2.06 2.06-.94-2.06-.94-.94-2.06-.94 2.06-2.06.94zm-11 1L8.5 8.5l.94-2.06 2.06-.94-2.06-.94L8.5 2.5l-.94 2.06-2.06.94zm10 10l.94 2.06.94-2.06 2.06-.94-2.06-.94-.94-2.06-.94 2.06-2.06.94z\"/><path d=\"M17.41 7.96l-1.37-1.37c-.4-.4-.92-.59-1.43-.59-.52 0-1.04.2-1.43.59L10.3 9.45l-7.72 7.72c-.78.78-.78 2.05 0 2.83L4 21.41c.39.39.9.59 1.41.59.51 0 1.02-.2 1.41-.59l7.78-7.78 2.81-2.81c.8-.78.8-2.07 0-2.86zM5.41 20L4 18.59l7.72-7.72 1.47 1.35L5.41 20z\"/>\n",
              "  </svg>\n",
              "      </button>\n",
              "      \n",
              "  <style>\n",
              "    .colab-df-container {\n",
              "      display:flex;\n",
              "      flex-wrap:wrap;\n",
              "      gap: 12px;\n",
              "    }\n",
              "\n",
              "    .colab-df-convert {\n",
              "      background-color: #E8F0FE;\n",
              "      border: none;\n",
              "      border-radius: 50%;\n",
              "      cursor: pointer;\n",
              "      display: none;\n",
              "      fill: #1967D2;\n",
              "      height: 32px;\n",
              "      padding: 0 0 0 0;\n",
              "      width: 32px;\n",
              "    }\n",
              "\n",
              "    .colab-df-convert:hover {\n",
              "      background-color: #E2EBFA;\n",
              "      box-shadow: 0px 1px 2px rgba(60, 64, 67, 0.3), 0px 1px 3px 1px rgba(60, 64, 67, 0.15);\n",
              "      fill: #174EA6;\n",
              "    }\n",
              "\n",
              "    [theme=dark] .colab-df-convert {\n",
              "      background-color: #3B4455;\n",
              "      fill: #D2E3FC;\n",
              "    }\n",
              "\n",
              "    [theme=dark] .colab-df-convert:hover {\n",
              "      background-color: #434B5C;\n",
              "      box-shadow: 0px 1px 3px 1px rgba(0, 0, 0, 0.15);\n",
              "      filter: drop-shadow(0px 1px 2px rgba(0, 0, 0, 0.3));\n",
              "      fill: #FFFFFF;\n",
              "    }\n",
              "  </style>\n",
              "\n",
              "      <script>\n",
              "        const buttonEl =\n",
              "          document.querySelector('#df-29b3584f-2ea1-460a-b506-687633dbaa10 button.colab-df-convert');\n",
              "        buttonEl.style.display =\n",
              "          google.colab.kernel.accessAllowed ? 'block' : 'none';\n",
              "\n",
              "        async function convertToInteractive(key) {\n",
              "          const element = document.querySelector('#df-29b3584f-2ea1-460a-b506-687633dbaa10');\n",
              "          const dataTable =\n",
              "            await google.colab.kernel.invokeFunction('convertToInteractive',\n",
              "                                                     [key], {});\n",
              "          if (!dataTable) return;\n",
              "\n",
              "          const docLinkHtml = 'Like what you see? Visit the ' +\n",
              "            '<a target=\"_blank\" href=https://colab.research.google.com/notebooks/data_table.ipynb>data table notebook</a>'\n",
              "            + ' to learn more about interactive tables.';\n",
              "          element.innerHTML = '';\n",
              "          dataTable['output_type'] = 'display_data';\n",
              "          await google.colab.output.renderOutput(dataTable, element);\n",
              "          const docLink = document.createElement('div');\n",
              "          docLink.innerHTML = docLinkHtml;\n",
              "          element.appendChild(docLink);\n",
              "        }\n",
              "      </script>\n",
              "    </div>\n",
              "  </div>\n",
              "  "
            ]
          },
          "metadata": {}
        },
        {
          "output_type": "stream",
          "name": "stdout",
          "text": [
            "Количество дубликатов в данных: 4\n"
          ]
        }
      ],
      "source": [
        "# Прочитаем файл и сохраним его в переменной df\n",
        "try:\n",
        "    df = pd.read_csv('/content/drive/MyDrive/datasets/project_11/autos.csv')\n",
        "except:\n",
        "    df = pd.read_csv('/datasets/autos.csv')\n",
        "# Получим общую информацию о таблице\n",
        "df.info()\n",
        "# Выведем на экран первые 5 строк таблицы\n",
        "display(df.head(5))\n",
        "# Получим числовое описание данных в таблице\n",
        "display(df.describe())\n",
        "# Проверка на дубликаты\n",
        "print(f'Количество дубликатов в данных: {df.duplicated().sum()}')"
      ]
    },
    {
      "cell_type": "markdown",
      "metadata": {
        "id": "zbmoR-RwFea6"
      },
      "source": [
        "**Изучим документацию к данным:**\n",
        "\n",
        "**Признаки**\n",
        "- DateCrawled — дата скачивания анкеты из базы\n",
        "- VehicleType — тип автомобильного кузова\n",
        "- RegistrationYear — год регистрации автомобиля\n",
        "- Gearbox — тип коробки передач\n",
        "- Power — мощность (л. с.)\n",
        "- Model — модель автомобиля\n",
        "- Kilometer — пробег (км)\n",
        "- RegistrationMonth — месяц регистрации автомобиля\n",
        "- FuelType — тип топлива\n",
        "- Brand — марка автомобиля\n",
        "- Repaired — была машина в ремонте или нет\n",
        "- DateCreated — дата создания анкеты\n",
        "- NumberOfPictures — количество фотографий автомобиля\n",
        "- PostalCode — почтовый индекс владельца анкеты (пользователя)\n",
        "- LastSeen — дата последней активности пользователя\n",
        "\n",
        "**Целевой признак**\n",
        "- Price — цена (евро)"
      ]
    },
    {
      "cell_type": "markdown",
      "metadata": {
        "id": "9vTbhT0EITht"
      },
      "source": [
        "**Первые выводы:**\n",
        "\n",
        "- Нам предоставлены \"сырые\" данные о 354 тысячах объявлений о продаже авто;\n",
        "- У каждого объекта 15 признаков и 1 целевой признак - стоимость авто;\n",
        "- Среди признаков есть неинформативные: почтовый индекс пользователя, дата последней активности, дата скачивания анкеты из базы, количество фотографий авто. Перед построением моделей мы их исключим.\n",
        "- В данных присутствуют пропуски, а также уже видны аномальные значения (минимальный и максимальный год регистрации авто), есть дубликаты. \n",
        "\n",
        "На следующем шаге мы обработаем данные, прежде чем передавать их моделям машинного обучения."
      ]
    },
    {
      "cell_type": "markdown",
      "metadata": {
        "id": "-8j6WgO8jiT8"
      },
      "source": [
        "## Предобработка данных"
      ]
    },
    {
      "cell_type": "markdown",
      "metadata": {
        "id": "84Dz6SRijrJA"
      },
      "source": [
        "В первую очередь, **исправим нарушение стиля в заголовках**: поменяем CamelCase на snake_case."
      ]
    },
    {
      "cell_type": "code",
      "execution_count": 5,
      "metadata": {
        "colab": {
          "base_uri": "https://localhost:8080/"
        },
        "id": "7YsPJIHgjhy3",
        "outputId": "af0b99e2-84f4-4884-e29c-6377df0d7c93"
      },
      "outputs": [
        {
          "output_type": "execute_result",
          "data": {
            "text/plain": [
              "Index(['date_crawled', 'price', 'vehicle_type', 'registration_year', 'gearbox',\n",
              "       'power', 'model', 'kilometer', 'registration_month', 'fuel_type',\n",
              "       'brand', 'repaired', 'date_created', 'number_of_pictures',\n",
              "       'postal_code', 'last_seen'],\n",
              "      dtype='object')"
            ]
          },
          "metadata": {},
          "execution_count": 5
        }
      ],
      "source": [
        "# Создадим функцию, которая конвертирует стиль заголовка\n",
        "def convert_to_snake_case(column):\n",
        "    return ''.join(\n",
        "        ['_' + i if i.isupper() else i for i in column]\n",
        "        ).lstrip('_').lower()\n",
        "df.columns = [convert_to_snake_case(c) for c in df.columns]\n",
        "\n",
        "# Для проверки выведем названия колонок на экран\n",
        "df.columns"
      ]
    },
    {
      "cell_type": "markdown",
      "metadata": {
        "id": "YocC5S9H0bCS"
      },
      "source": [
        "**Удалим явные дубликаты** в данных:"
      ]
    },
    {
      "cell_type": "code",
      "execution_count": 6,
      "metadata": {
        "id": "twD3XHPZ0b4s"
      },
      "outputs": [],
      "source": [
        "df = df.drop_duplicates().reset_index(drop=True)"
      ]
    },
    {
      "cell_type": "markdown",
      "metadata": {
        "id": "-4tk_0XjuH07"
      },
      "source": [
        "Теперь **исключим признаки, которые не содержат никакой информации, которая помогла бы определить стоимость авто**: почтовый индекс пользователя, дата последней активности, дата скачивания анкеты из базы. Дата создания анкеты также не потребуется нам при построении модели, но она нужна нам для проверки на аномалии, поэтому мы исключим её чуть позже.    \n",
        "Признак \"количество фотографий автомобиля\" полностью нулевой, поэтому мы также исключим эту колонку. "
      ]
    },
    {
      "cell_type": "code",
      "execution_count": 7,
      "metadata": {
        "id": "xM-mg2viu_6G"
      },
      "outputs": [],
      "source": [
        "df = df.drop({\n",
        "    'date_crawled', \n",
        "    'number_of_pictures', \n",
        "    'postal_code', \n",
        "    'last_seen'\n",
        "    }, axis=1)"
      ]
    },
    {
      "cell_type": "markdown",
      "metadata": {
        "id": "rOq5XPrc0DVL"
      },
      "source": [
        "Теперь **посчитаем количество пропущенных значений в данных**:"
      ]
    },
    {
      "cell_type": "code",
      "execution_count": 8,
      "metadata": {
        "colab": {
          "base_uri": "https://localhost:8080/"
        },
        "id": "1d4039bZ0EG3",
        "outputId": "b965cf6f-5cf2-4943-c192-a1090c54ccf5"
      },
      "outputs": [
        {
          "output_type": "execute_result",
          "data": {
            "text/plain": [
              "price                     0\n",
              "vehicle_type          37490\n",
              "registration_year         0\n",
              "gearbox               19833\n",
              "power                     0\n",
              "model                 19705\n",
              "kilometer                 0\n",
              "registration_month        0\n",
              "fuel_type             32895\n",
              "brand                     0\n",
              "repaired              71154\n",
              "date_created              0\n",
              "dtype: int64"
            ]
          },
          "metadata": {},
          "execution_count": 8
        }
      ],
      "source": [
        "df.isna().sum()"
      ]
    },
    {
      "cell_type": "markdown",
      "metadata": {
        "id": "J1v26_5u2SNr"
      },
      "source": [
        "Пропуски присутствуют в 5 признаках, все они -- категориальные.  \n",
        "\n",
        "Далее мы рассмотрим **каждый признак** на наличие пропусков, выбросов и аномалий, очистим данные перед обучением моделей."
      ]
    },
    {
      "cell_type": "markdown",
      "metadata": {
        "id": "k1MbQ_7lDvec"
      },
      "source": [
        "### Цена"
      ]
    },
    {
      "cell_type": "code",
      "execution_count": 9,
      "metadata": {
        "colab": {
          "base_uri": "https://localhost:8080/",
          "height": 332
        },
        "id": "ajbX8i1ej_yw",
        "outputId": "b331fc95-1edb-49da-df8a-b9bbe145f42d"
      },
      "outputs": [
        {
          "output_type": "execute_result",
          "data": {
            "text/plain": [
              "<function matplotlib.pyplot.show(close=None, block=None)>"
            ]
          },
          "metadata": {},
          "execution_count": 9
        },
        {
          "output_type": "display_data",
          "data": {
            "text/plain": [
              "<Figure size 1000x300 with 1 Axes>"
            ],
            "image/png": "[encoded data removed]"
          },
          "metadata": {}
        }
      ],
      "source": [
        "plt.figure(figsize=(10, 3))\n",
        "plt.hist(df['price'], bins=100, color='#04d8b2')\n",
        "plt.grid()\n",
        "plt.title('Стоимость авто') \n",
        "plt.show"
      ]
    },
    {
      "cell_type": "code",
      "execution_count": 10,
      "metadata": {
        "colab": {
          "base_uri": "https://localhost:8080/"
        },
        "id": "DrqMW4rcni01",
        "outputId": "96a93db2-93b3-4263-b440-760e39dc2caf"
      },
      "outputs": [
        {
          "output_type": "stream",
          "name": "stdout",
          "text": [
            "Количество объявлений с нулевой стоимостью: 10772\n"
          ]
        }
      ],
      "source": [
        "print(f'Количество объявлений с нулевой стоимостью: {len(df[df[\"price\"] == 0])}')"
      ]
    },
    {
      "cell_type": "markdown",
      "metadata": {
        "id": "nNl6N1uxtxZn"
      },
      "source": [
        "Стоимость автомобилей в предоставленных данных распределяется от 0 до 20 000 евро. Верхняя планка цены вполне реалистична, но количество автомобилей со стоимостью от 0 до 500 евро настораживает. Возможно, это неисправные автомобили, которые продают на запчасти, либо условия сделки подразумевают договор о цене автомобиля на месте (например, в случае обмена на другой автомобиль с доплатой).   \n",
        "Мы исключим из выборки автомобили с нулевой стоимостью, а также стоимостью ниже 100 евро, так как даже на запчасти авто не отдаётся даром. "
      ]
    },
    {
      "cell_type": "code",
      "execution_count": 11,
      "metadata": {
        "id": "horAkNSw7DvD"
      },
      "outputs": [],
      "source": [
        "df = df[df['price'] >= 100]"
      ]
    },
    {
      "cell_type": "markdown",
      "metadata": {
        "id": "RVEDMPpGL05K"
      },
      "source": [
        "### Год и месяц регистрации авто"
      ]
    },
    {
      "cell_type": "code",
      "execution_count": 12,
      "metadata": {
        "colab": {
          "base_uri": "https://localhost:8080/",
          "height": 332
        },
        "id": "1k3rxIHdFdtT",
        "outputId": "9a54c9ed-babf-411a-fe5f-51c299631dca"
      },
      "outputs": [
        {
          "output_type": "execute_result",
          "data": {
            "text/plain": [
              "<function matplotlib.pyplot.show(close=None, block=None)>"
            ]
          },
          "metadata": {},
          "execution_count": 12
        },
        {
          "output_type": "display_data",
          "data": {
            "text/plain": [
              "<Figure size 1000x300 with 1 Axes>"
            ],
            "image/png": "[encoded data removed]"
          },
          "metadata": {}
        }
      ],
      "source": [
        "plt.figure(figsize=(10, 3))\n",
        "plt.boxplot(df['registration_year'], vert=False)\n",
        "plt.grid()\n",
        "plt.title('Год регистрации автомобиля') \n",
        "plt.show"
      ]
    },
    {
      "cell_type": "code",
      "execution_count": 13,
      "metadata": {
        "colab": {
          "base_uri": "https://localhost:8080/",
          "height": 423
        },
        "id": "NIxFKXBPOXPb",
        "outputId": "2c695b93-f518-4e63-b8c6-d1aeee74def3"
      },
      "outputs": [
        {
          "output_type": "execute_result",
          "data": {
            "text/plain": [
              "        price vehicle_type  registration_year gearbox  power    model  \\\n",
              "22       2900          NaN               2018  manual     90   meriva   \n",
              "26       5555          NaN               2017  manual    125       c4   \n",
              "48       7750          NaN               2017  manual     80     golf   \n",
              "51       2000          NaN               2017  manual     90    punto   \n",
              "57       2399          NaN               2018  manual     64    other   \n",
              "...       ...          ...                ...     ...    ...      ...   \n",
              "354108   3600          NaN               2017  manual     86  transit   \n",
              "354136   1000          NaN               2017  manual    101       a4   \n",
              "354199   2140          NaN               2018  manual     80   fiesta   \n",
              "354249   1250          NaN               2018     NaN      0    corsa   \n",
              "354285   5000          NaN               2017  manual    120    other   \n",
              "\n",
              "        kilometer  registration_month fuel_type       brand repaired  \\\n",
              "22         150000                   5    petrol        opel       no   \n",
              "26         125000                   4       NaN     citroen       no   \n",
              "48         100000                   1    petrol  volkswagen      NaN   \n",
              "51         150000                  11  gasoline        fiat      yes   \n",
              "57         125000                   3       NaN        seat       no   \n",
              "...           ...                 ...       ...         ...      ...   \n",
              "354108     150000                   5  gasoline        ford      NaN   \n",
              "354136     150000                   9       NaN        audi      NaN   \n",
              "354199     150000                   6       NaN        ford       no   \n",
              "354249     150000                   0    petrol        opel      NaN   \n",
              "354285     150000                   7       NaN     citroen      yes   \n",
              "\n",
              "               date_created  \n",
              "22      2016-03-23 00:00:00  \n",
              "26      2016-03-10 00:00:00  \n",
              "48      2016-03-25 00:00:00  \n",
              "51      2016-03-07 00:00:00  \n",
              "57      2016-03-10 00:00:00  \n",
              "...                     ...  \n",
              "354108  2016-03-11 00:00:00  \n",
              "354136  2016-03-29 00:00:00  \n",
              "354199  2016-03-17 00:00:00  \n",
              "354249  2016-03-25 00:00:00  \n",
              "354285  2016-03-05 00:00:00  \n",
              "\n",
              "[13730 rows x 12 columns]"
            ],
            "text/html": [
              "\n",
              "  <div id=\"df-c5987338-9cde-46b6-8939-7e3510283ffe\">\n",
              "    <div class=\"colab-df-container\">\n",
              "      <div>\n",
              "<style scoped>\n",
              "    .dataframe tbody tr th:only-of-type {\n",
              "        vertical-align: middle;\n",
              "    }\n",
              "\n",
              "    .dataframe tbody tr th {\n",
              "        vertical-align: top;\n",
              "    }\n",
              "\n",
              "    .dataframe thead th {\n",
              "        text-align: right;\n",
              "    }\n",
              "</style>\n",
              "<table border=\"1\" class=\"dataframe\">\n",
              "  <thead>\n",
              "    <tr style=\"text-align: right;\">\n",
              "      <th></th>\n",
              "      <th>price</th>\n",
              "      <th>vehicle_type</th>\n",
              "      <th>registration_year</th>\n",
              "      <th>gearbox</th>\n",
              "      <th>power</th>\n",
              "      <th>model</th>\n",
              "      <th>kilometer</th>\n",
              "      <th>registration_month</th>\n",
              "      <th>fuel_type</th>\n",
              "      <th>brand</th>\n",
              "      <th>repaired</th>\n",
              "      <th>date_created</th>\n",
              "    </tr>\n",
              "  </thead>\n",
              "  <tbody>\n",
              "    <tr>\n",
              "      <th>22</th>\n",
              "      <td>2900</td>\n",
              "      <td>NaN</td>\n",
              "      <td>2018</td>\n",
              "      <td>manual</td>\n",
              "      <td>90</td>\n",
              "      <td>meriva</td>\n",
              "      <td>150000</td>\n",
              "      <td>5</td>\n",
              "      <td>petrol</td>\n",
              "      <td>opel</td>\n",
              "      <td>no</td>\n",
              "      <td>2016-03-23 00:00:00</td>\n",
              "    </tr>\n",
              "    <tr>\n",
              "      <th>26</th>\n",
              "      <td>5555</td>\n",
              "      <td>NaN</td>\n",
              "      <td>2017</td>\n",
              "      <td>manual</td>\n",
              "      <td>125</td>\n",
              "      <td>c4</td>\n",
              "      <td>125000</td>\n",
              "      <td>4</td>\n",
              "      <td>NaN</td>\n",
              "      <td>citroen</td>\n",
              "      <td>no</td>\n",
              "      <td>2016-03-10 00:00:00</td>\n",
              "    </tr>\n",
              "    <tr>\n",
              "      <th>48</th>\n",
              "      <td>7750</td>\n",
              "      <td>NaN</td>\n",
              "      <td>2017</td>\n",
              "      <td>manual</td>\n",
              "      <td>80</td>\n",
              "      <td>golf</td>\n",
              "      <td>100000</td>\n",
              "      <td>1</td>\n",
              "      <td>petrol</td>\n",
              "      <td>volkswagen</td>\n",
              "      <td>NaN</td>\n",
              "      <td>2016-03-25 00:00:00</td>\n",
              "    </tr>\n",
              "    <tr>\n",
              "      <th>51</th>\n",
              "      <td>2000</td>\n",
              "      <td>NaN</td>\n",
              "      <td>2017</td>\n",
              "      <td>manual</td>\n",
              "      <td>90</td>\n",
              "      <td>punto</td>\n",
              "      <td>150000</td>\n",
              "      <td>11</td>\n",
              "      <td>gasoline</td>\n",
              "      <td>fiat</td>\n",
              "      <td>yes</td>\n",
              "      <td>2016-03-07 00:00:00</td>\n",
              "    </tr>\n",
              "    <tr>\n",
              "      <th>57</th>\n",
              "      <td>2399</td>\n",
              "      <td>NaN</td>\n",
              "      <td>2018</td>\n",
              "      <td>manual</td>\n",
              "      <td>64</td>\n",
              "      <td>other</td>\n",
              "      <td>125000</td>\n",
              "      <td>3</td>\n",
              "      <td>NaN</td>\n",
              "      <td>seat</td>\n",
              "      <td>no</td>\n",
              "      <td>2016-03-10 00:00:00</td>\n",
              "    </tr>\n",
              "    <tr>\n",
              "      <th>...</th>\n",
              "      <td>...</td>\n",
              "      <td>...</td>\n",
              "      <td>...</td>\n",
              "      <td>...</td>\n",
              "      <td>...</td>\n",
              "      <td>...</td>\n",
              "      <td>...</td>\n",
              "      <td>...</td>\n",
              "      <td>...</td>\n",
              "      <td>...</td>\n",
              "      <td>...</td>\n",
              "      <td>...</td>\n",
              "    </tr>\n",
              "    <tr>\n",
              "      <th>354108</th>\n",
              "      <td>3600</td>\n",
              "      <td>NaN</td>\n",
              "      <td>2017</td>\n",
              "      <td>manual</td>\n",
              "      <td>86</td>\n",
              "      <td>transit</td>\n",
              "      <td>150000</td>\n",
              "      <td>5</td>\n",
              "      <td>gasoline</td>\n",
              "      <td>ford</td>\n",
              "      <td>NaN</td>\n",
              "      <td>2016-03-11 00:00:00</td>\n",
              "    </tr>\n",
              "    <tr>\n",
              "      <th>354136</th>\n",
              "      <td>1000</td>\n",
              "      <td>NaN</td>\n",
              "      <td>2017</td>\n",
              "      <td>manual</td>\n",
              "      <td>101</td>\n",
              "      <td>a4</td>\n",
              "      <td>150000</td>\n",
              "      <td>9</td>\n",
              "      <td>NaN</td>\n",
              "      <td>audi</td>\n",
              "      <td>NaN</td>\n",
              "      <td>2016-03-29 00:00:00</td>\n",
              "    </tr>\n",
              "    <tr>\n",
              "      <th>354199</th>\n",
              "      <td>2140</td>\n",
              "      <td>NaN</td>\n",
              "      <td>2018</td>\n",
              "      <td>manual</td>\n",
              "      <td>80</td>\n",
              "      <td>fiesta</td>\n",
              "      <td>150000</td>\n",
              "      <td>6</td>\n",
              "      <td>NaN</td>\n",
              "      <td>ford</td>\n",
              "      <td>no</td>\n",
              "      <td>2016-03-17 00:00:00</td>\n",
              "    </tr>\n",
              "    <tr>\n",
              "      <th>354249</th>\n",
              "      <td>1250</td>\n",
              "      <td>NaN</td>\n",
              "      <td>2018</td>\n",
              "      <td>NaN</td>\n",
              "      <td>0</td>\n",
              "      <td>corsa</td>\n",
              "      <td>150000</td>\n",
              "      <td>0</td>\n",
              "      <td>petrol</td>\n",
              "      <td>opel</td>\n",
              "      <td>NaN</td>\n",
              "      <td>2016-03-25 00:00:00</td>\n",
              "    </tr>\n",
              "    <tr>\n",
              "      <th>354285</th>\n",
              "      <td>5000</td>\n",
              "      <td>NaN</td>\n",
              "      <td>2017</td>\n",
              "      <td>manual</td>\n",
              "      <td>120</td>\n",
              "      <td>other</td>\n",
              "      <td>150000</td>\n",
              "      <td>7</td>\n",
              "      <td>NaN</td>\n",
              "      <td>citroen</td>\n",
              "      <td>yes</td>\n",
              "      <td>2016-03-05 00:00:00</td>\n",
              "    </tr>\n",
              "  </tbody>\n",
              "</table>\n",
              "<p>13730 rows × 12 columns</p>\n",
              "</div>\n",
              "      <button class=\"colab-df-convert\" onclick=\"convertToInteractive('df-c5987338-9cde-46b6-8939-7e3510283ffe')\"\n",
              "              title=\"Convert this dataframe to an interactive table.\"\n",
              "              style=\"display:none;\">\n",
              "        \n",
              "  <svg xmlns=\"http://www.w3.org/2000/svg\" height=\"24px\"viewBox=\"0 0 24 24\"\n",
              "       width=\"24px\">\n",
              "    <path d=\"M0 0h24v24H0V0z\" fill=\"none\"/>\n",
              "    <path d=\"M18.56 5.44l.94 2.06.94-2.06 2.06-.94-2.06-.94-.94-2.06-.94 2.06-2.06.94zm-11 1L8.5 8.5l.94-2.06 2.06-.94-2.06-.94L8.5 2.5l-.94 2.06-2.06.94zm10 10l.94 2.06.94-2.06 2.06-.94-2.06-.94-.94-2.06-.94 2.06-2.06.94z\"/><path d=\"M17.41 7.96l-1.37-1.37c-.4-.4-.92-.59-1.43-.59-.52 0-1.04.2-1.43.59L10.3 9.45l-7.72 7.72c-.78.78-.78 2.05 0 2.83L4 21.41c.39.39.9.59 1.41.59.51 0 1.02-.2 1.41-.59l7.78-7.78 2.81-2.81c.8-.78.8-2.07 0-2.86zM5.41 20L4 18.59l7.72-7.72 1.47 1.35L5.41 20z\"/>\n",
              "  </svg>\n",
              "      </button>\n",
              "      \n",
              "  <style>\n",
              "    .colab-df-container {\n",
              "      display:flex;\n",
              "      flex-wrap:wrap;\n",
              "      gap: 12px;\n",
              "    }\n",
              "\n",
              "    .colab-df-convert {\n",
              "      background-color: #E8F0FE;\n",
              "      border: none;\n",
              "      border-radius: 50%;\n",
              "      cursor: pointer;\n",
              "      display: none;\n",
              "      fill: #1967D2;\n",
              "      height: 32px;\n",
              "      padding: 0 0 0 0;\n",
              "      width: 32px;\n",
              "    }\n",
              "\n",
              "    .colab-df-convert:hover {\n",
              "      background-color: #E2EBFA;\n",
              "      box-shadow: 0px 1px 2px rgba(60, 64, 67, 0.3), 0px 1px 3px 1px rgba(60, 64, 67, 0.15);\n",
              "      fill: #174EA6;\n",
              "    }\n",
              "\n",
              "    [theme=dark] .colab-df-convert {\n",
              "      background-color: #3B4455;\n",
              "      fill: #D2E3FC;\n",
              "    }\n",
              "\n",
              "    [theme=dark] .colab-df-convert:hover {\n",
              "      background-color: #434B5C;\n",
              "      box-shadow: 0px 1px 3px 1px rgba(0, 0, 0, 0.15);\n",
              "      filter: drop-shadow(0px 1px 2px rgba(0, 0, 0, 0.3));\n",
              "      fill: #FFFFFF;\n",
              "    }\n",
              "  </style>\n",
              "\n",
              "      <script>\n",
              "        const buttonEl =\n",
              "          document.querySelector('#df-c5987338-9cde-46b6-8939-7e3510283ffe button.colab-df-convert');\n",
              "        buttonEl.style.display =\n",
              "          google.colab.kernel.accessAllowed ? 'block' : 'none';\n",
              "\n",
              "        async function convertToInteractive(key) {\n",
              "          const element = document.querySelector('#df-c5987338-9cde-46b6-8939-7e3510283ffe');\n",
              "          const dataTable =\n",
              "            await google.colab.kernel.invokeFunction('convertToInteractive',\n",
              "                                                     [key], {});\n",
              "          if (!dataTable) return;\n",
              "\n",
              "          const docLinkHtml = 'Like what you see? Visit the ' +\n",
              "            '<a target=\"_blank\" href=https://colab.research.google.com/notebooks/data_table.ipynb>data table notebook</a>'\n",
              "            + ' to learn more about interactive tables.';\n",
              "          element.innerHTML = '';\n",
              "          dataTable['output_type'] = 'display_data';\n",
              "          await google.colab.output.renderOutput(dataTable, element);\n",
              "          const docLink = document.createElement('div');\n",
              "          docLink.innerHTML = docLinkHtml;\n",
              "          element.appendChild(docLink);\n",
              "        }\n",
              "      </script>\n",
              "    </div>\n",
              "  </div>\n",
              "  "
            ]
          },
          "metadata": {},
          "execution_count": 13
        }
      ],
      "source": [
        "df.loc[(df['registration_year'] < 1910) | (df['registration_year'] > 2016)]"
      ]
    },
    {
      "cell_type": "code",
      "execution_count": 14,
      "metadata": {
        "colab": {
          "base_uri": "https://localhost:8080/",
          "height": 36
        },
        "id": "-4BwEQvM_r2c",
        "outputId": "23f05a62-9b65-4656-c2be-a0294e946cf9"
      },
      "outputs": [
        {
          "output_type": "execute_result",
          "data": {
            "text/plain": [
              "'Процент аномальных значений года регистрации 4.0%'"
            ],
            "application/vnd.google.colaboratory.intrinsic+json": {
              "type": "string"
            }
          },
          "metadata": {},
          "execution_count": 14
        }
      ],
      "source": [
        "f\"Процент аномальных значений года регистрации {len(df.loc[(df['registration_year'] < 1910) | (df['registration_year'] > 2016)]) / len(df):0.1%}\""
      ]
    },
    {
      "cell_type": "markdown",
      "metadata": {
        "id": "AqtegSvjAICb"
      },
      "source": [
        "В данных присутствуют аномалии: есть объявления о продаже авто, зарегестрированных до начала прошлого столетия (массовое производство автомобилей началось примерно в 10-е годы 20 века), или после года заполнения анкеты (2016 год). К сожалению, нам неизвестна природа этих аномалий. Так как процент таких значений небольшой, мы их исключим."
      ]
    },
    {
      "cell_type": "code",
      "execution_count": 15,
      "metadata": {
        "id": "88rh1PFJB_bP"
      },
      "outputs": [],
      "source": [
        "df = df.loc[(df['registration_year'] > 1910) & (df['registration_year'] < 2016)]"
      ]
    },
    {
      "cell_type": "code",
      "execution_count": 16,
      "metadata": {
        "colab": {
          "base_uri": "https://localhost:8080/",
          "height": 332
        },
        "id": "xx75HcP66ugk",
        "outputId": "985179d6-2eb1-432d-a081-3eee5b50a597"
      },
      "outputs": [
        {
          "output_type": "execute_result",
          "data": {
            "text/plain": [
              "<function matplotlib.pyplot.show(close=None, block=None)>"
            ]
          },
          "metadata": {},
          "execution_count": 16
        },
        {
          "output_type": "display_data",
          "data": {
            "text/plain": [
              "<Figure size 1000x300 with 1 Axes>"
            ],
            "image/png": "[encoded data removed]"
          },
          "metadata": {}
        }
      ],
      "source": [
        "plt.figure(figsize=(10, 3))\n",
        "plt.hist(df['registration_year'], bins=90, color='g')\n",
        "plt.grid()\n",
        "plt.title('Год регистрации автомобиля') \n",
        "plt.show"
      ]
    },
    {
      "cell_type": "markdown",
      "metadata": {
        "id": "lu3KpoempFLB"
      },
      "source": [
        "Удалим признак даты создания анкеты, он нам больше не пригодится."
      ]
    },
    {
      "cell_type": "code",
      "execution_count": 17,
      "metadata": {
        "id": "emG2JoecM8u3"
      },
      "outputs": [],
      "source": [
        "df = df.drop('date_created', axis=1)"
      ]
    },
    {
      "cell_type": "code",
      "execution_count": 18,
      "metadata": {
        "colab": {
          "base_uri": "https://localhost:8080/",
          "height": 332
        },
        "id": "nHJRGym7L-U4",
        "outputId": "b5dc3526-831e-4247-96ea-0259b9ecfb00"
      },
      "outputs": [
        {
          "output_type": "execute_result",
          "data": {
            "text/plain": [
              "<function matplotlib.pyplot.show(close=None, block=None)>"
            ]
          },
          "metadata": {},
          "execution_count": 18
        },
        {
          "output_type": "display_data",
          "data": {
            "text/plain": [
              "<Figure size 1000x300 with 1 Axes>"
            ],
            "image/png": "[encoded data removed]"
          },
          "metadata": {}
        }
      ],
      "source": [
        "plt.figure(figsize=(10, 3))\n",
        "plt.hist(df['registration_month'], bins=13, color='c')\n",
        "plt.grid()\n",
        "plt.title('Месяц регистрации автомобиля') \n",
        "plt.show"
      ]
    },
    {
      "cell_type": "markdown",
      "metadata": {
        "id": "aV2dzg_4Fm_X"
      },
      "source": [
        "Среди значений **месяца регистрации автомобиля** есть 0 месяц, причем количество объектов с таким значением достаточно большое. Так как месяц регистрации автомобиля слабо влияет на его стоимость, мы **полностью исключим этот признак**. "
      ]
    },
    {
      "cell_type": "code",
      "execution_count": 19,
      "metadata": {
        "id": "chNzC2zQB5i9"
      },
      "outputs": [],
      "source": [
        "df = df.drop('registration_month', axis=1)"
      ]
    },
    {
      "cell_type": "markdown",
      "metadata": {
        "id": "SZqIZo_wm2T6"
      },
      "source": [
        "### Бренд и модель авто"
      ]
    },
    {
      "cell_type": "code",
      "execution_count": 20,
      "metadata": {
        "colab": {
          "base_uri": "https://localhost:8080/",
          "height": 427
        },
        "id": "FK6J1H2HbK2e",
        "outputId": "bbee4d0f-50e0-47b1-a3b7-89eb5d3a5850"
      },
      "outputs": [
        {
          "output_type": "execute_result",
          "data": {
            "text/plain": [
              "<function matplotlib.pyplot.show(close=None, block=None)>"
            ]
          },
          "metadata": {},
          "execution_count": 20
        },
        {
          "output_type": "display_data",
          "data": {
            "text/plain": [
              "<Figure size 1500x300 with 1 Axes>"
            ],
            "image/png": "[encoded data removed]"
          },
          "metadata": {}
        }
      ],
      "source": [
        "plt.figure(figsize=(15, 3))\n",
        "plt.hist(df['brand'], bins=40, color='aquamarine')\n",
        "plt.xticks(rotation=80)\n",
        "plt.title('Бренд автомобиля') \n",
        "plt.show"
      ]
    },
    {
      "cell_type": "markdown",
      "metadata": {
        "id": "w5GAuYSDcsvS"
      },
      "source": [
        "Самый популярный **бренд** в нашей выборке - Volkswagen, а Opel на 2 месте. Аномалий нет."
      ]
    },
    {
      "cell_type": "markdown",
      "metadata": {
        "id": "j0qiCg5tnIol"
      },
      "source": [
        "Рассмотрим поближе объекты с пропущенными значениями признака \"**модель** авто\".  "
      ]
    },
    {
      "cell_type": "code",
      "execution_count": 21,
      "metadata": {
        "colab": {
          "base_uri": "https://localhost:8080/",
          "height": 423
        },
        "id": "FE_M4qo7dJ7K",
        "outputId": "f1dfe775-4cde-47c0-e5f9-12f705aea6ad"
      },
      "outputs": [
        {
          "output_type": "execute_result",
          "data": {
            "text/plain": [
              "        price vehicle_type  registration_year gearbox  power model  kilometer  \\\n",
              "1       18300        coupe               2011  manual    190   NaN     125000   \n",
              "81        350        small               1997  manual     54   NaN     150000   \n",
              "135      1450        sedan               1992  manual    136   NaN     150000   \n",
              "151      6799        small               2009     NaN     60   NaN      20000   \n",
              "160       500        small               1999  manual      0   NaN     150000   \n",
              "...       ...          ...                ...     ...    ...   ...        ...   \n",
              "354241    560        small               2001    auto    170   NaN      90000   \n",
              "354317   9400        wagon               2007  manual    200   NaN     150000   \n",
              "354334    180          NaN               1995     NaN      0   NaN     125000   \n",
              "354347   1900          NaN               2000  manual    110   NaN     150000   \n",
              "354361   2200          NaN               2005     NaN      0   NaN      20000   \n",
              "\n",
              "       fuel_type           brand repaired  \n",
              "1       gasoline            audi      yes  \n",
              "81           NaN            fiat      yes  \n",
              "135          NaN            audi       no  \n",
              "151       petrol      volkswagen       no  \n",
              "160       petrol         renault       no  \n",
              "...          ...             ...      ...  \n",
              "354241    petrol            fiat      yes  \n",
              "354317  gasoline  sonstige_autos      yes  \n",
              "354334    petrol            opel      NaN  \n",
              "354347       NaN      volkswagen       no  \n",
              "354361       NaN  sonstige_autos      NaN  \n",
              "\n",
              "[13968 rows x 10 columns]"
            ],
            "text/html": [
              "\n",
              "  <div id=\"df-4b2d3d98-31e5-46af-a0ef-48db1c537a6d\">\n",
              "    <div class=\"colab-df-container\">\n",
              "      <div>\n",
              "<style scoped>\n",
              "    .dataframe tbody tr th:only-of-type {\n",
              "        vertical-align: middle;\n",
              "    }\n",
              "\n",
              "    .dataframe tbody tr th {\n",
              "        vertical-align: top;\n",
              "    }\n",
              "\n",
              "    .dataframe thead th {\n",
              "        text-align: right;\n",
              "    }\n",
              "</style>\n",
              "<table border=\"1\" class=\"dataframe\">\n",
              "  <thead>\n",
              "    <tr style=\"text-align: right;\">\n",
              "      <th></th>\n",
              "      <th>price</th>\n",
              "      <th>vehicle_type</th>\n",
              "      <th>registration_year</th>\n",
              "      <th>gearbox</th>\n",
              "      <th>power</th>\n",
              "      <th>model</th>\n",
              "      <th>kilometer</th>\n",
              "      <th>fuel_type</th>\n",
              "      <th>brand</th>\n",
              "      <th>repaired</th>\n",
              "    </tr>\n",
              "  </thead>\n",
              "  <tbody>\n",
              "    <tr>\n",
              "      <th>1</th>\n",
              "      <td>18300</td>\n",
              "      <td>coupe</td>\n",
              "      <td>2011</td>\n",
              "      <td>manual</td>\n",
              "      <td>190</td>\n",
              "      <td>NaN</td>\n",
              "      <td>125000</td>\n",
              "      <td>gasoline</td>\n",
              "      <td>audi</td>\n",
              "      <td>yes</td>\n",
              "    </tr>\n",
              "    <tr>\n",
              "      <th>81</th>\n",
              "      <td>350</td>\n",
              "      <td>small</td>\n",
              "      <td>1997</td>\n",
              "      <td>manual</td>\n",
              "      <td>54</td>\n",
              "      <td>NaN</td>\n",
              "      <td>150000</td>\n",
              "      <td>NaN</td>\n",
              "      <td>fiat</td>\n",
              "      <td>yes</td>\n",
              "    </tr>\n",
              "    <tr>\n",
              "      <th>135</th>\n",
              "      <td>1450</td>\n",
              "      <td>sedan</td>\n",
              "      <td>1992</td>\n",
              "      <td>manual</td>\n",
              "      <td>136</td>\n",
              "      <td>NaN</td>\n",
              "      <td>150000</td>\n",
              "      <td>NaN</td>\n",
              "      <td>audi</td>\n",
              "      <td>no</td>\n",
              "    </tr>\n",
              "    <tr>\n",
              "      <th>151</th>\n",
              "      <td>6799</td>\n",
              "      <td>small</td>\n",
              "      <td>2009</td>\n",
              "      <td>NaN</td>\n",
              "      <td>60</td>\n",
              "      <td>NaN</td>\n",
              "      <td>20000</td>\n",
              "      <td>petrol</td>\n",
              "      <td>volkswagen</td>\n",
              "      <td>no</td>\n",
              "    </tr>\n",
              "    <tr>\n",
              "      <th>160</th>\n",
              "      <td>500</td>\n",
              "      <td>small</td>\n",
              "      <td>1999</td>\n",
              "      <td>manual</td>\n",
              "      <td>0</td>\n",
              "      <td>NaN</td>\n",
              "      <td>150000</td>\n",
              "      <td>petrol</td>\n",
              "      <td>renault</td>\n",
              "      <td>no</td>\n",
              "    </tr>\n",
              "    <tr>\n",
              "      <th>...</th>\n",
              "      <td>...</td>\n",
              "      <td>...</td>\n",
              "      <td>...</td>\n",
              "      <td>...</td>\n",
              "      <td>...</td>\n",
              "      <td>...</td>\n",
              "      <td>...</td>\n",
              "      <td>...</td>\n",
              "      <td>...</td>\n",
              "      <td>...</td>\n",
              "    </tr>\n",
              "    <tr>\n",
              "      <th>354241</th>\n",
              "      <td>560</td>\n",
              "      <td>small</td>\n",
              "      <td>2001</td>\n",
              "      <td>auto</td>\n",
              "      <td>170</td>\n",
              "      <td>NaN</td>\n",
              "      <td>90000</td>\n",
              "      <td>petrol</td>\n",
              "      <td>fiat</td>\n",
              "      <td>yes</td>\n",
              "    </tr>\n",
              "    <tr>\n",
              "      <th>354317</th>\n",
              "      <td>9400</td>\n",
              "      <td>wagon</td>\n",
              "      <td>2007</td>\n",
              "      <td>manual</td>\n",
              "      <td>200</td>\n",
              "      <td>NaN</td>\n",
              "      <td>150000</td>\n",
              "      <td>gasoline</td>\n",
              "      <td>sonstige_autos</td>\n",
              "      <td>yes</td>\n",
              "    </tr>\n",
              "    <tr>\n",
              "      <th>354334</th>\n",
              "      <td>180</td>\n",
              "      <td>NaN</td>\n",
              "      <td>1995</td>\n",
              "      <td>NaN</td>\n",
              "      <td>0</td>\n",
              "      <td>NaN</td>\n",
              "      <td>125000</td>\n",
              "      <td>petrol</td>\n",
              "      <td>opel</td>\n",
              "      <td>NaN</td>\n",
              "    </tr>\n",
              "    <tr>\n",
              "      <th>354347</th>\n",
              "      <td>1900</td>\n",
              "      <td>NaN</td>\n",
              "      <td>2000</td>\n",
              "      <td>manual</td>\n",
              "      <td>110</td>\n",
              "      <td>NaN</td>\n",
              "      <td>150000</td>\n",
              "      <td>NaN</td>\n",
              "      <td>volkswagen</td>\n",
              "      <td>no</td>\n",
              "    </tr>\n",
              "    <tr>\n",
              "      <th>354361</th>\n",
              "      <td>2200</td>\n",
              "      <td>NaN</td>\n",
              "      <td>2005</td>\n",
              "      <td>NaN</td>\n",
              "      <td>0</td>\n",
              "      <td>NaN</td>\n",
              "      <td>20000</td>\n",
              "      <td>NaN</td>\n",
              "      <td>sonstige_autos</td>\n",
              "      <td>NaN</td>\n",
              "    </tr>\n",
              "  </tbody>\n",
              "</table>\n",
              "<p>13968 rows × 10 columns</p>\n",
              "</div>\n",
              "      <button class=\"colab-df-convert\" onclick=\"convertToInteractive('df-4b2d3d98-31e5-46af-a0ef-48db1c537a6d')\"\n",
              "              title=\"Convert this dataframe to an interactive table.\"\n",
              "              style=\"display:none;\">\n",
              "        \n",
              "  <svg xmlns=\"http://www.w3.org/2000/svg\" height=\"24px\"viewBox=\"0 0 24 24\"\n",
              "       width=\"24px\">\n",
              "    <path d=\"M0 0h24v24H0V0z\" fill=\"none\"/>\n",
              "    <path d=\"M18.56 5.44l.94 2.06.94-2.06 2.06-.94-2.06-.94-.94-2.06-.94 2.06-2.06.94zm-11 1L8.5 8.5l.94-2.06 2.06-.94-2.06-.94L8.5 2.5l-.94 2.06-2.06.94zm10 10l.94 2.06.94-2.06 2.06-.94-2.06-.94-.94-2.06-.94 2.06-2.06.94z\"/><path d=\"M17.41 7.96l-1.37-1.37c-.4-.4-.92-.59-1.43-.59-.52 0-1.04.2-1.43.59L10.3 9.45l-7.72 7.72c-.78.78-.78 2.05 0 2.83L4 21.41c.39.39.9.59 1.41.59.51 0 1.02-.2 1.41-.59l7.78-7.78 2.81-2.81c.8-.78.8-2.07 0-2.86zM5.41 20L4 18.59l7.72-7.72 1.47 1.35L5.41 20z\"/>\n",
              "  </svg>\n",
              "      </button>\n",
              "      \n",
              "  <style>\n",
              "    .colab-df-container {\n",
              "      display:flex;\n",
              "      flex-wrap:wrap;\n",
              "      gap: 12px;\n",
              "    }\n",
              "\n",
              "    .colab-df-convert {\n",
              "      background-color: #E8F0FE;\n",
              "      border: none;\n",
              "      border-radius: 50%;\n",
              "      cursor: pointer;\n",
              "      display: none;\n",
              "      fill: #1967D2;\n",
              "      height: 32px;\n",
              "      padding: 0 0 0 0;\n",
              "      width: 32px;\n",
              "    }\n",
              "\n",
              "    .colab-df-convert:hover {\n",
              "      background-color: #E2EBFA;\n",
              "      box-shadow: 0px 1px 2px rgba(60, 64, 67, 0.3), 0px 1px 3px 1px rgba(60, 64, 67, 0.15);\n",
              "      fill: #174EA6;\n",
              "    }\n",
              "\n",
              "    [theme=dark] .colab-df-convert {\n",
              "      background-color: #3B4455;\n",
              "      fill: #D2E3FC;\n",
              "    }\n",
              "\n",
              "    [theme=dark] .colab-df-convert:hover {\n",
              "      background-color: #434B5C;\n",
              "      box-shadow: 0px 1px 3px 1px rgba(0, 0, 0, 0.15);\n",
              "      filter: drop-shadow(0px 1px 2px rgba(0, 0, 0, 0.3));\n",
              "      fill: #FFFFFF;\n",
              "    }\n",
              "  </style>\n",
              "\n",
              "      <script>\n",
              "        const buttonEl =\n",
              "          document.querySelector('#df-4b2d3d98-31e5-46af-a0ef-48db1c537a6d button.colab-df-convert');\n",
              "        buttonEl.style.display =\n",
              "          google.colab.kernel.accessAllowed ? 'block' : 'none';\n",
              "\n",
              "        async function convertToInteractive(key) {\n",
              "          const element = document.querySelector('#df-4b2d3d98-31e5-46af-a0ef-48db1c537a6d');\n",
              "          const dataTable =\n",
              "            await google.colab.kernel.invokeFunction('convertToInteractive',\n",
              "                                                     [key], {});\n",
              "          if (!dataTable) return;\n",
              "\n",
              "          const docLinkHtml = 'Like what you see? Visit the ' +\n",
              "            '<a target=\"_blank\" href=https://colab.research.google.com/notebooks/data_table.ipynb>data table notebook</a>'\n",
              "            + ' to learn more about interactive tables.';\n",
              "          element.innerHTML = '';\n",
              "          dataTable['output_type'] = 'display_data';\n",
              "          await google.colab.output.renderOutput(dataTable, element);\n",
              "          const docLink = document.createElement('div');\n",
              "          docLink.innerHTML = docLinkHtml;\n",
              "          element.appendChild(docLink);\n",
              "        }\n",
              "      </script>\n",
              "    </div>\n",
              "  </div>\n",
              "  "
            ]
          },
          "metadata": {},
          "execution_count": 21
        }
      ],
      "source": [
        "df[df['model'].isna()]"
      ]
    },
    {
      "cell_type": "code",
      "execution_count": 22,
      "metadata": {
        "colab": {
          "base_uri": "https://localhost:8080/"
        },
        "id": "I4UlJ0zYoiLT",
        "outputId": "390efe08-ed86-4420-f9c7-112de6de7b3d"
      },
      "outputs": [
        {
          "output_type": "execute_result",
          "data": {
            "text/plain": [
              "price                    0\n",
              "vehicle_type          2213\n",
              "registration_year        0\n",
              "gearbox               2178\n",
              "power                    0\n",
              "model                13968\n",
              "kilometer                0\n",
              "fuel_type             3996\n",
              "brand                    0\n",
              "repaired              5681\n",
              "dtype: int64"
            ]
          },
          "metadata": {},
          "execution_count": 22
        }
      ],
      "source": [
        "df[df['model'].isna()].isna().sum()"
      ]
    },
    {
      "cell_type": "markdown",
      "metadata": {
        "id": "sEr7AjT0pE7N"
      },
      "source": [
        "Этот признак будет играть значительную роль при построении модели, ведь стоимость автомобиля напрямую зависит от того, какой он модели и бренда.  \n",
        "Мы видим, что в объектах с пропущенным значением модели также часто присутствуют пропуски в других признаках.  \n",
        "\n",
        "Мы полностью исключим все объекты с пропущенным значением модели, чтобы избавиться от шума в данных."
      ]
    },
    {
      "cell_type": "code",
      "execution_count": 23,
      "metadata": {
        "id": "hvQyTWWEpqD-"
      },
      "outputs": [],
      "source": [
        "df.dropna(subset=['model'], inplace=True)"
      ]
    },
    {
      "cell_type": "markdown",
      "metadata": {
        "id": "XgshYliuBEFP"
      },
      "source": [
        "### Мощность и пробег"
      ]
    },
    {
      "cell_type": "code",
      "execution_count": 24,
      "metadata": {
        "colab": {
          "base_uri": "https://localhost:8080/",
          "height": 332
        },
        "id": "eGseF2H5J1s6",
        "outputId": "93eb69a0-253e-48c5-ab22-eeea8b2cd57a"
      },
      "outputs": [
        {
          "output_type": "execute_result",
          "data": {
            "text/plain": [
              "<function matplotlib.pyplot.show(close=None, block=None)>"
            ]
          },
          "metadata": {},
          "execution_count": 24
        },
        {
          "output_type": "display_data",
          "data": {
            "text/plain": [
              "<Figure size 1000x300 with 1 Axes>"
            ],
            "image/png": "[encoded data removed]"
          },
          "metadata": {}
        }
      ],
      "source": [
        "plt.figure(figsize=(10, 3))\n",
        "plt.boxplot(df['power'], vert=False)\n",
        "plt.grid()\n",
        "plt.title('Мощность автомобиля') \n",
        "plt.show"
      ]
    },
    {
      "cell_type": "code",
      "execution_count": 25,
      "metadata": {
        "colab": {
          "base_uri": "https://localhost:8080/",
          "height": 423
        },
        "id": "qLdyr9AMFXUA",
        "outputId": "0fc394f8-8d5a-4c17-e4c1-21bb153d09ff"
      },
      "outputs": [
        {
          "output_type": "execute_result",
          "data": {
            "text/plain": [
              "        price vehicle_type  registration_year gearbox  power    model  \\\n",
              "1816     3200        small               2004  manual   1398  corolla   \n",
              "4060     3100        sedan               2005  manual    953     colt   \n",
              "5328      500        wagon               1999  manual   1001    astra   \n",
              "6504     3000        small               2009  manual    771    punto   \n",
              "7661     1499        small               1999  manual   7515     lupo   \n",
              "...       ...          ...                ...     ...    ...      ...   \n",
              "348664   1000        wagon               1996  manual   2598       a6   \n",
              "348879   7500        sedan               2011  manual   1548   scenic   \n",
              "348964    250        small               1999  manual   1241  ypsilon   \n",
              "351943   1500          bus               2001  manual   1001   zafira   \n",
              "354256    399        other               1994     NaN   1103      3er   \n",
              "\n",
              "        kilometer fuel_type       brand repaired  \n",
              "1816         5000    petrol      toyota       no  \n",
              "4060       150000  gasoline  mitsubishi       no  \n",
              "5328       150000    petrol        opel      NaN  \n",
              "6504       125000    petrol        fiat      NaN  \n",
              "7661       150000    petrol  volkswagen      NaN  \n",
              "...           ...       ...         ...      ...  \n",
              "348664     150000       NaN        audi      NaN  \n",
              "348879      90000    petrol     renault      NaN  \n",
              "348964     150000    petrol      lancia      yes  \n",
              "351943       5000  gasoline        opel       no  \n",
              "354256     150000       NaN         bmw      NaN  \n",
              "\n",
              "[249 rows x 10 columns]"
            ],
            "text/html": [
              "\n",
              "  <div id=\"df-a9b17fe7-8adf-434c-928f-7198f497ebcd\">\n",
              "    <div class=\"colab-df-container\">\n",
              "      <div>\n",
              "<style scoped>\n",
              "    .dataframe tbody tr th:only-of-type {\n",
              "        vertical-align: middle;\n",
              "    }\n",
              "\n",
              "    .dataframe tbody tr th {\n",
              "        vertical-align: top;\n",
              "    }\n",
              "\n",
              "    .dataframe thead th {\n",
              "        text-align: right;\n",
              "    }\n",
              "</style>\n",
              "<table border=\"1\" class=\"dataframe\">\n",
              "  <thead>\n",
              "    <tr style=\"text-align: right;\">\n",
              "      <th></th>\n",
              "      <th>price</th>\n",
              "      <th>vehicle_type</th>\n",
              "      <th>registration_year</th>\n",
              "      <th>gearbox</th>\n",
              "      <th>power</th>\n",
              "      <th>model</th>\n",
              "      <th>kilometer</th>\n",
              "      <th>fuel_type</th>\n",
              "      <th>brand</th>\n",
              "      <th>repaired</th>\n",
              "    </tr>\n",
              "  </thead>\n",
              "  <tbody>\n",
              "    <tr>\n",
              "      <th>1816</th>\n",
              "      <td>3200</td>\n",
              "      <td>small</td>\n",
              "      <td>2004</td>\n",
              "      <td>manual</td>\n",
              "      <td>1398</td>\n",
              "      <td>corolla</td>\n",
              "      <td>5000</td>\n",
              "      <td>petrol</td>\n",
              "      <td>toyota</td>\n",
              "      <td>no</td>\n",
              "    </tr>\n",
              "    <tr>\n",
              "      <th>4060</th>\n",
              "      <td>3100</td>\n",
              "      <td>sedan</td>\n",
              "      <td>2005</td>\n",
              "      <td>manual</td>\n",
              "      <td>953</td>\n",
              "      <td>colt</td>\n",
              "      <td>150000</td>\n",
              "      <td>gasoline</td>\n",
              "      <td>mitsubishi</td>\n",
              "      <td>no</td>\n",
              "    </tr>\n",
              "    <tr>\n",
              "      <th>5328</th>\n",
              "      <td>500</td>\n",
              "      <td>wagon</td>\n",
              "      <td>1999</td>\n",
              "      <td>manual</td>\n",
              "      <td>1001</td>\n",
              "      <td>astra</td>\n",
              "      <td>150000</td>\n",
              "      <td>petrol</td>\n",
              "      <td>opel</td>\n",
              "      <td>NaN</td>\n",
              "    </tr>\n",
              "    <tr>\n",
              "      <th>6504</th>\n",
              "      <td>3000</td>\n",
              "      <td>small</td>\n",
              "      <td>2009</td>\n",
              "      <td>manual</td>\n",
              "      <td>771</td>\n",
              "      <td>punto</td>\n",
              "      <td>125000</td>\n",
              "      <td>petrol</td>\n",
              "      <td>fiat</td>\n",
              "      <td>NaN</td>\n",
              "    </tr>\n",
              "    <tr>\n",
              "      <th>7661</th>\n",
              "      <td>1499</td>\n",
              "      <td>small</td>\n",
              "      <td>1999</td>\n",
              "      <td>manual</td>\n",
              "      <td>7515</td>\n",
              "      <td>lupo</td>\n",
              "      <td>150000</td>\n",
              "      <td>petrol</td>\n",
              "      <td>volkswagen</td>\n",
              "      <td>NaN</td>\n",
              "    </tr>\n",
              "    <tr>\n",
              "      <th>...</th>\n",
              "      <td>...</td>\n",
              "      <td>...</td>\n",
              "      <td>...</td>\n",
              "      <td>...</td>\n",
              "      <td>...</td>\n",
              "      <td>...</td>\n",
              "      <td>...</td>\n",
              "      <td>...</td>\n",
              "      <td>...</td>\n",
              "      <td>...</td>\n",
              "    </tr>\n",
              "    <tr>\n",
              "      <th>348664</th>\n",
              "      <td>1000</td>\n",
              "      <td>wagon</td>\n",
              "      <td>1996</td>\n",
              "      <td>manual</td>\n",
              "      <td>2598</td>\n",
              "      <td>a6</td>\n",
              "      <td>150000</td>\n",
              "      <td>NaN</td>\n",
              "      <td>audi</td>\n",
              "      <td>NaN</td>\n",
              "    </tr>\n",
              "    <tr>\n",
              "      <th>348879</th>\n",
              "      <td>7500</td>\n",
              "      <td>sedan</td>\n",
              "      <td>2011</td>\n",
              "      <td>manual</td>\n",
              "      <td>1548</td>\n",
              "      <td>scenic</td>\n",
              "      <td>90000</td>\n",
              "      <td>petrol</td>\n",
              "      <td>renault</td>\n",
              "      <td>NaN</td>\n",
              "    </tr>\n",
              "    <tr>\n",
              "      <th>348964</th>\n",
              "      <td>250</td>\n",
              "      <td>small</td>\n",
              "      <td>1999</td>\n",
              "      <td>manual</td>\n",
              "      <td>1241</td>\n",
              "      <td>ypsilon</td>\n",
              "      <td>150000</td>\n",
              "      <td>petrol</td>\n",
              "      <td>lancia</td>\n",
              "      <td>yes</td>\n",
              "    </tr>\n",
              "    <tr>\n",
              "      <th>351943</th>\n",
              "      <td>1500</td>\n",
              "      <td>bus</td>\n",
              "      <td>2001</td>\n",
              "      <td>manual</td>\n",
              "      <td>1001</td>\n",
              "      <td>zafira</td>\n",
              "      <td>5000</td>\n",
              "      <td>gasoline</td>\n",
              "      <td>opel</td>\n",
              "      <td>no</td>\n",
              "    </tr>\n",
              "    <tr>\n",
              "      <th>354256</th>\n",
              "      <td>399</td>\n",
              "      <td>other</td>\n",
              "      <td>1994</td>\n",
              "      <td>NaN</td>\n",
              "      <td>1103</td>\n",
              "      <td>3er</td>\n",
              "      <td>150000</td>\n",
              "      <td>NaN</td>\n",
              "      <td>bmw</td>\n",
              "      <td>NaN</td>\n",
              "    </tr>\n",
              "  </tbody>\n",
              "</table>\n",
              "<p>249 rows × 10 columns</p>\n",
              "</div>\n",
              "      <button class=\"colab-df-convert\" onclick=\"convertToInteractive('df-a9b17fe7-8adf-434c-928f-7198f497ebcd')\"\n",
              "              title=\"Convert this dataframe to an interactive table.\"\n",
              "              style=\"display:none;\">\n",
              "        \n",
              "  <svg xmlns=\"http://www.w3.org/2000/svg\" height=\"24px\"viewBox=\"0 0 24 24\"\n",
              "       width=\"24px\">\n",
              "    <path d=\"M0 0h24v24H0V0z\" fill=\"none\"/>\n",
              "    <path d=\"M18.56 5.44l.94 2.06.94-2.06 2.06-.94-2.06-.94-.94-2.06-.94 2.06-2.06.94zm-11 1L8.5 8.5l.94-2.06 2.06-.94-2.06-.94L8.5 2.5l-.94 2.06-2.06.94zm10 10l.94 2.06.94-2.06 2.06-.94-2.06-.94-.94-2.06-.94 2.06-2.06.94z\"/><path d=\"M17.41 7.96l-1.37-1.37c-.4-.4-.92-.59-1.43-.59-.52 0-1.04.2-1.43.59L10.3 9.45l-7.72 7.72c-.78.78-.78 2.05 0 2.83L4 21.41c.39.39.9.59 1.41.59.51 0 1.02-.2 1.41-.59l7.78-7.78 2.81-2.81c.8-.78.8-2.07 0-2.86zM5.41 20L4 18.59l7.72-7.72 1.47 1.35L5.41 20z\"/>\n",
              "  </svg>\n",
              "      </button>\n",
              "      \n",
              "  <style>\n",
              "    .colab-df-container {\n",
              "      display:flex;\n",
              "      flex-wrap:wrap;\n",
              "      gap: 12px;\n",
              "    }\n",
              "\n",
              "    .colab-df-convert {\n",
              "      background-color: #E8F0FE;\n",
              "      border: none;\n",
              "      border-radius: 50%;\n",
              "      cursor: pointer;\n",
              "      display: none;\n",
              "      fill: #1967D2;\n",
              "      height: 32px;\n",
              "      padding: 0 0 0 0;\n",
              "      width: 32px;\n",
              "    }\n",
              "\n",
              "    .colab-df-convert:hover {\n",
              "      background-color: #E2EBFA;\n",
              "      box-shadow: 0px 1px 2px rgba(60, 64, 67, 0.3), 0px 1px 3px 1px rgba(60, 64, 67, 0.15);\n",
              "      fill: #174EA6;\n",
              "    }\n",
              "\n",
              "    [theme=dark] .colab-df-convert {\n",
              "      background-color: #3B4455;\n",
              "      fill: #D2E3FC;\n",
              "    }\n",
              "\n",
              "    [theme=dark] .colab-df-convert:hover {\n",
              "      background-color: #434B5C;\n",
              "      box-shadow: 0px 1px 3px 1px rgba(0, 0, 0, 0.15);\n",
              "      filter: drop-shadow(0px 1px 2px rgba(0, 0, 0, 0.3));\n",
              "      fill: #FFFFFF;\n",
              "    }\n",
              "  </style>\n",
              "\n",
              "      <script>\n",
              "        const buttonEl =\n",
              "          document.querySelector('#df-a9b17fe7-8adf-434c-928f-7198f497ebcd button.colab-df-convert');\n",
              "        buttonEl.style.display =\n",
              "          google.colab.kernel.accessAllowed ? 'block' : 'none';\n",
              "\n",
              "        async function convertToInteractive(key) {\n",
              "          const element = document.querySelector('#df-a9b17fe7-8adf-434c-928f-7198f497ebcd');\n",
              "          const dataTable =\n",
              "            await google.colab.kernel.invokeFunction('convertToInteractive',\n",
              "                                                     [key], {});\n",
              "          if (!dataTable) return;\n",
              "\n",
              "          const docLinkHtml = 'Like what you see? Visit the ' +\n",
              "            '<a target=\"_blank\" href=https://colab.research.google.com/notebooks/data_table.ipynb>data table notebook</a>'\n",
              "            + ' to learn more about interactive tables.';\n",
              "          element.innerHTML = '';\n",
              "          dataTable['output_type'] = 'display_data';\n",
              "          await google.colab.output.renderOutput(dataTable, element);\n",
              "          const docLink = document.createElement('div');\n",
              "          docLink.innerHTML = docLinkHtml;\n",
              "          element.appendChild(docLink);\n",
              "        }\n",
              "      </script>\n",
              "    </div>\n",
              "  </div>\n",
              "  "
            ]
          },
          "metadata": {},
          "execution_count": 25
        }
      ],
      "source": [
        "df[df['power'] > 700]"
      ]
    },
    {
      "cell_type": "code",
      "execution_count": 26,
      "metadata": {
        "colab": {
          "base_uri": "https://localhost:8080/",
          "height": 423
        },
        "id": "gL_4n1PoQ3Lp",
        "outputId": "92ba656b-2de6-4945-d29f-2f623da38849"
      },
      "outputs": [
        {
          "output_type": "execute_result",
          "data": {
            "text/plain": [
              "        price vehicle_type  registration_year gearbox  power      model  \\\n",
              "0         480          NaN               1993  manual      0       golf   \n",
              "32        245        sedan               1994     NaN      0       golf   \n",
              "54       4700        wagon               2005  manual      0     signum   \n",
              "55        550        wagon               1999  manual      0      astra   \n",
              "69       1200        coupe               2001     NaN      0      astra   \n",
              "...       ...          ...                ...     ...    ...        ...   \n",
              "354331    390        small               1997    auto      0      corsa   \n",
              "354332   3299          NaN               2005    auto      0  outlander   \n",
              "354342   2600          NaN               2005    auto      0   c_klasse   \n",
              "354356   3999        wagon               2005  manual      3        3er   \n",
              "354359   1150          bus               2000  manual      0     zafira   \n",
              "\n",
              "        kilometer fuel_type          brand repaired  \n",
              "0          150000    petrol     volkswagen      NaN  \n",
              "32         150000    petrol     volkswagen       no  \n",
              "54         150000       NaN           opel       no  \n",
              "55         150000  gasoline           opel      yes  \n",
              "69         150000       NaN           opel      NaN  \n",
              "...           ...       ...            ...      ...  \n",
              "354331     100000    petrol           opel      yes  \n",
              "354332     150000    petrol     mitsubishi      NaN  \n",
              "354342     150000       NaN  mercedes_benz      NaN  \n",
              "354356     150000  gasoline            bmw       no  \n",
              "354359     150000    petrol           opel       no  \n",
              "\n",
              "[25997 rows x 10 columns]"
            ],
            "text/html": [
              "\n",
              "  <div id=\"df-de46518d-65f2-466c-9bcb-c0429d94d05f\">\n",
              "    <div class=\"colab-df-container\">\n",
              "      <div>\n",
              "<style scoped>\n",
              "    .dataframe tbody tr th:only-of-type {\n",
              "        vertical-align: middle;\n",
              "    }\n",
              "\n",
              "    .dataframe tbody tr th {\n",
              "        vertical-align: top;\n",
              "    }\n",
              "\n",
              "    .dataframe thead th {\n",
              "        text-align: right;\n",
              "    }\n",
              "</style>\n",
              "<table border=\"1\" class=\"dataframe\">\n",
              "  <thead>\n",
              "    <tr style=\"text-align: right;\">\n",
              "      <th></th>\n",
              "      <th>price</th>\n",
              "      <th>vehicle_type</th>\n",
              "      <th>registration_year</th>\n",
              "      <th>gearbox</th>\n",
              "      <th>power</th>\n",
              "      <th>model</th>\n",
              "      <th>kilometer</th>\n",
              "      <th>fuel_type</th>\n",
              "      <th>brand</th>\n",
              "      <th>repaired</th>\n",
              "    </tr>\n",
              "  </thead>\n",
              "  <tbody>\n",
              "    <tr>\n",
              "      <th>0</th>\n",
              "      <td>480</td>\n",
              "      <td>NaN</td>\n",
              "      <td>1993</td>\n",
              "      <td>manual</td>\n",
              "      <td>0</td>\n",
              "      <td>golf</td>\n",
              "      <td>150000</td>\n",
              "      <td>petrol</td>\n",
              "      <td>volkswagen</td>\n",
              "      <td>NaN</td>\n",
              "    </tr>\n",
              "    <tr>\n",
              "      <th>32</th>\n",
              "      <td>245</td>\n",
              "      <td>sedan</td>\n",
              "      <td>1994</td>\n",
              "      <td>NaN</td>\n",
              "      <td>0</td>\n",
              "      <td>golf</td>\n",
              "      <td>150000</td>\n",
              "      <td>petrol</td>\n",
              "      <td>volkswagen</td>\n",
              "      <td>no</td>\n",
              "    </tr>\n",
              "    <tr>\n",
              "      <th>54</th>\n",
              "      <td>4700</td>\n",
              "      <td>wagon</td>\n",
              "      <td>2005</td>\n",
              "      <td>manual</td>\n",
              "      <td>0</td>\n",
              "      <td>signum</td>\n",
              "      <td>150000</td>\n",
              "      <td>NaN</td>\n",
              "      <td>opel</td>\n",
              "      <td>no</td>\n",
              "    </tr>\n",
              "    <tr>\n",
              "      <th>55</th>\n",
              "      <td>550</td>\n",
              "      <td>wagon</td>\n",
              "      <td>1999</td>\n",
              "      <td>manual</td>\n",
              "      <td>0</td>\n",
              "      <td>astra</td>\n",
              "      <td>150000</td>\n",
              "      <td>gasoline</td>\n",
              "      <td>opel</td>\n",
              "      <td>yes</td>\n",
              "    </tr>\n",
              "    <tr>\n",
              "      <th>69</th>\n",
              "      <td>1200</td>\n",
              "      <td>coupe</td>\n",
              "      <td>2001</td>\n",
              "      <td>NaN</td>\n",
              "      <td>0</td>\n",
              "      <td>astra</td>\n",
              "      <td>150000</td>\n",
              "      <td>NaN</td>\n",
              "      <td>opel</td>\n",
              "      <td>NaN</td>\n",
              "    </tr>\n",
              "    <tr>\n",
              "      <th>...</th>\n",
              "      <td>...</td>\n",
              "      <td>...</td>\n",
              "      <td>...</td>\n",
              "      <td>...</td>\n",
              "      <td>...</td>\n",
              "      <td>...</td>\n",
              "      <td>...</td>\n",
              "      <td>...</td>\n",
              "      <td>...</td>\n",
              "      <td>...</td>\n",
              "    </tr>\n",
              "    <tr>\n",
              "      <th>354331</th>\n",
              "      <td>390</td>\n",
              "      <td>small</td>\n",
              "      <td>1997</td>\n",
              "      <td>auto</td>\n",
              "      <td>0</td>\n",
              "      <td>corsa</td>\n",
              "      <td>100000</td>\n",
              "      <td>petrol</td>\n",
              "      <td>opel</td>\n",
              "      <td>yes</td>\n",
              "    </tr>\n",
              "    <tr>\n",
              "      <th>354332</th>\n",
              "      <td>3299</td>\n",
              "      <td>NaN</td>\n",
              "      <td>2005</td>\n",
              "      <td>auto</td>\n",
              "      <td>0</td>\n",
              "      <td>outlander</td>\n",
              "      <td>150000</td>\n",
              "      <td>petrol</td>\n",
              "      <td>mitsubishi</td>\n",
              "      <td>NaN</td>\n",
              "    </tr>\n",
              "    <tr>\n",
              "      <th>354342</th>\n",
              "      <td>2600</td>\n",
              "      <td>NaN</td>\n",
              "      <td>2005</td>\n",
              "      <td>auto</td>\n",
              "      <td>0</td>\n",
              "      <td>c_klasse</td>\n",
              "      <td>150000</td>\n",
              "      <td>NaN</td>\n",
              "      <td>mercedes_benz</td>\n",
              "      <td>NaN</td>\n",
              "    </tr>\n",
              "    <tr>\n",
              "      <th>354356</th>\n",
              "      <td>3999</td>\n",
              "      <td>wagon</td>\n",
              "      <td>2005</td>\n",
              "      <td>manual</td>\n",
              "      <td>3</td>\n",
              "      <td>3er</td>\n",
              "      <td>150000</td>\n",
              "      <td>gasoline</td>\n",
              "      <td>bmw</td>\n",
              "      <td>no</td>\n",
              "    </tr>\n",
              "    <tr>\n",
              "      <th>354359</th>\n",
              "      <td>1150</td>\n",
              "      <td>bus</td>\n",
              "      <td>2000</td>\n",
              "      <td>manual</td>\n",
              "      <td>0</td>\n",
              "      <td>zafira</td>\n",
              "      <td>150000</td>\n",
              "      <td>petrol</td>\n",
              "      <td>opel</td>\n",
              "      <td>no</td>\n",
              "    </tr>\n",
              "  </tbody>\n",
              "</table>\n",
              "<p>25997 rows × 10 columns</p>\n",
              "</div>\n",
              "      <button class=\"colab-df-convert\" onclick=\"convertToInteractive('df-de46518d-65f2-466c-9bcb-c0429d94d05f')\"\n",
              "              title=\"Convert this dataframe to an interactive table.\"\n",
              "              style=\"display:none;\">\n",
              "        \n",
              "  <svg xmlns=\"http://www.w3.org/2000/svg\" height=\"24px\"viewBox=\"0 0 24 24\"\n",
              "       width=\"24px\">\n",
              "    <path d=\"M0 0h24v24H0V0z\" fill=\"none\"/>\n",
              "    <path d=\"M18.56 5.44l.94 2.06.94-2.06 2.06-.94-2.06-.94-.94-2.06-.94 2.06-2.06.94zm-11 1L8.5 8.5l.94-2.06 2.06-.94-2.06-.94L8.5 2.5l-.94 2.06-2.06.94zm10 10l.94 2.06.94-2.06 2.06-.94-2.06-.94-.94-2.06-.94 2.06-2.06.94z\"/><path d=\"M17.41 7.96l-1.37-1.37c-.4-.4-.92-.59-1.43-.59-.52 0-1.04.2-1.43.59L10.3 9.45l-7.72 7.72c-.78.78-.78 2.05 0 2.83L4 21.41c.39.39.9.59 1.41.59.51 0 1.02-.2 1.41-.59l7.78-7.78 2.81-2.81c.8-.78.8-2.07 0-2.86zM5.41 20L4 18.59l7.72-7.72 1.47 1.35L5.41 20z\"/>\n",
              "  </svg>\n",
              "      </button>\n",
              "      \n",
              "  <style>\n",
              "    .colab-df-container {\n",
              "      display:flex;\n",
              "      flex-wrap:wrap;\n",
              "      gap: 12px;\n",
              "    }\n",
              "\n",
              "    .colab-df-convert {\n",
              "      background-color: #E8F0FE;\n",
              "      border: none;\n",
              "      border-radius: 50%;\n",
              "      cursor: pointer;\n",
              "      display: none;\n",
              "      fill: #1967D2;\n",
              "      height: 32px;\n",
              "      padding: 0 0 0 0;\n",
              "      width: 32px;\n",
              "    }\n",
              "\n",
              "    .colab-df-convert:hover {\n",
              "      background-color: #E2EBFA;\n",
              "      box-shadow: 0px 1px 2px rgba(60, 64, 67, 0.3), 0px 1px 3px 1px rgba(60, 64, 67, 0.15);\n",
              "      fill: #174EA6;\n",
              "    }\n",
              "\n",
              "    [theme=dark] .colab-df-convert {\n",
              "      background-color: #3B4455;\n",
              "      fill: #D2E3FC;\n",
              "    }\n",
              "\n",
              "    [theme=dark] .colab-df-convert:hover {\n",
              "      background-color: #434B5C;\n",
              "      box-shadow: 0px 1px 3px 1px rgba(0, 0, 0, 0.15);\n",
              "      filter: drop-shadow(0px 1px 2px rgba(0, 0, 0, 0.3));\n",
              "      fill: #FFFFFF;\n",
              "    }\n",
              "  </style>\n",
              "\n",
              "      <script>\n",
              "        const buttonEl =\n",
              "          document.querySelector('#df-de46518d-65f2-466c-9bcb-c0429d94d05f button.colab-df-convert');\n",
              "        buttonEl.style.display =\n",
              "          google.colab.kernel.accessAllowed ? 'block' : 'none';\n",
              "\n",
              "        async function convertToInteractive(key) {\n",
              "          const element = document.querySelector('#df-de46518d-65f2-466c-9bcb-c0429d94d05f');\n",
              "          const dataTable =\n",
              "            await google.colab.kernel.invokeFunction('convertToInteractive',\n",
              "                                                     [key], {});\n",
              "          if (!dataTable) return;\n",
              "\n",
              "          const docLinkHtml = 'Like what you see? Visit the ' +\n",
              "            '<a target=\"_blank\" href=https://colab.research.google.com/notebooks/data_table.ipynb>data table notebook</a>'\n",
              "            + ' to learn more about interactive tables.';\n",
              "          element.innerHTML = '';\n",
              "          dataTable['output_type'] = 'display_data';\n",
              "          await google.colab.output.renderOutput(dataTable, element);\n",
              "          const docLink = document.createElement('div');\n",
              "          docLink.innerHTML = docLinkHtml;\n",
              "          element.appendChild(docLink);\n",
              "        }\n",
              "      </script>\n",
              "    </div>\n",
              "  </div>\n",
              "  "
            ]
          },
          "metadata": {},
          "execution_count": 26
        }
      ],
      "source": [
        "df[df['power'] <= 30]"
      ]
    },
    {
      "cell_type": "markdown",
      "metadata": {
        "id": "a_SP7NgsRaGY"
      },
      "source": [
        "На сегодняшний день **самым мощным** легковым автомобилем в мире назван Dagger GT компании TranStar Racing LLC. Мощность его двигателя составляет **2028** л.с. При этом в нашей выборке не представлены автомобили этого бренда.    \n",
        "Мы возьмем за максимальное значение мощности автомобиля 700 лошадиных сил -- это больше, чем самый быстрый Alfa Romeo. Так как объектов, превышающих это значение, не много, мы их исключим.\n",
        "\n",
        "Также в данных около **30 000 объектов с 0 мощностью двигателя**. Возможно, это автомобили не на ходу, без двигателя.  \n",
        "У автомобиля Lada Ока мощность двигателя составляла всего 33 лошадиные силы. Мы возьмем за минимальное значение мощности 30 л.с. В нашей выборке чуть больще 31 тысячи объектов с значением мощности меньше минимального. Чтобы они не вредили нашей модели, мы также исключим их."
      ]
    },
    {
      "cell_type": "code",
      "execution_count": 27,
      "metadata": {
        "id": "fHM2D7s5RYJy"
      },
      "outputs": [],
      "source": [
        "df = df[(df['power'] > 30) & (df['power'] < 700)]"
      ]
    },
    {
      "cell_type": "code",
      "execution_count": 28,
      "metadata": {
        "colab": {
          "base_uri": "https://localhost:8080/",
          "height": 332
        },
        "id": "c3m5er62WMZf",
        "outputId": "018f7450-8008-4dbd-8cff-50a6b78347f6"
      },
      "outputs": [
        {
          "output_type": "execute_result",
          "data": {
            "text/plain": [
              "<function matplotlib.pyplot.show(close=None, block=None)>"
            ]
          },
          "metadata": {},
          "execution_count": 28
        },
        {
          "output_type": "display_data",
          "data": {
            "text/plain": [
              "<Figure size 1000x300 with 1 Axes>"
            ],
            "image/png": "[encoded data removed]"
          },
          "metadata": {}
        }
      ],
      "source": [
        "plt.figure(figsize=(10, 3))\n",
        "plt.hist(df['kilometer'], bins=8, color='aquamarine')\n",
        "plt.title('Пробег')\n",
        "plt.show"
      ]
    },
    {
      "cell_type": "markdown",
      "metadata": {
        "id": "uHDxxsG7X5gQ"
      },
      "source": [
        "Наиболее частое значение пробега - 150 тысяч километров, оно же и является максимальным значением. Мы можем предположить, что это максимальное значение пробега автомобиля, которое было предложено при заполнении анкеты. Здесь исключать ничего не нужно."
      ]
    },
    {
      "cell_type": "markdown",
      "metadata": {
        "id": "pLPNvvyHrHtR"
      },
      "source": [
        "Проверим, сколько пропущенных значений осталось в датасете:"
      ]
    },
    {
      "cell_type": "markdown",
      "metadata": {
        "id": "Dd7eDcZgDmGR"
      },
      "source": [
        "### Категориальные признаки"
      ]
    },
    {
      "cell_type": "code",
      "execution_count": 29,
      "metadata": {
        "colab": {
          "base_uri": "https://localhost:8080/"
        },
        "id": "dd6_HzLFqElX",
        "outputId": "bb85440f-1acb-45f0-c35a-825b8b13826b"
      },
      "outputs": [
        {
          "output_type": "execute_result",
          "data": {
            "text/plain": [
              "price                    0\n",
              "vehicle_type          3873\n",
              "registration_year        0\n",
              "gearbox               4154\n",
              "power                    0\n",
              "model                    0\n",
              "kilometer                0\n",
              "fuel_type            10524\n",
              "brand                    0\n",
              "repaired             36394\n",
              "dtype: int64"
            ]
          },
          "metadata": {},
          "execution_count": 29
        }
      ],
      "source": [
        "df.isna().sum()"
      ]
    },
    {
      "cell_type": "markdown",
      "metadata": {
        "id": "s5bGnkEMcMnX"
      },
      "source": [
        "К сожалению, у нас нет возможности восстановить оставщиеся пропущенные значения в столбцах. В данных нет зависимостей, которые можно было бы успешно использовать для этих признаков. Заполняя большие объемы пропусков медианой или модой, мы можем получить недостоверные данные, из-за чего качество нашей модели пострадает.\n",
        "\n",
        "Мы **заменим все оставшиеся пропущенные значения на заглушку `unknown`**."
      ]
    },
    {
      "cell_type": "code",
      "execution_count": 30,
      "metadata": {
        "colab": {
          "base_uri": "https://localhost:8080/"
        },
        "id": "ZAe7omcz6tfr",
        "outputId": "e622c9d3-f3b7-4783-f7c2-c289013d290b"
      },
      "outputs": [
        {
          "output_type": "execute_result",
          "data": {
            "text/plain": [
              "price                0\n",
              "vehicle_type         0\n",
              "registration_year    0\n",
              "gearbox              0\n",
              "power                0\n",
              "model                0\n",
              "kilometer            0\n",
              "fuel_type            0\n",
              "brand                0\n",
              "repaired             0\n",
              "dtype: int64"
            ]
          },
          "metadata": {},
          "execution_count": 30
        }
      ],
      "source": [
        "columns_to_replace = ['vehicle_type', \n",
        "                      'gearbox', \n",
        "                      'fuel_type', \n",
        "                      'repaired'] \n",
        "\n",
        "for columns in columns_to_replace:\n",
        "    df[columns] = df[columns].fillna('unknown')\n",
        "\n",
        "df.isna().sum()"
      ]
    },
    {
      "cell_type": "code",
      "execution_count": 31,
      "metadata": {
        "colab": {
          "base_uri": "https://localhost:8080/",
          "height": 330
        },
        "id": "xgqwjPMWDOeR",
        "outputId": "69bae231-b7af-422e-c87a-8c9df9711ceb"
      },
      "outputs": [
        {
          "output_type": "execute_result",
          "data": {
            "text/plain": [
              "<function matplotlib.pyplot.show(close=None, block=None)>"
            ]
          },
          "metadata": {},
          "execution_count": 31
        },
        {
          "output_type": "display_data",
          "data": {
            "text/plain": [
              "<Figure size 1500x500 with 4 Axes>"
            ],
            "image/png": "[encoded data removed]"
          },
          "metadata": {}
        }
      ],
      "source": [
        "plt.figure(figsize=(15, 5))\n",
        "plt.subplot (1, 4, 1)\n",
        "plt.pie(x=df['vehicle_type'].value_counts(), \n",
        "        labels=df['vehicle_type'].value_counts().index, shadow=True)\n",
        "plt.legend()\n",
        "plt.title('Тип кузова')\n",
        "plt.subplot (1, 4, 2)\n",
        "plt.pie(x=df['gearbox'].value_counts(), \n",
        "        labels=df['gearbox'].value_counts().index, shadow=True)\n",
        "plt.legend()\n",
        "plt.title('Тип коробки передач')\n",
        "plt.subplot (1, 4, 3)\n",
        "plt.pie(x=df['fuel_type'].value_counts(), \n",
        "        labels=df['fuel_type'].value_counts().index, shadow=True)\n",
        "plt.legend()\n",
        "plt.title('Тип топлива')\n",
        "plt.show\n",
        "plt.subplot (1, 4, 4)\n",
        "plt.pie(x=df['repaired'].value_counts(), \n",
        "        labels=df['repaired'].value_counts().index, shadow=True)\n",
        "plt.legend()\n",
        "plt.title('Была ли машина в ремонте')\n",
        "\n",
        "\n",
        "plt.show"
      ]
    },
    {
      "cell_type": "markdown",
      "metadata": {
        "id": "78rVd5RVJ98-"
      },
      "source": [
        "Среди категориальных признаков никаких аномалий не обнаружено."
      ]
    },
    {
      "cell_type": "code",
      "execution_count": 32,
      "metadata": {
        "colab": {
          "base_uri": "https://localhost:8080/"
        },
        "id": "kL9kyEw6M0FE",
        "outputId": "c53d642c-b011-4a9e-8ea5-cef36d3db591"
      },
      "outputs": [
        {
          "output_type": "stream",
          "name": "stdout",
          "text": [
            "<class 'pandas.core.frame.DataFrame'>\n",
            "Int64Index: 278225 entries, 2 to 354364\n",
            "Data columns (total 10 columns):\n",
            " #   Column             Non-Null Count   Dtype \n",
            "---  ------             --------------   ----- \n",
            " 0   price              278225 non-null  int64 \n",
            " 1   vehicle_type       278225 non-null  object\n",
            " 2   registration_year  278225 non-null  int64 \n",
            " 3   gearbox            278225 non-null  object\n",
            " 4   power              278225 non-null  int64 \n",
            " 5   model              278225 non-null  object\n",
            " 6   kilometer          278225 non-null  int64 \n",
            " 7   fuel_type          278225 non-null  object\n",
            " 8   brand              278225 non-null  object\n",
            " 9   repaired           278225 non-null  object\n",
            "dtypes: int64(4), object(6)\n",
            "memory usage: 23.3+ MB\n"
          ]
        }
      ],
      "source": [
        "# Выведем актуальную информацию о данных на экран\n",
        "df.info()"
      ]
    },
    {
      "cell_type": "markdown",
      "metadata": {
        "id": "_9mtvOq6MnJ8"
      },
      "source": [
        "**В ходе предобработки данных мы:**\n",
        "- Заменили или исключили пропущенные значения\n",
        "- Избавились от аномалий \n",
        "- Исключили дубликаты\n",
        "- Исключили неинформативные признаки\n",
        "\n",
        "Мы потеряли более 20% объектов от \"сырой\" выборки, но качество данных стало значительно выше, что очень важно для построения моделей.\n",
        "\n",
        "На следующем этапы мы подготовим выборки для обучения моделей."
      ]
    },
    {
      "cell_type": "markdown",
      "metadata": {
        "id": "EDxS6AO4BfXk"
      },
      "source": [
        "## Подготовка выборки для обучения моделей\n",
        "\n",
        "Разделим данные на тренировочную, валидационную и тестовую выборки.\n"
      ]
    },
    {
      "cell_type": "code",
      "execution_count": 33,
      "metadata": {
        "id": "BXVMc6YtCeWM"
      },
      "outputs": [],
      "source": [
        "# Разделим данные на обучающую, валидационную и тестовую выборки\n",
        "X_train, y_train, X_valid, y_valid, X_test, y_test = train_valid_test_split(\n",
        "     df, 'price', \n",
        "     train_size=0.7, valid_size=0.15, test_size=0.15, \n",
        "     random_state=RANDOM_STATE\n",
        "     )"
      ]
    },
    {
      "cell_type": "markdown",
      "metadata": {
        "id": "zWkqaeYBTdRQ"
      },
      "source": [
        "**Закодируем данные.**   \n",
        "В нашей работе мы будем проверять модели: \n",
        "- Линейной регрессии;\n",
        "- Дерево решений;\n",
        "- Случайный лес;\n",
        "- Градиентный бустинг.\n",
        "\n",
        "Для модели линейной регрессии мы закодируем категориальные признаки методом `OneHotEncoder`, для деревьев -- `OrdinalEncoder`, а для модели бустинга мы будем использовать встроенный способ. Все численные признаки мы закодируем с помощью `StandarScaler`.\n",
        "\n",
        "Для начала, создадим переменные для категориальных и численных признаков.\n",
        "\n"
      ]
    },
    {
      "cell_type": "code",
      "execution_count": 34,
      "metadata": {
        "id": "ZpcF53TmcU6S"
      },
      "outputs": [],
      "source": [
        "# Создадим переменные для категориальных и численных признаков\n",
        "cat_columns = [\n",
        "    'vehicle_type', 'gearbox', 'fuel_type', \n",
        "    'brand', 'model', 'repaired'\n",
        "    ]\n",
        "num_columns = [\n",
        "    'kilometer', 'power',\n",
        "    'registration_year'\n",
        "    ]"
      ]
    },
    {
      "cell_type": "markdown",
      "metadata": {
        "id": "RLL_XYE1yD9C"
      },
      "source": [
        "Создадим два трансформера: в первом с кодировка категориальных признаков будет осуществляться методом **OneHotEncoder** во втором -- **OrdinalEncoder**. Оба трансформера также будут масштабировать численные признаки методом StandarScaler"
      ]
    },
    {
      "cell_type": "code",
      "execution_count": 35,
      "metadata": {
        "id": "QyoTM0d4A_Ck"
      },
      "outputs": [],
      "source": [
        "# Создаем трансформеры с помощью make_column_transformer\n",
        "ohe_transformer = make_column_transformer(\n",
        "    (\n",
        "        OneHotEncoder(drop='first', handle_unknown='ignore'),\n",
        "        cat_columns\n",
        "    ),\n",
        "    (\n",
        "        StandardScaler(), \n",
        "        num_columns\n",
        "    ),\n",
        "    remainder='passthrough',\n",
        "    verbose_feature_names_out=False\n",
        ")\n",
        "\n",
        "ordinal_transformer = make_column_transformer(\n",
        "    (\n",
        "        OrdinalEncoder(handle_unknown='use_encoded_value', unknown_value=-1),\n",
        "        cat_columns\n",
        "    ),\n",
        "    (\n",
        "        StandardScaler(), \n",
        "        num_columns\n",
        "    ),\n",
        "    remainder='passthrough',\n",
        "    verbose_feature_names_out=False\n",
        ")"
      ]
    },
    {
      "cell_type": "markdown",
      "metadata": {
        "id": "O710_NfyHxnI"
      },
      "source": [
        "Данные распределены на обучающую, валидационную и тестовую выборки, трансформеры для масштабирования и кодирования признаков созданы. Можем переходить к обучению моделей."
      ]
    },
    {
      "cell_type": "markdown",
      "metadata": {
        "id": "ULvCauNlCeWM"
      },
      "source": [
        "## Обучение моделей\n",
        "\n",
        "Отбор наилучшей модели будет происходить в несколько этапов:\n",
        "\n",
        "- На обучающей выборке для каждой модели мы подберем оптимальные гиперпараметры кросс-валидацией с помощью RandomizedSearch.\n",
        "- Затем мы измерим скорость обучения модели с оптимальными гиперпараметрами на всей тренировочной выборке. \n",
        "- Затем мы зафиксируем скорость предсказания на валидационной выборке.\n",
        "\n",
        "После этого мы перейдем к этапу анализа моделей: в общей таблице мы рассмотрим следующие показатели каждой модели:\n",
        "- Время обучения, \n",
        "- Время предсказания, \n",
        "- RMSE модели, \n",
        "- R2 score модели.\n",
        "\n",
        "На основе этих данных мы отберем наилучшую модель, которую проверим на тестовой выборке.\n"
      ]
    },
    {
      "cell_type": "markdown",
      "metadata": {
        "id": "Plq6mXrJIO3z"
      },
      "source": [
        "В данном исследвании мы обучим следующие модели:\n",
        "1. Линейные модели:\n",
        "  - Linear Regression\n",
        "  - Ridge\n",
        "2. Decision Tree Regressor\n",
        "3. Random Forest Regressor\n",
        "4. Градиентный бустинг:\n",
        "\n",
        "  - LightGBM Regressor\n",
        "  - CatBoost Regressor\n",
        "\n",
        "Подбор гиперпараметров мы будем производить кросс-валидацией с помощью RandomizedSearch + Pipeline. Для этого создадим функцию, которая будет принимать на вход pipeline с моделью и трансформером, а также набор гиперпараметров, а возвращать гиперпараметры лучшей модели и наилучшее значение метрики **RMSE** на обучающей выборке."
      ]
    },
    {
      "cell_type": "code",
      "execution_count": 36,
      "metadata": {
        "id": "2NFxSNUJtv17"
      },
      "outputs": [],
      "source": [
        "def best_model_and_score(pipe, params):\n",
        "    rs_pl = RandomizedSearchCV(\n",
        "        pipe, \n",
        "        param_distributions=params, \n",
        "        scoring='neg_root_mean_squared_error',\n",
        "        n_iter=15, cv=3, random_state=RANDOM_STATE,\n",
        "        n_jobs=-1\n",
        "    )\n",
        "    rs_pl.fit(X_train, y_train)\n",
        " \n",
        "    # лучшее значение RMSE на кросс-валидации\n",
        "    print(f'best_score_AUC: {rs_pl.best_score_:0.4f}')\n",
        "    # лучшие гиперпараметры\n",
        "    print(f'best_params: { rs_pl.best_params_}')\n",
        "    \n",
        "    return rs_pl.best_estimator_"
      ]
    },
    {
      "cell_type": "markdown",
      "metadata": {
        "id": "q8ZeKDawIdR5"
      },
      "source": [
        "### Линейная регрессия\n",
        "\n",
        "Найдем наилучшие гиперпараметры для линейных моделей Ridge и Linear Regression на данных, трансформированных методом OHE, после чего зафиксируем время обучения и время предсказания моделей."
      ]
    },
    {
      "cell_type": "markdown",
      "metadata": {
        "id": "Ba3jnBCDjvws"
      },
      "source": [
        "#### Ridge"
      ]
    },
    {
      "cell_type": "code",
      "execution_count": 37,
      "metadata": {
        "colab": {
          "base_uri": "https://localhost:8080/"
        },
        "id": "M9ihL_Hbh2sP",
        "outputId": "bb4e34b2-89a7-4d7a-82b2-bc7668c689ec"
      },
      "outputs": [
        {
          "output_type": "stream",
          "name": "stdout",
          "text": [
            "best_score_AUC: -2481.5695\n",
            "best_params: {'ridge__solver': 'auto', 'ridge__alpha': 1.2000000000000002}\n"
          ]
        }
      ],
      "source": [
        "# Подберем гиперпараметры для модели Ridge на трансформере OHE\n",
        "model_ridge = Ridge(random_state=RANDOM_STATE)\n",
        "pipe_ridge = make_pipeline(ohe_transformer, model_ridge)\n",
        "param_ridge = {\n",
        "    'ridge__alpha': np.arange(0, 2.0, 0.1),\n",
        "    'ridge__solver': [\n",
        "        'auto', 'svd', 'cholesky', 'lsqr', \n",
        "        'sparse_cg', 'sag', 'saga', 'lbfgs'\n",
        "        ]\n",
        "}\n",
        "\n",
        "best_ridge_model = best_model_and_score(\n",
        "    pipe_ridge, param_ridge\n",
        ")"
      ]
    },
    {
      "cell_type": "code",
      "execution_count": 38,
      "metadata": {
        "colab": {
          "base_uri": "https://localhost:8080/"
        },
        "id": "y3YMNWAdi1Sn",
        "outputId": "1dd2a559-524b-41e5-f108-349592e73b3f"
      },
      "outputs": [
        {
          "output_type": "stream",
          "name": "stdout",
          "text": [
            "CPU times: user 2.06 s, sys: 1.24 s, total: 3.3 s\n",
            "Wall time: 1.94 s\n"
          ]
        }
      ],
      "source": [
        "# Зафиксируем время обучения\n",
        "%%time\n",
        "start = time.time()\n",
        "best_ridge_model.fit(X_train, y_train)\n",
        "end = time.time()\n",
        "ridge_train_time=round(end-start,2)"
      ]
    },
    {
      "cell_type": "code",
      "execution_count": 39,
      "metadata": {
        "colab": {
          "base_uri": "https://localhost:8080/"
        },
        "id": "GSDYchDWi0xq",
        "outputId": "5fe8f974-0eb7-4727-c181-2349b8d81dda"
      },
      "outputs": [
        {
          "output_type": "stream",
          "name": "stdout",
          "text": [
            "CPU times: user 146 ms, sys: 84.7 ms, total: 231 ms\n",
            "Wall time: 158 ms\n"
          ]
        }
      ],
      "source": [
        "# Предскажем значения целевого признака на валидационной выборке, \n",
        "# Зафиксируем время предсказания,\n",
        "# Вычислим метрики RMSE и R2 модели\n",
        "%%time\n",
        "start = time.time()\n",
        "ridge_predictions = best_ridge_model.predict(X_valid)\n",
        "end = time.time()\n",
        "ridge_predict_time=round(end-start,2)\n",
        "\n",
        "ridge_rmse = mean_squared_error(ridge_predictions, y_valid, squared=False)\n",
        "ridge_r2 = r2_score(y_valid, ridge_predictions)"
      ]
    },
    {
      "cell_type": "markdown",
      "metadata": {
        "id": "c35olHBVj1GX"
      },
      "source": [
        "#### Linear Regression"
      ]
    },
    {
      "cell_type": "code",
      "execution_count": 40,
      "metadata": {
        "colab": {
          "base_uri": "https://localhost:8080/"
        },
        "id": "x1lNAey8pjAj",
        "outputId": "81f62a71-24a2-41a6-a1bb-05e9c7837701"
      },
      "outputs": [
        {
          "output_type": "stream",
          "name": "stdout",
          "text": [
            "best_score_AUC: -2481.4063\n",
            "best_params: {'linearregression__fit_intercept': True, 'linearregression__copy_X': True}\n"
          ]
        }
      ],
      "source": [
        "# Подберем гиперпараметры для модели линейной регрессии на трансформере OHE\n",
        "model_lr = LinearRegression()\n",
        "pipe_lr = make_pipeline(ohe_transformer, model_lr)\n",
        "param_lr = {\n",
        "    'linearregression__fit_intercept':[True,False], \n",
        "    'linearregression__copy_X':[True, False]\n",
        "}\n",
        "\n",
        "best_lr_model = best_model_and_score(\n",
        "    pipe_lr, param_lr\n",
        ")"
      ]
    },
    {
      "cell_type": "code",
      "execution_count": 41,
      "metadata": {
        "colab": {
          "base_uri": "https://localhost:8080/"
        },
        "id": "1Y0NYlKOIcy3",
        "outputId": "33f12a68-906d-4b49-f191-d5832e1267b6"
      },
      "outputs": [
        {
          "output_type": "stream",
          "name": "stdout",
          "text": [
            "CPU times: user 5.2 s, sys: 3.76 s, total: 8.96 s\n",
            "Wall time: 5.55 s\n"
          ]
        }
      ],
      "source": [
        "# Зафиксируем время обучения\n",
        "%%time\n",
        "start = time.time()\n",
        "best_lr_model.fit(X_train, y_train)\n",
        "end = time.time()\n",
        "lr_train_time=round(end-start,2)"
      ]
    },
    {
      "cell_type": "code",
      "execution_count": 42,
      "metadata": {
        "colab": {
          "base_uri": "https://localhost:8080/"
        },
        "id": "TzGhJ6DthGny",
        "outputId": "4a9f1962-c4c6-49c4-db75-c35604b032fc"
      },
      "outputs": [
        {
          "output_type": "stream",
          "name": "stdout",
          "text": [
            "CPU times: user 173 ms, sys: 79.7 ms, total: 253 ms\n",
            "Wall time: 218 ms\n"
          ]
        }
      ],
      "source": [
        "# Предскажем значения целевого признака на валидационной выборке, \n",
        "# Зафиксируем время предсказания,\n",
        "# Вычислим метрики RMSE и R2 модели\n",
        "\n",
        "%%time\n",
        "start = time.time()\n",
        "lr_predictions = best_lr_model.predict(X_valid)\n",
        "end = time.time()\n",
        "lr_predict_time=round(end-start,2)\n",
        "\n",
        "lr_rmse = mean_squared_error(lr_predictions, y_valid, squared=False)\n",
        "lr_r2 = r2_score(y_valid, lr_predictions)"
      ]
    },
    {
      "cell_type": "markdown",
      "metadata": {
        "id": "WMKiYOcRruw3"
      },
      "source": [
        "### Дерево решений\n"
      ]
    },
    {
      "cell_type": "code",
      "execution_count": 43,
      "metadata": {
        "colab": {
          "base_uri": "https://localhost:8080/"
        },
        "id": "oNju0zh2r3eH",
        "outputId": "90a352ed-8a57-4a22-b28b-92de5eb04fd6"
      },
      "outputs": [
        {
          "output_type": "stream",
          "name": "stdout",
          "text": [
            "best_score_AUC: -1765.1516\n",
            "best_params: {'decisiontreeregressor__splitter': 'best', 'decisiontreeregressor__min_samples_split': 26, 'decisiontreeregressor__max_depth': 40}\n"
          ]
        }
      ],
      "source": [
        "# Подберем гиперпараметры для модели Дерево решений \n",
        "# На трансформере Ordinal Encoder\n",
        "\n",
        "model_dtr = DecisionTreeRegressor(random_state=RANDOM_STATE)\n",
        "pipe_dtr = make_pipeline(ordinal_transformer, model_dtr)\n",
        "param_dtr = {\n",
        "    'decisiontreeregressor__splitter': ['best', 'random'],\n",
        "    'decisiontreeregressor__min_samples_split': range(1, 101, 5),\n",
        "    'decisiontreeregressor__max_depth': [1, 5, 7, 10, 15, 20, 30, 40, None],\n",
        "}\n",
        "\n",
        "best_dtr_model = best_model_and_score(\n",
        "    pipe_dtr, param_dtr\n",
        ")"
      ]
    },
    {
      "cell_type": "code",
      "execution_count": 44,
      "metadata": {
        "colab": {
          "base_uri": "https://localhost:8080/"
        },
        "id": "cGrOYm2ir3PV",
        "outputId": "c41e48d2-6972-49fc-e008-ea77ecf0960e"
      },
      "outputs": [
        {
          "output_type": "stream",
          "name": "stdout",
          "text": [
            "CPU times: user 1.57 s, sys: 125 µs, total: 1.57 s\n",
            "Wall time: 1.63 s\n"
          ]
        }
      ],
      "source": [
        "# Зафиксируем время обучения\n",
        "%%time\n",
        "start = time.time()\n",
        "best_dtr_model.fit(X_train, y_train)\n",
        "end = time.time()\n",
        "dtr_train_time=round(end-start,2)"
      ]
    },
    {
      "cell_type": "code",
      "execution_count": 45,
      "metadata": {
        "colab": {
          "base_uri": "https://localhost:8080/"
        },
        "id": "r8hCCRwlr29g",
        "outputId": "fa7de0b9-6cfb-4ab8-98c1-05eed15dbba9"
      },
      "outputs": [
        {
          "output_type": "stream",
          "name": "stdout",
          "text": [
            "CPU times: user 133 ms, sys: 0 ns, total: 133 ms\n",
            "Wall time: 146 ms\n"
          ]
        }
      ],
      "source": [
        "# Предскажем значения целевого признака на валидационной выборке, \n",
        "# Зафиксируем время предсказания,\n",
        "# Вычислим метрики RMSE и R2 модели\n",
        "\n",
        "%%time\n",
        "start = time.time()\n",
        "dtr_predictions = best_dtr_model.predict(X_valid)\n",
        "end = time.time()\n",
        "dtr_predict_time=round(end-start,2)\n",
        "\n",
        "dtr_rmse = mean_squared_error(dtr_predictions, y_valid, squared=False)\n",
        "dtr_r2 = r2_score(y_valid, dtr_predictions)"
      ]
    },
    {
      "cell_type": "markdown",
      "metadata": {
        "id": "tiHppIpoUXiA"
      },
      "source": [
        "### Случайный лес"
      ]
    },
    {
      "cell_type": "code",
      "execution_count": 46,
      "metadata": {
        "colab": {
          "base_uri": "https://localhost:8080/"
        },
        "id": "rQyQli4cUxke",
        "outputId": "cf741d2c-caae-445c-95ee-ee8e34f319af"
      },
      "outputs": [
        {
          "output_type": "stream",
          "name": "stdout",
          "text": [
            "best_score_AUC: -1578.5340\n",
            "best_params: {'randomforestregressor__n_estimators': 80, 'randomforestregressor__min_samples_split': 10, 'randomforestregressor__min_samples_leaf': 5, 'randomforestregressor__max_features': 'sqrt', 'randomforestregressor__max_depth': 20}\n"
          ]
        }
      ],
      "source": [
        "# Подберем оптимальные гиперпараметры для модели случайного леса \n",
        "# На трансформере Ordinal Encoder\n",
        "\n",
        "model_rfr = RandomForestRegressor(random_state=RANDOM_STATE)\n",
        "pipe_ord_rfr = make_pipeline(ordinal_transformer, model_rfr)\n",
        "\n",
        "param_rfr = {\n",
        "    'randomforestregressor__n_estimators': range(10, 151, 10),\n",
        "    'randomforestregressor__max_depth': [None, 1, 3, 5, 7, 10, 13, 15, 17, 20],\n",
        "    'randomforestregressor__min_samples_split': range(2, 11, 2),\n",
        "    'randomforestregressor__min_samples_leaf': range(1, 13, 2),\n",
        "    'randomforestregressor__max_features': ['auto', 'sqrt']\n",
        "}\n",
        "\n",
        "best_rfr_model = best_model_and_score(\n",
        "    pipe_ord_rfr, param_rfr\n",
        ")"
      ]
    },
    {
      "cell_type": "code",
      "execution_count": 47,
      "metadata": {
        "colab": {
          "base_uri": "https://localhost:8080/"
        },
        "id": "_i5p-NyqzjUc",
        "outputId": "0bbf66fd-fedc-4833-bd22-52091fc83b7a"
      },
      "outputs": [
        {
          "output_type": "stream",
          "name": "stdout",
          "text": [
            "CPU times: user 15.6 s, sys: 88.3 ms, total: 15.7 s\n",
            "Wall time: 15.7 s\n"
          ]
        }
      ],
      "source": [
        "# Зафиксируем время обучения\n",
        "%%time\n",
        "start = time.time()\n",
        "best_rfr_model.fit(X_train, y_train)\n",
        "end = time.time()\n",
        "rfr_train_time=round(end-start,2)"
      ]
    },
    {
      "cell_type": "code",
      "execution_count": 48,
      "metadata": {
        "id": "Y4W1DzEfzjUk",
        "colab": {
          "base_uri": "https://localhost:8080/"
        },
        "outputId": "d1a4509d-7446-4c6b-d1a7-6cd83393d50d"
      },
      "outputs": [
        {
          "output_type": "stream",
          "name": "stdout",
          "text": [
            "CPU times: user 856 ms, sys: 175 µs, total: 856 ms\n",
            "Wall time: 857 ms\n"
          ]
        }
      ],
      "source": [
        "# Предскажем значения целевого признака на валидационной выборке, \n",
        "# Зафиксируем время предсказания,\n",
        "# Вычислим метрики RMSE и R2 модели\n",
        "\n",
        "%%time\n",
        "start = time.time()\n",
        "rfr_predictions = best_rfr_model.predict(X_valid)\n",
        "end = time.time()\n",
        "rfr_predict_time=round(end-start,2)\n",
        "\n",
        "rfr_rmse = mean_squared_error(rfr_predictions, y_valid, squared=False)\n",
        "rfr_r2 = r2_score(y_valid, rfr_predictions)"
      ]
    },
    {
      "cell_type": "markdown",
      "metadata": {
        "id": "n3HqDXnw2-_P"
      },
      "source": [
        "### Градиентный бустинг"
      ]
    },
    {
      "cell_type": "markdown",
      "metadata": {
        "id": "y2GLjrTb3KSY"
      },
      "source": [
        "#### LightGBM"
      ]
    },
    {
      "cell_type": "code",
      "execution_count": 49,
      "metadata": {
        "colab": {
          "base_uri": "https://localhost:8080/"
        },
        "id": "m9NhAl9-3J6Y",
        "outputId": "33c35f4a-d2d1-442e-976b-71bc5e1762a9"
      },
      "outputs": [
        {
          "output_type": "stream",
          "name": "stdout",
          "text": [
            "best_score_AUC: -1554.9640\n",
            "best_params: {'lgbmregressor__n_estimators': 260, 'lgbmregressor__max_depth': None}\n"
          ]
        }
      ],
      "source": [
        "# Подберём оптимальные гиперпараметры для модели LightGBM на трансформере OHE\n",
        "model_lgbm = LGBMRegressor(random_state=RANDOM_STATE)\n",
        "pipe_lgbm = make_pipeline(ohe_transformer, model_lgbm)\n",
        "param_lgbm = {\n",
        "    'lgbmregressor__max_depth': [1, 5, 10, 15, 20, None],\n",
        "    'lgbmregressor__n_estimators': range(10, 301, 10)\n",
        "}\n",
        "\n",
        "best_lgbm_model = best_model_and_score(\n",
        "    pipe_lgbm, param_lgbm\n",
        ")"
      ]
    },
    {
      "cell_type": "code",
      "execution_count": 50,
      "metadata": {
        "colab": {
          "base_uri": "https://localhost:8080/"
        },
        "id": "_-oCDiZL2l7q",
        "outputId": "624d85a5-1ecc-4456-87d7-fadd3c6e6245"
      },
      "outputs": [
        {
          "output_type": "stream",
          "name": "stdout",
          "text": [
            "CPU times: user 9.45 s, sys: 81.4 ms, total: 9.53 s\n",
            "Wall time: 6.86 s\n"
          ]
        }
      ],
      "source": [
        "# Зафиксируем время обучения\n",
        "%%time\n",
        "start = time.time()\n",
        "best_lgbm_model.fit(X_train, y_train)\n",
        "end = time.time()\n",
        "lgbm_train_time=round(end-start,2)"
      ]
    },
    {
      "cell_type": "code",
      "execution_count": 51,
      "metadata": {
        "colab": {
          "base_uri": "https://localhost:8080/"
        },
        "id": "Vgl309kH2lnv",
        "outputId": "9d1b2ba3-00a3-4d03-d389-50d66d05802a"
      },
      "outputs": [
        {
          "output_type": "stream",
          "name": "stdout",
          "text": [
            "CPU times: user 986 ms, sys: 4.05 ms, total: 990 ms\n",
            "Wall time: 560 ms\n"
          ]
        }
      ],
      "source": [
        "# Предскажем значения целевого признака на валидационной выборке, \n",
        "# Зафиксируем время предсказания,\n",
        "# Вычислим метрики RMSE и R2 модели\n",
        "\n",
        "%%time\n",
        "start = time.time()\n",
        "lgbm_predictions = best_lgbm_model.predict(X_valid)\n",
        "end = time.time()\n",
        "lgbm_predict_time=round(end-start,2)\n",
        "\n",
        "lgbm_rmse = mean_squared_error(lgbm_predictions, y_valid, squared=False)\n",
        "lgbm_r2 = r2_score(y_valid, lgbm_predictions)"
      ]
    },
    {
      "cell_type": "markdown",
      "metadata": {
        "id": "M1KDlnNI_5nB"
      },
      "source": [
        "#### CatBoost\n",
        "Обучим модель Градиентного бустинга CatBoost. Мы не будем кодировать данные и подбирать гиперпараметры -- в CatBoost есть встроенный метод кодировки данных."
      ]
    },
    {
      "cell_type": "code",
      "execution_count": 52,
      "metadata": {
        "id": "ttBpX5hs_6h3",
        "colab": {
          "base_uri": "https://localhost:8080/"
        },
        "outputId": "85b15e8f-0fb7-4871-940e-cd2a4d029c46"
      },
      "outputs": [
        {
          "output_type": "stream",
          "name": "stdout",
          "text": [
            "CPU times: user 6min 19s, sys: 3.67 s, total: 6min 23s\n",
            "Wall time: 3min 55s\n"
          ]
        }
      ],
      "source": [
        "# Зафиксируем время обучения\n",
        "%%time\n",
        "model_cbr = CatBoostRegressor(\n",
        "    logging_level='Silent', \n",
        "    cat_features = cat_columns,\n",
        "    random_state=RANDOM_STATE)\n",
        "start = time.time()\n",
        "model_cbr.fit(X_train, y_train)\n",
        "end = time.time()\n",
        "cbr_train_time=round(end-start,2)"
      ]
    },
    {
      "cell_type": "code",
      "execution_count": 53,
      "metadata": {
        "id": "x3f-MRQq_66m",
        "colab": {
          "base_uri": "https://localhost:8080/"
        },
        "outputId": "2345f19e-0af0-47ff-c2ee-47e9cd3c069d"
      },
      "outputs": [
        {
          "output_type": "stream",
          "name": "stdout",
          "text": [
            "CPU times: user 526 ms, sys: 2.78 ms, total: 529 ms\n",
            "Wall time: 378 ms\n"
          ]
        }
      ],
      "source": [
        "# Предскажем значения целевого признака на валидационной выборке, \n",
        "# Зафиксируем время предсказания,\n",
        "# Вычислим метрики RMSE и R2 модели\n",
        "\n",
        "%%time\n",
        "start = time.time()\n",
        "cbr_predictions = model_cbr.predict(X_valid)\n",
        "end = time.time()\n",
        "cbr_predict_time=round(end-start,2)\n",
        "\n",
        "cbr_rmse = mean_squared_error(cbr_predictions, y_valid, squared=False)\n",
        "cbr_r2 = r2_score(y_valid, cbr_predictions)"
      ]
    },
    {
      "cell_type": "markdown",
      "metadata": {
        "id": "FXS5Ns_XCeWN"
      },
      "source": [
        "## Анализ моделей"
      ]
    },
    {
      "cell_type": "code",
      "execution_count": 54,
      "metadata": {
        "id": "5yaWJdOjD-Cr",
        "colab": {
          "base_uri": "https://localhost:8080/",
          "height": 237
        },
        "outputId": "5c95e14e-aa48-470e-bc7a-4f54c58cfb3d"
      },
      "outputs": [
        {
          "output_type": "execute_result",
          "data": {
            "text/plain": [
              "<pandas.io.formats.style.Styler at 0x7f93f88c54c0>"
            ],
            "text/html": [
              "<style type=\"text/css\">\n",
              "#T_40c8b_row0_col0 {\n",
              "  background-color: #fff7b7;\n",
              "  color: #000000;\n",
              "}\n",
              "#T_40c8b_row0_col1, #T_40c8b_row0_col3, #T_40c8b_row1_col0, #T_40c8b_row1_col3, #T_40c8b_row4_col2, #T_40c8b_row5_col2 {\n",
              "  background-color: #800026;\n",
              "  color: #f1f1f1;\n",
              "}\n",
              "#T_40c8b_row0_col2, #T_40c8b_row1_col2, #T_40c8b_row3_col0, #T_40c8b_row3_col1, #T_40c8b_row4_col0, #T_40c8b_row4_col3 {\n",
              "  background-color: #ffffcc;\n",
              "  color: #000000;\n",
              "}\n",
              "#T_40c8b_row1_col1 {\n",
              "  background-color: #febe59;\n",
              "  color: #000000;\n",
              "}\n",
              "#T_40c8b_row2_col0, #T_40c8b_row5_col3 {\n",
              "  background-color: #fffcc5;\n",
              "  color: #000000;\n",
              "}\n",
              "#T_40c8b_row2_col1 {\n",
              "  background-color: #fc5f2f;\n",
              "  color: #f1f1f1;\n",
              "}\n",
              "#T_40c8b_row2_col2 {\n",
              "  background-color: #fffecb;\n",
              "  color: #000000;\n",
              "}\n",
              "#T_40c8b_row2_col3 {\n",
              "  background-color: #820026;\n",
              "  color: #f1f1f1;\n",
              "}\n",
              "#T_40c8b_row3_col2 {\n",
              "  background-color: #ffe48c;\n",
              "  color: #000000;\n",
              "}\n",
              "#T_40c8b_row3_col3 {\n",
              "  background-color: #c30424;\n",
              "  color: #f1f1f1;\n",
              "}\n",
              "#T_40c8b_row4_col1 {\n",
              "  background-color: #fffbc2;\n",
              "  color: #000000;\n",
              "}\n",
              "#T_40c8b_row5_col0 {\n",
              "  background-color: #fffdc6;\n",
              "  color: #000000;\n",
              "}\n",
              "#T_40c8b_row5_col1 {\n",
              "  background-color: #ffefa5;\n",
              "  color: #000000;\n",
              "}\n",
              "</style>\n",
              "<table id=\"T_40c8b\" class=\"dataframe\">\n",
              "  <thead>\n",
              "    <tr>\n",
              "      <th class=\"blank level0\" >&nbsp;</th>\n",
              "      <th id=\"T_40c8b_level0_col0\" class=\"col_heading level0 col0\" >Время обучения</th>\n",
              "      <th id=\"T_40c8b_level0_col1\" class=\"col_heading level0 col1\" >Время предсказания</th>\n",
              "      <th id=\"T_40c8b_level0_col2\" class=\"col_heading level0 col2\" >RMSE модели</th>\n",
              "      <th id=\"T_40c8b_level0_col3\" class=\"col_heading level0 col3\" >R2 score модели</th>\n",
              "    </tr>\n",
              "  </thead>\n",
              "  <tbody>\n",
              "    <tr>\n",
              "      <th id=\"T_40c8b_level0_row0\" class=\"row_heading level0 row0\" >Random Forest Regressor</th>\n",
              "      <td id=\"T_40c8b_row0_col0\" class=\"data row0 col0\" >15.700000</td>\n",
              "      <td id=\"T_40c8b_row0_col1\" class=\"data row0 col1\" >0.850000</td>\n",
              "      <td id=\"T_40c8b_row0_col2\" class=\"data row0 col2\" >1544.690000</td>\n",
              "      <td id=\"T_40c8b_row0_col3\" class=\"data row0 col3\" >0.889400</td>\n",
              "    </tr>\n",
              "    <tr>\n",
              "      <th id=\"T_40c8b_level0_row1\" class=\"row_heading level0 row1\" >CatBoost Regressor</th>\n",
              "      <td id=\"T_40c8b_row1_col0\" class=\"data row1 col0\" >235.940000</td>\n",
              "      <td id=\"T_40c8b_row1_col1\" class=\"data row1 col1\" >0.380000</td>\n",
              "      <td id=\"T_40c8b_row1_col2\" class=\"data row1 col2\" >1546.270000</td>\n",
              "      <td id=\"T_40c8b_row1_col3\" class=\"data row1 col3\" >0.889100</td>\n",
              "    </tr>\n",
              "    <tr>\n",
              "      <th id=\"T_40c8b_level0_row2\" class=\"row_heading level0 row2\" >LightGBM Regressor</th>\n",
              "      <td id=\"T_40c8b_row2_col0\" class=\"data row2 col0\" >6.860000</td>\n",
              "      <td id=\"T_40c8b_row2_col1\" class=\"data row2 col1\" >0.560000</td>\n",
              "      <td id=\"T_40c8b_row2_col2\" class=\"data row2 col2\" >1549.820000</td>\n",
              "      <td id=\"T_40c8b_row2_col3\" class=\"data row2 col3\" >0.888600</td>\n",
              "    </tr>\n",
              "    <tr>\n",
              "      <th id=\"T_40c8b_level0_row3\" class=\"row_heading level0 row3\" >Decision Tree Regressor</th>\n",
              "      <td id=\"T_40c8b_row3_col0\" class=\"data row3 col0\" >1.630000</td>\n",
              "      <td id=\"T_40c8b_row3_col1\" class=\"data row3 col1\" >0.140000</td>\n",
              "      <td id=\"T_40c8b_row3_col2\" class=\"data row3 col2\" >1725.120000</td>\n",
              "      <td id=\"T_40c8b_row3_col3\" class=\"data row3 col3\" >0.862000</td>\n",
              "    </tr>\n",
              "    <tr>\n",
              "      <th id=\"T_40c8b_level0_row4\" class=\"row_heading level0 row4\" >Ridge</th>\n",
              "      <td id=\"T_40c8b_row4_col0\" class=\"data row4 col0\" >1.940000</td>\n",
              "      <td id=\"T_40c8b_row4_col1\" class=\"data row4 col1\" >0.160000</td>\n",
              "      <td id=\"T_40c8b_row4_col2\" class=\"data row4 col2\" >2525.640000</td>\n",
              "      <td id=\"T_40c8b_row4_col3\" class=\"data row4 col3\" >0.700000</td>\n",
              "    </tr>\n",
              "    <tr>\n",
              "      <th id=\"T_40c8b_level0_row5\" class=\"row_heading level0 row5\" >Linear Regression</th>\n",
              "      <td id=\"T_40c8b_row5_col0\" class=\"data row5 col0\" >5.550000</td>\n",
              "      <td id=\"T_40c8b_row5_col1\" class=\"data row5 col1\" >0.220000</td>\n",
              "      <td id=\"T_40c8b_row5_col2\" class=\"data row5 col2\" >2525.770000</td>\n",
              "      <td id=\"T_40c8b_row5_col3\" class=\"data row5 col3\" >0.704200</td>\n",
              "    </tr>\n",
              "  </tbody>\n",
              "</table>\n"
            ]
          },
          "metadata": {},
          "execution_count": 54
        }
      ],
      "source": [
        "colm = [\n",
        "    'Время обучения', 'Время предсказания', \n",
        "    'RMSE модели', 'R2 score модели'\n",
        "    ] \n",
        "ind = [\n",
        "    'Ridge', 'Linear Regression', 'Decision Tree Regressor', \n",
        "    'Random Forest Regressor', 'LightGBM Regressor', 'CatBoost Regressor'\n",
        "    ]\n",
        "val = [\n",
        "    [ridge_train_time, ridge_predict_time, round(ridge_rmse, 2), round(ridge_r2, 2)], \n",
        "    [lr_train_time, lr_predict_time, round(lr_rmse, 2), round(lr_r2, 4)], \n",
        "    [dtr_train_time, dtr_predict_time, round(dtr_rmse, 2), round(dtr_r2, 4)], \n",
        "    [rfr_train_time, rfr_predict_time, round(rfr_rmse, 2), round(rfr_r2, 4)], \n",
        "    [lgbm_train_time, lgbm_predict_time, round(lgbm_rmse, 2), round(lgbm_r2, 4)], \n",
        "    [cbr_train_time, cbr_predict_time, round(cbr_rmse, 2), round(cbr_r2, 4)]\n",
        "]\n",
        "\n",
        "data_info = pd.DataFrame(data=val, index=ind, columns=colm)\n",
        "\n",
        "data_info.sort_values('RMSE модели').style.background_gradient(axis=0, cmap='YlOrRd')"
      ]
    },
    {
      "cell_type": "markdown",
      "metadata": {
        "id": "RFMmUWEkJZ_X"
      },
      "source": [
        "Наилучшие значения метрики RMSE показали модели:\n",
        "- `Random Forest Regressor`\t\n",
        "- `CatBoost Regressor`\n",
        "- `LightGBM Regressor`\n",
        "\n",
        "Линейные модели (`Ridge`, `Linear Regression`) показали одинаково плохой результат: обе модели превысили максимальное значение метрики, установленное заказчиком. Мы исключим эти модели из дальнейшего анализа. \n",
        "\n",
        "Модель `Decision Tree Regressor` показала неплохой результат, но значение метрики трёх лидирующих моделей значительно лучше, поэтому мы также исключаем эту модель из дальнейшего анализа. \n",
        "\n",
        "Изучим распределение истинных и предсказанных лидирующими моделями значений на графике, после чего произведем финальных анализ и выбор наилучшей модели."
      ]
    },
    {
      "cell_type": "code",
      "source": [
        "print(y_valid.shape)\n",
        "print(rfr_predictions.shape)"
      ],
      "metadata": {
        "colab": {
          "base_uri": "https://localhost:8080/"
        },
        "id": "g_v7zCkXjWf-",
        "outputId": "c19953b0-8716-4bdc-9760-524d6b2dbd6c"
      },
      "execution_count": 59,
      "outputs": [
        {
          "output_type": "stream",
          "name": "stdout",
          "text": [
            "(41734,)\n",
            "(41734,)\n"
          ]
        }
      ]
    },
    {
      "cell_type": "code",
      "execution_count": 60,
      "metadata": {
        "id": "bdtl8BaHHwNx",
        "colab": {
          "base_uri": "https://localhost:8080/",
          "height": 848
        },
        "outputId": "82990f64-d884-42ca-8f06-a3c0f12c1b16"
      },
      "outputs": [
        {
          "output_type": "execute_result",
          "data": {
            "text/plain": [
              "<function matplotlib.pyplot.show(close=None, block=None)>"
            ]
          },
          "metadata": {},
          "execution_count": 60
        },
        {
          "output_type": "display_data",
          "data": {
            "text/plain": [
              "<Figure size 1500x1000 with 3 Axes>"
            ],
            "image/png": "[encoded data removed]"
          },
          "metadata": {}
        }
      ],
      "source": [
        "plt.figure(figsize=(15, 10))\n",
        "plt.title('Распределение истинных и предсказанных значений')\n",
        "plt.subplot (3, 1, 1)\n",
        "plt.hist(y_valid, bins=400, alpha=0.5, label='Истинные значения')\n",
        "plt.hist(rfr_predictions, bins=400, \n",
        "         alpha=0.5, label='Предсказанные значения Random Forest')\n",
        "plt.legend()\n",
        "plt.subplot (3, 1, 2)\n",
        "plt.hist(y_valid, bins=400, alpha=0.5, label='Истинные значения')\n",
        "plt.hist(lgbm_predictions, bins=400, \n",
        "         alpha=0.5, label='Предсказанные значения LightGBM')\n",
        "plt.legend()\n",
        "plt.subplot (3, 1, 3)\n",
        "plt.hist(y_valid, bins=400, alpha=0.5, label='Истинные значения')\n",
        "plt.hist(cbr_predictions, bins=400, \n",
        "         alpha=0.5, label='Предсказанные значения CatBoost')\n",
        "plt.legend()\n",
        "plt.show"
      ]
    },
    {
      "cell_type": "markdown",
      "metadata": {
        "id": "Tlo6tdGQTjb3"
      },
      "source": [
        "**Градиентный бустинг CatBoost Regressor**\n",
        "- Модель градиентного бустинга CatBoost показала неплохой результат по метрикам RMSE и R2, по этим параметрам она находится на 2 месте.\n",
        "- Эта модель обучалась дольше, чем любая другая модель, которую мы проверяли в данном исследовании, время обучения составило **235 секунд**. \n",
        "- На графике распределения истинных и предсказанных значений мы видим, что модель CatBoost выдала несколько отрицательных предсказаний. Их не много, но выбросы значительно удалены от нуля.\n",
        "\n",
        "**Случайный лес**  \n",
        "- Модель Случайного леса показала наилучшие значения обеих метрик. \n",
        "- Обучалась модель быстрее, чем CatBoost, но дольше остальных моделей: 16 секунд. При этом время предсказания у данной модели самое большое.\n",
        "- Визуально распределение предсказанных значений и истинных значений очень схоже. Предсказание отрицательных значений полностью отсутствует.\n",
        "\n",
        "**Градиентный бустинг LightGBM Regressor**  \n",
        "- Модель LGBMRegressor на метриках RMSE и R2 показала результат хуже, чем два предыдущих лидера, но отрыв совсем небольшой. \n",
        "- На обучение модели потребовалось немного меньше 7 секунд. Но по времени предсказания -- на 2 месте среди самых долгопредсказывающих.\n",
        "- На графике распределения предсказанных и истинных значений мы также видим отрицательные значения среди предсказанных. Но их отбросило не так далеко, чем у CatBoost."
      ]
    },
    {
      "cell_type": "markdown",
      "metadata": {
        "id": "9kC4W09Bn6rv"
      },
      "source": [
        "Так как главным показателем для нас и для заказчика все же является метрика качества предсказания, для финальной проверки на тестовой выборке мы отбираем модель **Случайного леса**. \n",
        "\n",
        "- Значение метрики **RMSE** лучшей модели: **1544.69**\n",
        "- Значение метрики **R2** лучшей модели: **0.8894**\n",
        "- Параметры модели: `{'n_estimators': 80 'min_samples_split': 10, 'min_samples_leaf': 5, 'max_features': 'sqrt', 'max_depth': 20}`\n"
      ]
    },
    {
      "cell_type": "markdown",
      "metadata": {
        "id": "oz-u7mPgH6W7"
      },
      "source": [
        "## Тестирование модели"
      ]
    },
    {
      "cell_type": "markdown",
      "metadata": {
        "id": "npkXwAIVIGPC"
      },
      "source": [
        "Нам осталось совершить последний шаг нашего исследования -- проверить модель на тестовых данных.\n",
        "\n",
        "Проанализировав результаты работы всех моделей на валидационной выборке, мы отобрали наилучшую модель по всем ключевым показателям -- модель **Случайный лес**.  \n",
        "По заданию заказчика, метрика RMSE должа показать результат на тестовой выборке **не выше 2500 единиц**. В случае, если отобранная нами модель не превысит этот показатель, исследование можно считать успешным."
      ]
    },
    {
      "cell_type": "code",
      "execution_count": 57,
      "metadata": {
        "colab": {
          "base_uri": "https://localhost:8080/"
        },
        "id": "T9M-6uenzjUl",
        "outputId": "4c3b43c9-c7cb-463b-a180-620d0e012e7f"
      },
      "outputs": [
        {
          "output_type": "stream",
          "name": "stdout",
          "text": [
            "CPU times: user 879 ms, sys: 1.88 ms, total: 881 ms\n",
            "Wall time: 878 ms\n"
          ]
        }
      ],
      "source": [
        "# Предскажем значения целевого признака на тестовой выборке, \n",
        "# Зафиксируем время предсказания,\n",
        "# Вычислим метрики RMSE и R2 модели\n",
        "\n",
        "%%time\n",
        "start = time.time()\n",
        "rfr_predictions = best_rfr_model.predict(X_test)\n",
        "end = time.time()\n",
        "rfr_predict_time=round(end-start,2)\n",
        "\n",
        "rfr_rmse = mean_squared_error(rfr_predictions, y_test, squared=False)\n",
        "rfr_r2 = r2_score(y_test, rfr_predictions)"
      ]
    },
    {
      "cell_type": "code",
      "execution_count": 58,
      "metadata": {
        "colab": {
          "base_uri": "https://localhost:8080/"
        },
        "id": "_RJcofKyKWDC",
        "outputId": "654cbbc2-841c-456d-95aa-c9ffbe35ed7d"
      },
      "outputs": [
        {
          "output_type": "stream",
          "name": "stdout",
          "text": [
            "Время предсказания: 0.88.\n",
            "Метрика RMSE модели на тестовых данных: 1552.72.\n",
            "Метрика R2 модели на тестовых данных: 0.89\n"
          ]
        }
      ],
      "source": [
        "print(f'''Время предсказания: {rfr_predict_time}.\n",
        "Метрика RMSE модели на тестовых данных: {rfr_rmse:0.2f}.\n",
        "Метрика R2 модели на тестовых данных: {rfr_r2:0.2f}''')"
      ]
    },
    {
      "cell_type": "markdown",
      "metadata": {
        "id": "Tr4WAAp1plxa"
      },
      "source": [
        "По результатам тестирования, отобранная нами модель показала хороший результат. Скорость предсказания оказалась быстрее, чем на валидационной выборке, а показатель основной метрики **RMSE** достиг значения **1552.72**, что значительно лучше порога, установленного заказчиком.\n"
      ]
    },
    {
      "cell_type": "markdown",
      "metadata": {
        "id": "3nhER0bi1GQ4"
      },
      "source": [
        "## Отчет по работе\n",
        "\n",
        "В ходе нашего исследования мы проделали следующие шаги:\n",
        "\n",
        "### 1. Загрузили и изучили предоставленные данные.\n",
        "Прочитали предоставленный файл, сохранили его в переменной `df`, после чего изучили данные:\n",
        "\n",
        "- Получили общую информацию о таблице;\n",
        "- Вывели на экран первые 5 строк таблицы;\n",
        "- Получили числовое описание данных в таблице.\n",
        "- Проверили данные на дубликаты\n",
        "- Изучили документацию к данным\n",
        "\n",
        "В ходе первичного обзора данных мы сделали следующие первые выводы:\n",
        "\n",
        "- Нам предоставлены \"сырые\" данные о 354 тысячах объявлений о продаже авто;\n",
        "- У каждого объекта 15 признаков и 1 целевой признак - стоимость авто;\n",
        "- Среди признаков есть неинформативные: почтовый индекс пользователя, дата последней активности, дата скачивания анкеты из базы, количество фотографий авто. \n",
        "- В данных присутствуют пропуски, а также уже видны аномальные значения (минимальный и максимальный год регистрации авто), есть дубликаты.\n",
        "\n",
        "### 2. Произвели предобработку данных\n",
        "\n",
        "- Изменили наименования колонок, согласно правилам хорошего стиля;\n",
        "- Удалили явные дубликаты в данных;\n",
        "- Исключили признаки, которые не содержат никакой информации, которая помогла бы определить стоимость авто: почтовый индекс пользователя, дата последней активности, дата скачивания анкеты из базы. Дата создания анкеты также не потребуется нам при построении модели, но она нужна нам для проверки на аномалии, поэтому мы исключили её чуть позже.\n",
        "Признак \"количество фотографий автомобиля\" полностью нулевой, поэтому мы также исключили эту колонку.\n",
        "- Посчитаем количество пропущенных значений в данных: они присутствуют в 5 признаках, все они -- категориальные. \n",
        "\n",
        "Далее мы изучили каждый из признаков по отдельности на наличие пропусков, выбросов и аномалий, очистили данные перед обучением моделей.\n",
        "- Исключили из выборки все автомобили с нулевой стоимостью, а также стоимостью ниже 100 евро;\n",
        "- Исключили строки с аномальным значением даты регистрации авто: зарегестрированных до начала прошлого столетия (массовое производство автомобилей началось примерно в 10-е годы 20 века), или после года заполнения анкеты (2016 год). Так как нам неизвестна природа этих аномалий, и их количество составляет всего 4% от датасета, мы их исключили.\n",
        "- Полностью исключили признак значения месяца регистрации авто, так как в нем было достаточно много аномальных значений (0 месяц).\n",
        "- Полностью исключили все объекты с пропущенным значением модели, чтобы избавиться от шума в данных.\n",
        "- Исключили объекты с аномальными значениями мощности автомобиля: оставили только те, в которых значение этого признака не меньше 30 и не больше 700.\n",
        "\n",
        "На этом этапе исследования осталось достаточно много пропусков, но у нас не было возможности их восстановить, так как в данных не было зависимостей, которые мы могли бы успешно использовать для этих признаков, поэтому мы заменили их на заглушку `unknown`.\n",
        "\n",
        "После проделанной предобработки данных мы потеряли более 20% объектов от \"сырой\" выборки, но качество данных стало значительно выше.\n",
        "\n",
        "### 3. Подготовили признаки для обучения модели\n",
        "\n",
        "На обучение модели мы отобрали следующие признаки:\n",
        "\n",
        "Категориальные признаки: `'vehicle_type', 'gearbox', 'fuel_type', 'brand', 'model', 'repaired'`\n",
        "Численные признаки: `'kilometer', 'power', 'registration_year'`\n",
        "\n",
        "В данном проекте мы используем константу RANDOM_STATE = 37.\n",
        "\n",
        "Далее мы проделали следующие шаги:\n",
        "\n",
        "- Разделили данные на обучающую, валидационную и тестовую выборки в соотношении 70:15:15\n",
        "- Создали переменные для категориальных и численных признаков.\n",
        "- Создали два трансформера: в первом кодировка категориальных признаков осуществляется методом OneHotEncoder во втором -- OrdinalEncoder. Оба трансформера также масштабируют численные признаки методом StandarScaler.\n",
        "\n",
        "### 4. Обучили модели\n",
        "\n",
        "Обучение моделей происходило в несколько этапов:\n",
        "\n",
        "- На обучающей выборке для каждой модели мы подобрали оптимальные гиперпараметры кросс-валидацией с помощью `RandomizedSearch`.\n",
        "- Измерили скорость обучения модели с оптимальными гиперпараметрами на всей тренировочной выборке.\n",
        "- Зафиксировали скорость предсказания на валидационной выборке.\n",
        "\n",
        "В данном исследвании мы обучили следующие модели:\n",
        "\n",
        "1. Линейные модели:\n",
        "  - Linear Regression\n",
        "  - Ridge\n",
        "2. Decision Tree Regressor\n",
        "3. Random Forest Regressor\n",
        "4. Градиентный бустинг:\n",
        "  - LightGBM Regressor\n",
        "  - CatBoost Regressor\n",
        "\n",
        "Подбор гиперпараметров мы произвели кросс-валидацией с помощью `RandomizedSearch` + `Pipeline`. Для этого создали функцию, которая принимает на вход pipeline с моделью и трансформером, а также набор гиперпараметров, а возвращает гиперпараметры лучшей модели и наилучшее значение метрики **RMSE** на обучающей выборке.\n",
        "\n",
        "Для модели линейной регрессии мы закодировали категориальные признаки методом OneHotEncoder, для деревьев -- OrdinalEncoder. Модель LightGBM мы обучили на данных, трансформированных OHE, а для модели CatBoost мы использовали встроенный способ. \n",
        "\n",
        "\n",
        "### 5. Проанализировали результат обучения моделей, отобрали лучшую\n",
        "\n",
        "В общей таблице мы рассмотрели следующие показатели каждой модели:\n",
        "\n",
        "- Время обучения,\n",
        "- Время предсказания,\n",
        "- RMSE модели,\n",
        "- R2 score модели.\n",
        "\n",
        "Наилучшие значения метрики RMSE показали модели:\n",
        "\n",
        "- Random Forest Regressor\n",
        "- CatBoost Regressor\n",
        "- LightGBM Regressor\n",
        "\n",
        "Остальные модели для дальнейшего анализа мы исключили.\n",
        "\n",
        "Затем мы изучили распределение истинных и предсказанных лидирующими моделями значений на интерактивном графике, после чего произвели финальный анализ и выбор наилучшей модели.\n",
        "\n",
        "Для финальной проверки на тестовой выборке мы отобрали модель **Случайного леса**. \n",
        "\n",
        "- Значение метрики **RMSE** лучшей модели: **1544.69**\n",
        "- Значение метрики **R2** лучшей модели: **0.8894**\n",
        "- Время обучения лучшей модели: **15.7** секунд\n",
        "- Параметры модели: `{'n_estimators': 80 'min_samples_split': 10, 'min_samples_leaf': 5, 'max_features': 'sqrt', 'max_depth': 20}`\n",
        "\n",
        "### 6. Тестирование модели\n",
        "\n",
        "По результатам тестирования, отобранная нами модель показала следующий результат:\n",
        "- Скорость предсказания оказалась быстрее, чем на валидационной выборке, и составила **0.88** секунды;\n",
        "- Показатель основной метрики **RMSE** достиг значения **1552.72**, что значительно лучше порога, установленного заказчиком.\n",
        "\n",
        "### 7. Вывод\n",
        "\n",
        "В ходе данного исследования мы придерживались изначально составленного плана. Все пункты плана были выполнены в полном объеме.\n",
        "\n",
        "Трудностей в решении задач не возникло.\n",
        "\n",
        "Тестирование отобранной модели прошло успешно: поставленный заказчиком порог целевой метрики не был превышен.\n",
        "\n",
        "Проведённое исследование можно считать успешным."
      ]
    },
    {
      "cell_type": "code",
      "execution_count": 58,
      "metadata": {
        "id": "V2zGnm2prWty"
      },
      "outputs": [],
      "source": []
    }
  ],
  "metadata": {
    "colab": {
      "toc_visible": true,
      "provenance": []
    },
    "kernelspec": {
      "display_name": "Python 3 (ipykernel)",
      "language": "python",
      "name": "python3"
    },
    "language_info": {
      "codemirror_mode": {
        "name": "ipython",
        "version": 3
      },
      "file_extension": ".py",
      "mimetype": "text/x-python",
      "name": "python",
      "nbconvert_exporter": "python",
      "pygments_lexer": "ipython3",
      "version": "3.9.5"
    },
    "toc": {
      "base_numbering": 1,
      "nav_menu": {},
      "number_sections": true,
      "sideBar": true,
      "skip_h1_title": true,
      "title_cell": "Table of Contents",
      "title_sidebar": "Contents",
      "toc_cell": false,
      "toc_position": {},
      "toc_section_display": true,
      "toc_window_display": false
    },
    "vscode": {
      "interpreter": {
        "hash": "bfd5a5b421765054be11a02d2db3d2a33761227d3ba46db1a7c4b0d36075a23e"
      }
    }
  },
  "nbformat": 4,
  "nbformat_minor": 0
}