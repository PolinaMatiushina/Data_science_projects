{
  "cells": [
    {
      "cell_type": "markdown",
      "metadata": {
        "id": "8tkXD3v_CeV6"
      },
      "source": [
        "# Прогнозирование оттока клиентов оператора связи"
      ]
    },
    {
      "cell_type": "markdown",
      "metadata": {
        "id": "bdpOBT_JCeWH"
      },
      "source": [
        "Оператор связи «Ниединогоразрыва.ком» хочет научиться прогнозировать отток клиентов. Если выяснится, что пользователь планирует уйти, ему будут предложены промокоды и специальные условия. Команда оператора собрала и предоставила нам персональные данные о некоторых клиентах, информацию об их тарифах и договорах. \n",
        "\n",
        "**Цель исследования:**\n",
        "- Построить модель машинного обучения для прогноза, уйдет клиент от оператора связи или нет.   \n",
        "\n",
        "\n",
        "**Заказчику важно:**   \n",
        "Во избежания убытков, перед бизнесом стоит задача свести к минимуму 2 основные метрики:  \n",
        "1. Пользователю не предложили промокод и он ушел (*false negative*)\n",
        "2. Пользователь не собирался уходить, но он пользуется предложенными промокодами (*false positive*)  \n",
        "В связи с этим, мы будем опираться на значение метрики **AUC-ROC** — она учитывает возможность балансировать между *false posititve* и *false negative*. Её значение должно быть не менее отметки **0.85**.  \n",
        "Также в качестве дополнительной метрики мы вычислим **accuracy** - долю правильных ответов модели.\n",
        "\n",
        "\n",
        "**Ход исследования:**\n",
        "- Загрузка и обзор предоставленных данных;\n",
        "- Предобработка данных;\n",
        "- Исследовательский анализ данных;\n",
        "- Подготовка признаков для обучения модели;\n",
        "- Обучение моделей с различными гиперпараметрами;\n",
        "- Анализ моделей, выбор лучшей;\n",
        "- Тестирование отобранной модели на тестовой выборке;\n",
        "- Финальный вывод.\n"
      ]
    },
    {
      "cell_type": "markdown",
      "metadata": {
        "id": "aQcKmxFnIkj3"
      },
      "source": [
        "## Загрузка и обзор данных"
      ]
    },
    {
      "cell_type": "code",
      "execution_count": null,
      "metadata": {
        "id": "7hIMDtBvCeWK"
      },
      "outputs": [],
      "source": [
        "# Импортируем необходимые для работы библиотеки и функции\n",
        "import warnings\n",
        "\n",
        "import pandas as pd\n",
        "import numpy as np\n",
        "import matplotlib.pyplot as plt\n",
        "import seaborn as sns\n",
        "\n",
        "import phik\n",
        "from phik import report\n",
        "from phik.report import plot_correlation_matrix\n",
        "\n",
        "from sklearn.compose import make_column_transformer\n",
        "from sklearn.linear_model import LogisticRegression, RidgeClassifier\n",
        "from sklearn.ensemble import RandomForestClassifier\n",
        "from sklearn.tree import DecisionTreeClassifier\n",
        "from lightgbm import LGBMClassifier, plot_importance\n",
        "from catboost import CatBoostClassifier\n",
        "\n",
        "from sklearn.model_selection import (\n",
        "    GridSearchCV, \n",
        "    RandomizedSearchCV,\n",
        "    train_test_split\n",
        ")\n",
        "from sklearn.pipeline import make_pipeline\n",
        "from sklearn.preprocessing import (\n",
        "    OneHotEncoder,\n",
        "    OrdinalEncoder,\n",
        "    StandardScaler\n",
        ")\n",
        "from sklearn.metrics import (\n",
        "    accuracy_score, \n",
        "    roc_auc_score, \n",
        "    roc_curve\n",
        ")\n",
        "\n",
        "#настройки\n",
        "warnings.filterwarnings('ignore')\n",
        "\n",
        "#константы\n",
        "RANDOM_STATE = 270223"
      ]
    },
    {
      "cell_type": "code",
      "execution_count": null,
      "metadata": {
        "id": "glu5MTF4wXEB"
      },
      "outputs": [],
      "source": [
        "def read_df(csv_file_name):\n",
        "    \"\"\"Функция для чтения данных из .csv файлов\"\"\"\n",
        "    try:\n",
        "        df = pd.read_csv(\n",
        "            f'/content/drive/MyDrive/datasets/final_project/{csv_file_name}', \n",
        "            index_col = 'customerID')\n",
        "    except:\n",
        "        df = pd.read_csv(f'/datasets/final_provider/{csv_file_name}', \n",
        "                         index_col = 'customerID')\n",
        "    return df"
      ]
    },
    {
      "cell_type": "code",
      "execution_count": null,
      "metadata": {
        "id": "79V6WmSVxjxp"
      },
      "outputs": [],
      "source": [
        "# Прочитаем файлы и сохраним их в переменные\n",
        "df_contract = read_df('contract.csv')\n",
        "df_personal = read_df('personal.csv')\n",
        "df_internet = read_df('internet.csv')\n",
        "df_phone = read_df('phone.csv')"
      ]
    },
    {
      "cell_type": "code",
      "execution_count": null,
      "metadata": {
        "id": "rwYi3fWiephm"
      },
      "outputs": [],
      "source": [
        "def df_review(df):\n",
        "    \"\"\"Функция для краткого обзора данных\"\"\"\n",
        "    # Получим общую информацию о таблице\n",
        "    display(df.info())\n",
        "    # Выведем на экран первые 5 строк таблицы\n",
        "    display(df.head(5))\n",
        "    # Получим числовое описание данных в таблице\n",
        "    display(df.describe())\n"
      ]
    },
    {
      "cell_type": "code",
      "execution_count": null,
      "metadata": {
        "colab": {
          "base_uri": "https://localhost:8080/",
          "height": 812
        },
        "id": "_S7cr7SckmFm",
        "outputId": "f6c4ce00-f332-4410-fb95-efdc4fc38878"
      },
      "outputs": [
        {
          "output_type": "stream",
          "name": "stdout",
          "text": [
            "Информация о договоре\n",
            "<class 'pandas.core.frame.DataFrame'>\n",
            "Index: 7043 entries, 7590-VHVEG to 3186-AJIEK\n",
            "Data columns (total 7 columns):\n",
            " #   Column            Non-Null Count  Dtype  \n",
            "---  ------            --------------  -----  \n",
            " 0   BeginDate         7043 non-null   object \n",
            " 1   EndDate           7043 non-null   object \n",
            " 2   Type              7043 non-null   object \n",
            " 3   PaperlessBilling  7043 non-null   object \n",
            " 4   PaymentMethod     7043 non-null   object \n",
            " 5   MonthlyCharges    7043 non-null   float64\n",
            " 6   TotalCharges      7043 non-null   object \n",
            "dtypes: float64(1), object(6)\n",
            "memory usage: 440.2+ KB\n"
          ]
        },
        {
          "output_type": "display_data",
          "data": {
            "text/plain": [
              "None"
            ]
          },
          "metadata": {}
        },
        {
          "output_type": "display_data",
          "data": {
            "text/plain": [
              "             BeginDate              EndDate            Type PaperlessBilling  \\\n",
              "customerID                                                                     \n",
              "7590-VHVEG  2020-01-01                   No  Month-to-month              Yes   \n",
              "5575-GNVDE  2017-04-01                   No        One year               No   \n",
              "3668-QPYBK  2019-10-01  2019-12-01 00:00:00  Month-to-month              Yes   \n",
              "7795-CFOCW  2016-05-01                   No        One year               No   \n",
              "9237-HQITU  2019-09-01  2019-11-01 00:00:00  Month-to-month              Yes   \n",
              "\n",
              "                        PaymentMethod  MonthlyCharges TotalCharges  \n",
              "customerID                                                          \n",
              "7590-VHVEG           Electronic check           29.85        29.85  \n",
              "5575-GNVDE               Mailed check           56.95       1889.5  \n",
              "3668-QPYBK               Mailed check           53.85       108.15  \n",
              "7795-CFOCW  Bank transfer (automatic)           42.30      1840.75  \n",
              "9237-HQITU           Electronic check           70.70       151.65  "
            ],
            "text/html": [
              "\n",
              "  <div id=\"df-66913a70-3c74-4b51-bbb5-4a34b750547b\">\n",
              "    <div class=\"colab-df-container\">\n",
              "      <div>\n",
              "<style scoped>\n",
              "    .dataframe tbody tr th:only-of-type {\n",
              "        vertical-align: middle;\n",
              "    }\n",
              "\n",
              "    .dataframe tbody tr th {\n",
              "        vertical-align: top;\n",
              "    }\n",
              "\n",
              "    .dataframe thead th {\n",
              "        text-align: right;\n",
              "    }\n",
              "</style>\n",
              "<table border=\"1\" class=\"dataframe\">\n",
              "  <thead>\n",
              "    <tr style=\"text-align: right;\">\n",
              "      <th></th>\n",
              "      <th>BeginDate</th>\n",
              "      <th>EndDate</th>\n",
              "      <th>Type</th>\n",
              "      <th>PaperlessBilling</th>\n",
              "      <th>PaymentMethod</th>\n",
              "      <th>MonthlyCharges</th>\n",
              "      <th>TotalCharges</th>\n",
              "    </tr>\n",
              "    <tr>\n",
              "      <th>customerID</th>\n",
              "      <th></th>\n",
              "      <th></th>\n",
              "      <th></th>\n",
              "      <th></th>\n",
              "      <th></th>\n",
              "      <th></th>\n",
              "      <th></th>\n",
              "    </tr>\n",
              "  </thead>\n",
              "  <tbody>\n",
              "    <tr>\n",
              "      <th>7590-VHVEG</th>\n",
              "      <td>2020-01-01</td>\n",
              "      <td>No</td>\n",
              "      <td>Month-to-month</td>\n",
              "      <td>Yes</td>\n",
              "      <td>Electronic check</td>\n",
              "      <td>29.85</td>\n",
              "      <td>29.85</td>\n",
              "    </tr>\n",
              "    <tr>\n",
              "      <th>5575-GNVDE</th>\n",
              "      <td>2017-04-01</td>\n",
              "      <td>No</td>\n",
              "      <td>One year</td>\n",
              "      <td>No</td>\n",
              "      <td>Mailed check</td>\n",
              "      <td>56.95</td>\n",
              "      <td>1889.5</td>\n",
              "    </tr>\n",
              "    <tr>\n",
              "      <th>3668-QPYBK</th>\n",
              "      <td>2019-10-01</td>\n",
              "      <td>2019-12-01 00:00:00</td>\n",
              "      <td>Month-to-month</td>\n",
              "      <td>Yes</td>\n",
              "      <td>Mailed check</td>\n",
              "      <td>53.85</td>\n",
              "      <td>108.15</td>\n",
              "    </tr>\n",
              "    <tr>\n",
              "      <th>7795-CFOCW</th>\n",
              "      <td>2016-05-01</td>\n",
              "      <td>No</td>\n",
              "      <td>One year</td>\n",
              "      <td>No</td>\n",
              "      <td>Bank transfer (automatic)</td>\n",
              "      <td>42.30</td>\n",
              "      <td>1840.75</td>\n",
              "    </tr>\n",
              "    <tr>\n",
              "      <th>9237-HQITU</th>\n",
              "      <td>2019-09-01</td>\n",
              "      <td>2019-11-01 00:00:00</td>\n",
              "      <td>Month-to-month</td>\n",
              "      <td>Yes</td>\n",
              "      <td>Electronic check</td>\n",
              "      <td>70.70</td>\n",
              "      <td>151.65</td>\n",
              "    </tr>\n",
              "  </tbody>\n",
              "</table>\n",
              "</div>\n",
              "      <button class=\"colab-df-convert\" onclick=\"convertToInteractive('df-66913a70-3c74-4b51-bbb5-4a34b750547b')\"\n",
              "              title=\"Convert this dataframe to an interactive table.\"\n",
              "              style=\"display:none;\">\n",
              "        \n",
              "  <svg xmlns=\"http://www.w3.org/2000/svg\" height=\"24px\"viewBox=\"0 0 24 24\"\n",
              "       width=\"24px\">\n",
              "    <path d=\"M0 0h24v24H0V0z\" fill=\"none\"/>\n",
              "    <path d=\"M18.56 5.44l.94 2.06.94-2.06 2.06-.94-2.06-.94-.94-2.06-.94 2.06-2.06.94zm-11 1L8.5 8.5l.94-2.06 2.06-.94-2.06-.94L8.5 2.5l-.94 2.06-2.06.94zm10 10l.94 2.06.94-2.06 2.06-.94-2.06-.94-.94-2.06-.94 2.06-2.06.94z\"/><path d=\"M17.41 7.96l-1.37-1.37c-.4-.4-.92-.59-1.43-.59-.52 0-1.04.2-1.43.59L10.3 9.45l-7.72 7.72c-.78.78-.78 2.05 0 2.83L4 21.41c.39.39.9.59 1.41.59.51 0 1.02-.2 1.41-.59l7.78-7.78 2.81-2.81c.8-.78.8-2.07 0-2.86zM5.41 20L4 18.59l7.72-7.72 1.47 1.35L5.41 20z\"/>\n",
              "  </svg>\n",
              "      </button>\n",
              "      \n",
              "  <style>\n",
              "    .colab-df-container {\n",
              "      display:flex;\n",
              "      flex-wrap:wrap;\n",
              "      gap: 12px;\n",
              "    }\n",
              "\n",
              "    .colab-df-convert {\n",
              "      background-color: #E8F0FE;\n",
              "      border: none;\n",
              "      border-radius: 50%;\n",
              "      cursor: pointer;\n",
              "      display: none;\n",
              "      fill: #1967D2;\n",
              "      height: 32px;\n",
              "      padding: 0 0 0 0;\n",
              "      width: 32px;\n",
              "    }\n",
              "\n",
              "    .colab-df-convert:hover {\n",
              "      background-color: #E2EBFA;\n",
              "      box-shadow: 0px 1px 2px rgba(60, 64, 67, 0.3), 0px 1px 3px 1px rgba(60, 64, 67, 0.15);\n",
              "      fill: #174EA6;\n",
              "    }\n",
              "\n",
              "    [theme=dark] .colab-df-convert {\n",
              "      background-color: #3B4455;\n",
              "      fill: #D2E3FC;\n",
              "    }\n",
              "\n",
              "    [theme=dark] .colab-df-convert:hover {\n",
              "      background-color: #434B5C;\n",
              "      box-shadow: 0px 1px 3px 1px rgba(0, 0, 0, 0.15);\n",
              "      filter: drop-shadow(0px 1px 2px rgba(0, 0, 0, 0.3));\n",
              "      fill: #FFFFFF;\n",
              "    }\n",
              "  </style>\n",
              "\n",
              "      <script>\n",
              "        const buttonEl =\n",
              "          document.querySelector('#df-66913a70-3c74-4b51-bbb5-4a34b750547b button.colab-df-convert');\n",
              "        buttonEl.style.display =\n",
              "          google.colab.kernel.accessAllowed ? 'block' : 'none';\n",
              "\n",
              "        async function convertToInteractive(key) {\n",
              "          const element = document.querySelector('#df-66913a70-3c74-4b51-bbb5-4a34b750547b');\n",
              "          const dataTable =\n",
              "            await google.colab.kernel.invokeFunction('convertToInteractive',\n",
              "                                                     [key], {});\n",
              "          if (!dataTable) return;\n",
              "\n",
              "          const docLinkHtml = 'Like what you see? Visit the ' +\n",
              "            '<a target=\"_blank\" href=https://colab.research.google.com/notebooks/data_table.ipynb>data table notebook</a>'\n",
              "            + ' to learn more about interactive tables.';\n",
              "          element.innerHTML = '';\n",
              "          dataTable['output_type'] = 'display_data';\n",
              "          await google.colab.output.renderOutput(dataTable, element);\n",
              "          const docLink = document.createElement('div');\n",
              "          docLink.innerHTML = docLinkHtml;\n",
              "          element.appendChild(docLink);\n",
              "        }\n",
              "      </script>\n",
              "    </div>\n",
              "  </div>\n",
              "  "
            ]
          },
          "metadata": {}
        },
        {
          "output_type": "display_data",
          "data": {
            "text/plain": [
              "       MonthlyCharges\n",
              "count     7043.000000\n",
              "mean        64.761692\n",
              "std         30.090047\n",
              "min         18.250000\n",
              "25%         35.500000\n",
              "50%         70.350000\n",
              "75%         89.850000\n",
              "max        118.750000"
            ],
            "text/html": [
              "\n",
              "  <div id=\"df-be9d47ec-9c9d-43e7-879f-b6f5d442cbc7\">\n",
              "    <div class=\"colab-df-container\">\n",
              "      <div>\n",
              "<style scoped>\n",
              "    .dataframe tbody tr th:only-of-type {\n",
              "        vertical-align: middle;\n",
              "    }\n",
              "\n",
              "    .dataframe tbody tr th {\n",
              "        vertical-align: top;\n",
              "    }\n",
              "\n",
              "    .dataframe thead th {\n",
              "        text-align: right;\n",
              "    }\n",
              "</style>\n",
              "<table border=\"1\" class=\"dataframe\">\n",
              "  <thead>\n",
              "    <tr style=\"text-align: right;\">\n",
              "      <th></th>\n",
              "      <th>MonthlyCharges</th>\n",
              "    </tr>\n",
              "  </thead>\n",
              "  <tbody>\n",
              "    <tr>\n",
              "      <th>count</th>\n",
              "      <td>7043.000000</td>\n",
              "    </tr>\n",
              "    <tr>\n",
              "      <th>mean</th>\n",
              "      <td>64.761692</td>\n",
              "    </tr>\n",
              "    <tr>\n",
              "      <th>std</th>\n",
              "      <td>30.090047</td>\n",
              "    </tr>\n",
              "    <tr>\n",
              "      <th>min</th>\n",
              "      <td>18.250000</td>\n",
              "    </tr>\n",
              "    <tr>\n",
              "      <th>25%</th>\n",
              "      <td>35.500000</td>\n",
              "    </tr>\n",
              "    <tr>\n",
              "      <th>50%</th>\n",
              "      <td>70.350000</td>\n",
              "    </tr>\n",
              "    <tr>\n",
              "      <th>75%</th>\n",
              "      <td>89.850000</td>\n",
              "    </tr>\n",
              "    <tr>\n",
              "      <th>max</th>\n",
              "      <td>118.750000</td>\n",
              "    </tr>\n",
              "  </tbody>\n",
              "</table>\n",
              "</div>\n",
              "      <button class=\"colab-df-convert\" onclick=\"convertToInteractive('df-be9d47ec-9c9d-43e7-879f-b6f5d442cbc7')\"\n",
              "              title=\"Convert this dataframe to an interactive table.\"\n",
              "              style=\"display:none;\">\n",
              "        \n",
              "  <svg xmlns=\"http://www.w3.org/2000/svg\" height=\"24px\"viewBox=\"0 0 24 24\"\n",
              "       width=\"24px\">\n",
              "    <path d=\"M0 0h24v24H0V0z\" fill=\"none\"/>\n",
              "    <path d=\"M18.56 5.44l.94 2.06.94-2.06 2.06-.94-2.06-.94-.94-2.06-.94 2.06-2.06.94zm-11 1L8.5 8.5l.94-2.06 2.06-.94-2.06-.94L8.5 2.5l-.94 2.06-2.06.94zm10 10l.94 2.06.94-2.06 2.06-.94-2.06-.94-.94-2.06-.94 2.06-2.06.94z\"/><path d=\"M17.41 7.96l-1.37-1.37c-.4-.4-.92-.59-1.43-.59-.52 0-1.04.2-1.43.59L10.3 9.45l-7.72 7.72c-.78.78-.78 2.05 0 2.83L4 21.41c.39.39.9.59 1.41.59.51 0 1.02-.2 1.41-.59l7.78-7.78 2.81-2.81c.8-.78.8-2.07 0-2.86zM5.41 20L4 18.59l7.72-7.72 1.47 1.35L5.41 20z\"/>\n",
              "  </svg>\n",
              "      </button>\n",
              "      \n",
              "  <style>\n",
              "    .colab-df-container {\n",
              "      display:flex;\n",
              "      flex-wrap:wrap;\n",
              "      gap: 12px;\n",
              "    }\n",
              "\n",
              "    .colab-df-convert {\n",
              "      background-color: #E8F0FE;\n",
              "      border: none;\n",
              "      border-radius: 50%;\n",
              "      cursor: pointer;\n",
              "      display: none;\n",
              "      fill: #1967D2;\n",
              "      height: 32px;\n",
              "      padding: 0 0 0 0;\n",
              "      width: 32px;\n",
              "    }\n",
              "\n",
              "    .colab-df-convert:hover {\n",
              "      background-color: #E2EBFA;\n",
              "      box-shadow: 0px 1px 2px rgba(60, 64, 67, 0.3), 0px 1px 3px 1px rgba(60, 64, 67, 0.15);\n",
              "      fill: #174EA6;\n",
              "    }\n",
              "\n",
              "    [theme=dark] .colab-df-convert {\n",
              "      background-color: #3B4455;\n",
              "      fill: #D2E3FC;\n",
              "    }\n",
              "\n",
              "    [theme=dark] .colab-df-convert:hover {\n",
              "      background-color: #434B5C;\n",
              "      box-shadow: 0px 1px 3px 1px rgba(0, 0, 0, 0.15);\n",
              "      filter: drop-shadow(0px 1px 2px rgba(0, 0, 0, 0.3));\n",
              "      fill: #FFFFFF;\n",
              "    }\n",
              "  </style>\n",
              "\n",
              "      <script>\n",
              "        const buttonEl =\n",
              "          document.querySelector('#df-be9d47ec-9c9d-43e7-879f-b6f5d442cbc7 button.colab-df-convert');\n",
              "        buttonEl.style.display =\n",
              "          google.colab.kernel.accessAllowed ? 'block' : 'none';\n",
              "\n",
              "        async function convertToInteractive(key) {\n",
              "          const element = document.querySelector('#df-be9d47ec-9c9d-43e7-879f-b6f5d442cbc7');\n",
              "          const dataTable =\n",
              "            await google.colab.kernel.invokeFunction('convertToInteractive',\n",
              "                                                     [key], {});\n",
              "          if (!dataTable) return;\n",
              "\n",
              "          const docLinkHtml = 'Like what you see? Visit the ' +\n",
              "            '<a target=\"_blank\" href=https://colab.research.google.com/notebooks/data_table.ipynb>data table notebook</a>'\n",
              "            + ' to learn more about interactive tables.';\n",
              "          element.innerHTML = '';\n",
              "          dataTable['output_type'] = 'display_data';\n",
              "          await google.colab.output.renderOutput(dataTable, element);\n",
              "          const docLink = document.createElement('div');\n",
              "          docLink.innerHTML = docLinkHtml;\n",
              "          element.appendChild(docLink);\n",
              "        }\n",
              "      </script>\n",
              "    </div>\n",
              "  </div>\n",
              "  "
            ]
          },
          "metadata": {}
        }
      ],
      "source": [
        "print('Информация о договоре')\n",
        "df_review(df_contract)"
      ]
    },
    {
      "cell_type": "code",
      "execution_count": null,
      "metadata": {
        "colab": {
          "base_uri": "https://localhost:8080/",
          "height": 757
        },
        "id": "h1XMUmrBk0RT",
        "outputId": "ea693983-dca3-4383-8097-9797391db823"
      },
      "outputs": [
        {
          "output_type": "stream",
          "name": "stdout",
          "text": [
            "Персональные данные клиента\n",
            "<class 'pandas.core.frame.DataFrame'>\n",
            "Index: 7043 entries, 7590-VHVEG to 3186-AJIEK\n",
            "Data columns (total 4 columns):\n",
            " #   Column         Non-Null Count  Dtype \n",
            "---  ------         --------------  ----- \n",
            " 0   gender         7043 non-null   object\n",
            " 1   SeniorCitizen  7043 non-null   int64 \n",
            " 2   Partner        7043 non-null   object\n",
            " 3   Dependents     7043 non-null   object\n",
            "dtypes: int64(1), object(3)\n",
            "memory usage: 275.1+ KB\n"
          ]
        },
        {
          "output_type": "display_data",
          "data": {
            "text/plain": [
              "None"
            ]
          },
          "metadata": {}
        },
        {
          "output_type": "display_data",
          "data": {
            "text/plain": [
              "            gender  SeniorCitizen Partner Dependents\n",
              "customerID                                          \n",
              "7590-VHVEG  Female              0     Yes         No\n",
              "5575-GNVDE    Male              0      No         No\n",
              "3668-QPYBK    Male              0      No         No\n",
              "7795-CFOCW    Male              0      No         No\n",
              "9237-HQITU  Female              0      No         No"
            ],
            "text/html": [
              "\n",
              "  <div id=\"df-e67cb539-2409-4f06-8da9-100073bf0842\">\n",
              "    <div class=\"colab-df-container\">\n",
              "      <div>\n",
              "<style scoped>\n",
              "    .dataframe tbody tr th:only-of-type {\n",
              "        vertical-align: middle;\n",
              "    }\n",
              "\n",
              "    .dataframe tbody tr th {\n",
              "        vertical-align: top;\n",
              "    }\n",
              "\n",
              "    .dataframe thead th {\n",
              "        text-align: right;\n",
              "    }\n",
              "</style>\n",
              "<table border=\"1\" class=\"dataframe\">\n",
              "  <thead>\n",
              "    <tr style=\"text-align: right;\">\n",
              "      <th></th>\n",
              "      <th>gender</th>\n",
              "      <th>SeniorCitizen</th>\n",
              "      <th>Partner</th>\n",
              "      <th>Dependents</th>\n",
              "    </tr>\n",
              "    <tr>\n",
              "      <th>customerID</th>\n",
              "      <th></th>\n",
              "      <th></th>\n",
              "      <th></th>\n",
              "      <th></th>\n",
              "    </tr>\n",
              "  </thead>\n",
              "  <tbody>\n",
              "    <tr>\n",
              "      <th>7590-VHVEG</th>\n",
              "      <td>Female</td>\n",
              "      <td>0</td>\n",
              "      <td>Yes</td>\n",
              "      <td>No</td>\n",
              "    </tr>\n",
              "    <tr>\n",
              "      <th>5575-GNVDE</th>\n",
              "      <td>Male</td>\n",
              "      <td>0</td>\n",
              "      <td>No</td>\n",
              "      <td>No</td>\n",
              "    </tr>\n",
              "    <tr>\n",
              "      <th>3668-QPYBK</th>\n",
              "      <td>Male</td>\n",
              "      <td>0</td>\n",
              "      <td>No</td>\n",
              "      <td>No</td>\n",
              "    </tr>\n",
              "    <tr>\n",
              "      <th>7795-CFOCW</th>\n",
              "      <td>Male</td>\n",
              "      <td>0</td>\n",
              "      <td>No</td>\n",
              "      <td>No</td>\n",
              "    </tr>\n",
              "    <tr>\n",
              "      <th>9237-HQITU</th>\n",
              "      <td>Female</td>\n",
              "      <td>0</td>\n",
              "      <td>No</td>\n",
              "      <td>No</td>\n",
              "    </tr>\n",
              "  </tbody>\n",
              "</table>\n",
              "</div>\n",
              "      <button class=\"colab-df-convert\" onclick=\"convertToInteractive('df-e67cb539-2409-4f06-8da9-100073bf0842')\"\n",
              "              title=\"Convert this dataframe to an interactive table.\"\n",
              "              style=\"display:none;\">\n",
              "        \n",
              "  <svg xmlns=\"http://www.w3.org/2000/svg\" height=\"24px\"viewBox=\"0 0 24 24\"\n",
              "       width=\"24px\">\n",
              "    <path d=\"M0 0h24v24H0V0z\" fill=\"none\"/>\n",
              "    <path d=\"M18.56 5.44l.94 2.06.94-2.06 2.06-.94-2.06-.94-.94-2.06-.94 2.06-2.06.94zm-11 1L8.5 8.5l.94-2.06 2.06-.94-2.06-.94L8.5 2.5l-.94 2.06-2.06.94zm10 10l.94 2.06.94-2.06 2.06-.94-2.06-.94-.94-2.06-.94 2.06-2.06.94z\"/><path d=\"M17.41 7.96l-1.37-1.37c-.4-.4-.92-.59-1.43-.59-.52 0-1.04.2-1.43.59L10.3 9.45l-7.72 7.72c-.78.78-.78 2.05 0 2.83L4 21.41c.39.39.9.59 1.41.59.51 0 1.02-.2 1.41-.59l7.78-7.78 2.81-2.81c.8-.78.8-2.07 0-2.86zM5.41 20L4 18.59l7.72-7.72 1.47 1.35L5.41 20z\"/>\n",
              "  </svg>\n",
              "      </button>\n",
              "      \n",
              "  <style>\n",
              "    .colab-df-container {\n",
              "      display:flex;\n",
              "      flex-wrap:wrap;\n",
              "      gap: 12px;\n",
              "    }\n",
              "\n",
              "    .colab-df-convert {\n",
              "      background-color: #E8F0FE;\n",
              "      border: none;\n",
              "      border-radius: 50%;\n",
              "      cursor: pointer;\n",
              "      display: none;\n",
              "      fill: #1967D2;\n",
              "      height: 32px;\n",
              "      padding: 0 0 0 0;\n",
              "      width: 32px;\n",
              "    }\n",
              "\n",
              "    .colab-df-convert:hover {\n",
              "      background-color: #E2EBFA;\n",
              "      box-shadow: 0px 1px 2px rgba(60, 64, 67, 0.3), 0px 1px 3px 1px rgba(60, 64, 67, 0.15);\n",
              "      fill: #174EA6;\n",
              "    }\n",
              "\n",
              "    [theme=dark] .colab-df-convert {\n",
              "      background-color: #3B4455;\n",
              "      fill: #D2E3FC;\n",
              "    }\n",
              "\n",
              "    [theme=dark] .colab-df-convert:hover {\n",
              "      background-color: #434B5C;\n",
              "      box-shadow: 0px 1px 3px 1px rgba(0, 0, 0, 0.15);\n",
              "      filter: drop-shadow(0px 1px 2px rgba(0, 0, 0, 0.3));\n",
              "      fill: #FFFFFF;\n",
              "    }\n",
              "  </style>\n",
              "\n",
              "      <script>\n",
              "        const buttonEl =\n",
              "          document.querySelector('#df-e67cb539-2409-4f06-8da9-100073bf0842 button.colab-df-convert');\n",
              "        buttonEl.style.display =\n",
              "          google.colab.kernel.accessAllowed ? 'block' : 'none';\n",
              "\n",
              "        async function convertToInteractive(key) {\n",
              "          const element = document.querySelector('#df-e67cb539-2409-4f06-8da9-100073bf0842');\n",
              "          const dataTable =\n",
              "            await google.colab.kernel.invokeFunction('convertToInteractive',\n",
              "                                                     [key], {});\n",
              "          if (!dataTable) return;\n",
              "\n",
              "          const docLinkHtml = 'Like what you see? Visit the ' +\n",
              "            '<a target=\"_blank\" href=https://colab.research.google.com/notebooks/data_table.ipynb>data table notebook</a>'\n",
              "            + ' to learn more about interactive tables.';\n",
              "          element.innerHTML = '';\n",
              "          dataTable['output_type'] = 'display_data';\n",
              "          await google.colab.output.renderOutput(dataTable, element);\n",
              "          const docLink = document.createElement('div');\n",
              "          docLink.innerHTML = docLinkHtml;\n",
              "          element.appendChild(docLink);\n",
              "        }\n",
              "      </script>\n",
              "    </div>\n",
              "  </div>\n",
              "  "
            ]
          },
          "metadata": {}
        },
        {
          "output_type": "display_data",
          "data": {
            "text/plain": [
              "       SeniorCitizen\n",
              "count    7043.000000\n",
              "mean        0.162147\n",
              "std         0.368612\n",
              "min         0.000000\n",
              "25%         0.000000\n",
              "50%         0.000000\n",
              "75%         0.000000\n",
              "max         1.000000"
            ],
            "text/html": [
              "\n",
              "  <div id=\"df-a3058587-1456-4d7f-96de-eb1de5fb5a4f\">\n",
              "    <div class=\"colab-df-container\">\n",
              "      <div>\n",
              "<style scoped>\n",
              "    .dataframe tbody tr th:only-of-type {\n",
              "        vertical-align: middle;\n",
              "    }\n",
              "\n",
              "    .dataframe tbody tr th {\n",
              "        vertical-align: top;\n",
              "    }\n",
              "\n",
              "    .dataframe thead th {\n",
              "        text-align: right;\n",
              "    }\n",
              "</style>\n",
              "<table border=\"1\" class=\"dataframe\">\n",
              "  <thead>\n",
              "    <tr style=\"text-align: right;\">\n",
              "      <th></th>\n",
              "      <th>SeniorCitizen</th>\n",
              "    </tr>\n",
              "  </thead>\n",
              "  <tbody>\n",
              "    <tr>\n",
              "      <th>count</th>\n",
              "      <td>7043.000000</td>\n",
              "    </tr>\n",
              "    <tr>\n",
              "      <th>mean</th>\n",
              "      <td>0.162147</td>\n",
              "    </tr>\n",
              "    <tr>\n",
              "      <th>std</th>\n",
              "      <td>0.368612</td>\n",
              "    </tr>\n",
              "    <tr>\n",
              "      <th>min</th>\n",
              "      <td>0.000000</td>\n",
              "    </tr>\n",
              "    <tr>\n",
              "      <th>25%</th>\n",
              "      <td>0.000000</td>\n",
              "    </tr>\n",
              "    <tr>\n",
              "      <th>50%</th>\n",
              "      <td>0.000000</td>\n",
              "    </tr>\n",
              "    <tr>\n",
              "      <th>75%</th>\n",
              "      <td>0.000000</td>\n",
              "    </tr>\n",
              "    <tr>\n",
              "      <th>max</th>\n",
              "      <td>1.000000</td>\n",
              "    </tr>\n",
              "  </tbody>\n",
              "</table>\n",
              "</div>\n",
              "      <button class=\"colab-df-convert\" onclick=\"convertToInteractive('df-a3058587-1456-4d7f-96de-eb1de5fb5a4f')\"\n",
              "              title=\"Convert this dataframe to an interactive table.\"\n",
              "              style=\"display:none;\">\n",
              "        \n",
              "  <svg xmlns=\"http://www.w3.org/2000/svg\" height=\"24px\"viewBox=\"0 0 24 24\"\n",
              "       width=\"24px\">\n",
              "    <path d=\"M0 0h24v24H0V0z\" fill=\"none\"/>\n",
              "    <path d=\"M18.56 5.44l.94 2.06.94-2.06 2.06-.94-2.06-.94-.94-2.06-.94 2.06-2.06.94zm-11 1L8.5 8.5l.94-2.06 2.06-.94-2.06-.94L8.5 2.5l-.94 2.06-2.06.94zm10 10l.94 2.06.94-2.06 2.06-.94-2.06-.94-.94-2.06-.94 2.06-2.06.94z\"/><path d=\"M17.41 7.96l-1.37-1.37c-.4-.4-.92-.59-1.43-.59-.52 0-1.04.2-1.43.59L10.3 9.45l-7.72 7.72c-.78.78-.78 2.05 0 2.83L4 21.41c.39.39.9.59 1.41.59.51 0 1.02-.2 1.41-.59l7.78-7.78 2.81-2.81c.8-.78.8-2.07 0-2.86zM5.41 20L4 18.59l7.72-7.72 1.47 1.35L5.41 20z\"/>\n",
              "  </svg>\n",
              "      </button>\n",
              "      \n",
              "  <style>\n",
              "    .colab-df-container {\n",
              "      display:flex;\n",
              "      flex-wrap:wrap;\n",
              "      gap: 12px;\n",
              "    }\n",
              "\n",
              "    .colab-df-convert {\n",
              "      background-color: #E8F0FE;\n",
              "      border: none;\n",
              "      border-radius: 50%;\n",
              "      cursor: pointer;\n",
              "      display: none;\n",
              "      fill: #1967D2;\n",
              "      height: 32px;\n",
              "      padding: 0 0 0 0;\n",
              "      width: 32px;\n",
              "    }\n",
              "\n",
              "    .colab-df-convert:hover {\n",
              "      background-color: #E2EBFA;\n",
              "      box-shadow: 0px 1px 2px rgba(60, 64, 67, 0.3), 0px 1px 3px 1px rgba(60, 64, 67, 0.15);\n",
              "      fill: #174EA6;\n",
              "    }\n",
              "\n",
              "    [theme=dark] .colab-df-convert {\n",
              "      background-color: #3B4455;\n",
              "      fill: #D2E3FC;\n",
              "    }\n",
              "\n",
              "    [theme=dark] .colab-df-convert:hover {\n",
              "      background-color: #434B5C;\n",
              "      box-shadow: 0px 1px 3px 1px rgba(0, 0, 0, 0.15);\n",
              "      filter: drop-shadow(0px 1px 2px rgba(0, 0, 0, 0.3));\n",
              "      fill: #FFFFFF;\n",
              "    }\n",
              "  </style>\n",
              "\n",
              "      <script>\n",
              "        const buttonEl =\n",
              "          document.querySelector('#df-a3058587-1456-4d7f-96de-eb1de5fb5a4f button.colab-df-convert');\n",
              "        buttonEl.style.display =\n",
              "          google.colab.kernel.accessAllowed ? 'block' : 'none';\n",
              "\n",
              "        async function convertToInteractive(key) {\n",
              "          const element = document.querySelector('#df-a3058587-1456-4d7f-96de-eb1de5fb5a4f');\n",
              "          const dataTable =\n",
              "            await google.colab.kernel.invokeFunction('convertToInteractive',\n",
              "                                                     [key], {});\n",
              "          if (!dataTable) return;\n",
              "\n",
              "          const docLinkHtml = 'Like what you see? Visit the ' +\n",
              "            '<a target=\"_blank\" href=https://colab.research.google.com/notebooks/data_table.ipynb>data table notebook</a>'\n",
              "            + ' to learn more about interactive tables.';\n",
              "          element.innerHTML = '';\n",
              "          dataTable['output_type'] = 'display_data';\n",
              "          await google.colab.output.renderOutput(dataTable, element);\n",
              "          const docLink = document.createElement('div');\n",
              "          docLink.innerHTML = docLinkHtml;\n",
              "          element.appendChild(docLink);\n",
              "        }\n",
              "      </script>\n",
              "    </div>\n",
              "  </div>\n",
              "  "
            ]
          },
          "metadata": {}
        }
      ],
      "source": [
        "print('Персональные данные клиента')\n",
        "df_review(df_personal)"
      ]
    },
    {
      "cell_type": "code",
      "execution_count": null,
      "metadata": {
        "colab": {
          "base_uri": "https://localhost:8080/",
          "height": 687
        },
        "id": "2lCPC0awkz1b",
        "outputId": "fdeb6dba-8f65-4d8a-c165-e4e0c3ec728f"
      },
      "outputs": [
        {
          "output_type": "stream",
          "name": "stdout",
          "text": [
            "Информация об интернет-услугах\n",
            "<class 'pandas.core.frame.DataFrame'>\n",
            "Index: 5517 entries, 7590-VHVEG to 3186-AJIEK\n",
            "Data columns (total 7 columns):\n",
            " #   Column            Non-Null Count  Dtype \n",
            "---  ------            --------------  ----- \n",
            " 0   InternetService   5517 non-null   object\n",
            " 1   OnlineSecurity    5517 non-null   object\n",
            " 2   OnlineBackup      5517 non-null   object\n",
            " 3   DeviceProtection  5517 non-null   object\n",
            " 4   TechSupport       5517 non-null   object\n",
            " 5   StreamingTV       5517 non-null   object\n",
            " 6   StreamingMovies   5517 non-null   object\n",
            "dtypes: object(7)\n",
            "memory usage: 344.8+ KB\n"
          ]
        },
        {
          "output_type": "display_data",
          "data": {
            "text/plain": [
              "None"
            ]
          },
          "metadata": {}
        },
        {
          "output_type": "display_data",
          "data": {
            "text/plain": [
              "           InternetService OnlineSecurity OnlineBackup DeviceProtection  \\\n",
              "customerID                                                                \n",
              "7590-VHVEG             DSL             No          Yes               No   \n",
              "5575-GNVDE             DSL            Yes           No              Yes   \n",
              "3668-QPYBK             DSL            Yes          Yes               No   \n",
              "7795-CFOCW             DSL            Yes           No              Yes   \n",
              "9237-HQITU     Fiber optic             No           No               No   \n",
              "\n",
              "           TechSupport StreamingTV StreamingMovies  \n",
              "customerID                                          \n",
              "7590-VHVEG          No          No              No  \n",
              "5575-GNVDE          No          No              No  \n",
              "3668-QPYBK          No          No              No  \n",
              "7795-CFOCW         Yes          No              No  \n",
              "9237-HQITU          No          No              No  "
            ],
            "text/html": [
              "\n",
              "  <div id=\"df-6d873f6e-f741-433e-a5f7-c3ab214f8892\">\n",
              "    <div class=\"colab-df-container\">\n",
              "      <div>\n",
              "<style scoped>\n",
              "    .dataframe tbody tr th:only-of-type {\n",
              "        vertical-align: middle;\n",
              "    }\n",
              "\n",
              "    .dataframe tbody tr th {\n",
              "        vertical-align: top;\n",
              "    }\n",
              "\n",
              "    .dataframe thead th {\n",
              "        text-align: right;\n",
              "    }\n",
              "</style>\n",
              "<table border=\"1\" class=\"dataframe\">\n",
              "  <thead>\n",
              "    <tr style=\"text-align: right;\">\n",
              "      <th></th>\n",
              "      <th>InternetService</th>\n",
              "      <th>OnlineSecurity</th>\n",
              "      <th>OnlineBackup</th>\n",
              "      <th>DeviceProtection</th>\n",
              "      <th>TechSupport</th>\n",
              "      <th>StreamingTV</th>\n",
              "      <th>StreamingMovies</th>\n",
              "    </tr>\n",
              "    <tr>\n",
              "      <th>customerID</th>\n",
              "      <th></th>\n",
              "      <th></th>\n",
              "      <th></th>\n",
              "      <th></th>\n",
              "      <th></th>\n",
              "      <th></th>\n",
              "      <th></th>\n",
              "    </tr>\n",
              "  </thead>\n",
              "  <tbody>\n",
              "    <tr>\n",
              "      <th>7590-VHVEG</th>\n",
              "      <td>DSL</td>\n",
              "      <td>No</td>\n",
              "      <td>Yes</td>\n",
              "      <td>No</td>\n",
              "      <td>No</td>\n",
              "      <td>No</td>\n",
              "      <td>No</td>\n",
              "    </tr>\n",
              "    <tr>\n",
              "      <th>5575-GNVDE</th>\n",
              "      <td>DSL</td>\n",
              "      <td>Yes</td>\n",
              "      <td>No</td>\n",
              "      <td>Yes</td>\n",
              "      <td>No</td>\n",
              "      <td>No</td>\n",
              "      <td>No</td>\n",
              "    </tr>\n",
              "    <tr>\n",
              "      <th>3668-QPYBK</th>\n",
              "      <td>DSL</td>\n",
              "      <td>Yes</td>\n",
              "      <td>Yes</td>\n",
              "      <td>No</td>\n",
              "      <td>No</td>\n",
              "      <td>No</td>\n",
              "      <td>No</td>\n",
              "    </tr>\n",
              "    <tr>\n",
              "      <th>7795-CFOCW</th>\n",
              "      <td>DSL</td>\n",
              "      <td>Yes</td>\n",
              "      <td>No</td>\n",
              "      <td>Yes</td>\n",
              "      <td>Yes</td>\n",
              "      <td>No</td>\n",
              "      <td>No</td>\n",
              "    </tr>\n",
              "    <tr>\n",
              "      <th>9237-HQITU</th>\n",
              "      <td>Fiber optic</td>\n",
              "      <td>No</td>\n",
              "      <td>No</td>\n",
              "      <td>No</td>\n",
              "      <td>No</td>\n",
              "      <td>No</td>\n",
              "      <td>No</td>\n",
              "    </tr>\n",
              "  </tbody>\n",
              "</table>\n",
              "</div>\n",
              "      <button class=\"colab-df-convert\" onclick=\"convertToInteractive('df-6d873f6e-f741-433e-a5f7-c3ab214f8892')\"\n",
              "              title=\"Convert this dataframe to an interactive table.\"\n",
              "              style=\"display:none;\">\n",
              "        \n",
              "  <svg xmlns=\"http://www.w3.org/2000/svg\" height=\"24px\"viewBox=\"0 0 24 24\"\n",
              "       width=\"24px\">\n",
              "    <path d=\"M0 0h24v24H0V0z\" fill=\"none\"/>\n",
              "    <path d=\"M18.56 5.44l.94 2.06.94-2.06 2.06-.94-2.06-.94-.94-2.06-.94 2.06-2.06.94zm-11 1L8.5 8.5l.94-2.06 2.06-.94-2.06-.94L8.5 2.5l-.94 2.06-2.06.94zm10 10l.94 2.06.94-2.06 2.06-.94-2.06-.94-.94-2.06-.94 2.06-2.06.94z\"/><path d=\"M17.41 7.96l-1.37-1.37c-.4-.4-.92-.59-1.43-.59-.52 0-1.04.2-1.43.59L10.3 9.45l-7.72 7.72c-.78.78-.78 2.05 0 2.83L4 21.41c.39.39.9.59 1.41.59.51 0 1.02-.2 1.41-.59l7.78-7.78 2.81-2.81c.8-.78.8-2.07 0-2.86zM5.41 20L4 18.59l7.72-7.72 1.47 1.35L5.41 20z\"/>\n",
              "  </svg>\n",
              "      </button>\n",
              "      \n",
              "  <style>\n",
              "    .colab-df-container {\n",
              "      display:flex;\n",
              "      flex-wrap:wrap;\n",
              "      gap: 12px;\n",
              "    }\n",
              "\n",
              "    .colab-df-convert {\n",
              "      background-color: #E8F0FE;\n",
              "      border: none;\n",
              "      border-radius: 50%;\n",
              "      cursor: pointer;\n",
              "      display: none;\n",
              "      fill: #1967D2;\n",
              "      height: 32px;\n",
              "      padding: 0 0 0 0;\n",
              "      width: 32px;\n",
              "    }\n",
              "\n",
              "    .colab-df-convert:hover {\n",
              "      background-color: #E2EBFA;\n",
              "      box-shadow: 0px 1px 2px rgba(60, 64, 67, 0.3), 0px 1px 3px 1px rgba(60, 64, 67, 0.15);\n",
              "      fill: #174EA6;\n",
              "    }\n",
              "\n",
              "    [theme=dark] .colab-df-convert {\n",
              "      background-color: #3B4455;\n",
              "      fill: #D2E3FC;\n",
              "    }\n",
              "\n",
              "    [theme=dark] .colab-df-convert:hover {\n",
              "      background-color: #434B5C;\n",
              "      box-shadow: 0px 1px 3px 1px rgba(0, 0, 0, 0.15);\n",
              "      filter: drop-shadow(0px 1px 2px rgba(0, 0, 0, 0.3));\n",
              "      fill: #FFFFFF;\n",
              "    }\n",
              "  </style>\n",
              "\n",
              "      <script>\n",
              "        const buttonEl =\n",
              "          document.querySelector('#df-6d873f6e-f741-433e-a5f7-c3ab214f8892 button.colab-df-convert');\n",
              "        buttonEl.style.display =\n",
              "          google.colab.kernel.accessAllowed ? 'block' : 'none';\n",
              "\n",
              "        async function convertToInteractive(key) {\n",
              "          const element = document.querySelector('#df-6d873f6e-f741-433e-a5f7-c3ab214f8892');\n",
              "          const dataTable =\n",
              "            await google.colab.kernel.invokeFunction('convertToInteractive',\n",
              "                                                     [key], {});\n",
              "          if (!dataTable) return;\n",
              "\n",
              "          const docLinkHtml = 'Like what you see? Visit the ' +\n",
              "            '<a target=\"_blank\" href=https://colab.research.google.com/notebooks/data_table.ipynb>data table notebook</a>'\n",
              "            + ' to learn more about interactive tables.';\n",
              "          element.innerHTML = '';\n",
              "          dataTable['output_type'] = 'display_data';\n",
              "          await google.colab.output.renderOutput(dataTable, element);\n",
              "          const docLink = document.createElement('div');\n",
              "          docLink.innerHTML = docLinkHtml;\n",
              "          element.appendChild(docLink);\n",
              "        }\n",
              "      </script>\n",
              "    </div>\n",
              "  </div>\n",
              "  "
            ]
          },
          "metadata": {}
        },
        {
          "output_type": "display_data",
          "data": {
            "text/plain": [
              "       InternetService OnlineSecurity OnlineBackup DeviceProtection  \\\n",
              "count             5517           5517         5517             5517   \n",
              "unique               2              2            2                2   \n",
              "top        Fiber optic             No           No               No   \n",
              "freq              3096           3498         3088             3095   \n",
              "\n",
              "       TechSupport StreamingTV StreamingMovies  \n",
              "count         5517        5517            5517  \n",
              "unique           2           2               2  \n",
              "top             No          No              No  \n",
              "freq          3473        2810            2785  "
            ],
            "text/html": [
              "\n",
              "  <div id=\"df-d6bdbe43-feb1-4d17-ad47-b689706e4c95\">\n",
              "    <div class=\"colab-df-container\">\n",
              "      <div>\n",
              "<style scoped>\n",
              "    .dataframe tbody tr th:only-of-type {\n",
              "        vertical-align: middle;\n",
              "    }\n",
              "\n",
              "    .dataframe tbody tr th {\n",
              "        vertical-align: top;\n",
              "    }\n",
              "\n",
              "    .dataframe thead th {\n",
              "        text-align: right;\n",
              "    }\n",
              "</style>\n",
              "<table border=\"1\" class=\"dataframe\">\n",
              "  <thead>\n",
              "    <tr style=\"text-align: right;\">\n",
              "      <th></th>\n",
              "      <th>InternetService</th>\n",
              "      <th>OnlineSecurity</th>\n",
              "      <th>OnlineBackup</th>\n",
              "      <th>DeviceProtection</th>\n",
              "      <th>TechSupport</th>\n",
              "      <th>StreamingTV</th>\n",
              "      <th>StreamingMovies</th>\n",
              "    </tr>\n",
              "  </thead>\n",
              "  <tbody>\n",
              "    <tr>\n",
              "      <th>count</th>\n",
              "      <td>5517</td>\n",
              "      <td>5517</td>\n",
              "      <td>5517</td>\n",
              "      <td>5517</td>\n",
              "      <td>5517</td>\n",
              "      <td>5517</td>\n",
              "      <td>5517</td>\n",
              "    </tr>\n",
              "    <tr>\n",
              "      <th>unique</th>\n",
              "      <td>2</td>\n",
              "      <td>2</td>\n",
              "      <td>2</td>\n",
              "      <td>2</td>\n",
              "      <td>2</td>\n",
              "      <td>2</td>\n",
              "      <td>2</td>\n",
              "    </tr>\n",
              "    <tr>\n",
              "      <th>top</th>\n",
              "      <td>Fiber optic</td>\n",
              "      <td>No</td>\n",
              "      <td>No</td>\n",
              "      <td>No</td>\n",
              "      <td>No</td>\n",
              "      <td>No</td>\n",
              "      <td>No</td>\n",
              "    </tr>\n",
              "    <tr>\n",
              "      <th>freq</th>\n",
              "      <td>3096</td>\n",
              "      <td>3498</td>\n",
              "      <td>3088</td>\n",
              "      <td>3095</td>\n",
              "      <td>3473</td>\n",
              "      <td>2810</td>\n",
              "      <td>2785</td>\n",
              "    </tr>\n",
              "  </tbody>\n",
              "</table>\n",
              "</div>\n",
              "      <button class=\"colab-df-convert\" onclick=\"convertToInteractive('df-d6bdbe43-feb1-4d17-ad47-b689706e4c95')\"\n",
              "              title=\"Convert this dataframe to an interactive table.\"\n",
              "              style=\"display:none;\">\n",
              "        \n",
              "  <svg xmlns=\"http://www.w3.org/2000/svg\" height=\"24px\"viewBox=\"0 0 24 24\"\n",
              "       width=\"24px\">\n",
              "    <path d=\"M0 0h24v24H0V0z\" fill=\"none\"/>\n",
              "    <path d=\"M18.56 5.44l.94 2.06.94-2.06 2.06-.94-2.06-.94-.94-2.06-.94 2.06-2.06.94zm-11 1L8.5 8.5l.94-2.06 2.06-.94-2.06-.94L8.5 2.5l-.94 2.06-2.06.94zm10 10l.94 2.06.94-2.06 2.06-.94-2.06-.94-.94-2.06-.94 2.06-2.06.94z\"/><path d=\"M17.41 7.96l-1.37-1.37c-.4-.4-.92-.59-1.43-.59-.52 0-1.04.2-1.43.59L10.3 9.45l-7.72 7.72c-.78.78-.78 2.05 0 2.83L4 21.41c.39.39.9.59 1.41.59.51 0 1.02-.2 1.41-.59l7.78-7.78 2.81-2.81c.8-.78.8-2.07 0-2.86zM5.41 20L4 18.59l7.72-7.72 1.47 1.35L5.41 20z\"/>\n",
              "  </svg>\n",
              "      </button>\n",
              "      \n",
              "  <style>\n",
              "    .colab-df-container {\n",
              "      display:flex;\n",
              "      flex-wrap:wrap;\n",
              "      gap: 12px;\n",
              "    }\n",
              "\n",
              "    .colab-df-convert {\n",
              "      background-color: #E8F0FE;\n",
              "      border: none;\n",
              "      border-radius: 50%;\n",
              "      cursor: pointer;\n",
              "      display: none;\n",
              "      fill: #1967D2;\n",
              "      height: 32px;\n",
              "      padding: 0 0 0 0;\n",
              "      width: 32px;\n",
              "    }\n",
              "\n",
              "    .colab-df-convert:hover {\n",
              "      background-color: #E2EBFA;\n",
              "      box-shadow: 0px 1px 2px rgba(60, 64, 67, 0.3), 0px 1px 3px 1px rgba(60, 64, 67, 0.15);\n",
              "      fill: #174EA6;\n",
              "    }\n",
              "\n",
              "    [theme=dark] .colab-df-convert {\n",
              "      background-color: #3B4455;\n",
              "      fill: #D2E3FC;\n",
              "    }\n",
              "\n",
              "    [theme=dark] .colab-df-convert:hover {\n",
              "      background-color: #434B5C;\n",
              "      box-shadow: 0px 1px 3px 1px rgba(0, 0, 0, 0.15);\n",
              "      filter: drop-shadow(0px 1px 2px rgba(0, 0, 0, 0.3));\n",
              "      fill: #FFFFFF;\n",
              "    }\n",
              "  </style>\n",
              "\n",
              "      <script>\n",
              "        const buttonEl =\n",
              "          document.querySelector('#df-d6bdbe43-feb1-4d17-ad47-b689706e4c95 button.colab-df-convert');\n",
              "        buttonEl.style.display =\n",
              "          google.colab.kernel.accessAllowed ? 'block' : 'none';\n",
              "\n",
              "        async function convertToInteractive(key) {\n",
              "          const element = document.querySelector('#df-d6bdbe43-feb1-4d17-ad47-b689706e4c95');\n",
              "          const dataTable =\n",
              "            await google.colab.kernel.invokeFunction('convertToInteractive',\n",
              "                                                     [key], {});\n",
              "          if (!dataTable) return;\n",
              "\n",
              "          const docLinkHtml = 'Like what you see? Visit the ' +\n",
              "            '<a target=\"_blank\" href=https://colab.research.google.com/notebooks/data_table.ipynb>data table notebook</a>'\n",
              "            + ' to learn more about interactive tables.';\n",
              "          element.innerHTML = '';\n",
              "          dataTable['output_type'] = 'display_data';\n",
              "          await google.colab.output.renderOutput(dataTable, element);\n",
              "          const docLink = document.createElement('div');\n",
              "          docLink.innerHTML = docLinkHtml;\n",
              "          element.appendChild(docLink);\n",
              "        }\n",
              "      </script>\n",
              "    </div>\n",
              "  </div>\n",
              "  "
            ]
          },
          "metadata": {}
        }
      ],
      "source": [
        "print('Информация об интернет-услугах')\n",
        "df_review(df_internet)"
      ]
    },
    {
      "cell_type": "code",
      "execution_count": null,
      "metadata": {
        "colab": {
          "base_uri": "https://localhost:8080/",
          "height": 577
        },
        "id": "NFiYDOPNkzuq",
        "outputId": "4ad149f8-a70f-4228-9e20-6dc9c1842b2c"
      },
      "outputs": [
        {
          "output_type": "stream",
          "name": "stdout",
          "text": [
            "Информация об услугах телефонии\n",
            "<class 'pandas.core.frame.DataFrame'>\n",
            "Index: 6361 entries, 5575-GNVDE to 3186-AJIEK\n",
            "Data columns (total 1 columns):\n",
            " #   Column         Non-Null Count  Dtype \n",
            "---  ------         --------------  ----- \n",
            " 0   MultipleLines  6361 non-null   object\n",
            "dtypes: object(1)\n",
            "memory usage: 99.4+ KB\n"
          ]
        },
        {
          "output_type": "display_data",
          "data": {
            "text/plain": [
              "None"
            ]
          },
          "metadata": {}
        },
        {
          "output_type": "display_data",
          "data": {
            "text/plain": [
              "           MultipleLines\n",
              "customerID              \n",
              "5575-GNVDE            No\n",
              "3668-QPYBK            No\n",
              "9237-HQITU            No\n",
              "9305-CDSKC           Yes\n",
              "1452-KIOVK           Yes"
            ],
            "text/html": [
              "\n",
              "  <div id=\"df-a89dfe70-008d-421a-8bc9-ace02fcd3568\">\n",
              "    <div class=\"colab-df-container\">\n",
              "      <div>\n",
              "<style scoped>\n",
              "    .dataframe tbody tr th:only-of-type {\n",
              "        vertical-align: middle;\n",
              "    }\n",
              "\n",
              "    .dataframe tbody tr th {\n",
              "        vertical-align: top;\n",
              "    }\n",
              "\n",
              "    .dataframe thead th {\n",
              "        text-align: right;\n",
              "    }\n",
              "</style>\n",
              "<table border=\"1\" class=\"dataframe\">\n",
              "  <thead>\n",
              "    <tr style=\"text-align: right;\">\n",
              "      <th></th>\n",
              "      <th>MultipleLines</th>\n",
              "    </tr>\n",
              "    <tr>\n",
              "      <th>customerID</th>\n",
              "      <th></th>\n",
              "    </tr>\n",
              "  </thead>\n",
              "  <tbody>\n",
              "    <tr>\n",
              "      <th>5575-GNVDE</th>\n",
              "      <td>No</td>\n",
              "    </tr>\n",
              "    <tr>\n",
              "      <th>3668-QPYBK</th>\n",
              "      <td>No</td>\n",
              "    </tr>\n",
              "    <tr>\n",
              "      <th>9237-HQITU</th>\n",
              "      <td>No</td>\n",
              "    </tr>\n",
              "    <tr>\n",
              "      <th>9305-CDSKC</th>\n",
              "      <td>Yes</td>\n",
              "    </tr>\n",
              "    <tr>\n",
              "      <th>1452-KIOVK</th>\n",
              "      <td>Yes</td>\n",
              "    </tr>\n",
              "  </tbody>\n",
              "</table>\n",
              "</div>\n",
              "      <button class=\"colab-df-convert\" onclick=\"convertToInteractive('df-a89dfe70-008d-421a-8bc9-ace02fcd3568')\"\n",
              "              title=\"Convert this dataframe to an interactive table.\"\n",
              "              style=\"display:none;\">\n",
              "        \n",
              "  <svg xmlns=\"http://www.w3.org/2000/svg\" height=\"24px\"viewBox=\"0 0 24 24\"\n",
              "       width=\"24px\">\n",
              "    <path d=\"M0 0h24v24H0V0z\" fill=\"none\"/>\n",
              "    <path d=\"M18.56 5.44l.94 2.06.94-2.06 2.06-.94-2.06-.94-.94-2.06-.94 2.06-2.06.94zm-11 1L8.5 8.5l.94-2.06 2.06-.94-2.06-.94L8.5 2.5l-.94 2.06-2.06.94zm10 10l.94 2.06.94-2.06 2.06-.94-2.06-.94-.94-2.06-.94 2.06-2.06.94z\"/><path d=\"M17.41 7.96l-1.37-1.37c-.4-.4-.92-.59-1.43-.59-.52 0-1.04.2-1.43.59L10.3 9.45l-7.72 7.72c-.78.78-.78 2.05 0 2.83L4 21.41c.39.39.9.59 1.41.59.51 0 1.02-.2 1.41-.59l7.78-7.78 2.81-2.81c.8-.78.8-2.07 0-2.86zM5.41 20L4 18.59l7.72-7.72 1.47 1.35L5.41 20z\"/>\n",
              "  </svg>\n",
              "      </button>\n",
              "      \n",
              "  <style>\n",
              "    .colab-df-container {\n",
              "      display:flex;\n",
              "      flex-wrap:wrap;\n",
              "      gap: 12px;\n",
              "    }\n",
              "\n",
              "    .colab-df-convert {\n",
              "      background-color: #E8F0FE;\n",
              "      border: none;\n",
              "      border-radius: 50%;\n",
              "      cursor: pointer;\n",
              "      display: none;\n",
              "      fill: #1967D2;\n",
              "      height: 32px;\n",
              "      padding: 0 0 0 0;\n",
              "      width: 32px;\n",
              "    }\n",
              "\n",
              "    .colab-df-convert:hover {\n",
              "      background-color: #E2EBFA;\n",
              "      box-shadow: 0px 1px 2px rgba(60, 64, 67, 0.3), 0px 1px 3px 1px rgba(60, 64, 67, 0.15);\n",
              "      fill: #174EA6;\n",
              "    }\n",
              "\n",
              "    [theme=dark] .colab-df-convert {\n",
              "      background-color: #3B4455;\n",
              "      fill: #D2E3FC;\n",
              "    }\n",
              "\n",
              "    [theme=dark] .colab-df-convert:hover {\n",
              "      background-color: #434B5C;\n",
              "      box-shadow: 0px 1px 3px 1px rgba(0, 0, 0, 0.15);\n",
              "      filter: drop-shadow(0px 1px 2px rgba(0, 0, 0, 0.3));\n",
              "      fill: #FFFFFF;\n",
              "    }\n",
              "  </style>\n",
              "\n",
              "      <script>\n",
              "        const buttonEl =\n",
              "          document.querySelector('#df-a89dfe70-008d-421a-8bc9-ace02fcd3568 button.colab-df-convert');\n",
              "        buttonEl.style.display =\n",
              "          google.colab.kernel.accessAllowed ? 'block' : 'none';\n",
              "\n",
              "        async function convertToInteractive(key) {\n",
              "          const element = document.querySelector('#df-a89dfe70-008d-421a-8bc9-ace02fcd3568');\n",
              "          const dataTable =\n",
              "            await google.colab.kernel.invokeFunction('convertToInteractive',\n",
              "                                                     [key], {});\n",
              "          if (!dataTable) return;\n",
              "\n",
              "          const docLinkHtml = 'Like what you see? Visit the ' +\n",
              "            '<a target=\"_blank\" href=https://colab.research.google.com/notebooks/data_table.ipynb>data table notebook</a>'\n",
              "            + ' to learn more about interactive tables.';\n",
              "          element.innerHTML = '';\n",
              "          dataTable['output_type'] = 'display_data';\n",
              "          await google.colab.output.renderOutput(dataTable, element);\n",
              "          const docLink = document.createElement('div');\n",
              "          docLink.innerHTML = docLinkHtml;\n",
              "          element.appendChild(docLink);\n",
              "        }\n",
              "      </script>\n",
              "    </div>\n",
              "  </div>\n",
              "  "
            ]
          },
          "metadata": {}
        },
        {
          "output_type": "display_data",
          "data": {
            "text/plain": [
              "       MultipleLines\n",
              "count           6361\n",
              "unique             2\n",
              "top               No\n",
              "freq            3390"
            ],
            "text/html": [
              "\n",
              "  <div id=\"df-b88cf9e8-bb9d-4400-96c6-c10e8044ea5e\">\n",
              "    <div class=\"colab-df-container\">\n",
              "      <div>\n",
              "<style scoped>\n",
              "    .dataframe tbody tr th:only-of-type {\n",
              "        vertical-align: middle;\n",
              "    }\n",
              "\n",
              "    .dataframe tbody tr th {\n",
              "        vertical-align: top;\n",
              "    }\n",
              "\n",
              "    .dataframe thead th {\n",
              "        text-align: right;\n",
              "    }\n",
              "</style>\n",
              "<table border=\"1\" class=\"dataframe\">\n",
              "  <thead>\n",
              "    <tr style=\"text-align: right;\">\n",
              "      <th></th>\n",
              "      <th>MultipleLines</th>\n",
              "    </tr>\n",
              "  </thead>\n",
              "  <tbody>\n",
              "    <tr>\n",
              "      <th>count</th>\n",
              "      <td>6361</td>\n",
              "    </tr>\n",
              "    <tr>\n",
              "      <th>unique</th>\n",
              "      <td>2</td>\n",
              "    </tr>\n",
              "    <tr>\n",
              "      <th>top</th>\n",
              "      <td>No</td>\n",
              "    </tr>\n",
              "    <tr>\n",
              "      <th>freq</th>\n",
              "      <td>3390</td>\n",
              "    </tr>\n",
              "  </tbody>\n",
              "</table>\n",
              "</div>\n",
              "      <button class=\"colab-df-convert\" onclick=\"convertToInteractive('df-b88cf9e8-bb9d-4400-96c6-c10e8044ea5e')\"\n",
              "              title=\"Convert this dataframe to an interactive table.\"\n",
              "              style=\"display:none;\">\n",
              "        \n",
              "  <svg xmlns=\"http://www.w3.org/2000/svg\" height=\"24px\"viewBox=\"0 0 24 24\"\n",
              "       width=\"24px\">\n",
              "    <path d=\"M0 0h24v24H0V0z\" fill=\"none\"/>\n",
              "    <path d=\"M18.56 5.44l.94 2.06.94-2.06 2.06-.94-2.06-.94-.94-2.06-.94 2.06-2.06.94zm-11 1L8.5 8.5l.94-2.06 2.06-.94-2.06-.94L8.5 2.5l-.94 2.06-2.06.94zm10 10l.94 2.06.94-2.06 2.06-.94-2.06-.94-.94-2.06-.94 2.06-2.06.94z\"/><path d=\"M17.41 7.96l-1.37-1.37c-.4-.4-.92-.59-1.43-.59-.52 0-1.04.2-1.43.59L10.3 9.45l-7.72 7.72c-.78.78-.78 2.05 0 2.83L4 21.41c.39.39.9.59 1.41.59.51 0 1.02-.2 1.41-.59l7.78-7.78 2.81-2.81c.8-.78.8-2.07 0-2.86zM5.41 20L4 18.59l7.72-7.72 1.47 1.35L5.41 20z\"/>\n",
              "  </svg>\n",
              "      </button>\n",
              "      \n",
              "  <style>\n",
              "    .colab-df-container {\n",
              "      display:flex;\n",
              "      flex-wrap:wrap;\n",
              "      gap: 12px;\n",
              "    }\n",
              "\n",
              "    .colab-df-convert {\n",
              "      background-color: #E8F0FE;\n",
              "      border: none;\n",
              "      border-radius: 50%;\n",
              "      cursor: pointer;\n",
              "      display: none;\n",
              "      fill: #1967D2;\n",
              "      height: 32px;\n",
              "      padding: 0 0 0 0;\n",
              "      width: 32px;\n",
              "    }\n",
              "\n",
              "    .colab-df-convert:hover {\n",
              "      background-color: #E2EBFA;\n",
              "      box-shadow: 0px 1px 2px rgba(60, 64, 67, 0.3), 0px 1px 3px 1px rgba(60, 64, 67, 0.15);\n",
              "      fill: #174EA6;\n",
              "    }\n",
              "\n",
              "    [theme=dark] .colab-df-convert {\n",
              "      background-color: #3B4455;\n",
              "      fill: #D2E3FC;\n",
              "    }\n",
              "\n",
              "    [theme=dark] .colab-df-convert:hover {\n",
              "      background-color: #434B5C;\n",
              "      box-shadow: 0px 1px 3px 1px rgba(0, 0, 0, 0.15);\n",
              "      filter: drop-shadow(0px 1px 2px rgba(0, 0, 0, 0.3));\n",
              "      fill: #FFFFFF;\n",
              "    }\n",
              "  </style>\n",
              "\n",
              "      <script>\n",
              "        const buttonEl =\n",
              "          document.querySelector('#df-b88cf9e8-bb9d-4400-96c6-c10e8044ea5e button.colab-df-convert');\n",
              "        buttonEl.style.display =\n",
              "          google.colab.kernel.accessAllowed ? 'block' : 'none';\n",
              "\n",
              "        async function convertToInteractive(key) {\n",
              "          const element = document.querySelector('#df-b88cf9e8-bb9d-4400-96c6-c10e8044ea5e');\n",
              "          const dataTable =\n",
              "            await google.colab.kernel.invokeFunction('convertToInteractive',\n",
              "                                                     [key], {});\n",
              "          if (!dataTable) return;\n",
              "\n",
              "          const docLinkHtml = 'Like what you see? Visit the ' +\n",
              "            '<a target=\"_blank\" href=https://colab.research.google.com/notebooks/data_table.ipynb>data table notebook</a>'\n",
              "            + ' to learn more about interactive tables.';\n",
              "          element.innerHTML = '';\n",
              "          dataTable['output_type'] = 'display_data';\n",
              "          await google.colab.output.renderOutput(dataTable, element);\n",
              "          const docLink = document.createElement('div');\n",
              "          docLink.innerHTML = docLinkHtml;\n",
              "          element.appendChild(docLink);\n",
              "        }\n",
              "      </script>\n",
              "    </div>\n",
              "  </div>\n",
              "  "
            ]
          },
          "metadata": {}
        }
      ],
      "source": [
        "print('Информация об услугах телефонии')\n",
        "df_review(df_phone)"
      ]
    },
    {
      "cell_type": "markdown",
      "metadata": {
        "id": "0DhAB4K8LuOA"
      },
      "source": [
        "### Первые выводы\n",
        "\n",
        "1. Нам предоставлены данные о более чем 7 000 клиентах оператора связи. При этом услугами телефонии пользуются 6 361 клиент, а услугами интернета - 5 517.  \n",
        "2. Так как количество строк в датасетах разное, мы можем сказать, что в данных присутствуют пропуски. У некоторых признаков указан неверный тип данных. Присутствует нарушение стиля в названии признаков. Из первичного анализа аномальных значений не видно, нам предстоит провести проверку на следующем этапе.\n",
        "3. Предварительно можно сказать, что дата заключения и окончания договора округлена до месяца. Из документации к данным нам известно, что данные были выгружены 1 февраля 2020 года. Более точные временные рамки мы постараемся вычислить на следующих этапах.\n",
        "4. Предварительно мы можем сказать, что целевую переменную для построения нашей модели мы сгенерируем из признака `EndDate` -- дата окончания предоставления пользователю услуг.\n",
        "\n",
        "Далее мы произведем предобработку данных, после чего проанализируем их."
      ]
    },
    {
      "cell_type": "markdown",
      "metadata": {
        "id": "vG9pHUpZt7IZ"
      },
      "source": [
        "## Предобработка данных"
      ]
    },
    {
      "cell_type": "markdown",
      "metadata": {
        "id": "FzIijYu1t5Uw"
      },
      "source": [
        "Из документации к данным нам известно, что во всех датасетах есть общий столбец `customerID`, который содержит код клиента. При чтении данных, мы взяли этот столбец за индекс. Объединим все датафреймы в один общий по индексу."
      ]
    },
    {
      "cell_type": "code",
      "execution_count": null,
      "metadata": {
        "id": "SPRr6yN-th_5"
      },
      "outputs": [],
      "source": [
        "df_full = pd.concat(\n",
        "    [df_contract, df_personal, df_internet, df_phone], \n",
        "    axis=1, join='outer').reset_index()"
      ]
    },
    {
      "cell_type": "markdown",
      "metadata": {
        "id": "Y1yfKQznvxkN"
      },
      "source": [
        "Проверим общую таблицу на полные дубликаты:"
      ]
    },
    {
      "cell_type": "code",
      "execution_count": null,
      "metadata": {
        "colab": {
          "base_uri": "https://localhost:8080/"
        },
        "id": "96s_ruu2tY4r",
        "outputId": "e10f0a71-ba69-4c9e-afbc-579c82f55b55"
      },
      "outputs": [
        {
          "output_type": "stream",
          "name": "stdout",
          "text": [
            "Количество дубликатов в данных: 0\n"
          ]
        }
      ],
      "source": [
        "print(f'Количество дубликатов в данных: {df_full.duplicated().sum()}')"
      ]
    },
    {
      "cell_type": "markdown",
      "metadata": {
        "id": "imxf38hq7Hx1"
      },
      "source": [
        "Теперь изменим наименования колонок, согласно правилам хорошего стиля:"
      ]
    },
    {
      "cell_type": "code",
      "execution_count": null,
      "metadata": {
        "colab": {
          "base_uri": "https://localhost:8080/"
        },
        "id": "-WBGLtWE7Jw5",
        "outputId": "cb20b194-aac4-4476-fd65-c76f24bf9db0",
        "scrolled": true
      },
      "outputs": [
        {
          "output_type": "execute_result",
          "data": {
            "text/plain": [
              "Index(['customer_id', 'begin_date', 'end_date', 'type', 'paperless_billing',\n",
              "       'payment_method', 'monthly_charges', 'total_charges', 'gender',\n",
              "       'senior_citizen', 'partner', 'dependents', 'internet_service',\n",
              "       'online_security', 'online_backup', 'device_protection', 'tech_support',\n",
              "       'streaming_tv', 'streaming_movies', 'multiple_lines'],\n",
              "      dtype='object')"
            ]
          },
          "metadata": {},
          "execution_count": 13
        }
      ],
      "source": [
        "# Создадим функцию, которая конвертирует стиль заголовка\n",
        "def convert_to_snake_case(column):\n",
        "    return ''.join(\n",
        "        ['_' + i if i.isupper() else i for i in column]\n",
        "        ).lstrip('_').lower()\n",
        "df_full.columns = [convert_to_snake_case(c) for c in df_full.columns]\n",
        "\n",
        "# Поправим названия пары колонок вручную\n",
        "df_full = df_full.rename(columns={\n",
        "    'streaming_t_v':'streaming_tv',\n",
        "    'customer_i_d':'customer_id'}) \n",
        "\n",
        "# Для проверки выведем названия колонок на экран\n",
        "df_full.columns"
      ]
    },
    {
      "cell_type": "markdown",
      "metadata": {
        "id": "G6gP5j-v417I"
      },
      "source": [
        "Далее мы рассмотрим каждый столбец по отдельности: построим графики, изучим пропуски, приведём к нужному типу данных там, где это необходимо, а также создадим дополнительные признаки.\n",
        "\n",
        "Создадим функцию для быстрого описания данных."
      ]
    },
    {
      "cell_type": "code",
      "execution_count": null,
      "metadata": {
        "id": "NysN27yS68DI"
      },
      "outputs": [],
      "source": [
        "def data_review(colomn):\n",
        "    print(f'Количество пропусков в данных: {colomn.isna().sum()}')    \n",
        "    print(f'Тип данных: {colomn.dtypes}')\n",
        "    print('Числовое описание данных:')\n",
        "    print(colomn.describe())"
      ]
    },
    {
      "cell_type": "markdown",
      "metadata": {
        "id": "EdCWNZChDKgI"
      },
      "source": [
        "### Дата начала и окончания пользования услугами\n",
        "\n",
        "Для начала изучим колонки с **датой начала** пользования услугами оператора связи."
      ]
    },
    {
      "cell_type": "code",
      "execution_count": null,
      "metadata": {
        "colab": {
          "base_uri": "https://localhost:8080/"
        },
        "id": "c5p2Y3hi7LcF",
        "outputId": "c8f0d651-3e72-4835-c32f-cbfcf6cb41d7"
      },
      "outputs": [
        {
          "output_type": "stream",
          "name": "stdout",
          "text": [
            "Количество пропусков в данных: 0\n",
            "Тип данных: object\n",
            "Числовое описание данных:\n",
            "count           7043\n",
            "unique            77\n",
            "top       2014-02-01\n",
            "freq             366\n",
            "Name: begin_date, dtype: object\n"
          ]
        }
      ],
      "source": [
        "data_review(df_full['begin_date'])"
      ]
    },
    {
      "cell_type": "markdown",
      "metadata": {
        "id": "4rNUpg8L7Z5a"
      },
      "source": [
        "Пропуски в данных отсутствуют, но тип данных можно поменять на `datetime`. Затем вновь изучим числовое описание данных и построим гистраграмму. "
      ]
    },
    {
      "cell_type": "code",
      "execution_count": null,
      "metadata": {
        "colab": {
          "base_uri": "https://localhost:8080/"
        },
        "id": "CCLmlsZT7ZZ7",
        "outputId": "ac7e4e7d-5005-4dfd-8f0c-54984a1c2dfe"
      },
      "outputs": [
        {
          "output_type": "execute_result",
          "data": {
            "text/plain": [
              "count                    7043\n",
              "unique                     77\n",
              "top       2014-02-01 00:00:00\n",
              "freq                      366\n",
              "first     2013-10-01 00:00:00\n",
              "last      2020-02-01 00:00:00\n",
              "Name: begin_date, dtype: object"
            ]
          },
          "metadata": {},
          "execution_count": 16
        }
      ],
      "source": [
        "df_full['begin_date'] = pd.to_datetime(df_full['begin_date'], format='%Y-%m-%d')\n",
        "\n",
        "df_full['begin_date'].describe()"
      ]
    },
    {
      "cell_type": "markdown",
      "metadata": {
        "id": "-bu60rWkTKUo"
      },
      "source": [
        "Рассмотрим колонку с **датой окончания** предоставления услуг клиенту."
      ]
    },
    {
      "cell_type": "code",
      "execution_count": null,
      "metadata": {
        "colab": {
          "base_uri": "https://localhost:8080/"
        },
        "id": "r6q64qo2TJ6q",
        "outputId": "0bfc52dd-cfdc-414d-eac9-bc42e313526c"
      },
      "outputs": [
        {
          "output_type": "stream",
          "name": "stdout",
          "text": [
            "Количество пропусков в данных: 0\n",
            "Тип данных: object\n",
            "Числовое описание данных:\n",
            "count     7043\n",
            "unique       5\n",
            "top         No\n",
            "freq      5174\n",
            "Name: end_date, dtype: object\n"
          ]
        }
      ],
      "source": [
        "data_review(df_full['end_date'])"
      ]
    },
    {
      "cell_type": "code",
      "execution_count": null,
      "metadata": {
        "colab": {
          "base_uri": "https://localhost:8080/"
        },
        "id": "JfxTHOKfAEPF",
        "outputId": "6e7fb7ca-b7bf-4c92-ad2c-b2e1c8c1af95"
      },
      "outputs": [
        {
          "output_type": "execute_result",
          "data": {
            "text/plain": [
              "6365    2019-11-01 00:00:00\n",
              "3408    2019-10-01 00:00:00\n",
              "365     2020-01-01 00:00:00\n",
              "5458    2019-12-01 00:00:00\n",
              "495     2019-11-01 00:00:00\n",
              "Name: end_date, dtype: object"
            ]
          },
          "metadata": {},
          "execution_count": 18
        }
      ],
      "source": [
        "df_full[df_full['end_date'] != 'No']['end_date'].sample(5)"
      ]
    },
    {
      "cell_type": "code",
      "execution_count": null,
      "metadata": {
        "colab": {
          "base_uri": "https://localhost:8080/"
        },
        "id": "5IWOV15UTp2M",
        "outputId": "b2569a8e-17c1-450c-c2c0-80ef04e04052"
      },
      "outputs": [
        {
          "output_type": "execute_result",
          "data": {
            "text/plain": [
              "array(['No', '2019-12-01 00:00:00', '2019-11-01 00:00:00',\n",
              "       '2019-10-01 00:00:00', '2020-01-01 00:00:00'], dtype=object)"
            ]
          },
          "metadata": {},
          "execution_count": 19
        }
      ],
      "source": [
        "df_full['end_date'].unique()"
      ]
    },
    {
      "cell_type": "markdown",
      "metadata": {
        "id": "7NxNYIcqVZ45"
      },
      "source": [
        "Пропусков в данных нет, но тип данных в колонке - `object`, а в качестве заглушки к пропускам стоит `No`.   \n",
        "Также мы видим интересную особенность: в предоставленных данных договоры с оператором связи начали расторгать только с октября 2019 года, а уникальных значений в столбце всего 5 (включая заглушку).   \n",
        "Исходя из этого мы можем сделать вывод, что **заказчик предоставил нам данные об активных и ушедших клиентах в период с 1 октября 2019 года по 1 февраля 2020 года**. \n",
        "\n",
        "Для начала мы выделим из этих данных целевую переменную: там, где присутствует дата расторжения договора, мы поставим 1 (`True`), где заглушка - 0 (`False`).  \n",
        "\n",
        "Затем заменим заглушку на дату сбора данных, изменим тип данных на `datetime`.\n",
        "\n",
        "После этого мы добавим новый признак -- сколько дней пользователь является клиентом оператора связи."
      ]
    },
    {
      "cell_type": "code",
      "execution_count": null,
      "metadata": {
        "id": "wsrsydLAUFpR"
      },
      "outputs": [],
      "source": [
        "# Создадим целевой признак\n",
        "df_full['target'] = np.where(df_full['end_date'] == 'No', 0, 1)\n",
        "\n",
        "# Заменим заглушку на дату сбора данных -- 1 февраля 2020 года\n",
        "df_full.loc[df_full['end_date'] == 'No', 'end_date'] = '2020-02-01 00:00:00'\n",
        "\n",
        "# Преобразуем тип данных на datetime\n",
        "df_full['end_date'] = pd.to_datetime(df_full['end_date'], format='%Y-%m-%d')\n",
        "\n",
        "# Создадим признак - время жизни пользователя в продукте в днях\n",
        "df_full['lifetime_days'] = (df_full['end_date'] - df_full['begin_date']).dt.days"
      ]
    },
    {
      "cell_type": "code",
      "execution_count": null,
      "metadata": {
        "colab": {
          "base_uri": "https://localhost:8080/"
        },
        "id": "GnSpGROaDjZp",
        "outputId": "bf60ff67-430c-436d-84f1-97339b60d41f"
      },
      "outputs": [
        {
          "output_type": "stream",
          "name": "stdout",
          "text": [
            "Количество пользователей, отказавшихся от услуг связи за предоставленный период: 1869\n"
          ]
        },
        {
          "output_type": "execute_result",
          "data": {
            "text/plain": [
              "2020-02-01    5174\n",
              "2019-11-01     485\n",
              "2019-12-01     466\n",
              "2020-01-01     460\n",
              "2019-10-01     458\n",
              "Name: end_date, dtype: int64"
            ]
          },
          "metadata": {},
          "execution_count": 21
        }
      ],
      "source": [
        "print('Количество пользователей, отказавшихся от услуг связи за предоставленный период:', df_full['target'].sum())\n",
        "df_full['end_date'].value_counts()"
      ]
    },
    {
      "cell_type": "markdown",
      "metadata": {
        "id": "Cn_RHUgDOPlo"
      },
      "source": [
        "В предоставленных данных более 5 000 пользователей являются активными клиентами оператора связи. За указанный период отказались от услуг связи около 1900 клиентов. При этом распределение количества отказавшихся от услуг клиентов за указанный период примерно равное -- от 450 до 500 клиентов в месяц. Данные несбалансированные, но мы устраним это на этапе обучения моделей."
      ]
    },
    {
      "cell_type": "markdown",
      "metadata": {
        "id": "vVIdk3oxufVF"
      },
      "source": [
        "### Типы и методы оплат\n",
        "\n",
        "Изучим колонки с информацией о типе и методах оплат. В наших данных их три:\n",
        "- `type` - тип оплаты: ежемесячный, годовой и тд,\n",
        "-\t`paperless_billing` – безналичный расчет,\n",
        "- `payment_method` – способ оплаты"
      ]
    },
    {
      "cell_type": "code",
      "execution_count": null,
      "metadata": {
        "colab": {
          "base_uri": "https://localhost:8080/"
        },
        "id": "TQjar5lQusvR",
        "outputId": "60616854-60cd-4e2f-c50e-c1fb80e24f19"
      },
      "outputs": [
        {
          "output_type": "stream",
          "name": "stdout",
          "text": [
            "Тип оплаты\n",
            "Количество пропусков в данных: 0\n",
            "Тип данных: object\n",
            "Числовое описание данных:\n",
            "count               7043\n",
            "unique                 3\n",
            "top       Month-to-month\n",
            "freq                3875\n",
            "Name: type, dtype: object\n",
            "\n",
            "Безналичный расчёт\n",
            "Количество пропусков в данных: 0\n",
            "Тип данных: object\n",
            "Числовое описание данных:\n",
            "count     7043\n",
            "unique       2\n",
            "top        Yes\n",
            "freq      4171\n",
            "Name: paperless_billing, dtype: object\n",
            "\n",
            "Способ оплаты\n",
            "Количество пропусков в данных: 0\n",
            "Тип данных: object\n",
            "Числовое описание данных:\n",
            "count                 7043\n",
            "unique                   4\n",
            "top       Electronic check\n",
            "freq                  2365\n",
            "Name: payment_method, dtype: object\n"
          ]
        }
      ],
      "source": [
        "print('Тип оплаты')\n",
        "data_review(df_full['type'])\n",
        "print('')\n",
        "print('Безналичный расчёт')\n",
        "data_review(df_full['paperless_billing'])\n",
        "print('')\n",
        "print('Способ оплаты')\n",
        "data_review(df_full['payment_method'])"
      ]
    },
    {
      "cell_type": "markdown",
      "metadata": {
        "id": "iBRcyPtWnRIT"
      },
      "source": [
        "Пропусков в данных нет. Тип данных во всех трёх столбцах указан верно. Из трёх переменных только один признак бинарный (безналичный расчёт или нет). Выбросов или особенностей не наблюдаем."
      ]
    },
    {
      "cell_type": "code",
      "execution_count": null,
      "metadata": {
        "colab": {
          "base_uri": "https://localhost:8080/"
        },
        "id": "z0KzxpfHynvP",
        "outputId": "f776088d-3774-487b-8b16-ee7f5b95a94b"
      },
      "outputs": [
        {
          "output_type": "stream",
          "name": "stdout",
          "text": [
            "Ежемесячные траты на услуги\n",
            "Количество пропусков в данных: 0\n",
            "Тип данных: float64\n",
            "Числовое описание данных:\n",
            "count    7043.000000\n",
            "mean       64.761692\n",
            "std        30.090047\n",
            "min        18.250000\n",
            "25%        35.500000\n",
            "50%        70.350000\n",
            "75%        89.850000\n",
            "max       118.750000\n",
            "Name: monthly_charges, dtype: float64\n",
            "\n",
            "Всего потрачено на услуги\n",
            "Количество пропусков в данных: 0\n",
            "Тип данных: object\n",
            "Числовое описание данных:\n",
            "count     7043\n",
            "unique    6531\n",
            "top           \n",
            "freq        11\n",
            "Name: total_charges, dtype: object\n",
            "\n"
          ]
        }
      ],
      "source": [
        "print('Ежемесячные траты на услуги')\n",
        "data_review(df_full['monthly_charges'])\n",
        "print('')\n",
        "print('Всего потрачено на услуги')\n",
        "data_review(df_full['total_charges'])\n",
        "print('')"
      ]
    },
    {
      "cell_type": "markdown",
      "metadata": {
        "id": "9ST1Fz9Okl-a"
      },
      "source": [
        "В колонке с общей суммой, потраченной на услуги связи, указан неверный тип данных. При этом значение моды -- пустая строка, и таких значений - 11 строк. Посмотрим на эти строки.\n",
        "\n"
      ]
    },
    {
      "cell_type": "code",
      "execution_count": null,
      "metadata": {
        "colab": {
          "base_uri": "https://localhost:8080/",
          "height": 678
        },
        "id": "aO-HmCS_s1MQ",
        "outputId": "bd26db57-0239-40a7-b6db-9376cd82c04c"
      },
      "outputs": [
        {
          "output_type": "execute_result",
          "data": {
            "text/plain": [
              "     customer_id begin_date   end_date      type paperless_billing  \\\n",
              "488   4472-LVYGI 2020-02-01 2020-02-01  Two year               Yes   \n",
              "753   3115-CZMZD 2020-02-01 2020-02-01  Two year                No   \n",
              "936   5709-LVOEQ 2020-02-01 2020-02-01  Two year                No   \n",
              "1082  4367-NUYAO 2020-02-01 2020-02-01  Two year                No   \n",
              "1340  1371-DWPAZ 2020-02-01 2020-02-01  Two year                No   \n",
              "3331  7644-OMVMY 2020-02-01 2020-02-01  Two year                No   \n",
              "3826  3213-VVOLG 2020-02-01 2020-02-01  Two year                No   \n",
              "4380  2520-SGTTA 2020-02-01 2020-02-01  Two year                No   \n",
              "5218  2923-ARZLG 2020-02-01 2020-02-01  One year               Yes   \n",
              "6670  4075-WKNIU 2020-02-01 2020-02-01  Two year                No   \n",
              "6754  2775-SEFEE 2020-02-01 2020-02-01  Two year               Yes   \n",
              "\n",
              "                 payment_method  monthly_charges total_charges  gender  \\\n",
              "488   Bank transfer (automatic)            52.55                Female   \n",
              "753                Mailed check            20.25                  Male   \n",
              "936                Mailed check            80.85                Female   \n",
              "1082               Mailed check            25.75                  Male   \n",
              "1340    Credit card (automatic)            56.05                Female   \n",
              "3331               Mailed check            19.85                  Male   \n",
              "3826               Mailed check            25.35                  Male   \n",
              "4380               Mailed check            20.00                Female   \n",
              "5218               Mailed check            19.70                  Male   \n",
              "6670               Mailed check            73.35                Female   \n",
              "6754  Bank transfer (automatic)            61.90                  Male   \n",
              "\n",
              "      senior_citizen  ... internet_service online_security online_backup  \\\n",
              "488                0  ...              DSL             Yes            No   \n",
              "753                0  ...              NaN             NaN           NaN   \n",
              "936                0  ...              DSL             Yes           Yes   \n",
              "1082               0  ...              NaN             NaN           NaN   \n",
              "1340               0  ...              DSL             Yes           Yes   \n",
              "3331               0  ...              NaN             NaN           NaN   \n",
              "3826               0  ...              NaN             NaN           NaN   \n",
              "4380               0  ...              NaN             NaN           NaN   \n",
              "5218               0  ...              NaN             NaN           NaN   \n",
              "6670               0  ...              DSL              No           Yes   \n",
              "6754               0  ...              DSL             Yes           Yes   \n",
              "\n",
              "     device_protection tech_support streaming_tv streaming_movies  \\\n",
              "488                Yes          Yes          Yes               No   \n",
              "753                NaN          NaN          NaN              NaN   \n",
              "936                Yes           No          Yes              Yes   \n",
              "1082               NaN          NaN          NaN              NaN   \n",
              "1340               Yes          Yes          Yes               No   \n",
              "3331               NaN          NaN          NaN              NaN   \n",
              "3826               NaN          NaN          NaN              NaN   \n",
              "4380               NaN          NaN          NaN              NaN   \n",
              "5218               NaN          NaN          NaN              NaN   \n",
              "6670               Yes          Yes          Yes               No   \n",
              "6754                No          Yes           No               No   \n",
              "\n",
              "     multiple_lines target lifetime_days  \n",
              "488             NaN      0             0  \n",
              "753              No      0             0  \n",
              "936              No      0             0  \n",
              "1082            Yes      0             0  \n",
              "1340            NaN      0             0  \n",
              "3331             No      0             0  \n",
              "3826            Yes      0             0  \n",
              "4380             No      0             0  \n",
              "5218             No      0             0  \n",
              "6670            Yes      0             0  \n",
              "6754            Yes      0             0  \n",
              "\n",
              "[11 rows x 22 columns]"
            ],
            "text/html": [
              "\n",
              "  <div id=\"df-e39d4bd0-96a6-4bc0-80e7-c0fb183a1b4f\">\n",
              "    <div class=\"colab-df-container\">\n",
              "      <div>\n",
              "<style scoped>\n",
              "    .dataframe tbody tr th:only-of-type {\n",
              "        vertical-align: middle;\n",
              "    }\n",
              "\n",
              "    .dataframe tbody tr th {\n",
              "        vertical-align: top;\n",
              "    }\n",
              "\n",
              "    .dataframe thead th {\n",
              "        text-align: right;\n",
              "    }\n",
              "</style>\n",
              "<table border=\"1\" class=\"dataframe\">\n",
              "  <thead>\n",
              "    <tr style=\"text-align: right;\">\n",
              "      <th></th>\n",
              "      <th>customer_id</th>\n",
              "      <th>begin_date</th>\n",
              "      <th>end_date</th>\n",
              "      <th>type</th>\n",
              "      <th>paperless_billing</th>\n",
              "      <th>payment_method</th>\n",
              "      <th>monthly_charges</th>\n",
              "      <th>total_charges</th>\n",
              "      <th>gender</th>\n",
              "      <th>senior_citizen</th>\n",
              "      <th>...</th>\n",
              "      <th>internet_service</th>\n",
              "      <th>online_security</th>\n",
              "      <th>online_backup</th>\n",
              "      <th>device_protection</th>\n",
              "      <th>tech_support</th>\n",
              "      <th>streaming_tv</th>\n",
              "      <th>streaming_movies</th>\n",
              "      <th>multiple_lines</th>\n",
              "      <th>target</th>\n",
              "      <th>lifetime_days</th>\n",
              "    </tr>\n",
              "  </thead>\n",
              "  <tbody>\n",
              "    <tr>\n",
              "      <th>488</th>\n",
              "      <td>4472-LVYGI</td>\n",
              "      <td>2020-02-01</td>\n",
              "      <td>2020-02-01</td>\n",
              "      <td>Two year</td>\n",
              "      <td>Yes</td>\n",
              "      <td>Bank transfer (automatic)</td>\n",
              "      <td>52.55</td>\n",
              "      <td></td>\n",
              "      <td>Female</td>\n",
              "      <td>0</td>\n",
              "      <td>...</td>\n",
              "      <td>DSL</td>\n",
              "      <td>Yes</td>\n",
              "      <td>No</td>\n",
              "      <td>Yes</td>\n",
              "      <td>Yes</td>\n",
              "      <td>Yes</td>\n",
              "      <td>No</td>\n",
              "      <td>NaN</td>\n",
              "      <td>0</td>\n",
              "      <td>0</td>\n",
              "    </tr>\n",
              "    <tr>\n",
              "      <th>753</th>\n",
              "      <td>3115-CZMZD</td>\n",
              "      <td>2020-02-01</td>\n",
              "      <td>2020-02-01</td>\n",
              "      <td>Two year</td>\n",
              "      <td>No</td>\n",
              "      <td>Mailed check</td>\n",
              "      <td>20.25</td>\n",
              "      <td></td>\n",
              "      <td>Male</td>\n",
              "      <td>0</td>\n",
              "      <td>...</td>\n",
              "      <td>NaN</td>\n",
              "      <td>NaN</td>\n",
              "      <td>NaN</td>\n",
              "      <td>NaN</td>\n",
              "      <td>NaN</td>\n",
              "      <td>NaN</td>\n",
              "      <td>NaN</td>\n",
              "      <td>No</td>\n",
              "      <td>0</td>\n",
              "      <td>0</td>\n",
              "    </tr>\n",
              "    <tr>\n",
              "      <th>936</th>\n",
              "      <td>5709-LVOEQ</td>\n",
              "      <td>2020-02-01</td>\n",
              "      <td>2020-02-01</td>\n",
              "      <td>Two year</td>\n",
              "      <td>No</td>\n",
              "      <td>Mailed check</td>\n",
              "      <td>80.85</td>\n",
              "      <td></td>\n",
              "      <td>Female</td>\n",
              "      <td>0</td>\n",
              "      <td>...</td>\n",
              "      <td>DSL</td>\n",
              "      <td>Yes</td>\n",
              "      <td>Yes</td>\n",
              "      <td>Yes</td>\n",
              "      <td>No</td>\n",
              "      <td>Yes</td>\n",
              "      <td>Yes</td>\n",
              "      <td>No</td>\n",
              "      <td>0</td>\n",
              "      <td>0</td>\n",
              "    </tr>\n",
              "    <tr>\n",
              "      <th>1082</th>\n",
              "      <td>4367-NUYAO</td>\n",
              "      <td>2020-02-01</td>\n",
              "      <td>2020-02-01</td>\n",
              "      <td>Two year</td>\n",
              "      <td>No</td>\n",
              "      <td>Mailed check</td>\n",
              "      <td>25.75</td>\n",
              "      <td></td>\n",
              "      <td>Male</td>\n",
              "      <td>0</td>\n",
              "      <td>...</td>\n",
              "      <td>NaN</td>\n",
              "      <td>NaN</td>\n",
              "      <td>NaN</td>\n",
              "      <td>NaN</td>\n",
              "      <td>NaN</td>\n",
              "      <td>NaN</td>\n",
              "      <td>NaN</td>\n",
              "      <td>Yes</td>\n",
              "      <td>0</td>\n",
              "      <td>0</td>\n",
              "    </tr>\n",
              "    <tr>\n",
              "      <th>1340</th>\n",
              "      <td>1371-DWPAZ</td>\n",
              "      <td>2020-02-01</td>\n",
              "      <td>2020-02-01</td>\n",
              "      <td>Two year</td>\n",
              "      <td>No</td>\n",
              "      <td>Credit card (automatic)</td>\n",
              "      <td>56.05</td>\n",
              "      <td></td>\n",
              "      <td>Female</td>\n",
              "      <td>0</td>\n",
              "      <td>...</td>\n",
              "      <td>DSL</td>\n",
              "      <td>Yes</td>\n",
              "      <td>Yes</td>\n",
              "      <td>Yes</td>\n",
              "      <td>Yes</td>\n",
              "      <td>Yes</td>\n",
              "      <td>No</td>\n",
              "      <td>NaN</td>\n",
              "      <td>0</td>\n",
              "      <td>0</td>\n",
              "    </tr>\n",
              "    <tr>\n",
              "      <th>3331</th>\n",
              "      <td>7644-OMVMY</td>\n",
              "      <td>2020-02-01</td>\n",
              "      <td>2020-02-01</td>\n",
              "      <td>Two year</td>\n",
              "      <td>No</td>\n",
              "      <td>Mailed check</td>\n",
              "      <td>19.85</td>\n",
              "      <td></td>\n",
              "      <td>Male</td>\n",
              "      <td>0</td>\n",
              "      <td>...</td>\n",
              "      <td>NaN</td>\n",
              "      <td>NaN</td>\n",
              "      <td>NaN</td>\n",
              "      <td>NaN</td>\n",
              "      <td>NaN</td>\n",
              "      <td>NaN</td>\n",
              "      <td>NaN</td>\n",
              "      <td>No</td>\n",
              "      <td>0</td>\n",
              "      <td>0</td>\n",
              "    </tr>\n",
              "    <tr>\n",
              "      <th>3826</th>\n",
              "      <td>3213-VVOLG</td>\n",
              "      <td>2020-02-01</td>\n",
              "      <td>2020-02-01</td>\n",
              "      <td>Two year</td>\n",
              "      <td>No</td>\n",
              "      <td>Mailed check</td>\n",
              "      <td>25.35</td>\n",
              "      <td></td>\n",
              "      <td>Male</td>\n",
              "      <td>0</td>\n",
              "      <td>...</td>\n",
              "      <td>NaN</td>\n",
              "      <td>NaN</td>\n",
              "      <td>NaN</td>\n",
              "      <td>NaN</td>\n",
              "      <td>NaN</td>\n",
              "      <td>NaN</td>\n",
              "      <td>NaN</td>\n",
              "      <td>Yes</td>\n",
              "      <td>0</td>\n",
              "      <td>0</td>\n",
              "    </tr>\n",
              "    <tr>\n",
              "      <th>4380</th>\n",
              "      <td>2520-SGTTA</td>\n",
              "      <td>2020-02-01</td>\n",
              "      <td>2020-02-01</td>\n",
              "      <td>Two year</td>\n",
              "      <td>No</td>\n",
              "      <td>Mailed check</td>\n",
              "      <td>20.00</td>\n",
              "      <td></td>\n",
              "      <td>Female</td>\n",
              "      <td>0</td>\n",
              "      <td>...</td>\n",
              "      <td>NaN</td>\n",
              "      <td>NaN</td>\n",
              "      <td>NaN</td>\n",
              "      <td>NaN</td>\n",
              "      <td>NaN</td>\n",
              "      <td>NaN</td>\n",
              "      <td>NaN</td>\n",
              "      <td>No</td>\n",
              "      <td>0</td>\n",
              "      <td>0</td>\n",
              "    </tr>\n",
              "    <tr>\n",
              "      <th>5218</th>\n",
              "      <td>2923-ARZLG</td>\n",
              "      <td>2020-02-01</td>\n",
              "      <td>2020-02-01</td>\n",
              "      <td>One year</td>\n",
              "      <td>Yes</td>\n",
              "      <td>Mailed check</td>\n",
              "      <td>19.70</td>\n",
              "      <td></td>\n",
              "      <td>Male</td>\n",
              "      <td>0</td>\n",
              "      <td>...</td>\n",
              "      <td>NaN</td>\n",
              "      <td>NaN</td>\n",
              "      <td>NaN</td>\n",
              "      <td>NaN</td>\n",
              "      <td>NaN</td>\n",
              "      <td>NaN</td>\n",
              "      <td>NaN</td>\n",
              "      <td>No</td>\n",
              "      <td>0</td>\n",
              "      <td>0</td>\n",
              "    </tr>\n",
              "    <tr>\n",
              "      <th>6670</th>\n",
              "      <td>4075-WKNIU</td>\n",
              "      <td>2020-02-01</td>\n",
              "      <td>2020-02-01</td>\n",
              "      <td>Two year</td>\n",
              "      <td>No</td>\n",
              "      <td>Mailed check</td>\n",
              "      <td>73.35</td>\n",
              "      <td></td>\n",
              "      <td>Female</td>\n",
              "      <td>0</td>\n",
              "      <td>...</td>\n",
              "      <td>DSL</td>\n",
              "      <td>No</td>\n",
              "      <td>Yes</td>\n",
              "      <td>Yes</td>\n",
              "      <td>Yes</td>\n",
              "      <td>Yes</td>\n",
              "      <td>No</td>\n",
              "      <td>Yes</td>\n",
              "      <td>0</td>\n",
              "      <td>0</td>\n",
              "    </tr>\n",
              "    <tr>\n",
              "      <th>6754</th>\n",
              "      <td>2775-SEFEE</td>\n",
              "      <td>2020-02-01</td>\n",
              "      <td>2020-02-01</td>\n",
              "      <td>Two year</td>\n",
              "      <td>Yes</td>\n",
              "      <td>Bank transfer (automatic)</td>\n",
              "      <td>61.90</td>\n",
              "      <td></td>\n",
              "      <td>Male</td>\n",
              "      <td>0</td>\n",
              "      <td>...</td>\n",
              "      <td>DSL</td>\n",
              "      <td>Yes</td>\n",
              "      <td>Yes</td>\n",
              "      <td>No</td>\n",
              "      <td>Yes</td>\n",
              "      <td>No</td>\n",
              "      <td>No</td>\n",
              "      <td>Yes</td>\n",
              "      <td>0</td>\n",
              "      <td>0</td>\n",
              "    </tr>\n",
              "  </tbody>\n",
              "</table>\n",
              "<p>11 rows × 22 columns</p>\n",
              "</div>\n",
              "      <button class=\"colab-df-convert\" onclick=\"convertToInteractive('df-e39d4bd0-96a6-4bc0-80e7-c0fb183a1b4f')\"\n",
              "              title=\"Convert this dataframe to an interactive table.\"\n",
              "              style=\"display:none;\">\n",
              "        \n",
              "  <svg xmlns=\"http://www.w3.org/2000/svg\" height=\"24px\"viewBox=\"0 0 24 24\"\n",
              "       width=\"24px\">\n",
              "    <path d=\"M0 0h24v24H0V0z\" fill=\"none\"/>\n",
              "    <path d=\"M18.56 5.44l.94 2.06.94-2.06 2.06-.94-2.06-.94-.94-2.06-.94 2.06-2.06.94zm-11 1L8.5 8.5l.94-2.06 2.06-.94-2.06-.94L8.5 2.5l-.94 2.06-2.06.94zm10 10l.94 2.06.94-2.06 2.06-.94-2.06-.94-.94-2.06-.94 2.06-2.06.94z\"/><path d=\"M17.41 7.96l-1.37-1.37c-.4-.4-.92-.59-1.43-.59-.52 0-1.04.2-1.43.59L10.3 9.45l-7.72 7.72c-.78.78-.78 2.05 0 2.83L4 21.41c.39.39.9.59 1.41.59.51 0 1.02-.2 1.41-.59l7.78-7.78 2.81-2.81c.8-.78.8-2.07 0-2.86zM5.41 20L4 18.59l7.72-7.72 1.47 1.35L5.41 20z\"/>\n",
              "  </svg>\n",
              "      </button>\n",
              "      \n",
              "  <style>\n",
              "    .colab-df-container {\n",
              "      display:flex;\n",
              "      flex-wrap:wrap;\n",
              "      gap: 12px;\n",
              "    }\n",
              "\n",
              "    .colab-df-convert {\n",
              "      background-color: #E8F0FE;\n",
              "      border: none;\n",
              "      border-radius: 50%;\n",
              "      cursor: pointer;\n",
              "      display: none;\n",
              "      fill: #1967D2;\n",
              "      height: 32px;\n",
              "      padding: 0 0 0 0;\n",
              "      width: 32px;\n",
              "    }\n",
              "\n",
              "    .colab-df-convert:hover {\n",
              "      background-color: #E2EBFA;\n",
              "      box-shadow: 0px 1px 2px rgba(60, 64, 67, 0.3), 0px 1px 3px 1px rgba(60, 64, 67, 0.15);\n",
              "      fill: #174EA6;\n",
              "    }\n",
              "\n",
              "    [theme=dark] .colab-df-convert {\n",
              "      background-color: #3B4455;\n",
              "      fill: #D2E3FC;\n",
              "    }\n",
              "\n",
              "    [theme=dark] .colab-df-convert:hover {\n",
              "      background-color: #434B5C;\n",
              "      box-shadow: 0px 1px 3px 1px rgba(0, 0, 0, 0.15);\n",
              "      filter: drop-shadow(0px 1px 2px rgba(0, 0, 0, 0.3));\n",
              "      fill: #FFFFFF;\n",
              "    }\n",
              "  </style>\n",
              "\n",
              "      <script>\n",
              "        const buttonEl =\n",
              "          document.querySelector('#df-e39d4bd0-96a6-4bc0-80e7-c0fb183a1b4f button.colab-df-convert');\n",
              "        buttonEl.style.display =\n",
              "          google.colab.kernel.accessAllowed ? 'block' : 'none';\n",
              "\n",
              "        async function convertToInteractive(key) {\n",
              "          const element = document.querySelector('#df-e39d4bd0-96a6-4bc0-80e7-c0fb183a1b4f');\n",
              "          const dataTable =\n",
              "            await google.colab.kernel.invokeFunction('convertToInteractive',\n",
              "                                                     [key], {});\n",
              "          if (!dataTable) return;\n",
              "\n",
              "          const docLinkHtml = 'Like what you see? Visit the ' +\n",
              "            '<a target=\"_blank\" href=https://colab.research.google.com/notebooks/data_table.ipynb>data table notebook</a>'\n",
              "            + ' to learn more about interactive tables.';\n",
              "          element.innerHTML = '';\n",
              "          dataTable['output_type'] = 'display_data';\n",
              "          await google.colab.output.renderOutput(dataTable, element);\n",
              "          const docLink = document.createElement('div');\n",
              "          docLink.innerHTML = docLinkHtml;\n",
              "          element.appendChild(docLink);\n",
              "        }\n",
              "      </script>\n",
              "    </div>\n",
              "  </div>\n",
              "  "
            ]
          },
          "metadata": {},
          "execution_count": 24
        }
      ],
      "source": [
        "df_full[df_full['total_charges'] == ' ']"
      ]
    },
    {
      "cell_type": "markdown",
      "metadata": {
        "id": "JjuiZkvCs1mR"
      },
      "source": [
        "Строки с пропущенным значением общей потраченной суммой - это новые клиенты, которые еще не совершили ни одного платежа. Так как таких строк немного, мы их исключим, а после этого переведём тип данных в `float`."
      ]
    },
    {
      "cell_type": "code",
      "execution_count": null,
      "metadata": {
        "id": "v8bDuOMVj16G"
      },
      "outputs": [],
      "source": [
        "df_full = df_full[df_full['total_charges'] != ' ']\n",
        "\n",
        "df_full = df_full.astype({'total_charges': 'float', 'monthly_charges':'float'})"
      ]
    },
    {
      "cell_type": "markdown",
      "metadata": {
        "id": "vT5T64eNleNL"
      },
      "source": [
        "### Персональные данные клиента"
      ]
    },
    {
      "cell_type": "code",
      "execution_count": null,
      "metadata": {
        "colab": {
          "base_uri": "https://localhost:8080/"
        },
        "id": "_aXpwEwnldlv",
        "outputId": "a0653d38-a754-462c-9e1f-a0a238b85728"
      },
      "outputs": [
        {
          "output_type": "stream",
          "name": "stdout",
          "text": [
            "Пол клиента\n",
            "Количество пропусков в данных: 0\n",
            "Тип данных: object\n",
            "Числовое описание данных:\n",
            "count     7032\n",
            "unique       2\n",
            "top       Male\n",
            "freq      3549\n",
            "Name: gender, dtype: object\n",
            "\n",
            "Пенсионный возраст\n",
            "Количество пропусков в данных: 0\n",
            "Тип данных: int64\n",
            "Числовое описание данных:\n",
            "count    7032.000000\n",
            "mean        0.162400\n",
            "std         0.368844\n",
            "min         0.000000\n",
            "25%         0.000000\n",
            "50%         0.000000\n",
            "75%         0.000000\n",
            "max         1.000000\n",
            "Name: senior_citizen, dtype: float64\n",
            "\n",
            "Наличие супруга(и)\n",
            "Количество пропусков в данных: 0\n",
            "Тип данных: object\n",
            "Числовое описание данных:\n",
            "count     7032\n",
            "unique       2\n",
            "top         No\n",
            "freq      3639\n",
            "Name: partner, dtype: object\n",
            "\n",
            "Наличие иждивенцев\n",
            "Количество пропусков в данных: 0\n",
            "Тип данных: object\n",
            "Числовое описание данных:\n",
            "count     7032\n",
            "unique       2\n",
            "top         No\n",
            "freq      4933\n",
            "Name: dependents, dtype: object\n",
            "\n"
          ]
        }
      ],
      "source": [
        "print('Пол клиента')\n",
        "data_review(df_full['gender'])\n",
        "print('')\n",
        "print('Пенсионный возраст')\n",
        "data_review(df_full['senior_citizen'])\n",
        "print('')\n",
        "print('Наличие супруга(и)')\n",
        "data_review(df_full['partner'])\n",
        "print('')\n",
        "print('Наличие иждивенцев')\n",
        "data_review(df_full['dependents'])\n",
        "print('')"
      ]
    },
    {
      "cell_type": "markdown",
      "metadata": {
        "id": "cc84fYtVldIn"
      },
      "source": [
        "Пропущенных значений в данных нет. В трёх из четырёх признаков тип данных -- `object`, все эти признаки бинарные. Мы закодируем эти признаки позже, перед обучением моделейи. Так как все остальные категориальные признаки в нашем датафрейме имеют тип `object`, для удобства мы приведём значения признака *Пенсионный возраст* в такой же формат."
      ]
    },
    {
      "cell_type": "code",
      "execution_count": null,
      "metadata": {
        "id": "8kkw63BapOOz"
      },
      "outputs": [],
      "source": [
        "df_full['senior_citizen'] = np.where(df_full['senior_citizen'] == 0, 'No', 'Yes')"
      ]
    },
    {
      "cell_type": "code",
      "execution_count": null,
      "metadata": {
        "colab": {
          "base_uri": "https://localhost:8080/"
        },
        "id": "g6XBdCWO4AU0",
        "outputId": "5d1e5e02-08fb-464a-926e-445f2c2efed4"
      },
      "outputs": [
        {
          "output_type": "stream",
          "name": "stdout",
          "text": [
            "Количество пропусков в данных: 0\n",
            "Тип данных: object\n",
            "Числовое описание данных:\n",
            "count     7032\n",
            "unique       2\n",
            "top         No\n",
            "freq      5890\n",
            "Name: senior_citizen, dtype: object\n"
          ]
        }
      ],
      "source": [
        "data_review(df_full['senior_citizen'])"
      ]
    },
    {
      "cell_type": "markdown",
      "metadata": {
        "id": "A4o6ZM_IldFP"
      },
      "source": [
        "### Интернет-услуги и телефония"
      ]
    },
    {
      "cell_type": "markdown",
      "metadata": {
        "id": "w08AtER7ldCN"
      },
      "source": [
        "Мы достаточно подробно рассмотрели информацию об интернет-услугах и телефонии на первом шаге нашего исследования. Все признаки - бинарные, никаких особенностей здесь нет. На данном этапе мы:\n",
        "- Добавим дополнительный признак: является клиент пользователем интернета или нет. Если id клиента было в таблице с информацией об интернет-услугах -- значит клиент пользовался интернетом (так как в первоначальном датасете с информацией об интернет-услугах пропусков не было);   \n",
        "- Аналогичным образом создадим колонку с информацией, является ли клиент пользователем телефонии;\n",
        "- Так как данные пропущены в признаках бинарной классификации, в которых указано, пользуется ли клиент той или иной услугой, мы заменим все пропуски в данных на `No`."
      ]
    },
    {
      "cell_type": "code",
      "execution_count": null,
      "metadata": {
        "id": "FQCHCnZewUvm"
      },
      "outputs": [],
      "source": [
        "# Сгенерируем дополнительный признак internet_user\n",
        "df_full['internet_user'] = np.where(\n",
        "    df_full['customer_id'].isin(df_internet.index), 'Yes', 'No'\n",
        "    )\n",
        "# Сгенерируем дополнительный признак phone_user\n",
        "df_full['phone_user'] = np.where(\n",
        "    df_full['customer_id'].isin(df_phone.index), 'Yes', 'No'\n",
        "    )"
      ]
    },
    {
      "cell_type": "code",
      "execution_count": null,
      "metadata": {
        "id": "jEpZ-N7pw4cZ"
      },
      "outputs": [],
      "source": [
        "# Заполним пропущенные значения\n",
        "df_full = df_full.fillna('No')"
      ]
    },
    {
      "cell_type": "markdown",
      "metadata": {
        "id": "bAGvzrdr6tuF"
      },
      "source": [
        "### Итоги предобработки данных"
      ]
    },
    {
      "cell_type": "code",
      "execution_count": null,
      "metadata": {
        "colab": {
          "base_uri": "https://localhost:8080/",
          "height": 1000
        },
        "id": "iESji_Nw5jKJ",
        "outputId": "540a04a7-c337-49c9-8c17-b73cfcc89e40"
      },
      "outputs": [
        {
          "output_type": "stream",
          "name": "stdout",
          "text": [
            "<class 'pandas.core.frame.DataFrame'>\n",
            "Int64Index: 7032 entries, 0 to 7042\n",
            "Data columns (total 24 columns):\n",
            " #   Column             Non-Null Count  Dtype         \n",
            "---  ------             --------------  -----         \n",
            " 0   customer_id        7032 non-null   object        \n",
            " 1   begin_date         7032 non-null   datetime64[ns]\n",
            " 2   end_date           7032 non-null   datetime64[ns]\n",
            " 3   type               7032 non-null   object        \n",
            " 4   paperless_billing  7032 non-null   object        \n",
            " 5   payment_method     7032 non-null   object        \n",
            " 6   monthly_charges    7032 non-null   float64       \n",
            " 7   total_charges      7032 non-null   float64       \n",
            " 8   gender             7032 non-null   object        \n",
            " 9   senior_citizen     7032 non-null   object        \n",
            " 10  partner            7032 non-null   object        \n",
            " 11  dependents         7032 non-null   object        \n",
            " 12  internet_service   7032 non-null   object        \n",
            " 13  online_security    7032 non-null   object        \n",
            " 14  online_backup      7032 non-null   object        \n",
            " 15  device_protection  7032 non-null   object        \n",
            " 16  tech_support       7032 non-null   object        \n",
            " 17  streaming_tv       7032 non-null   object        \n",
            " 18  streaming_movies   7032 non-null   object        \n",
            " 19  multiple_lines     7032 non-null   object        \n",
            " 20  target             7032 non-null   int64         \n",
            " 21  lifetime_days      7032 non-null   int64         \n",
            " 22  internet_user      7032 non-null   object        \n",
            " 23  phone_user         7032 non-null   object        \n",
            "dtypes: datetime64[ns](2), float64(2), int64(2), object(18)\n",
            "memory usage: 1.3+ MB\n"
          ]
        },
        {
          "output_type": "display_data",
          "data": {
            "text/plain": [
              "None"
            ]
          },
          "metadata": {}
        },
        {
          "output_type": "display_data",
          "data": {
            "text/plain": [
              "  customer_id begin_date   end_date            type paperless_billing  \\\n",
              "0  7590-VHVEG 2020-01-01 2020-02-01  Month-to-month               Yes   \n",
              "1  5575-GNVDE 2017-04-01 2020-02-01        One year                No   \n",
              "2  3668-QPYBK 2019-10-01 2019-12-01  Month-to-month               Yes   \n",
              "3  7795-CFOCW 2016-05-01 2020-02-01        One year                No   \n",
              "4  9237-HQITU 2019-09-01 2019-11-01  Month-to-month               Yes   \n",
              "\n",
              "              payment_method  monthly_charges  total_charges  gender  \\\n",
              "0           Electronic check            29.85          29.85  Female   \n",
              "1               Mailed check            56.95        1889.50    Male   \n",
              "2               Mailed check            53.85         108.15    Male   \n",
              "3  Bank transfer (automatic)            42.30        1840.75    Male   \n",
              "4           Electronic check            70.70         151.65  Female   \n",
              "\n",
              "  senior_citizen  ... online_backup device_protection tech_support  \\\n",
              "0             No  ...           Yes                No           No   \n",
              "1             No  ...            No               Yes           No   \n",
              "2             No  ...           Yes                No           No   \n",
              "3             No  ...            No               Yes          Yes   \n",
              "4             No  ...            No                No           No   \n",
              "\n",
              "  streaming_tv streaming_movies multiple_lines target lifetime_days  \\\n",
              "0           No               No             No      0            31   \n",
              "1           No               No             No      0          1036   \n",
              "2           No               No             No      1            61   \n",
              "3           No               No             No      0          1371   \n",
              "4           No               No             No      1            61   \n",
              "\n",
              "  internet_user phone_user  \n",
              "0           Yes         No  \n",
              "1           Yes        Yes  \n",
              "2           Yes        Yes  \n",
              "3           Yes         No  \n",
              "4           Yes        Yes  \n",
              "\n",
              "[5 rows x 24 columns]"
            ],
            "text/html": [
              "\n",
              "  <div id=\"df-b59f60fb-21b1-4c12-8b50-db400e762612\">\n",
              "    <div class=\"colab-df-container\">\n",
              "      <div>\n",
              "<style scoped>\n",
              "    .dataframe tbody tr th:only-of-type {\n",
              "        vertical-align: middle;\n",
              "    }\n",
              "\n",
              "    .dataframe tbody tr th {\n",
              "        vertical-align: top;\n",
              "    }\n",
              "\n",
              "    .dataframe thead th {\n",
              "        text-align: right;\n",
              "    }\n",
              "</style>\n",
              "<table border=\"1\" class=\"dataframe\">\n",
              "  <thead>\n",
              "    <tr style=\"text-align: right;\">\n",
              "      <th></th>\n",
              "      <th>customer_id</th>\n",
              "      <th>begin_date</th>\n",
              "      <th>end_date</th>\n",
              "      <th>type</th>\n",
              "      <th>paperless_billing</th>\n",
              "      <th>payment_method</th>\n",
              "      <th>monthly_charges</th>\n",
              "      <th>total_charges</th>\n",
              "      <th>gender</th>\n",
              "      <th>senior_citizen</th>\n",
              "      <th>...</th>\n",
              "      <th>online_backup</th>\n",
              "      <th>device_protection</th>\n",
              "      <th>tech_support</th>\n",
              "      <th>streaming_tv</th>\n",
              "      <th>streaming_movies</th>\n",
              "      <th>multiple_lines</th>\n",
              "      <th>target</th>\n",
              "      <th>lifetime_days</th>\n",
              "      <th>internet_user</th>\n",
              "      <th>phone_user</th>\n",
              "    </tr>\n",
              "  </thead>\n",
              "  <tbody>\n",
              "    <tr>\n",
              "      <th>0</th>\n",
              "      <td>7590-VHVEG</td>\n",
              "      <td>2020-01-01</td>\n",
              "      <td>2020-02-01</td>\n",
              "      <td>Month-to-month</td>\n",
              "      <td>Yes</td>\n",
              "      <td>Electronic check</td>\n",
              "      <td>29.85</td>\n",
              "      <td>29.85</td>\n",
              "      <td>Female</td>\n",
              "      <td>No</td>\n",
              "      <td>...</td>\n",
              "      <td>Yes</td>\n",
              "      <td>No</td>\n",
              "      <td>No</td>\n",
              "      <td>No</td>\n",
              "      <td>No</td>\n",
              "      <td>No</td>\n",
              "      <td>0</td>\n",
              "      <td>31</td>\n",
              "      <td>Yes</td>\n",
              "      <td>No</td>\n",
              "    </tr>\n",
              "    <tr>\n",
              "      <th>1</th>\n",
              "      <td>5575-GNVDE</td>\n",
              "      <td>2017-04-01</td>\n",
              "      <td>2020-02-01</td>\n",
              "      <td>One year</td>\n",
              "      <td>No</td>\n",
              "      <td>Mailed check</td>\n",
              "      <td>56.95</td>\n",
              "      <td>1889.50</td>\n",
              "      <td>Male</td>\n",
              "      <td>No</td>\n",
              "      <td>...</td>\n",
              "      <td>No</td>\n",
              "      <td>Yes</td>\n",
              "      <td>No</td>\n",
              "      <td>No</td>\n",
              "      <td>No</td>\n",
              "      <td>No</td>\n",
              "      <td>0</td>\n",
              "      <td>1036</td>\n",
              "      <td>Yes</td>\n",
              "      <td>Yes</td>\n",
              "    </tr>\n",
              "    <tr>\n",
              "      <th>2</th>\n",
              "      <td>3668-QPYBK</td>\n",
              "      <td>2019-10-01</td>\n",
              "      <td>2019-12-01</td>\n",
              "      <td>Month-to-month</td>\n",
              "      <td>Yes</td>\n",
              "      <td>Mailed check</td>\n",
              "      <td>53.85</td>\n",
              "      <td>108.15</td>\n",
              "      <td>Male</td>\n",
              "      <td>No</td>\n",
              "      <td>...</td>\n",
              "      <td>Yes</td>\n",
              "      <td>No</td>\n",
              "      <td>No</td>\n",
              "      <td>No</td>\n",
              "      <td>No</td>\n",
              "      <td>No</td>\n",
              "      <td>1</td>\n",
              "      <td>61</td>\n",
              "      <td>Yes</td>\n",
              "      <td>Yes</td>\n",
              "    </tr>\n",
              "    <tr>\n",
              "      <th>3</th>\n",
              "      <td>7795-CFOCW</td>\n",
              "      <td>2016-05-01</td>\n",
              "      <td>2020-02-01</td>\n",
              "      <td>One year</td>\n",
              "      <td>No</td>\n",
              "      <td>Bank transfer (automatic)</td>\n",
              "      <td>42.30</td>\n",
              "      <td>1840.75</td>\n",
              "      <td>Male</td>\n",
              "      <td>No</td>\n",
              "      <td>...</td>\n",
              "      <td>No</td>\n",
              "      <td>Yes</td>\n",
              "      <td>Yes</td>\n",
              "      <td>No</td>\n",
              "      <td>No</td>\n",
              "      <td>No</td>\n",
              "      <td>0</td>\n",
              "      <td>1371</td>\n",
              "      <td>Yes</td>\n",
              "      <td>No</td>\n",
              "    </tr>\n",
              "    <tr>\n",
              "      <th>4</th>\n",
              "      <td>9237-HQITU</td>\n",
              "      <td>2019-09-01</td>\n",
              "      <td>2019-11-01</td>\n",
              "      <td>Month-to-month</td>\n",
              "      <td>Yes</td>\n",
              "      <td>Electronic check</td>\n",
              "      <td>70.70</td>\n",
              "      <td>151.65</td>\n",
              "      <td>Female</td>\n",
              "      <td>No</td>\n",
              "      <td>...</td>\n",
              "      <td>No</td>\n",
              "      <td>No</td>\n",
              "      <td>No</td>\n",
              "      <td>No</td>\n",
              "      <td>No</td>\n",
              "      <td>No</td>\n",
              "      <td>1</td>\n",
              "      <td>61</td>\n",
              "      <td>Yes</td>\n",
              "      <td>Yes</td>\n",
              "    </tr>\n",
              "  </tbody>\n",
              "</table>\n",
              "<p>5 rows × 24 columns</p>\n",
              "</div>\n",
              "      <button class=\"colab-df-convert\" onclick=\"convertToInteractive('df-b59f60fb-21b1-4c12-8b50-db400e762612')\"\n",
              "              title=\"Convert this dataframe to an interactive table.\"\n",
              "              style=\"display:none;\">\n",
              "        \n",
              "  <svg xmlns=\"http://www.w3.org/2000/svg\" height=\"24px\"viewBox=\"0 0 24 24\"\n",
              "       width=\"24px\">\n",
              "    <path d=\"M0 0h24v24H0V0z\" fill=\"none\"/>\n",
              "    <path d=\"M18.56 5.44l.94 2.06.94-2.06 2.06-.94-2.06-.94-.94-2.06-.94 2.06-2.06.94zm-11 1L8.5 8.5l.94-2.06 2.06-.94-2.06-.94L8.5 2.5l-.94 2.06-2.06.94zm10 10l.94 2.06.94-2.06 2.06-.94-2.06-.94-.94-2.06-.94 2.06-2.06.94z\"/><path d=\"M17.41 7.96l-1.37-1.37c-.4-.4-.92-.59-1.43-.59-.52 0-1.04.2-1.43.59L10.3 9.45l-7.72 7.72c-.78.78-.78 2.05 0 2.83L4 21.41c.39.39.9.59 1.41.59.51 0 1.02-.2 1.41-.59l7.78-7.78 2.81-2.81c.8-.78.8-2.07 0-2.86zM5.41 20L4 18.59l7.72-7.72 1.47 1.35L5.41 20z\"/>\n",
              "  </svg>\n",
              "      </button>\n",
              "      \n",
              "  <style>\n",
              "    .colab-df-container {\n",
              "      display:flex;\n",
              "      flex-wrap:wrap;\n",
              "      gap: 12px;\n",
              "    }\n",
              "\n",
              "    .colab-df-convert {\n",
              "      background-color: #E8F0FE;\n",
              "      border: none;\n",
              "      border-radius: 50%;\n",
              "      cursor: pointer;\n",
              "      display: none;\n",
              "      fill: #1967D2;\n",
              "      height: 32px;\n",
              "      padding: 0 0 0 0;\n",
              "      width: 32px;\n",
              "    }\n",
              "\n",
              "    .colab-df-convert:hover {\n",
              "      background-color: #E2EBFA;\n",
              "      box-shadow: 0px 1px 2px rgba(60, 64, 67, 0.3), 0px 1px 3px 1px rgba(60, 64, 67, 0.15);\n",
              "      fill: #174EA6;\n",
              "    }\n",
              "\n",
              "    [theme=dark] .colab-df-convert {\n",
              "      background-color: #3B4455;\n",
              "      fill: #D2E3FC;\n",
              "    }\n",
              "\n",
              "    [theme=dark] .colab-df-convert:hover {\n",
              "      background-color: #434B5C;\n",
              "      box-shadow: 0px 1px 3px 1px rgba(0, 0, 0, 0.15);\n",
              "      filter: drop-shadow(0px 1px 2px rgba(0, 0, 0, 0.3));\n",
              "      fill: #FFFFFF;\n",
              "    }\n",
              "  </style>\n",
              "\n",
              "      <script>\n",
              "        const buttonEl =\n",
              "          document.querySelector('#df-b59f60fb-21b1-4c12-8b50-db400e762612 button.colab-df-convert');\n",
              "        buttonEl.style.display =\n",
              "          google.colab.kernel.accessAllowed ? 'block' : 'none';\n",
              "\n",
              "        async function convertToInteractive(key) {\n",
              "          const element = document.querySelector('#df-b59f60fb-21b1-4c12-8b50-db400e762612');\n",
              "          const dataTable =\n",
              "            await google.colab.kernel.invokeFunction('convertToInteractive',\n",
              "                                                     [key], {});\n",
              "          if (!dataTable) return;\n",
              "\n",
              "          const docLinkHtml = 'Like what you see? Visit the ' +\n",
              "            '<a target=\"_blank\" href=https://colab.research.google.com/notebooks/data_table.ipynb>data table notebook</a>'\n",
              "            + ' to learn more about interactive tables.';\n",
              "          element.innerHTML = '';\n",
              "          dataTable['output_type'] = 'display_data';\n",
              "          await google.colab.output.renderOutput(dataTable, element);\n",
              "          const docLink = document.createElement('div');\n",
              "          docLink.innerHTML = docLinkHtml;\n",
              "          element.appendChild(docLink);\n",
              "        }\n",
              "      </script>\n",
              "    </div>\n",
              "  </div>\n",
              "  "
            ]
          },
          "metadata": {}
        },
        {
          "output_type": "display_data",
          "data": {
            "text/plain": [
              "       monthly_charges  total_charges       target  lifetime_days\n",
              "count      7032.000000    7032.000000  7032.000000    7032.000000\n",
              "mean         64.798208    2283.300441     0.265785     987.538538\n",
              "std          30.085974    2266.771362     0.441782     747.153663\n",
              "min          18.250000      18.800000     0.000000      30.000000\n",
              "25%          35.587500     401.450000     0.000000     275.000000\n",
              "50%          70.350000    1397.475000     0.000000     883.000000\n",
              "75%          89.862500    3794.737500     1.000000    1676.000000\n",
              "max         118.750000    8684.800000     1.000000    2191.000000"
            ],
            "text/html": [
              "\n",
              "  <div id=\"df-a9f4babf-8c63-4fa5-b953-b7d16cad6893\">\n",
              "    <div class=\"colab-df-container\">\n",
              "      <div>\n",
              "<style scoped>\n",
              "    .dataframe tbody tr th:only-of-type {\n",
              "        vertical-align: middle;\n",
              "    }\n",
              "\n",
              "    .dataframe tbody tr th {\n",
              "        vertical-align: top;\n",
              "    }\n",
              "\n",
              "    .dataframe thead th {\n",
              "        text-align: right;\n",
              "    }\n",
              "</style>\n",
              "<table border=\"1\" class=\"dataframe\">\n",
              "  <thead>\n",
              "    <tr style=\"text-align: right;\">\n",
              "      <th></th>\n",
              "      <th>monthly_charges</th>\n",
              "      <th>total_charges</th>\n",
              "      <th>target</th>\n",
              "      <th>lifetime_days</th>\n",
              "    </tr>\n",
              "  </thead>\n",
              "  <tbody>\n",
              "    <tr>\n",
              "      <th>count</th>\n",
              "      <td>7032.000000</td>\n",
              "      <td>7032.000000</td>\n",
              "      <td>7032.000000</td>\n",
              "      <td>7032.000000</td>\n",
              "    </tr>\n",
              "    <tr>\n",
              "      <th>mean</th>\n",
              "      <td>64.798208</td>\n",
              "      <td>2283.300441</td>\n",
              "      <td>0.265785</td>\n",
              "      <td>987.538538</td>\n",
              "    </tr>\n",
              "    <tr>\n",
              "      <th>std</th>\n",
              "      <td>30.085974</td>\n",
              "      <td>2266.771362</td>\n",
              "      <td>0.441782</td>\n",
              "      <td>747.153663</td>\n",
              "    </tr>\n",
              "    <tr>\n",
              "      <th>min</th>\n",
              "      <td>18.250000</td>\n",
              "      <td>18.800000</td>\n",
              "      <td>0.000000</td>\n",
              "      <td>30.000000</td>\n",
              "    </tr>\n",
              "    <tr>\n",
              "      <th>25%</th>\n",
              "      <td>35.587500</td>\n",
              "      <td>401.450000</td>\n",
              "      <td>0.000000</td>\n",
              "      <td>275.000000</td>\n",
              "    </tr>\n",
              "    <tr>\n",
              "      <th>50%</th>\n",
              "      <td>70.350000</td>\n",
              "      <td>1397.475000</td>\n",
              "      <td>0.000000</td>\n",
              "      <td>883.000000</td>\n",
              "    </tr>\n",
              "    <tr>\n",
              "      <th>75%</th>\n",
              "      <td>89.862500</td>\n",
              "      <td>3794.737500</td>\n",
              "      <td>1.000000</td>\n",
              "      <td>1676.000000</td>\n",
              "    </tr>\n",
              "    <tr>\n",
              "      <th>max</th>\n",
              "      <td>118.750000</td>\n",
              "      <td>8684.800000</td>\n",
              "      <td>1.000000</td>\n",
              "      <td>2191.000000</td>\n",
              "    </tr>\n",
              "  </tbody>\n",
              "</table>\n",
              "</div>\n",
              "      <button class=\"colab-df-convert\" onclick=\"convertToInteractive('df-a9f4babf-8c63-4fa5-b953-b7d16cad6893')\"\n",
              "              title=\"Convert this dataframe to an interactive table.\"\n",
              "              style=\"display:none;\">\n",
              "        \n",
              "  <svg xmlns=\"http://www.w3.org/2000/svg\" height=\"24px\"viewBox=\"0 0 24 24\"\n",
              "       width=\"24px\">\n",
              "    <path d=\"M0 0h24v24H0V0z\" fill=\"none\"/>\n",
              "    <path d=\"M18.56 5.44l.94 2.06.94-2.06 2.06-.94-2.06-.94-.94-2.06-.94 2.06-2.06.94zm-11 1L8.5 8.5l.94-2.06 2.06-.94-2.06-.94L8.5 2.5l-.94 2.06-2.06.94zm10 10l.94 2.06.94-2.06 2.06-.94-2.06-.94-.94-2.06-.94 2.06-2.06.94z\"/><path d=\"M17.41 7.96l-1.37-1.37c-.4-.4-.92-.59-1.43-.59-.52 0-1.04.2-1.43.59L10.3 9.45l-7.72 7.72c-.78.78-.78 2.05 0 2.83L4 21.41c.39.39.9.59 1.41.59.51 0 1.02-.2 1.41-.59l7.78-7.78 2.81-2.81c.8-.78.8-2.07 0-2.86zM5.41 20L4 18.59l7.72-7.72 1.47 1.35L5.41 20z\"/>\n",
              "  </svg>\n",
              "      </button>\n",
              "      \n",
              "  <style>\n",
              "    .colab-df-container {\n",
              "      display:flex;\n",
              "      flex-wrap:wrap;\n",
              "      gap: 12px;\n",
              "    }\n",
              "\n",
              "    .colab-df-convert {\n",
              "      background-color: #E8F0FE;\n",
              "      border: none;\n",
              "      border-radius: 50%;\n",
              "      cursor: pointer;\n",
              "      display: none;\n",
              "      fill: #1967D2;\n",
              "      height: 32px;\n",
              "      padding: 0 0 0 0;\n",
              "      width: 32px;\n",
              "    }\n",
              "\n",
              "    .colab-df-convert:hover {\n",
              "      background-color: #E2EBFA;\n",
              "      box-shadow: 0px 1px 2px rgba(60, 64, 67, 0.3), 0px 1px 3px 1px rgba(60, 64, 67, 0.15);\n",
              "      fill: #174EA6;\n",
              "    }\n",
              "\n",
              "    [theme=dark] .colab-df-convert {\n",
              "      background-color: #3B4455;\n",
              "      fill: #D2E3FC;\n",
              "    }\n",
              "\n",
              "    [theme=dark] .colab-df-convert:hover {\n",
              "      background-color: #434B5C;\n",
              "      box-shadow: 0px 1px 3px 1px rgba(0, 0, 0, 0.15);\n",
              "      filter: drop-shadow(0px 1px 2px rgba(0, 0, 0, 0.3));\n",
              "      fill: #FFFFFF;\n",
              "    }\n",
              "  </style>\n",
              "\n",
              "      <script>\n",
              "        const buttonEl =\n",
              "          document.querySelector('#df-a9f4babf-8c63-4fa5-b953-b7d16cad6893 button.colab-df-convert');\n",
              "        buttonEl.style.display =\n",
              "          google.colab.kernel.accessAllowed ? 'block' : 'none';\n",
              "\n",
              "        async function convertToInteractive(key) {\n",
              "          const element = document.querySelector('#df-a9f4babf-8c63-4fa5-b953-b7d16cad6893');\n",
              "          const dataTable =\n",
              "            await google.colab.kernel.invokeFunction('convertToInteractive',\n",
              "                                                     [key], {});\n",
              "          if (!dataTable) return;\n",
              "\n",
              "          const docLinkHtml = 'Like what you see? Visit the ' +\n",
              "            '<a target=\"_blank\" href=https://colab.research.google.com/notebooks/data_table.ipynb>data table notebook</a>'\n",
              "            + ' to learn more about interactive tables.';\n",
              "          element.innerHTML = '';\n",
              "          dataTable['output_type'] = 'display_data';\n",
              "          await google.colab.output.renderOutput(dataTable, element);\n",
              "          const docLink = document.createElement('div');\n",
              "          docLink.innerHTML = docLinkHtml;\n",
              "          element.appendChild(docLink);\n",
              "        }\n",
              "      </script>\n",
              "    </div>\n",
              "  </div>\n",
              "  "
            ]
          },
          "metadata": {}
        }
      ],
      "source": [
        "df_review(df_full)"
      ]
    },
    {
      "cell_type": "markdown",
      "metadata": {
        "id": "nDMBi-3C5rjz"
      },
      "source": [
        "Мы завершием предобработку данных. На данном этапе мы:\n",
        "- Объеденили предоставленные датасеты в один общий датафрейм;\n",
        "- Сгенерировали целевую переменную;\n",
        "- Исправили тип данных там, где это было нужно;\n",
        "- Заполнили пропущенные значения;\n",
        "- Сгенерировали дополнительные признаки.\n",
        "\n",
        "На следующем этапе мы произведем более глубокий исследоовательский анализ данных."
      ]
    },
    {
      "cell_type": "markdown",
      "metadata": {
        "id": "oTtsr5Dklc_W"
      },
      "source": [
        "## Исследовательский анализ данных"
      ]
    },
    {
      "cell_type": "markdown",
      "metadata": {
        "id": "VwrlxBhHlc8g"
      },
      "source": [
        "### Жизнь клиента в продукте\n",
        "\n",
        "На предыдущем этапе мы выяснили, что нам предоставлены данные об активных и ушедших клиентах в период **с 1 октября 2019 года по 1 февраля 2020 года.**\n",
        "\n",
        "Изучим, в какие годы клиенты заключали договор с оператором связи:"
      ]
    },
    {
      "cell_type": "code",
      "execution_count": null,
      "metadata": {
        "colab": {
          "base_uri": "https://localhost:8080/",
          "height": 354
        },
        "id": "btGAhghO_zBr",
        "outputId": "1f45ace2-277e-490f-b823-3cc4318ad771"
      },
      "outputs": [
        {
          "output_type": "execute_result",
          "data": {
            "text/plain": [
              "<function matplotlib.pyplot.show(close=None, block=None)>"
            ]
          },
          "metadata": {},
          "execution_count": 32
        },
        {
          "output_type": "display_data",
          "data": {
            "text/plain": [
              "<Figure size 1080x360 with 1 Axes>"
            ],
            "image/png": "[encoded data removed]"
          },
          "metadata": {
            "needs_background": "light"
          }
        }
      ],
      "source": [
        "plt.figure(figsize=(15, 5))\n",
        "plt.hist(df_full['begin_date'], bins=76, color='#04d8b2')\n",
        "plt.grid()\n",
        "plt.title('Дата начала пользования услугами') \n",
        "plt.show"
      ]
    },
    {
      "cell_type": "markdown",
      "metadata": {
        "id": "W-Mgv4LHQNLe"
      },
      "source": [
        "Первый договор с клиентом в предоставленных нам данных был оформлен в октябре 2013 года. На гистограмме мы видим, что в феврале 2014 года количество заключаемых договоров резко возросло до отметки 350, но уже с лета 2014 по конец 2018 года распределение заключаемых договоров было примерно на одном уровне в промежутке от 50 до 100 штук, а за последний год наблюдений мы вновь видим значительный рост. "
      ]
    },
    {
      "cell_type": "code",
      "execution_count": null,
      "metadata": {
        "colab": {
          "base_uri": "https://localhost:8080/",
          "height": 297
        },
        "id": "BqomGIKVB9Pe",
        "outputId": "9898cd34-3c3a-40cd-a9e9-1ee1bcde49e3"
      },
      "outputs": [
        {
          "output_type": "execute_result",
          "data": {
            "text/plain": [
              "<function matplotlib.pyplot.show(close=None, block=None)>"
            ]
          },
          "metadata": {},
          "execution_count": 33
        },
        {
          "output_type": "display_data",
          "data": {
            "text/plain": [
              "<Figure size 720x288 with 1 Axes>"
            ],
            "image/png": "[encoded data removed]"
          },
          "metadata": {
            "needs_background": "light"
          }
        }
      ],
      "source": [
        "target_grouped = df_full.groupby('lifetime_days')['target'].sum()\n",
        "\n",
        "plt.figure(figsize=(10, 4))\n",
        "plt.plot(target_grouped, color='r')\n",
        "plt.grid()\n",
        "plt.xlabel('Длительность жизни клиента в продукте') \n",
        "plt.ylabel('Количество расторгнутых договоров')\n",
        "plt.show"
      ]
    },
    {
      "cell_type": "markdown",
      "metadata": {
        "id": "kLu4VgRcGU5r"
      },
      "source": [
        "Мы видим, что чаще всего клиенты отказывались от услуг оператора уже после первого месяца использования. А клиенты, пользующиеся услугами уже много лет, значительно реже расторгают договор."
      ]
    },
    {
      "cell_type": "markdown",
      "metadata": {
        "id": "yCJH-jrclc23"
      },
      "source": [
        "### Способы оплаты, траты на услуги"
      ]
    },
    {
      "cell_type": "code",
      "execution_count": null,
      "metadata": {
        "colab": {
          "base_uri": "https://localhost:8080/",
          "height": 388
        },
        "id": "BvsTEFvbyn13",
        "outputId": "47fd5fd0-fa39-4760-a2b5-261280d4639a"
      },
      "outputs": [
        {
          "output_type": "execute_result",
          "data": {
            "text/plain": [
              "<function matplotlib.pyplot.show(close=None, block=None)>"
            ]
          },
          "metadata": {},
          "execution_count": 34
        },
        {
          "output_type": "display_data",
          "data": {
            "text/plain": [
              "<Figure size 1080x288 with 3 Axes>"
            ],
            "image/png": "[encoded data removed]"
          },
          "metadata": {
            "needs_background": "light"
          }
        }
      ],
      "source": [
        "plt.figure(figsize=(15, 4))\n",
        "plt.subplot (1, 3, 1)\n",
        "plt.hist(df_full['type'], color='#306f23')\n",
        "plt.grid()\n",
        "plt.title('Тип оплаты') \n",
        "plt.subplot (1, 3, 2)\n",
        "plt.hist(df_full['paperless_billing'], color='#04d8b2')\n",
        "plt.grid()\n",
        "plt.title('Безналичный расчет') \n",
        "plt.subplot (1, 3, 3)\n",
        "plt.hist(df_full['payment_method'], color='#04d860')\n",
        "plt.xticks(rotation=45)\n",
        "plt.grid()\n",
        "plt.title('Способ оплаты') \n",
        "plt.show"
      ]
    },
    {
      "cell_type": "markdown",
      "metadata": {
        "id": "SxW_Y6SDlcuF"
      },
      "source": [
        "Мы видим, что чаще всего клиенты предпочитают ежемесячные платежи за услуги, а также чаще выбирают безналичный тип оплаты. \n",
        "\n",
        "Изучим различия в способах оплаты у активных клиентов, и у клиентов, отказавшихся от услуг:"
      ]
    },
    {
      "cell_type": "code",
      "execution_count": null,
      "metadata": {
        "colab": {
          "base_uri": "https://localhost:8080/",
          "height": 530
        },
        "id": "PYs63EioMANu",
        "outputId": "04c3d6cb-8d5e-45ae-d9e9-6eb5ae4ec5b0"
      },
      "outputs": [
        {
          "output_type": "execute_result",
          "data": {
            "text/plain": [
              "([0, 1, 2, 3],\n",
              " [Text(0, 0, 'Electronic check'),\n",
              "  Text(1, 0, 'Mailed check'),\n",
              "  Text(2, 0, 'Bank transfer (automatic)'),\n",
              "  Text(3, 0, 'Credit card (automatic)')])"
            ]
          },
          "metadata": {},
          "execution_count": 35
        },
        {
          "output_type": "display_data",
          "data": {
            "text/plain": [
              "<Figure size 1080x360 with 3 Axes>"
            ],
            "image/png": "[encoded data removed]"
          },
          "metadata": {
            "needs_background": "light"
          }
        }
      ],
      "source": [
        "f, (ax1, ax2, ax3) = plt.subplots(1, 3, figsize=(15, 5))\n",
        "sns.histplot(\n",
        "    data=df_full, x='type', hue='target', multiple=\"dodge\", \n",
        "    palette=\"rocket\", shrink=.8, ax=ax1\n",
        ")\n",
        "ax1.set_title(\"Тип оплаты\")\n",
        "\n",
        "sns.histplot(\n",
        "    data=df_full, x='paperless_billing', hue='target', \n",
        "    multiple=\"dodge\", palette=\"vlag\", shrink=.8, ax=ax2\n",
        ")\n",
        "ax2.set_title(\"Безналичный расчет\")\n",
        "\n",
        "sns.histplot(\n",
        "    data=df_full, x='payment_method', hue='target', \n",
        "    multiple=\"dodge\", palette=\"deep\", shrink=.8, ax=ax3\n",
        ")\n",
        "ax3.set_title(\"Способ оплаты\")\n",
        "plt.xticks(rotation=45)\n",
        "plt.show"
      ]
    },
    {
      "cell_type": "markdown",
      "metadata": {
        "id": "yE6AsMEPZcjR"
      },
      "source": [
        "На графике мы видим, что клиенты с ежемесячной оплатой намного чаще отказываются от услуг, чем клиенты с годовой или двух-годовой подпиской.\n",
        "\n",
        "Также мы видим, что клиенты с автоматической системой оплаты значительно реже разрывают договор, чем клиенты, оплачивающие счёт вручную.\n",
        "\n",
        "Сравним меры центральной тенденции ежемесячных трат на услуги у клиентов, отказавшихся от услуг, и у клиентов, которые остались с оператором связи."
      ]
    },
    {
      "cell_type": "code",
      "execution_count": null,
      "metadata": {
        "colab": {
          "base_uri": "https://localhost:8080/",
          "height": 175
        },
        "id": "Bs6hxhFyMub4",
        "outputId": "1b706354-910c-45bc-c37b-03af1600b900",
        "scrolled": true
      },
      "outputs": [
        {
          "output_type": "execute_result",
          "data": {
            "text/plain": [
              "                median            mean\n",
              "       monthly_charges monthly_charges\n",
              "target                                \n",
              "0                 64.4            61.3\n",
              "1                 79.6            74.4"
            ],
            "text/html": [
              "\n",
              "  <div id=\"df-37680c3b-3432-4d9e-ac06-17d8dfa93b23\">\n",
              "    <div class=\"colab-df-container\">\n",
              "      <div>\n",
              "<style scoped>\n",
              "    .dataframe tbody tr th:only-of-type {\n",
              "        vertical-align: middle;\n",
              "    }\n",
              "\n",
              "    .dataframe tbody tr th {\n",
              "        vertical-align: top;\n",
              "    }\n",
              "\n",
              "    .dataframe thead tr th {\n",
              "        text-align: left;\n",
              "    }\n",
              "\n",
              "    .dataframe thead tr:last-of-type th {\n",
              "        text-align: right;\n",
              "    }\n",
              "</style>\n",
              "<table border=\"1\" class=\"dataframe\">\n",
              "  <thead>\n",
              "    <tr>\n",
              "      <th></th>\n",
              "      <th>median</th>\n",
              "      <th>mean</th>\n",
              "    </tr>\n",
              "    <tr>\n",
              "      <th></th>\n",
              "      <th>monthly_charges</th>\n",
              "      <th>monthly_charges</th>\n",
              "    </tr>\n",
              "    <tr>\n",
              "      <th>target</th>\n",
              "      <th></th>\n",
              "      <th></th>\n",
              "    </tr>\n",
              "  </thead>\n",
              "  <tbody>\n",
              "    <tr>\n",
              "      <th>0</th>\n",
              "      <td>64.4</td>\n",
              "      <td>61.3</td>\n",
              "    </tr>\n",
              "    <tr>\n",
              "      <th>1</th>\n",
              "      <td>79.6</td>\n",
              "      <td>74.4</td>\n",
              "    </tr>\n",
              "  </tbody>\n",
              "</table>\n",
              "</div>\n",
              "      <button class=\"colab-df-convert\" onclick=\"convertToInteractive('df-37680c3b-3432-4d9e-ac06-17d8dfa93b23')\"\n",
              "              title=\"Convert this dataframe to an interactive table.\"\n",
              "              style=\"display:none;\">\n",
              "        \n",
              "  <svg xmlns=\"http://www.w3.org/2000/svg\" height=\"24px\"viewBox=\"0 0 24 24\"\n",
              "       width=\"24px\">\n",
              "    <path d=\"M0 0h24v24H0V0z\" fill=\"none\"/>\n",
              "    <path d=\"M18.56 5.44l.94 2.06.94-2.06 2.06-.94-2.06-.94-.94-2.06-.94 2.06-2.06.94zm-11 1L8.5 8.5l.94-2.06 2.06-.94-2.06-.94L8.5 2.5l-.94 2.06-2.06.94zm10 10l.94 2.06.94-2.06 2.06-.94-2.06-.94-.94-2.06-.94 2.06-2.06.94z\"/><path d=\"M17.41 7.96l-1.37-1.37c-.4-.4-.92-.59-1.43-.59-.52 0-1.04.2-1.43.59L10.3 9.45l-7.72 7.72c-.78.78-.78 2.05 0 2.83L4 21.41c.39.39.9.59 1.41.59.51 0 1.02-.2 1.41-.59l7.78-7.78 2.81-2.81c.8-.78.8-2.07 0-2.86zM5.41 20L4 18.59l7.72-7.72 1.47 1.35L5.41 20z\"/>\n",
              "  </svg>\n",
              "      </button>\n",
              "      \n",
              "  <style>\n",
              "    .colab-df-container {\n",
              "      display:flex;\n",
              "      flex-wrap:wrap;\n",
              "      gap: 12px;\n",
              "    }\n",
              "\n",
              "    .colab-df-convert {\n",
              "      background-color: #E8F0FE;\n",
              "      border: none;\n",
              "      border-radius: 50%;\n",
              "      cursor: pointer;\n",
              "      display: none;\n",
              "      fill: #1967D2;\n",
              "      height: 32px;\n",
              "      padding: 0 0 0 0;\n",
              "      width: 32px;\n",
              "    }\n",
              "\n",
              "    .colab-df-convert:hover {\n",
              "      background-color: #E2EBFA;\n",
              "      box-shadow: 0px 1px 2px rgba(60, 64, 67, 0.3), 0px 1px 3px 1px rgba(60, 64, 67, 0.15);\n",
              "      fill: #174EA6;\n",
              "    }\n",
              "\n",
              "    [theme=dark] .colab-df-convert {\n",
              "      background-color: #3B4455;\n",
              "      fill: #D2E3FC;\n",
              "    }\n",
              "\n",
              "    [theme=dark] .colab-df-convert:hover {\n",
              "      background-color: #434B5C;\n",
              "      box-shadow: 0px 1px 3px 1px rgba(0, 0, 0, 0.15);\n",
              "      filter: drop-shadow(0px 1px 2px rgba(0, 0, 0, 0.3));\n",
              "      fill: #FFFFFF;\n",
              "    }\n",
              "  </style>\n",
              "\n",
              "      <script>\n",
              "        const buttonEl =\n",
              "          document.querySelector('#df-37680c3b-3432-4d9e-ac06-17d8dfa93b23 button.colab-df-convert');\n",
              "        buttonEl.style.display =\n",
              "          google.colab.kernel.accessAllowed ? 'block' : 'none';\n",
              "\n",
              "        async function convertToInteractive(key) {\n",
              "          const element = document.querySelector('#df-37680c3b-3432-4d9e-ac06-17d8dfa93b23');\n",
              "          const dataTable =\n",
              "            await google.colab.kernel.invokeFunction('convertToInteractive',\n",
              "                                                     [key], {});\n",
              "          if (!dataTable) return;\n",
              "\n",
              "          const docLinkHtml = 'Like what you see? Visit the ' +\n",
              "            '<a target=\"_blank\" href=https://colab.research.google.com/notebooks/data_table.ipynb>data table notebook</a>'\n",
              "            + ' to learn more about interactive tables.';\n",
              "          element.innerHTML = '';\n",
              "          dataTable['output_type'] = 'display_data';\n",
              "          await google.colab.output.renderOutput(dataTable, element);\n",
              "          const docLink = document.createElement('div');\n",
              "          docLink.innerHTML = docLinkHtml;\n",
              "          element.appendChild(docLink);\n",
              "        }\n",
              "      </script>\n",
              "    </div>\n",
              "  </div>\n",
              "  "
            ]
          },
          "metadata": {},
          "execution_count": 36
        }
      ],
      "source": [
        "payment_pivot = df_full.pivot_table(\n",
        "    index='target',\n",
        "    values='monthly_charges',\n",
        "    aggfunc=[np.median, np.mean]\n",
        ")\n",
        "payment_pivot.round(1)"
      ]
    },
    {
      "cell_type": "markdown",
      "metadata": {
        "id": "8yrJm92XlcrK"
      },
      "source": [
        "Мы видим, что у клиентов, расторгнувших договор, средняя и медианная стоимость услуг выше, чем у тех, кто остался с оператором связи.\n",
        "\n",
        "Изучим общие графики трат на услуги:"
      ]
    },
    {
      "cell_type": "code",
      "execution_count": null,
      "metadata": {
        "colab": {
          "base_uri": "https://localhost:8080/",
          "height": 299
        },
        "id": "LXQt5NfYnOpa",
        "outputId": "f3fc0f5d-e570-4e66-a00b-2ad52c91ef43"
      },
      "outputs": [
        {
          "output_type": "execute_result",
          "data": {
            "text/plain": [
              "<function matplotlib.pyplot.show(close=None, block=None)>"
            ]
          },
          "metadata": {},
          "execution_count": 37
        },
        {
          "output_type": "display_data",
          "data": {
            "text/plain": [
              "<Figure size 1080x288 with 2 Axes>"
            ],
            "image/png": "[encoded data removed]"
          },
          "metadata": {
            "needs_background": "light"
          }
        }
      ],
      "source": [
        "plt.figure(figsize=(15, 4))\n",
        "plt.subplot (1, 2, 1)\n",
        "plt.hist(df_full['monthly_charges'], bins=50, color='#306f23')\n",
        "plt.grid()\n",
        "plt.title('Ежемесячные траты на услуги') \n",
        "plt.subplot (1, 2, 2)\n",
        "plt.hist(df_full['total_charges'], bins=50, color='#04d8b2')\n",
        "plt.grid()\n",
        "plt.title('Всего потрачено на услуги') \n",
        "plt.show"
      ]
    },
    {
      "cell_type": "markdown",
      "metadata": {
        "id": "MkIqJFuEQFTo"
      },
      "source": [
        "На графиках мы видим пикe у минимальной отметки ежемесячных трат на услуги. Посмотрим, какими услугами пользовались клиенты из этой когорты."
      ]
    },
    {
      "cell_type": "code",
      "execution_count": null,
      "metadata": {
        "colab": {
          "base_uri": "https://localhost:8080/"
        },
        "id": "1kRASjSbjZCc",
        "outputId": "2008e289-bbe2-45ec-de86-e5f4e90b7f70"
      },
      "outputs": [
        {
          "output_type": "stream",
          "name": "stdout",
          "text": [
            "Клиентов когорты \"мальки\", пользующихся и интернетом, и телефоном: 0\n",
            "Клиентов когорты \"мальки\", пользующихся интернетом: 127\n",
            "Клиентов когорты \"мальки\", пользующихся телефоном: 1520 \n",
            "Клиентов когорты \"мальки\", отказавшихся от услуг оператора: 162, 10%\n"
          ]
        }
      ],
      "source": [
        "minnows = df_full[df_full['monthly_charges'] <= 30]\n",
        "\n",
        "print(f'''Клиентов когорты \"мальки\", пользующихся и интернетом, и телефоном: {sum((minnows['internet_user'] == 'Yes') & (minnows['phone_user'] == 'Yes'))}\n",
        "Клиентов когорты \"мальки\", пользующихся интернетом: {sum(minnows['internet_user'] == 'Yes')}\n",
        "Клиентов когорты \"мальки\", пользующихся телефоном: {sum(minnows['phone_user'] == 'Yes')} \n",
        "Клиентов когорты \"мальки\", отказавшихся от услуг оператора: {sum(minnows['target'])}, {sum(minnows['target'])/len(minnows):.0%}''')"
      ]
    },
    {
      "cell_type": "markdown",
      "metadata": {
        "id": "nHfMssEEdJyB"
      },
      "source": [
        "Основная часть клиентов среди \"мальков\" -- пользователи только телефонной сети. Как правило, это самая бюджетная услуга, поэтому никакой аномалии здесь нет. При этом количество пользователей из этой когорты, отказавшихся от услуг оператора за время наблюдения -- всего 10%. "
      ]
    },
    {
      "cell_type": "markdown",
      "metadata": {
        "id": "LbuyGDyjFQ_O"
      },
      "source": [
        "### Личные данные клиентов"
      ]
    },
    {
      "cell_type": "code",
      "execution_count": null,
      "metadata": {
        "colab": {
          "base_uri": "https://localhost:8080/",
          "height": 299
        },
        "id": "IoyJ06eNE65L",
        "outputId": "16d674ab-5087-4e3b-d053-df640a10c6b5"
      },
      "outputs": [
        {
          "output_type": "execute_result",
          "data": {
            "text/plain": [
              "<function matplotlib.pyplot.show(close=None, block=None)>"
            ]
          },
          "metadata": {},
          "execution_count": 39
        },
        {
          "output_type": "display_data",
          "data": {
            "text/plain": [
              "<Figure size 1440x288 with 4 Axes>"
            ],
            "image/png": "[encoded data removed]"
          },
          "metadata": {
            "needs_background": "light"
          }
        }
      ],
      "source": [
        "plt.figure(figsize=(20, 4))\n",
        "plt.subplot (1, 4, 1)\n",
        "plt.hist(df_full['gender'], color='#739f23')\n",
        "plt.grid()\n",
        "plt.title('Пол клиента') \n",
        "plt.subplot (1, 4, 2)\n",
        "plt.hist(df_full['senior_citizen'], color='#04d8b2')\n",
        "plt.grid()\n",
        "plt.title('Пенсионный возраст') \n",
        "plt.subplot (1, 4, 3)\n",
        "plt.hist(df_full['partner'], color='#5792b4')\n",
        "plt.grid()\n",
        "plt.title('Наличие партнёра') \n",
        "plt.subplot (1, 4, 4)\n",
        "plt.hist(df_full['dependents'], color='#8922b4')\n",
        "plt.grid()\n",
        "plt.title('Наличие иждивенцев') \n",
        "plt.show"
      ]
    },
    {
      "cell_type": "markdown",
      "metadata": {
        "id": "ZJUUIq3eI5Jq"
      },
      "source": [
        "В предоставленной выборке примерно равное количество мужчин и женщин. Это хорошо для избежания дискриминации при обучении модели. Пенсионеры составляют около 1/7 от общего количества клиентов. Пользователей, имеющих партнёров, чуть меньше, чем холостых, а клиентов, имеющих иждивенцев, всего 30%.\n",
        "\n",
        "Мы рассмотрим, как эти признаки распределяются у активных и отказавшихся клиентов:"
      ]
    },
    {
      "cell_type": "code",
      "execution_count": null,
      "metadata": {
        "colab": {
          "base_uri": "https://localhost:8080/",
          "height": 314
        },
        "id": "5O_2_4YPbUyE",
        "outputId": "cc3b9cf9-eb9f-4681-fce0-416dd24b62db"
      },
      "outputs": [
        {
          "output_type": "execute_result",
          "data": {
            "text/plain": [
              "<function matplotlib.pyplot.show(close=None, block=None)>"
            ]
          },
          "metadata": {},
          "execution_count": 40
        },
        {
          "output_type": "display_data",
          "data": {
            "text/plain": [
              "<Figure size 1440x288 with 4 Axes>"
            ],
            "image/png": "[encoded data removed]"
          },
          "metadata": {
            "needs_background": "light"
          }
        }
      ],
      "source": [
        "f, (ax1, ax2, ax3, ax4) = plt.subplots(1, 4, figsize=(20, 4))\n",
        "sns.histplot(\n",
        "    data=df_full, x='gender', hue='target', multiple=\"dodge\", \n",
        "    palette=\"Paired\", shrink=.8, ax=ax1\n",
        ")\n",
        "ax1.set_title('Пол клиента') \n",
        "\n",
        "sns.histplot(\n",
        "    data=df_full, x='senior_citizen', hue='target', multiple=\"dodge\", \n",
        "    palette=\"rocket\", shrink=.8, ax=ax2\n",
        ")\n",
        "ax2.set_title('Пенсионный возраст') \n",
        "\n",
        "sns.histplot(\n",
        "    data=df_full, x='partner', hue='target', multiple=\"dodge\", \n",
        "    palette=\"crest\", shrink=.8, ax=ax3\n",
        ")\n",
        "ax3.set_title('Наличие партнёра') \n",
        "\n",
        "sns.histplot(\n",
        "    data=df_full, x='dependents', hue='target', multiple=\"dodge\", \n",
        "    palette=\"magma\", shrink=.8, ax=ax4\n",
        ")\n",
        "ax4.set_title('Наличие иждивенцев') \n",
        "plt.show"
      ]
    },
    {
      "cell_type": "markdown",
      "metadata": {
        "id": "lw1-hw4YdrI_"
      },
      "source": [
        "В целом, значительных различий в личных данных активных и отказавшихся клиентов мы не наблюдаем. Можно отметить, что в нашей выборке клиенты с наличием иждивенцев менее склонны к оттоку."
      ]
    },
    {
      "cell_type": "markdown",
      "metadata": {
        "id": "gZrJlzJKKTiC"
      },
      "source": [
        "### Пользователи интернета и телефона"
      ]
    },
    {
      "cell_type": "code",
      "execution_count": null,
      "metadata": {
        "colab": {
          "base_uri": "https://localhost:8080/",
          "height": 372
        },
        "id": "n6HXNznKImIT",
        "outputId": "9a7c72ca-656c-43aa-acf2-827f70c10744"
      },
      "outputs": [
        {
          "output_type": "stream",
          "name": "stdout",
          "text": [
            "Клиентов , пользующихся и интернетом, и телефоном: 69%\n",
            "Клиентов, пользующихся интернетом: 78%\n",
            "Клиентов, пользующихся телефоном: 90%\n",
            "\n"
          ]
        },
        {
          "output_type": "execute_result",
          "data": {
            "text/plain": [
              "<function matplotlib.pyplot.show(close=None, block=None)>"
            ]
          },
          "metadata": {},
          "execution_count": 41
        },
        {
          "output_type": "display_data",
          "data": {
            "text/plain": [
              "<Figure size 720x288 with 2 Axes>"
            ],
            "image/png": "[encoded data removed]"
          },
          "metadata": {
            "needs_background": "light"
          }
        }
      ],
      "source": [
        "print(f'''Клиентов , пользующихся и интернетом, и телефоном: {sum((df_full['internet_user'] == 'Yes') & (df_full['phone_user'] == 'Yes'))/len(df_full):.0%}\n",
        "Клиентов, пользующихся интернетом: {sum(df_full['internet_user'] == 'Yes')/len(df_full):.0%}\n",
        "Клиентов, пользующихся телефоном: {sum(df_full['phone_user'] == 'Yes')/len(df_full):.0%}''')\n",
        "print('')\n",
        "plt.figure(figsize=(10, 4))\n",
        "plt.subplot (1, 2, 1)\n",
        "plt.hist(df_full['internet_user'], color='#739f23')\n",
        "plt.grid()\n",
        "plt.title('Пользователь интернета') \n",
        "plt.subplot (1, 2, 2)\n",
        "plt.hist(df_full['phone_user'], color='#04d8b2')\n",
        "plt.grid()\n",
        "plt.title('Пользователь телефонии')  \n",
        "plt.show"
      ]
    },
    {
      "cell_type": "markdown",
      "metadata": {
        "id": "1vvJDBUzLSlp"
      },
      "source": [
        "90% всех клиентов пользуются телефонией, а интернетом - на 12% меньше. И телефон, и интернет подключен у 69% пользователей.\n",
        "\n",
        "Сравним распределение значений у ушедших и активных клиентов."
      ]
    },
    {
      "cell_type": "code",
      "execution_count": null,
      "metadata": {
        "colab": {
          "base_uri": "https://localhost:8080/",
          "height": 314
        },
        "id": "Ewk8yV5deG3w",
        "outputId": "617bce19-f6ad-4b8d-9388-052728a4135a"
      },
      "outputs": [
        {
          "output_type": "execute_result",
          "data": {
            "text/plain": [
              "Text(0.5, 1.0, 'Пользователь телефонии')"
            ]
          },
          "metadata": {},
          "execution_count": 42
        },
        {
          "output_type": "display_data",
          "data": {
            "text/plain": [
              "<Figure size 720x288 with 2 Axes>"
            ],
            "image/png": "[encoded data removed]"
          },
          "metadata": {
            "needs_background": "light"
          }
        }
      ],
      "source": [
        "f, (ax1, ax2) = plt.subplots(1, 2, figsize=(10, 4))\n",
        "sns.histplot(\n",
        "    data=df_full, x='internet_user', hue='target', multiple=\"dodge\", \n",
        "    palette=\"Paired\", shrink=.8, ax=ax1\n",
        ")\n",
        "ax1.set_title('Пользователь интернета') \n",
        "\n",
        "sns.histplot(\n",
        "    data=df_full, x='phone_user', hue='target', multiple=\"dodge\", \n",
        "    palette=\"rocket\", shrink=.8, ax=ax2\n",
        ")\n",
        "ax2.set_title('Пользователь телефонии') \n",
        "plt.show"
      ]
    },
    {
      "cell_type": "markdown",
      "metadata": {
        "id": "FkHgZLipwsLe"
      },
      "source": [
        "Посмотрим в цифрах, сколько пользователей, отказавшихся от услуг, использовали интернет, телефонию или все вместе."
      ]
    },
    {
      "cell_type": "code",
      "execution_count": null,
      "metadata": {
        "colab": {
          "base_uri": "https://localhost:8080/"
        },
        "id": "XqcCmR-Uwl-a",
        "outputId": "a0eae3d0-61a3-47b9-ceca-fd0f31b742a5"
      },
      "outputs": [
        {
          "output_type": "stream",
          "name": "stdout",
          "text": [
            "Ушедших клиентов, пользующихся и интернетом, и телефоном: 1586\n",
            "Ушедших клиентов, пользующихся интернетом: 1756\n",
            "Ушедших клиентов, пользующихся телефоном: 1699\n"
          ]
        }
      ],
      "source": [
        "print(f'''Ушедших клиентов, пользующихся и интернетом, и телефоном: {sum(df_full[(df_full['internet_user'] == 'Yes') & (df_full['phone_user'] == 'Yes')]['target'])}\n",
        "Ушедших клиентов, пользующихся интернетом: {sum(df_full[df_full['internet_user'] == 'Yes']['target'])}\n",
        "Ушедших клиентов, пользующихся телефоном: {sum(df_full[df_full['phone_user'] == 'Yes']['target'])}''')"
      ]
    },
    {
      "cell_type": "markdown",
      "metadata": {
        "id": "oTv3FkTTfL8j"
      },
      "source": [
        "В нашей выборке пользователи интернета чуть чаще отказываются от услуг, чем пользователи телефонии.  \n",
        "\n",
        "Рассмотрим поближе, какой тип подключения интернета и телефонии был у ушедших и активных клиентов.\n",
        "\n"
      ]
    },
    {
      "cell_type": "code",
      "source": [
        "f, (ax1, ax2) = plt.subplots(1, 2, figsize=(10, 4))\n",
        "sns.histplot(\n",
        "    data=df_full, x='internet_service', hue='target', multiple=\"dodge\", \n",
        "    palette=\"Paired\", shrink=.8, ax=ax1\n",
        ")\n",
        "ax1.set_title('Тип подключения интернета') \n",
        "\n",
        "sns.histplot(\n",
        "    data=df_full, x='multiple_lines', hue='target', multiple=\"dodge\", \n",
        "    palette=\"rocket\", shrink=.8, ax=ax2\n",
        ")\n",
        "ax2.set_title('Возможность ведения параллельных линий во время звонка') \n",
        "plt.show"
      ],
      "metadata": {
        "colab": {
          "base_uri": "https://localhost:8080/",
          "height": 314
        },
        "id": "mKYUIM-VctFH",
        "outputId": "14853f35-a035-483d-88de-29ff46377ff8"
      },
      "execution_count": null,
      "outputs": [
        {
          "output_type": "execute_result",
          "data": {
            "text/plain": [
              "Text(0.5, 1.0, 'Возможность ведения параллельных линий во время звонка')"
            ]
          },
          "metadata": {},
          "execution_count": 44
        },
        {
          "output_type": "display_data",
          "data": {
            "text/plain": [
              "<Figure size 720x288 with 2 Axes>"
            ],
            "image/png": "[encoded data removed]"
          },
          "metadata": {
            "needs_background": "light"
          }
        }
      ]
    },
    {
      "cell_type": "markdown",
      "source": [
        "Наличие возможности ведения параллельных линий во время звонка не имеет значения, откажется клиент от услуги или нет. \n",
        "\n",
        "А на соседнем графике мы видим, что клиенты интернета значительно чаще отказываются от услуг в случае типа подключения Fiber Optic, чем при DSL."
      ],
      "metadata": {
        "id": "fHiMH6Aaf1dU"
      }
    },
    {
      "cell_type": "markdown",
      "metadata": {
        "id": "AvECJ_GqNK-D"
      },
      "source": [
        "### Отбор признаков для модели\n",
        "\n",
        "На этом этапе мы отберем необходимые для обучения модели признаки: удалим неинформативные колонки, проверим, как признаки коррелируют с целевым признаком, проверим признаки на мультиколлинеарность.\n",
        "\n",
        "Начнем с удаления неинформативных столбцов: id клиентов, даты оформления и окончания договора."
      ]
    },
    {
      "cell_type": "code",
      "execution_count": null,
      "metadata": {
        "id": "pBvn6vibbE4K"
      },
      "outputs": [],
      "source": [
        "# Удалим неинформативные столбцы\n",
        "df_full = df_full.drop({'customer_id', 'begin_date', 'end_date'}, axis=1)"
      ]
    },
    {
      "cell_type": "code",
      "execution_count": null,
      "metadata": {
        "colab": {
          "base_uri": "https://localhost:8080/",
          "height": 864
        },
        "id": "DkGqvR9qLAoM",
        "outputId": "832aa951-fb7d-4e03-97c2-edb60e7d4043"
      },
      "outputs": [
        {
          "data": {
            "image/png": "[encoded data removed]",
            "text/plain": [
              "<Figure size 1440x864 with 2 Axes>"
            ]
          },
          "metadata": {
            "needs_background": "light"
          },
          "output_type": "display_data"
        }
      ],
      "source": [
        "phik_overview = df_full.phik_matrix(interval_cols=['monthly_charges', 'total_charges', 'lifetime_days'])\n",
        "\n",
        "plot_correlation_matrix(phik_overview.values, \n",
        "                        x_labels=phik_overview.columns, \n",
        "                        y_labels=phik_overview.index, \n",
        "                        vmin=0, vmax=1, color_map=\"coolwarm\", \n",
        "                        title=r\"correlation $\\phi_K$\", \n",
        "                        fontsize_factor=1.5, \n",
        "                        figsize=(20, 12))\n",
        "plt.tight_layout()"
      ]
    },
    {
      "cell_type": "markdown",
      "metadata": {
        "id": "WNkvEAWKhN_6"
      },
      "source": [
        "В нашем датасете всего 3 количественных признака: общая сумма списаний, ежемесячная плата, а также количество месяцев использования сервиса клиентом. Все остальные признаки в данных -- категориальные. \n",
        "\n",
        "На графике мы видим, что среди количественных признаков между собой достаточно сильно коррелируют общая сумма списаний и количество месяцев использования сервиса (0,84). Между ежемесячным платежом и общей суммой списаний также достаточно сильная корреляция(0,76). В связи с этим, мы исключим признак `total_charges` перед обучением модели.\n",
        "\n",
        "Между категориальными и количественными признаками мы наблюдаем высокую корреляцию среди признаков:\n",
        "1. Количество месяцев и тип оплаты (ежемесячный, годовой и тд) (0,67);\n",
        "2. Ежемесячный платёж достаточно сильно коррелирует с признаками:\n",
        "*   Пользуется ли клиент телефонией (0,83)\n",
        "*   Пользуется ли клиент интернетом (1)\n",
        "*   Со всеми дополнительными услугами интернета, а также наличием возможности ведения параллельных линий во время звонка.\n",
        "\n",
        "Категориальные признаки, коррелирующие друг с другом:\n",
        "- Подключение к стриминговому телевидению с подключением к каталогу фильмов;\n",
        "- Пользуется ли клиент интернетом с интернет-сервисами (что логично, так как признак был сгенерирован из этих данных)\n",
        "\n",
        "Мы не будем пока что удалять никакие из этих признаков, попробуем обучить машину вместе с ними.\n",
        "\n",
        "С нашей целевой переменной в значительной степени не коррелирует ни один из признаков. Мы можем наблюдать небольшую корреляцию между количеством месяцев и таргетом (ранее на графике мы видели, что клиенты чаще всего отказываются от услуг уже после первого месяца использования), а также между таргетом и способом оплаты.\n",
        "\n",
        "Также мы видим, что признак пола клиента практически никак не коррелирует ни с одним из признаков. Пока мы не будем удалять этот признак, попробуем обучить модели вместе с ним, посмотрим, насколько значим этот признак внутри модели.\n",
        "\n"
      ]
    },
    {
      "cell_type": "code",
      "execution_count": null,
      "metadata": {
        "id": "WnBh0OzIPqnK"
      },
      "outputs": [],
      "source": [
        "# Удалим признак `total_charges`\n",
        "df_full = df_full.drop('total_charges', axis=1)"
      ]
    },
    {
      "cell_type": "markdown",
      "metadata": {
        "id": "9nI09uaMCyvQ"
      },
      "source": [
        "## Подготовка признаков для обучения модели\n",
        "\n",
        "В первую очередь, разделим данные на тренировочную и тестовую выборки. Мы будем проверять модели кросс-валидацией, поэтому валидационная выборка нам не потребуется.\n",
        "\n"
      ]
    },
    {
      "cell_type": "code",
      "execution_count": null,
      "metadata": {
        "id": "iyqpXwbu7GnX"
      },
      "outputs": [],
      "source": [
        "# Разделим данные на обучающую и тестовую выборки\n",
        "features = df_full.drop(['target'], axis=1)\n",
        "target = df_full['target']\n",
        "\n",
        "X_train, X_test, y_train, y_test = train_test_split(\n",
        "    features, target, test_size=0.25, random_state=RANDOM_STATE\n",
        ")"
      ]
    },
    {
      "cell_type": "markdown",
      "metadata": {
        "id": "QaTmiWgbG6K2"
      },
      "source": [
        "В нашем исследовании мы обучим 4 модели классификации:\n",
        "- Логистическая регрессия\n",
        "- Дерево решений\n",
        "- Случайный лес\n",
        "- Градиентный бустинг\n",
        "\n",
        "Для модели линейной регрессии мы закодируем категориальные признаки методом `OneHotEncoder`, для деревьев -- `OrdinalEncoder`, а для модели бустинга мы будем использовать встроенный способ. Все численные признаки мы будем масштабировать с помощью `StandarScaler`.\n",
        "\n",
        "Для начала, создадим переменные для категориальных и численных признаков."
      ]
    },
    {
      "cell_type": "code",
      "execution_count": null,
      "metadata": {
        "id": "Kx4HPmv8MMA6"
      },
      "outputs": [],
      "source": [
        "# Создадим переменные для категориальных и численных признаков\n",
        "cat_columns = [\n",
        "    'type', 'paperless_billing', 'payment_method', 'gender',\n",
        "    'senior_citizen', 'partner', 'dependents', 'internet_service',\n",
        "    'online_security', 'online_backup', 'device_protection', 'tech_support',\n",
        "    'streaming_tv', 'streaming_movies', 'multiple_lines', 'internet_user', \n",
        "    'phone_user'\n",
        "]\n",
        "num_columns = [\n",
        "    'monthly_charges', 'lifetime_days'\n",
        "]"
      ]
    },
    {
      "cell_type": "markdown",
      "metadata": {
        "id": "RLL_XYE1yD9C"
      },
      "source": [
        "Создадим два трансформера: в первом с кодировка категориальных признаков будет осуществляться методом **OneHotEncoder** во втором -- **OrdinalEncoder**. Оба трансформера также будут масштабировать численные признаки методом StandarScaler"
      ]
    },
    {
      "cell_type": "code",
      "execution_count": null,
      "metadata": {
        "id": "QyoTM0d4A_Ck"
      },
      "outputs": [],
      "source": [
        "# Создаем трансформеры с помощью make_column_transformer\n",
        "ohe_transformer = make_column_transformer(\n",
        "    (\n",
        "        OneHotEncoder(drop='first', handle_unknown='ignore'),\n",
        "        cat_columns\n",
        "    ),\n",
        "    (\n",
        "        StandardScaler(), \n",
        "        num_columns\n",
        "    ),\n",
        "    remainder='passthrough',\n",
        "    verbose_feature_names_out=False\n",
        ")\n",
        "\n",
        "ordinal_transformer = make_column_transformer(\n",
        "    (\n",
        "        OrdinalEncoder(handle_unknown='use_encoded_value', unknown_value=-1),\n",
        "        cat_columns\n",
        "    ),\n",
        "    (\n",
        "        StandardScaler(), \n",
        "        num_columns\n",
        "    ),\n",
        "    remainder='passthrough',\n",
        "    verbose_feature_names_out=False\n",
        ")"
      ]
    },
    {
      "cell_type": "markdown",
      "metadata": {
        "id": "O710_NfyHxnI"
      },
      "source": [
        "Данные распределены на обучающую и тестовую выборки, трансформеры для масштабирования и кодирования признаков созданы. Можем переходить к обучению моделей."
      ]
    },
    {
      "cell_type": "markdown",
      "metadata": {
        "id": "Plq6mXrJIO3z"
      },
      "source": [
        "## Обучение моделей\n",
        "\n",
        "В данном исследвании мы обучим следующие модели:\n",
        "1. Линейные модели:\n",
        "- Логистическая регрессия\n",
        "- Ridge Classifier\n",
        "2. Дерево решений\n",
        "\n",
        "3. Случайный лес\n",
        "\n",
        "4. Градиентный бустинг:\n",
        "- LGBM Classifier\n",
        "- CatBoost Classifier\n",
        "\n",
        "Оценку моделей мы будем производить кросс-валидацией с помощью RandomizedSearch + Pipeline. Для этого создадим функцию, которая будет принимать на вход pipeline с моделью и трансформером, а также набор гиперпараметров, а возвращать гиперпараметры лучшей модели и наилучшее значение метрики **AUC-ROC** на обучающей выборке.\n",
        "\n"
      ]
    },
    {
      "cell_type": "code",
      "execution_count": null,
      "metadata": {
        "id": "2NFxSNUJtv17"
      },
      "outputs": [],
      "source": [
        "def best_model_and_score(pipe, params):\n",
        "    rs_pl = RandomizedSearchCV(\n",
        "        pipe, \n",
        "        param_distributions=params, \n",
        "        scoring={'AUC': 'roc_auc', 'Accuracy':'accuracy'},\n",
        "        refit='AUC',\n",
        "        n_iter=15, cv=3, random_state=RANDOM_STATE,\n",
        "        n_jobs=-1\n",
        "    )\n",
        "\n",
        "    rs_pl.fit(X_train, y_train)\n",
        "\n",
        "    df_result = pd.DataFrame(rs_pl.cv_results_)\n",
        "    accuracy = float(\n",
        "        df_result[\n",
        "            df_result['mean_test_AUC'] == rs_pl.best_score_\n",
        "            ]['mean_test_Accuracy'])\n",
        " \n",
        "    # лучшее значение AUC-ROC на кросс-валидации\n",
        "    print(f'best_score_AUC: {rs_pl.best_score_:0.4f}')\n",
        "    # лучшее значение Accuracy на кросс-валидации\n",
        "    print(f'best_score_Accuracy: {accuracy:0.2f}')\n",
        "    # лучшие гиперпараметры\n",
        "    print(f'best_params: { rs_pl.best_params_}')\n",
        "    \n",
        "    return rs_pl.best_estimator_, rs_pl.best_score_, accuracy"
      ]
    },
    {
      "cell_type": "markdown",
      "metadata": {
        "id": "r3uwln1GISzb"
      },
      "source": [
        "### Линейные модели\n",
        "\n",
        "Найдем наилучшие гиперпараметры для линейных моделей Ridge Classifier и Логистической регрессии на данных, трансформированных методом OHE."
      ]
    },
    {
      "cell_type": "code",
      "execution_count": null,
      "metadata": {
        "colab": {
          "base_uri": "https://localhost:8080/"
        },
        "id": "BExXghvkCo_c",
        "outputId": "9fa2a4fa-619b-4f9b-daa9-12165b9c65c1"
      },
      "outputs": [
        {
          "name": "stdout",
          "output_type": "stream",
          "text": [
            "best_score_AUC: 0.8420\n",
            "best_score_Accuracy: 0.74\n",
            "best_params: {'ridgeclassifier__solver': 'cholesky', 'ridgeclassifier__class_weight': 'balanced', 'ridgeclassifier__alpha': 1.0}\n"
          ]
        }
      ],
      "source": [
        "# Обучим модель Ridge Classifier на трансформере OHE\n",
        "model_ridge = RidgeClassifier(random_state=RANDOM_STATE)\n",
        "pipe_ridge = make_pipeline(ohe_transformer, model_ridge)\n",
        "\n",
        "param_ridge = {\n",
        "    'ridgeclassifier__alpha': np.arange(0, 2.0, 0.1),\n",
        "    'ridgeclassifier__class_weight': [None, 'balanced'],\n",
        "    'ridgeclassifier__solver': [\n",
        "        'auto', 'svd', 'cholesky', 'lsqr', \n",
        "        'sparse_cg', 'sag', 'saga', 'lbfgs'\n",
        "        ]\n",
        "}\n",
        "\n",
        "best_ridge_model, auc_ridge, acc_ridge = best_model_and_score(\n",
        "    pipe_ridge, param_ridge\n",
        ")"
      ]
    },
    {
      "cell_type": "code",
      "execution_count": null,
      "metadata": {
        "colab": {
          "base_uri": "https://localhost:8080/"
        },
        "id": "DAV_5UKX2cdT",
        "outputId": "aabbe227-d754-439e-c1de-745ee70ed73f"
      },
      "outputs": [
        {
          "name": "stdout",
          "output_type": "stream",
          "text": [
            "best_score_AUC: 0.8430\n",
            "best_score_Accuracy: 0.81\n",
            "best_params: {'logisticregression__penalty': 'l2', 'logisticregression__class_weight': None, 'logisticregression__C': 4}\n"
          ]
        }
      ],
      "source": [
        "# Обучим модель Логистической регрессии на трансформере OHE\n",
        "model_lr = LogisticRegression(random_state=RANDOM_STATE)\n",
        "pipe_lr = make_pipeline(ohe_transformer, model_lr)\n",
        "param_lr = {\n",
        "    'logisticregression__C': (range(1, 15, 3)), \n",
        "    'logisticregression__penalty': ('l1', 'l2', 'elasticnet', None), \n",
        "    'logisticregression__class_weight': ['balanced', None]\n",
        "}\n",
        "\n",
        "best_lr_model, auc_lr, acc_lr = best_model_and_score(\n",
        "    pipe_lr, param_lr\n",
        ")"
      ]
    },
    {
      "cell_type": "markdown",
      "metadata": {
        "id": "izjs1SIi8Fcy"
      },
      "source": [
        "### Дерево решений\n",
        "\n",
        "Найдем наилучшие гиперпараметры для модели Дерева решений, обученной на данных, трансформированных методом Ordinal Encoder, а затем подберем гиперпараметры для этой же модели, но обученной на данных, трансформированных методом OHE."
      ]
    },
    {
      "cell_type": "code",
      "execution_count": null,
      "metadata": {
        "colab": {
          "base_uri": "https://localhost:8080/"
        },
        "id": "i7uQA2Tf8MNV",
        "outputId": "6a6b46de-8c78-4a80-8b98-ad1902d849c0"
      },
      "outputs": [
        {
          "name": "stdout",
          "output_type": "stream",
          "text": [
            "best_score_AUC: 0.8450\n",
            "best_score_Accuracy: 0.81\n",
            "best_params: {'decisiontreeclassifier__min_samples_split': 16, 'decisiontreeclassifier__min_samples_leaf': 47, 'decisiontreeclassifier__max_leaf_nodes': 45, 'decisiontreeclassifier__max_depth': 40, 'decisiontreeclassifier__class_weight': None}\n"
          ]
        }
      ],
      "source": [
        "# Обучим модель Дерево решений на трансформере Ordinal Encoder\n",
        "\n",
        "model_dtc = DecisionTreeClassifier(random_state=RANDOM_STATE)\n",
        "pipe_ord_dtc = make_pipeline(ordinal_transformer, model_dtc)\n",
        "\n",
        "param_dtc = {\n",
        "    'decisiontreeclassifier__class_weight': ['balanced', None],\n",
        "    'decisiontreeclassifier__min_samples_split': range(1, 101, 5),\n",
        "    'decisiontreeclassifier__max_depth': [1, 5, 7, 10, 15, 20, 30, 40, None],\n",
        "    'decisiontreeclassifier__min_samples_leaf': range(2, 52, 5),\n",
        "    'decisiontreeclassifier__max_leaf_nodes': range(5, 100, 10)\n",
        "}\n",
        "\n",
        "best_dtc_ord_model, auc_dtc_ord, acc_dtc_ord = best_model_and_score(\n",
        "    pipe_ord_dtc, param_dtc\n",
        ")"
      ]
    },
    {
      "cell_type": "code",
      "execution_count": null,
      "metadata": {
        "colab": {
          "base_uri": "https://localhost:8080/"
        },
        "id": "gl27l7R5AX-I",
        "outputId": "20b3195d-1f8b-41b5-ef30-e06c512401da"
      },
      "outputs": [
        {
          "name": "stdout",
          "output_type": "stream",
          "text": [
            "best_score_AUC: 0.8468\n",
            "best_score_Accuracy: 0.81\n",
            "best_params: {'decisiontreeclassifier__min_samples_split': 41, 'decisiontreeclassifier__min_samples_leaf': 17, 'decisiontreeclassifier__max_leaf_nodes': 85, 'decisiontreeclassifier__max_depth': 5, 'decisiontreeclassifier__class_weight': None}\n"
          ]
        }
      ],
      "source": [
        "# Обучим модель Дерево решений на трансформере OHE\n",
        "pipe_ohe_dtc = make_pipeline(ohe_transformer, model_dtc)\n",
        "\n",
        "best_dtc_ohe_model, auc_ohe_dtc, acc_ohe_dtc = best_model_and_score(\n",
        "    pipe_ohe_dtc, param_dtc\n",
        ")"
      ]
    },
    {
      "cell_type": "markdown",
      "metadata": {
        "id": "mc4Wr2pN8M_h"
      },
      "source": [
        "### Случайный лес\n",
        "\n",
        "Теперь подберем наилучшие параметры для модели Случайного леса. Также обучим модель на данных, трансформированных двумя способами."
      ]
    },
    {
      "cell_type": "code",
      "execution_count": null,
      "metadata": {
        "colab": {
          "base_uri": "https://localhost:8080/"
        },
        "id": "6SDh2VS58Na7",
        "outputId": "801588cb-da3c-4c9b-9337-1ef9f02a91f4"
      },
      "outputs": [
        {
          "name": "stdout",
          "output_type": "stream",
          "text": [
            "best_score_AUC: 0.8593\n",
            "best_score_Accuracy: 0.79\n",
            "best_params: {'randomforestclassifier__n_estimators': 105, 'randomforestclassifier__min_samples_split': 22, 'randomforestclassifier__min_samples_leaf': 2, 'randomforestclassifier__max_features': 'sqrt', 'randomforestclassifier__max_depth': 15, 'randomforestclassifier__class_weight': 'balanced'}\n"
          ]
        }
      ],
      "source": [
        "# Обучим модель Случайного леса на трансформере Ordinal Encoder\n",
        "\n",
        "model_rfc = RandomForestClassifier(random_state=RANDOM_STATE)\n",
        "pipe_ord_rfc = make_pipeline(ordinal_transformer, model_rfc)\n",
        "\n",
        "param_rfc = {\n",
        "    'randomforestclassifier__class_weight': ['balanced', None],\n",
        "    'randomforestclassifier__max_depth': [1, 5, 7, 10, 15, 20, 30, 40, None],\n",
        "    'randomforestclassifier__max_features': ['auto', 'sqrt'],\n",
        "    'randomforestclassifier__min_samples_leaf': range(2, 52, 2),\n",
        "    'randomforestclassifier__min_samples_split': range(2, 52, 5),\n",
        "    'randomforestclassifier__n_estimators': range(5, 151, 10)\n",
        "}\n",
        "\n",
        "best_rfc_ord_model, auc_ord_rfc, acc_ord_rfc = best_model_and_score(\n",
        "    pipe_ord_rfc, param_rfc\n",
        ")"
      ]
    },
    {
      "cell_type": "code",
      "execution_count": null,
      "metadata": {
        "colab": {
          "base_uri": "https://localhost:8080/"
        },
        "id": "70YDIa9AX6Cc",
        "outputId": "393397d0-eda4-4de2-d70e-e4c3f31b4724"
      },
      "outputs": [
        {
          "name": "stdout",
          "output_type": "stream",
          "text": [
            "best_score_AUC: 0.8557\n",
            "best_score_Accuracy: 0.81\n",
            "best_params: {'randomforestclassifier__n_estimators': 135, 'randomforestclassifier__min_samples_split': 47, 'randomforestclassifier__min_samples_leaf': 10, 'randomforestclassifier__max_features': 'sqrt', 'randomforestclassifier__max_depth': 7, 'randomforestclassifier__class_weight': None}\n"
          ]
        }
      ],
      "source": [
        "# Обучим модель Случайного леса на трансформере OHE\n",
        "pipe_ohe_rfc = make_pipeline(ohe_transformer, model_rfc)\n",
        "\n",
        "best_rfc_ohe_model, auc_ohe_rfc, acc_ohe_rfc = best_model_and_score(\n",
        "    pipe_ohe_rfc, param_rfc\n",
        ")"
      ]
    },
    {
      "cell_type": "markdown",
      "metadata": {
        "id": "x20lBS8U8OUc"
      },
      "source": [
        "### Градиентный бустинг\n",
        "\n",
        "Для начала подберем модель Градиентного бустинга LGBM Classifier, обученной на данных, закодированных методом OHE."
      ]
    },
    {
      "cell_type": "code",
      "execution_count": null,
      "metadata": {
        "colab": {
          "base_uri": "https://localhost:8080/"
        },
        "id": "HSOm9rlU8Qe1",
        "outputId": "2d0a8936-debd-4e2f-fec2-7ea35ccb3c11"
      },
      "outputs": [
        {
          "name": "stdout",
          "output_type": "stream",
          "text": [
            "best_score_AUC: 0.8921\n",
            "best_score_Accuracy: 0.84\n",
            "best_params: {'lgbmclassifier__n_estimators': 290, 'lgbmclassifier__max_depth': 4, 'lgbmclassifier__class_weight': None}\n"
          ]
        }
      ],
      "source": [
        "# Обучим модель Градиентного бустинга LGBM Classifier\n",
        "\n",
        "model_lgbm = LGBMClassifier(random_state=RANDOM_STATE)\n",
        "pipe_lgbm = make_pipeline(ohe_transformer, model_lgbm)\n",
        "\n",
        "param_lgbm = {\n",
        "    'lgbmclassifier__class_weight': ['balanced', None],\n",
        "    'lgbmclassifier__max_depth': [1, 4, 5, 15, 20, None],\n",
        "    'lgbmclassifier__n_estimators': range(10, 301, 40)\n",
        "}\n",
        "\n",
        "best_lgbm_ohe_model, auc_ohe_lgbm, acc_ohe_lgbm = best_model_and_score(\n",
        "    pipe_lgbm, param_lgbm\n",
        ")"
      ]
    },
    {
      "cell_type": "markdown",
      "metadata": {
        "id": "j6LMlWLj22Df"
      },
      "source": [
        "Теперь подберем параметры для модели Градиентного бустинга CatBoost Classifier: для начала мы не будем кодировать данные вовсе -- в CatBoost есть встроенный метод. А затем попробуем подобрать параметры и оценить модель CatBoost, обученной на закодированных данных с помощью OHE."
      ]
    },
    {
      "cell_type": "code",
      "execution_count": null,
      "metadata": {
        "colab": {
          "base_uri": "https://localhost:8080/"
        },
        "id": "I9XdzN5keSmd",
        "outputId": "5ee9b062-500f-48d6-9731-83f5d7ac061a"
      },
      "outputs": [
        {
          "name": "stdout",
          "output_type": "stream",
          "text": [
            "best_score_AUC: 0.8709\n",
            "best_score_Accuracy: 0.83\n",
            "best_params: {'learning_rate': 0.1, 'iterations': 120, 'depth': 4}\n"
          ]
        }
      ],
      "source": [
        "# Обучим модель Градиентного бустинга CatBoost Classifier на встроенном способе кодирования\n",
        "\n",
        "model_cbc = CatBoostClassifier(\n",
        "    logging_level='Silent', \n",
        "    cat_features = cat_columns,\n",
        "    random_state=RANDOM_STATE)\n",
        "param_cbc = {\n",
        "    'depth': [None, 4, 7, 10],\n",
        "    'learning_rate' : [0.01, 0.04, 0.1],\n",
        "    'iterations' : [10, 30, 50, 70, 100, 120]\n",
        "}\n",
        "\n",
        "best_cbc_model, auc_cbc, acc_cbc = best_model_and_score(\n",
        "    model_cbc, param_cbc\n",
        ")"
      ]
    },
    {
      "cell_type": "code",
      "execution_count": null,
      "metadata": {
        "colab": {
          "base_uri": "https://localhost:8080/"
        },
        "id": "-2uexdrwoO-y",
        "outputId": "dae6c7cd-1107-4025-ebfc-a43c5c9c082f"
      },
      "outputs": [
        {
          "name": "stdout",
          "output_type": "stream",
          "text": [
            "best_score_AUC: 0.8771\n",
            "best_score_Accuracy: 0.83\n",
            "best_params: {'catboostclassifier__learning_rate': 0.1, 'catboostclassifier__iterations': 100, 'catboostclassifier__depth': 4}\n"
          ]
        }
      ],
      "source": [
        "# Обучим модель Градиентного бустинга CatBoost Classifier на трансформере OHE\n",
        "model_cbc = CatBoostClassifier(\n",
        "    logging_level='Silent', \n",
        "    random_state=RANDOM_STATE)\n",
        "\n",
        "pipe_cbc = make_pipeline(ohe_transformer, model_cbc)\n",
        "\n",
        "param_cbc_ohe = {\n",
        "    'catboostclassifier__depth': [4, 7, 10],\n",
        "    'catboostclassifier__learning_rate' : [0.01, 0.04, 0.1],\n",
        "    'catboostclassifier__iterations' : [10, 30, 50, 70, 100, 120]\n",
        "}\n",
        "\n",
        "best_cbc_ohe_model, auc_ohe_cbc, acc_ohe_cbc = best_model_and_score(\n",
        "    pipe_cbc, param_cbc_ohe\n",
        ")"
      ]
    },
    {
      "cell_type": "markdown",
      "metadata": {
        "id": "usQrX3goZxEt"
      },
      "source": [
        "## Анализ моделей"
      ]
    },
    {
      "cell_type": "code",
      "execution_count": null,
      "metadata": {
        "colab": {
          "base_uri": "https://localhost:8080/",
          "height": 331
        },
        "id": "2bHuF-gDZ2aV",
        "outputId": "4fdb59fe-047e-4732-ad86-0559ed809d57"
      },
      "outputs": [
        {
          "data": {
            "text/html": [
              "<style type=\"text/css\">\n",
              "#T_014ea_row0_col0, #T_014ea_row0_col1 {\n",
              "  background-color: #800026;\n",
              "  color: #f1f1f1;\n",
              "}\n",
              "#T_014ea_row1_col0 {\n",
              "  background-color: #ed2e21;\n",
              "  color: #f1f1f1;\n",
              "}\n",
              "#T_014ea_row1_col1 {\n",
              "  background-color: #c10325;\n",
              "  color: #f1f1f1;\n",
              "}\n",
              "#T_014ea_row2_col0 {\n",
              "  background-color: #fc6631;\n",
              "  color: #f1f1f1;\n",
              "}\n",
              "#T_014ea_row2_col1 {\n",
              "  background-color: #c90823;\n",
              "  color: #f1f1f1;\n",
              "}\n",
              "#T_014ea_row3_col0 {\n",
              "  background-color: #febb56;\n",
              "  color: #000000;\n",
              "}\n",
              "#T_014ea_row3_col1 {\n",
              "  background-color: #fd8a3b;\n",
              "  color: #f1f1f1;\n",
              "}\n",
              "#T_014ea_row4_col0 {\n",
              "  background-color: #fed16e;\n",
              "  color: #000000;\n",
              "}\n",
              "#T_014ea_row4_col1 {\n",
              "  background-color: #f84628;\n",
              "  color: #f1f1f1;\n",
              "}\n",
              "#T_014ea_row5_col0 {\n",
              "  background-color: #fff1ab;\n",
              "  color: #000000;\n",
              "}\n",
              "#T_014ea_row5_col1 {\n",
              "  background-color: #f23924;\n",
              "  color: #f1f1f1;\n",
              "}\n",
              "#T_014ea_row6_col0 {\n",
              "  background-color: #fff7b7;\n",
              "  color: #000000;\n",
              "}\n",
              "#T_014ea_row6_col1 {\n",
              "  background-color: #fb4b29;\n",
              "  color: #f1f1f1;\n",
              "}\n",
              "#T_014ea_row7_col0 {\n",
              "  background-color: #fffcc5;\n",
              "  color: #000000;\n",
              "}\n",
              "#T_014ea_row7_col1 {\n",
              "  background-color: #fc532b;\n",
              "  color: #f1f1f1;\n",
              "}\n",
              "#T_014ea_row8_col0, #T_014ea_row8_col1 {\n",
              "  background-color: #ffffcc;\n",
              "  color: #000000;\n",
              "}\n",
              "</style>\n",
              "<table id=\"T_014ea_\" class=\"dataframe\">\n",
              "  <thead>\n",
              "    <tr>\n",
              "      <th class=\"blank level0\" >&nbsp;</th>\n",
              "      <th class=\"col_heading level0 col0\" >best_score_AUC</th>\n",
              "      <th class=\"col_heading level0 col1\" >best_score_Accuracy</th>\n",
              "    </tr>\n",
              "  </thead>\n",
              "  <tbody>\n",
              "    <tr>\n",
              "      <th id=\"T_014ea_level0_row0\" class=\"row_heading level0 row0\" >LGBM Classifier on OHE</th>\n",
              "      <td id=\"T_014ea_row0_col0\" class=\"data row0 col0\" >0.892066</td>\n",
              "      <td id=\"T_014ea_row0_col1\" class=\"data row0 col1\" >0.844520</td>\n",
              "    </tr>\n",
              "    <tr>\n",
              "      <th id=\"T_014ea_level0_row1\" class=\"row_heading level0 row1\" >CatBoost Classifier on OHE</th>\n",
              "      <td id=\"T_014ea_row1_col0\" class=\"data row1 col0\" >0.877089</td>\n",
              "      <td id=\"T_014ea_row1_col1\" class=\"data row1 col1\" >0.830489</td>\n",
              "    </tr>\n",
              "    <tr>\n",
              "      <th id=\"T_014ea_level0_row2\" class=\"row_heading level0 row2\" >CatBoost Classifier</th>\n",
              "      <td id=\"T_014ea_row2_col0\" class=\"data row2 col0\" >0.870852</td>\n",
              "      <td id=\"T_014ea_row2_col1\" class=\"data row2 col1\" >0.827835</td>\n",
              "    </tr>\n",
              "    <tr>\n",
              "      <th id=\"T_014ea_level0_row3\" class=\"row_heading level0 row3\" >Random Forest on Ordinal Encoder</th>\n",
              "      <td id=\"T_014ea_row3_col0\" class=\"data row3 col0\" >0.859345</td>\n",
              "      <td id=\"T_014ea_row3_col1\" class=\"data row3 col1\" >0.794463</td>\n",
              "    </tr>\n",
              "    <tr>\n",
              "      <th id=\"T_014ea_level0_row4\" class=\"row_heading level0 row4\" >Random Forest on OHE</th>\n",
              "      <td id=\"T_014ea_row4_col0\" class=\"data row4 col0\" >0.855694</td>\n",
              "      <td id=\"T_014ea_row4_col1\" class=\"data row4 col1\" >0.808115</td>\n",
              "    </tr>\n",
              "    <tr>\n",
              "      <th id=\"T_014ea_level0_row5\" class=\"row_heading level0 row5\" >Decision Tree on OHE</th>\n",
              "      <td id=\"T_014ea_row5_col0\" class=\"data row5 col0\" >0.846796</td>\n",
              "      <td id=\"T_014ea_row5_col1\" class=\"data row5 col1\" >0.811528</td>\n",
              "    </tr>\n",
              "    <tr>\n",
              "      <th id=\"T_014ea_level0_row6\" class=\"row_heading level0 row6\" >Decision Tree on Ordinal Encoder</th>\n",
              "      <td id=\"T_014ea_row6_col0\" class=\"data row6 col0\" >0.845005</td>\n",
              "      <td id=\"T_014ea_row6_col1\" class=\"data row6 col1\" >0.807167</td>\n",
              "    </tr>\n",
              "    <tr>\n",
              "      <th id=\"T_014ea_level0_row7\" class=\"row_heading level0 row7\" >Logistic Regression on OHE</th>\n",
              "      <td id=\"T_014ea_row7_col0\" class=\"data row7 col0\" >0.843012</td>\n",
              "      <td id=\"T_014ea_row7_col1\" class=\"data row7 col1\" >0.805461</td>\n",
              "    </tr>\n",
              "    <tr>\n",
              "      <th id=\"T_014ea_level0_row8\" class=\"row_heading level0 row8\" >Ridge Classifier on OHE</th>\n",
              "      <td id=\"T_014ea_row8_col0\" class=\"data row8 col0\" >0.841987</td>\n",
              "      <td id=\"T_014ea_row8_col1\" class=\"data row8 col1\" >0.742890</td>\n",
              "    </tr>\n",
              "  </tbody>\n",
              "</table>\n"
            ],
            "text/plain": [
              "<pandas.io.formats.style.Styler at 0x7f561d6c2220>"
            ]
          },
          "execution_count": 59,
          "metadata": {},
          "output_type": "execute_result"
        }
      ],
      "source": [
        "colm = ['best_score_AUC', 'best_score_Accuracy']\n",
        "ind = [\n",
        "    'Ridge Classifier on OHE', 'Logistic Regression on OHE',\n",
        "    'Decision Tree on Ordinal Encoder', 'Decision Tree on OHE',\n",
        "    'Random Forest on Ordinal Encoder', 'Random Forest on OHE',\n",
        "    'LGBM Classifier on OHE', 'CatBoost Classifier', \n",
        "    'CatBoost Classifier on OHE'      \n",
        "    ]\n",
        "\n",
        "val = [[auc_ridge, acc_ridge],\n",
        "       [auc_lr, acc_lr],\n",
        "       [auc_dtc_ord, acc_dtc_ord],\n",
        "       [auc_ohe_dtc, acc_ohe_dtc],\n",
        "       [auc_ord_rfc, acc_ord_rfc],\n",
        "       [auc_ohe_rfc, acc_ohe_rfc],\n",
        "       [auc_ohe_lgbm, acc_ohe_lgbm],\n",
        "       [auc_cbc, acc_cbc],\n",
        "       [auc_ohe_cbc, acc_ohe_cbc]\n",
        "       ]\n",
        "\n",
        "df_total_scores = pd.DataFrame(data=val, index=ind, columns=colm)\n",
        "df_total_scores.sort_values('best_score_AUC', ascending=False).style.background_gradient(axis=0, cmap='YlOrRd')"
      ]
    },
    {
      "cell_type": "markdown",
      "metadata": {
        "id": "3y7r6yFKH0bf"
      },
      "source": [
        "Наилучший результат **метрики AUC-ROC** на обучающей выборке показала модель градиентного бустинга **LGBM Classifier** на трансформере One Hot Encoder. \n",
        "\n",
        "- Значение метрики **AUC-ROC** лучшей модели: **0.8921**\n",
        "- Значение метрики **Accuracy** лучшей модели: **0.84**\n",
        "- **Параметры** модели: `n_estimators=290, max_depth=4, class_weight=None`\n",
        "\n",
        "\n",
        "\n",
        "На втором месте - также модель градиентного бустинга **CatBoost Classifier**, также обученная на трансформированных данных с помощью One Hot Encoder. На третьем месте -- **Случайный лес**, обученный на трансформированных данных с помощью Ordinal Encoder.\n",
        "\n",
        "Значение второй метрики, **Accuracy**, самое высокое также у модели бустинга **LGBM Classifier**. По всем показателям эта модель показала наилучший результат на обучающей выборке, поэтому тестовые данные мы будем проверять на ней. "
      ]
    },
    {
      "cell_type": "markdown",
      "metadata": {
        "id": "Nmi4pPeIKADu"
      },
      "source": [
        "## Тестирование модели\n",
        "\n"
      ]
    },
    {
      "cell_type": "code",
      "execution_count": null,
      "metadata": {
        "id": "XT0AiZkYJsJm"
      },
      "outputs": [],
      "source": [
        "# Обучаем лучшую модель на тренировочной выборке\n",
        "best_lgbm_ohe_model.fit(X_train, y_train)\n",
        "predict_test = best_lgbm_ohe_model.predict(X_test)\n",
        "probabilities_test = best_lgbm_ohe_model.predict_proba(X_test)[:, 1]"
      ]
    },
    {
      "cell_type": "code",
      "execution_count": null,
      "metadata": {
        "colab": {
          "base_uri": "https://localhost:8080/"
        },
        "id": "86AiQzxAJsDP",
        "outputId": "539c1f96-1846-4e78-d002-028711ded2f4"
      },
      "outputs": [
        {
          "name": "stdout",
          "output_type": "stream",
          "text": [
            "Площадь под ROC-кривой: 0.91\n",
            "Accuracy на тестовой выборке: 0.86\n"
          ]
        }
      ],
      "source": [
        "print(f'Площадь под ROC-кривой: {roc_auc_score(y_test, probabilities_test):.2f}')\n",
        "print(f'Accuracy на тестовой выборке: {accuracy_score(y_test, predict_test):.2f}')"
      ]
    },
    {
      "cell_type": "code",
      "execution_count": null,
      "metadata": {
        "colab": {
          "base_uri": "https://localhost:8080/",
          "height": 513
        },
        "id": "aJgd8cyEHjkD",
        "outputId": "ff7efa58-45ac-4610-9a4e-1e956dabeeb5"
      },
      "outputs": [
        {
          "data": {
            "image/png": "[encoded data removed]",
            "text/plain": [
              "<Figure size 720x576 with 1 Axes>"
            ]
          },
          "metadata": {
            "needs_background": "light"
          },
          "output_type": "display_data"
        }
      ],
      "source": [
        "# Визуализируем ROC-кривую\n",
        "fpr, tpr, thresholds = roc_curve(y_test, probabilities_test)\n",
        "plt.figure(figsize=(10, 8))\n",
        "plt.plot(fpr, tpr, linestyle='-')\n",
        "plt.plot([0, 1], [0, 1], linestyle='--')\n",
        "plt.xlim([0.0, 1.0])\n",
        "plt.ylim([0.0, 1.0])\n",
        "plt.xlabel('False Positive Rate')\n",
        "plt.ylabel('True Positive Rate')\n",
        "plt.title('ROC-кривая')\n",
        "plt.show()"
      ]
    },
    {
      "cell_type": "markdown",
      "metadata": {
        "id": "bBKxfpwPYYJ7"
      },
      "source": [
        "На тестовой выборке модель достигла показателя 0.91, что превышает поставленный заказчиком порог. "
      ]
    },
    {
      "cell_type": "markdown",
      "metadata": {
        "id": "RmUVGcKGBgWs"
      },
      "source": [
        "## Отчет по работе\n",
        "\n",
        "В проведённом исследовании мы проделали следующие шаги:  \n",
        "\n"
      ]
    },
    {
      "cell_type": "markdown",
      "metadata": {
        "id": "VIABe1SlEbfX"
      },
      "source": [
        "### 1. Загрузили и изучили предоставленные данные.\n",
        "\n",
        "Прочитали предоставленные файлы, сохранили их в переменные:\n",
        "- `df_contract` — информация о договоре;\n",
        "- `df_personal` — персональные данные клиента;\n",
        "- `df_internet` — информация об интернет-услугах;\n",
        "- `df_phone` — информация об услугах телефонии.\n",
        "\n",
        "После чего изучили данные в каждой таблице:\n",
        "- Получили общую информацию о таблице;\n",
        "- Вывели на экран первые 5 строк таблицы;\n",
        "- Получили числовое описание данных в таблице.\n",
        "\n",
        "В ходе первичного обзора данных мы выявили следующие проблемы:\n",
        "- В данных присутствовали пропуски (так как количество строк в датасетах разное);\n",
        "- У некоторых признаков был указан неверный тип данных; \n",
        "- Присутствует нарушение стиля в названии признаков;\n"
      ]
    },
    {
      "cell_type": "markdown",
      "metadata": {
        "id": "_gDaAVQrBgWt"
      },
      "source": [
        "### 2. Произвели предобработку данных.\n",
        "\n",
        "Объединили все датафреймы в один общий по индексу `customerID`.\n",
        "\n",
        "Проверили таблицу на полные дубликаты (они отсутствуют).\n",
        "\n",
        "Изменили наименования колонок, согласно правилам хорошего стиля.\n",
        "\n",
        "Рассмотрели каждый признак по отдельности:\n",
        "\n",
        "*Дата начала и окончания пользования услугами.*\n",
        "- В колонке с датой начала пользования услугами изменили тип данных на `datetime`;\n",
        "- Выделили из даты окончания пользования услугами целевую переменную `target`: там, где присутствует дата расторжения договора, мы установили значение 1 (True), где заглушка - 0 (False);\n",
        "- Заменили заглушку на дату сбора данных;\n",
        "- Заменили тип данных на `datetime`;\n",
        "- Выделили новый признак  -- сколько дней пользователь является клиентом оператора связи.\n",
        "\n",
        "*Типы и методы оплат*\n",
        "- В типах данных и методах оплат проблем не оказалось\n",
        "- В колонке с ежемесячной суммой к оплате все указано верно, пропусков или аномалий нет;\n",
        "- В колонке с общей суммой, потраченной на услуги, обнаружены пропуски -- строки с новыми клиентами, которые еще не производили оплату. Так как количество этих строк было небольшим, мы исключили их из общей выборки.\n",
        "- Заменили тип данных в колонке `total_charges` на `float`.\n",
        "\n",
        "*Персональные данные клиента*\n",
        "- Привели значения признака *Пенсионный возраст* к типу `object`, аналогичному другим бинарным категориальным признакам.\n",
        "\n",
        "*Интернет-услуги и телефония*\n",
        "- Добавили дополнительный признак: является клиент пользователем интернета или нет. Если id клиента было в таблице с информацией об интернет-услугах -- значит клиент пользовался интернетом (так как в первоначальном датасете с информацией об интернет-услугах пропусков не было);\n",
        "- Аналогичным образом создадали колонку с информацией, является ли клиент пользователем телефонии;\n",
        "- Так как данные пропущены в признаках бинарной классификации, в которых указано, пользуется ли клиент той или иной услугой, мы заменим все пропуски в данных на `No`.\n",
        "\n",
        "**По итогу предобработки данных мы:**\n",
        "- Объеденили предоставленные датасеты в один общий датафрейм;\n",
        "- Сгенерировали целевую переменную;\n",
        "- Исправили тип данных там, где это было нужно;\n",
        "- Заполнили пропущенные значения;\n",
        "- Сгенерировали дополнительные признаки.\n"
      ]
    },
    {
      "cell_type": "markdown",
      "metadata": {
        "id": "mB0y-zqQBgWu"
      },
      "source": [
        "### 3. Провели исследовательский анализ данных.\n",
        "\n",
        "*Изучили жизнь клиента в продукте.*  \n",
        "\n",
        "Изучили, в какие годы клиенты заключали договор: первый договор с клиентом в предоставленных нам данных был оформлен в октябре 2013 года. На гистограмме мы видим, что в феврале 2014 года количество заключаемых договоров резко возросло до отметки 350, но уже с лета 2014 по конец 2018 года распределение заключаемых договоров было примерно на одном уровне в промежутке от 50 до 100 штук, а за последний год наблюдений мы вновь видим значительный рост.\n",
        "\n",
        "Построили график, на котором отобразили, на каком сроке жизни клиента в продукте чаще всего расторгался договор: чаще всего клиенты отказывались от услуг оператора уже после первого месяца использования. А клиенты, пользующиеся услугами уже много лет, значительно реже расторгают договор.\n",
        "\n",
        "*Способы оплаты, траты на услуги.*  \n",
        "\n",
        "На общей выборке мы увидели, что чаще всего клиенты предпочитают ежемесячные платежи за услуги, а также чаще выбирают безналичный тип оплаты.\n",
        "\n",
        "Изучили различия в способах оплаты у активных клиентов, и у клиентов, отказавшихся от услуг: клиенты с ежемесячной оплатой намного чаще отказываются от услуг, чем клиенты с годовой или двух-годовой подпиской.\n",
        "Также клиенты с автоматической системой оплаты значительно реже разрывают договор, чем клиенты, оплачивающие счёт вручную.\n",
        "\n",
        "Сравнили меры центральной тенденции ежемесячных трат на услуги у клиентов, отказавшихся от услуг, и у клиентов, которые остались с оператором связи: у клиентов, расторгнувших договор, медианная и средняя стоимость услуг выше, чем у тех, кто остался с оператором связи.\n",
        "\n",
        "Изучили общие графики трат на услуги: отметили пики у минимальной отметки ежемесячных и общих трат на услуги.\n",
        "\n",
        "Поближе изучили поведение клиентов из когорты \"мальки\" (клиенты с самым минимальным ежемесячным платежом): Основная часть клиентов -- пользователи только телефонной сети. Как правило, это самая бюджетная услуга, поэтому никакой аномалии здесь нет. При этом количество пользователей из этой когорты, отказавшихся от услуг оператора за время наблюдения -- всего 10%. \n",
        "\n",
        "*Личные данные клиентов*\n",
        "\n",
        "В выборке примерно равное количество мужчин и женщин. Это хорошо для избежания дискриминации при обучении модели.\n",
        "\n",
        "Пенсионеры составляют около 1/7 от общего количества клиентов. \n",
        "\n",
        "Пользователей, имеющих партнёров, чуть меньше, чем холостых.\n",
        "\n",
        "Клиентов, имеющих иждивенцев, всего 30%. При этом клиенты, имеющие иждивенцев, реже отказываются от услуг.\n",
        "\n",
        "*Пользователи интернета и телефона*\n",
        "\n",
        "- Клиентов, пользующихся и интернетом, и телефоном: 69%\n",
        "- Клиентов, пользующихся интернетом: 78%\n",
        "- Клиентов, пользующихся телефоном: 90%\n",
        "\n",
        "В нашей выборке пользователи интернета чуть чаще отказываются от услуг, чем пользователи телефонии.\n",
        "\n",
        "Наличие возможности ведения параллельных линий во время звонка не имеет значения, откажется клиент от услуги или нет. При этом клиенты интернета значительно чаще отказываются от услуг, в случае типа подключения Fiber Optic, чем при DSL.\n",
        "\n",
        "**Отобрали признаки для модели**\n",
        "Исключили неинформативные столбцы: id клиентов, даты оформления и окончания договора.\n",
        "\n",
        "Построили график корреляции Фk:\n",
        "- Среди количественных признаков между собой сильно коррелируют общая сумма списаний и количество месяцев использования сервиса (0,84). Между ежемесячным платежом и общей суммой списаний также достаточно сильная корреляция(0,76). **В связи с этим, мы исключили признак `total_charges` перед обучением модели.**\n",
        "- Между категориальными и количественными признаками мы наблюдаем высокую корреляцию среди признаков:\n",
        "  - Количество месяцев и тип оплаты (ежемесячный, годовой и тд) (0,67);\n",
        "  - Ежемесячный платёж достаточно сильно коррелирует с признаками:\n",
        "    - Пользуется ли клиент телефонией (0,83)\n",
        "    - Пользуется ли клиент интернетом (1)\n",
        "    - Со всеми дополнительными услугами интернета, а также наличием возможности ведения параллельных линий во время звонка.\n",
        "- Категориальные признаки, коррелирующие друг с другом:\n",
        "  - Подключение к стриминговому телевидению с подключением к каталогу фильмов;\n",
        "  - Пользуется ли клиент интернетом с интернет-сервисами (что логично, так как признак был сгенерирован из этих данных)\n",
        " \n",
        "Мы не исключали никакие из этих признаков.\n",
        "\n",
        "С нашей целевой переменной в значительной степени не коррелирует ни один из признаков. Мы можем наблюдать небольшую корреляцию между количеством месяцев и таргетом (ранее на графике мы видели, что клиенты чаще всего отказываются от услуг уже после первого месяца использования), а также между таргетом и способом оплаты.\n",
        "\n",
        "Также мы видим, что признак пола клиента практически никак не коррелирует ни с одним из признаков. Пока мы не будем удалять этот признак, попробуем обучить модели вместе с ним, посмотрим, насколько значим этот признак внутри модели."
      ]
    },
    {
      "cell_type": "markdown",
      "metadata": {
        "id": "2-dalXf8KYh5"
      },
      "source": [
        "### 4. Подготовили признаки для обучения модели\n",
        "\n",
        "На обучение модели мы отобрали следующие признаки:\n",
        "\n",
        "Категориальные признаки: \n",
        "`'type', 'paperless_billing', 'payment_method', 'gender',\n",
        " 'senior_citizen', 'partner', 'dependents', 'internet_service',\n",
        " 'online_security', 'online_backup', 'device_protection', 'tech_support',\n",
        " 'streaming_tv', 'streaming_movies', 'multiple_lines', 'internet_user', \n",
        " 'phone_user' `\n",
        "\n",
        "Численные признаки: \n",
        "`'monthly_charges', 'lifetime_days'`\n",
        "\n",
        "**В данном проекте мы используем константу** `RANDOM_STATE = 270223`. \n",
        "\n",
        "Мы проделали следующие шаги:\n",
        "\n",
        "- Разделили данные на тренировочную и тестовую выборки. **Размер тестовой выборки: test_size = 0.25**\n",
        "- Создали переменные для категориальных и численных признаков.\n",
        "- Создали два трансформера: в первом кодировка категориальных признаков осуществляется методом **OneHotEncoder** во втором -- **OrdinalEncoder**. Оба трансформера также масштабируют численные признаки методом **StandarScaler**.\n"
      ]
    },
    {
      "cell_type": "markdown",
      "metadata": {
        "id": "4-4TcubgL_hD"
      },
      "source": [
        "### 5. Обучили модели, подбирая различные гиперпараметры\n",
        "В данном исследвании мы обучили следующие модели:\n",
        "- Линейные модели:\n",
        " - Логистическая регрессия\n",
        " - Ridge Classifier\n",
        "- Дерево решений\n",
        "- Случайный лес\n",
        "- Градиентный бустинг:\n",
        " - LGBM Classifier\n",
        " - CatBoost Classifier\n",
        "\n",
        "Оценку моделей мы производили кросс-валидацией с помощью RandomizedSearch + Pipeline. Для этого создали функцию, которая принимает на вход pipeline с моделью и трансформером, а также набор гиперпараметров, а возвращает гиперпараметры лучшей модели и наилучшее значение метрики AUC-ROC на обучающей выборке."
      ]
    },
    {
      "cell_type": "markdown",
      "metadata": {
        "id": "RhIo478SMg5M"
      },
      "source": [
        "### 6. Проанализировали результат обучения моделей, отобрали лучшую\n",
        "\n",
        "Наилучший результат метрики **AUC-ROC** на обучающей выборке показала модель градиентного бустинга **LGBM Classifier** на трансформере **One Hot Encoder**.\n",
        "\n",
        "**Лучшая модель:**  \n",
        "`LGBMClassifier(random_state=RANDOM_STATE, n_estimators=290, max_depth=4, class_weight=None)`\n",
        "\n",
        "Значение метрики **AUC-ROC** лучшей модели: **0.8921**  \n",
        "Значение метрики **Accuracy** лучшей модели: **0.84**  \n",
        "\n",
        "На втором месте - также модель градиентного бустинга, CatBoost Classifier, также обученная на трансформированных данных с помощью One Hot Encoder. На третьем месте -- CatBoost Classifier на встроенном способе кодирования, на четвёртом -- Случайный лес, обученный на трансформированных данных с помощью Ordinal Encoder.\n",
        "\n",
        "Значение второй метрики, Accuracy, самое высокое также у модели бустинга LGBM Classifier. \n",
        "\n",
        "По всем показателям эта модель показала наилучший результат на обучающей выборке, поэтому тестовые данные мы проверяли на ней.\n"
      ]
    },
    {
      "cell_type": "markdown",
      "metadata": {
        "id": "VmZBIp3pNX-G"
      },
      "source": [
        "### 7. Протестировали отобранную модель на тестовой выборке\n",
        "\n",
        "На тестовой выборке отобранная модель показала следующий результат:\n",
        "\n",
        "**Площадь под ROC-кривой: 0.91**  \n",
        "**Accuracy на тестовой выборке: 0.86**\n",
        "\n",
        "Значения метрик на тестовой выборке даже выше, чем на кросс-валидации. \n"
      ]
    },
    {
      "cell_type": "markdown",
      "metadata": {
        "id": "1DHZu_7X_MaL"
      },
      "source": [
        "### Вывод\n",
        "\n",
        "В ходе данного исследования мы придерживались изначально составленного плана. Все пункты плана были выполнены в полном объеме.\n",
        "\n",
        "Трудностей в решении задач не возникло.\n",
        "\n",
        "Все шаги данного исследования были ключевыми. В особенности можно выделить этап предобработки данных: на этом шаге мы выделили целевую переменную, подготовили данные к обучению, а также создали важные для обучения моделей признаки.   \n",
        "На этапе исследовательского анализа данных мы отобрали необходимые признаки для обучения моделей, отбросив неинформативные и мультиколлинеарные признаки. \n",
        "На этапе обучения моделей мы подобрали наилучший вариант. Тестирование отобранной модели прошло успешно: поставленный заказчиком порог целевой метрики был преодолен.\n",
        "\n",
        "Проведённое исследование можно считать успешным."
      ]
    }
  ],
  "metadata": {
    "ExecuteTimeLog": [
      {
        "duration": 10,
        "start_time": "2023-03-10T16:37:53.514Z"
      },
      {
        "duration": 5011,
        "start_time": "2023-03-10T16:37:56.230Z"
      },
      {
        "duration": 2187,
        "start_time": "2023-03-10T16:38:01.243Z"
      },
      {
        "duration": 4,
        "start_time": "2023-03-10T16:38:03.432Z"
      },
      {
        "duration": 143,
        "start_time": "2023-03-10T16:38:03.439Z"
      },
      {
        "duration": 3,
        "start_time": "2023-03-10T16:38:03.584Z"
      },
      {
        "duration": 59,
        "start_time": "2023-03-10T16:38:03.589Z"
      },
      {
        "duration": 34,
        "start_time": "2023-03-10T16:38:03.650Z"
      },
      {
        "duration": 46,
        "start_time": "2023-03-10T16:38:03.686Z"
      },
      {
        "duration": 60,
        "start_time": "2023-03-10T16:38:03.734Z"
      },
      {
        "duration": 16,
        "start_time": "2023-03-10T16:38:03.797Z"
      },
      {
        "duration": 24,
        "start_time": "2023-03-10T16:38:03.815Z"
      },
      {
        "duration": 39,
        "start_time": "2023-03-10T16:38:03.841Z"
      },
      {
        "duration": 6,
        "start_time": "2023-03-10T16:38:03.883Z"
      },
      {
        "duration": 19,
        "start_time": "2023-03-10T16:38:03.891Z"
      },
      {
        "duration": 16,
        "start_time": "2023-03-10T16:38:03.912Z"
      },
      {
        "duration": 9,
        "start_time": "2023-03-10T16:38:03.930Z"
      },
      {
        "duration": 68,
        "start_time": "2023-03-10T16:38:03.942Z"
      },
      {
        "duration": 7,
        "start_time": "2023-03-10T16:38:04.012Z"
      },
      {
        "duration": 20,
        "start_time": "2023-03-10T16:38:04.020Z"
      },
      {
        "duration": 8,
        "start_time": "2023-03-10T16:38:04.041Z"
      },
      {
        "duration": 33,
        "start_time": "2023-03-10T16:38:04.051Z"
      },
      {
        "duration": 18,
        "start_time": "2023-03-10T16:38:04.086Z"
      },
      {
        "duration": 27,
        "start_time": "2023-03-10T16:38:04.106Z"
      },
      {
        "duration": 58,
        "start_time": "2023-03-10T16:38:04.135Z"
      },
      {
        "duration": 27,
        "start_time": "2023-03-10T16:38:04.195Z"
      },
      {
        "duration": 5,
        "start_time": "2023-03-10T16:38:04.224Z"
      },
      {
        "duration": 10,
        "start_time": "2023-03-10T16:38:04.232Z"
      },
      {
        "duration": 17,
        "start_time": "2023-03-10T16:38:04.264Z"
      },
      {
        "duration": 16,
        "start_time": "2023-03-10T16:38:04.286Z"
      },
      {
        "duration": 103,
        "start_time": "2023-03-10T16:38:04.304Z"
      },
      {
        "duration": 516,
        "start_time": "2023-03-10T16:38:04.409Z"
      },
      {
        "duration": 272,
        "start_time": "2023-03-10T16:38:04.928Z"
      },
      {
        "duration": 432,
        "start_time": "2023-03-10T16:38:05.202Z"
      },
      {
        "duration": 44,
        "start_time": "2023-03-10T16:38:05.637Z"
      },
      {
        "duration": 444,
        "start_time": "2023-03-10T16:38:05.683Z"
      },
      {
        "duration": 9,
        "start_time": "2023-03-10T16:38:06.128Z"
      },
      {
        "duration": 474,
        "start_time": "2023-03-10T16:38:06.138Z"
      },
      {
        "duration": 287,
        "start_time": "2023-03-10T16:38:06.615Z"
      },
      {
        "duration": 5,
        "start_time": "2023-03-10T16:38:06.904Z"
      },
      {
        "duration": 6384,
        "start_time": "2023-03-10T16:38:06.911Z"
      },
      {
        "duration": 5,
        "start_time": "2023-03-10T16:38:13.298Z"
      },
      {
        "duration": 18,
        "start_time": "2023-03-10T16:38:13.304Z"
      },
      {
        "duration": 12,
        "start_time": "2023-03-10T16:38:13.325Z"
      },
      {
        "duration": 154,
        "start_time": "2023-03-10T16:38:13.339Z"
      },
      {
        "duration": 0,
        "start_time": "2023-03-10T16:38:13.495Z"
      },
      {
        "duration": 0,
        "start_time": "2023-03-10T16:38:13.497Z"
      },
      {
        "duration": 0,
        "start_time": "2023-03-10T16:38:13.498Z"
      },
      {
        "duration": 0,
        "start_time": "2023-03-10T16:38:13.500Z"
      },
      {
        "duration": 0,
        "start_time": "2023-03-10T16:38:13.501Z"
      },
      {
        "duration": 0,
        "start_time": "2023-03-10T16:38:13.502Z"
      },
      {
        "duration": 0,
        "start_time": "2023-03-10T16:38:13.503Z"
      },
      {
        "duration": 0,
        "start_time": "2023-03-10T16:38:13.504Z"
      },
      {
        "duration": 0,
        "start_time": "2023-03-10T16:38:13.505Z"
      },
      {
        "duration": 0,
        "start_time": "2023-03-10T16:38:13.506Z"
      },
      {
        "duration": 0,
        "start_time": "2023-03-10T16:38:13.507Z"
      },
      {
        "duration": 0,
        "start_time": "2023-03-10T16:38:13.508Z"
      },
      {
        "duration": 0,
        "start_time": "2023-03-10T16:38:13.509Z"
      },
      {
        "duration": 0,
        "start_time": "2023-03-10T16:38:13.510Z"
      },
      {
        "duration": 12,
        "start_time": "2023-03-10T16:54:55.354Z"
      },
      {
        "duration": 4,
        "start_time": "2023-03-10T16:55:01.200Z"
      },
      {
        "duration": 7,
        "start_time": "2023-03-10T16:55:02.937Z"
      },
      {
        "duration": 512,
        "start_time": "2023-03-10T16:55:03.697Z"
      },
      {
        "duration": 0,
        "start_time": "2023-03-10T16:55:04.212Z"
      },
      {
        "duration": 5847,
        "start_time": "2023-03-10T16:55:04.264Z"
      },
      {
        "duration": 469,
        "start_time": "2023-03-10T16:55:10.113Z"
      },
      {
        "duration": 0,
        "start_time": "2023-03-10T16:55:10.584Z"
      },
      {
        "duration": 0,
        "start_time": "2023-03-10T16:55:10.585Z"
      },
      {
        "duration": 0,
        "start_time": "2023-03-10T16:55:10.586Z"
      },
      {
        "duration": 0,
        "start_time": "2023-03-10T16:55:10.587Z"
      },
      {
        "duration": 1,
        "start_time": "2023-03-10T16:55:10.588Z"
      },
      {
        "duration": 0,
        "start_time": "2023-03-10T16:55:10.590Z"
      },
      {
        "duration": 0,
        "start_time": "2023-03-10T16:55:10.591Z"
      },
      {
        "duration": 0,
        "start_time": "2023-03-10T16:55:10.592Z"
      },
      {
        "duration": 0,
        "start_time": "2023-03-10T16:55:10.594Z"
      },
      {
        "duration": 2526,
        "start_time": "2023-03-10T16:56:00.040Z"
      },
      {
        "duration": 1030,
        "start_time": "2023-03-10T16:56:08.809Z"
      },
      {
        "duration": 1068,
        "start_time": "2023-03-10T16:56:13.315Z"
      },
      {
        "duration": 995,
        "start_time": "2023-03-10T16:56:17.696Z"
      },
      {
        "duration": 1099,
        "start_time": "2023-03-10T16:56:25.632Z"
      },
      {
        "duration": 192008,
        "start_time": "2023-03-10T16:56:48.040Z"
      },
      {
        "duration": 15,
        "start_time": "2023-03-10T17:00:10.122Z"
      },
      {
        "duration": 6400,
        "start_time": "2023-03-10T17:00:10.141Z"
      },
      {
        "duration": 1590,
        "start_time": "2023-03-10T17:00:16.546Z"
      },
      {
        "duration": 5,
        "start_time": "2023-03-10T17:00:18.137Z"
      },
      {
        "duration": 178,
        "start_time": "2023-03-10T17:00:18.145Z"
      },
      {
        "duration": 4,
        "start_time": "2023-03-10T17:00:18.325Z"
      },
      {
        "duration": 63,
        "start_time": "2023-03-10T17:00:18.331Z"
      },
      {
        "duration": 32,
        "start_time": "2023-03-10T17:00:18.396Z"
      },
      {
        "duration": 85,
        "start_time": "2023-03-10T17:00:18.431Z"
      },
      {
        "duration": 67,
        "start_time": "2023-03-10T17:00:18.519Z"
      },
      {
        "duration": 16,
        "start_time": "2023-03-10T17:00:18.590Z"
      },
      {
        "duration": 19,
        "start_time": "2023-03-10T17:00:18.608Z"
      },
      {
        "duration": 38,
        "start_time": "2023-03-10T17:00:18.629Z"
      },
      {
        "duration": 5,
        "start_time": "2023-03-10T17:00:18.669Z"
      },
      {
        "duration": 34,
        "start_time": "2023-03-10T17:00:18.677Z"
      },
      {
        "duration": 40,
        "start_time": "2023-03-10T17:00:18.715Z"
      },
      {
        "duration": 16,
        "start_time": "2023-03-10T17:00:18.757Z"
      },
      {
        "duration": 23,
        "start_time": "2023-03-10T17:00:18.784Z"
      },
      {
        "duration": 8,
        "start_time": "2023-03-10T17:00:18.809Z"
      },
      {
        "duration": 17,
        "start_time": "2023-03-10T17:00:18.819Z"
      },
      {
        "duration": 27,
        "start_time": "2023-03-10T17:00:18.839Z"
      },
      {
        "duration": 52,
        "start_time": "2023-03-10T17:00:18.868Z"
      },
      {
        "duration": 19,
        "start_time": "2023-03-10T17:00:18.923Z"
      },
      {
        "duration": 62,
        "start_time": "2023-03-10T17:00:18.944Z"
      },
      {
        "duration": 16,
        "start_time": "2023-03-10T17:00:19.008Z"
      },
      {
        "duration": 61,
        "start_time": "2023-03-10T17:00:19.027Z"
      },
      {
        "duration": 5,
        "start_time": "2023-03-10T17:00:19.091Z"
      },
      {
        "duration": 14,
        "start_time": "2023-03-10T17:00:19.098Z"
      },
      {
        "duration": 13,
        "start_time": "2023-03-10T17:00:19.119Z"
      },
      {
        "duration": 28,
        "start_time": "2023-03-10T17:00:19.166Z"
      },
      {
        "duration": 115,
        "start_time": "2023-03-10T17:00:19.197Z"
      },
      {
        "duration": 611,
        "start_time": "2023-03-10T17:00:19.314Z"
      },
      {
        "duration": 270,
        "start_time": "2023-03-10T17:00:19.928Z"
      },
      {
        "duration": 746,
        "start_time": "2023-03-10T17:00:20.201Z"
      },
      {
        "duration": 50,
        "start_time": "2023-03-10T17:00:20.949Z"
      },
      {
        "duration": 704,
        "start_time": "2023-03-10T17:00:21.002Z"
      },
      {
        "duration": 15,
        "start_time": "2023-03-10T17:00:21.709Z"
      },
      {
        "duration": 728,
        "start_time": "2023-03-10T17:00:21.728Z"
      },
      {
        "duration": 375,
        "start_time": "2023-03-10T17:00:22.459Z"
      },
      {
        "duration": 9,
        "start_time": "2023-03-10T17:00:22.836Z"
      },
      {
        "duration": 8653,
        "start_time": "2023-03-10T17:00:22.847Z"
      },
      {
        "duration": 6,
        "start_time": "2023-03-10T17:00:31.502Z"
      },
      {
        "duration": 51,
        "start_time": "2023-03-10T17:00:31.511Z"
      },
      {
        "duration": 56,
        "start_time": "2023-03-10T17:00:31.565Z"
      },
      {
        "duration": 32,
        "start_time": "2023-03-10T17:00:31.624Z"
      },
      {
        "duration": 41,
        "start_time": "2023-03-10T17:00:31.659Z"
      },
      {
        "duration": 45265,
        "start_time": "2023-03-10T17:00:31.704Z"
      },
      {
        "duration": 52690,
        "start_time": "2023-03-10T17:01:16.975Z"
      },
      {
        "duration": 6151,
        "start_time": "2023-03-10T17:02:09.672Z"
      },
      {
        "duration": 6868,
        "start_time": "2023-03-10T17:02:15.825Z"
      },
      {
        "duration": 33561,
        "start_time": "2023-03-10T17:02:22.695Z"
      },
      {
        "duration": 34691,
        "start_time": "2023-03-10T17:02:56.258Z"
      },
      {
        "duration": 662596,
        "start_time": "2023-03-10T17:03:30.952Z"
      },
      {
        "duration": 0,
        "start_time": "2023-03-10T17:14:33.550Z"
      },
      {
        "duration": 0,
        "start_time": "2023-03-10T17:14:33.551Z"
      },
      {
        "duration": 0,
        "start_time": "2023-03-10T17:14:33.553Z"
      },
      {
        "duration": 0,
        "start_time": "2023-03-10T17:14:33.564Z"
      },
      {
        "duration": 0,
        "start_time": "2023-03-10T17:14:33.569Z"
      },
      {
        "duration": 0,
        "start_time": "2023-03-10T17:14:33.571Z"
      },
      {
        "duration": 13,
        "start_time": "2023-03-10T17:14:39.600Z"
      },
      {
        "duration": 9,
        "start_time": "2023-03-11T16:31:47.686Z"
      },
      {
        "duration": 5390,
        "start_time": "2023-03-11T16:31:48.771Z"
      },
      {
        "duration": 2187,
        "start_time": "2023-03-11T16:31:54.164Z"
      },
      {
        "duration": 4,
        "start_time": "2023-03-11T16:31:56.353Z"
      },
      {
        "duration": 484,
        "start_time": "2023-03-11T16:31:56.358Z"
      },
      {
        "duration": 3,
        "start_time": "2023-03-11T16:31:56.844Z"
      },
      {
        "duration": 66,
        "start_time": "2023-03-11T16:31:56.849Z"
      },
      {
        "duration": 28,
        "start_time": "2023-03-11T16:31:56.917Z"
      },
      {
        "duration": 47,
        "start_time": "2023-03-11T16:31:56.946Z"
      },
      {
        "duration": 25,
        "start_time": "2023-03-11T16:31:56.995Z"
      },
      {
        "duration": 44,
        "start_time": "2023-03-11T16:31:57.023Z"
      },
      {
        "duration": 19,
        "start_time": "2023-03-11T16:31:57.069Z"
      },
      {
        "duration": 8,
        "start_time": "2023-03-11T16:31:57.090Z"
      },
      {
        "duration": 3,
        "start_time": "2023-03-11T16:31:57.101Z"
      },
      {
        "duration": 10,
        "start_time": "2023-03-11T16:31:57.106Z"
      },
      {
        "duration": 12,
        "start_time": "2023-03-11T16:31:57.154Z"
      },
      {
        "duration": 12,
        "start_time": "2023-03-11T16:31:57.167Z"
      },
      {
        "duration": 13,
        "start_time": "2023-03-11T16:31:57.181Z"
      },
      {
        "duration": 5,
        "start_time": "2023-03-11T16:31:57.195Z"
      },
      {
        "duration": 11,
        "start_time": "2023-03-11T16:31:57.201Z"
      },
      {
        "duration": 6,
        "start_time": "2023-03-11T16:31:57.214Z"
      },
      {
        "duration": 17,
        "start_time": "2023-03-11T16:31:57.254Z"
      },
      {
        "duration": 17,
        "start_time": "2023-03-11T16:31:57.273Z"
      },
      {
        "duration": 25,
        "start_time": "2023-03-11T16:31:57.292Z"
      },
      {
        "duration": 42,
        "start_time": "2023-03-11T16:31:57.320Z"
      },
      {
        "duration": 19,
        "start_time": "2023-03-11T16:31:57.364Z"
      },
      {
        "duration": 4,
        "start_time": "2023-03-11T16:31:57.385Z"
      },
      {
        "duration": 10,
        "start_time": "2023-03-11T16:31:57.390Z"
      },
      {
        "duration": 12,
        "start_time": "2023-03-11T16:31:57.403Z"
      },
      {
        "duration": 46,
        "start_time": "2023-03-11T16:31:57.417Z"
      },
      {
        "duration": 57,
        "start_time": "2023-03-11T16:31:57.465Z"
      },
      {
        "duration": 352,
        "start_time": "2023-03-11T16:31:57.524Z"
      },
      {
        "duration": 223,
        "start_time": "2023-03-11T16:31:57.877Z"
      },
      {
        "duration": 329,
        "start_time": "2023-03-11T16:31:58.101Z"
      },
      {
        "duration": 476,
        "start_time": "2023-03-11T16:31:58.431Z"
      },
      {
        "duration": 22,
        "start_time": "2023-03-11T16:31:58.909Z"
      },
      {
        "duration": 355,
        "start_time": "2023-03-11T16:31:58.933Z"
      },
      {
        "duration": 8,
        "start_time": "2023-03-11T16:31:59.290Z"
      },
      {
        "duration": 402,
        "start_time": "2023-03-11T16:31:59.300Z"
      },
      {
        "duration": 594,
        "start_time": "2023-03-11T16:31:59.704Z"
      },
      {
        "duration": 331,
        "start_time": "2023-03-11T16:32:00.300Z"
      },
      {
        "duration": 304,
        "start_time": "2023-03-11T16:32:00.632Z"
      },
      {
        "duration": 6,
        "start_time": "2023-03-11T16:32:00.938Z"
      },
      {
        "duration": 5175,
        "start_time": "2023-03-11T16:32:00.997Z"
      },
      {
        "duration": 5,
        "start_time": "2023-03-11T16:32:06.174Z"
      },
      {
        "duration": 41,
        "start_time": "2023-03-11T16:32:06.180Z"
      },
      {
        "duration": 6,
        "start_time": "2023-03-11T16:32:06.224Z"
      },
      {
        "duration": 127,
        "start_time": "2023-03-11T16:32:06.232Z"
      },
      {
        "duration": 0,
        "start_time": "2023-03-11T16:32:06.361Z"
      },
      {
        "duration": 12,
        "start_time": "2023-03-11T16:32:07.572Z"
      },
      {
        "duration": 6362,
        "start_time": "2023-03-11T16:32:25.597Z"
      },
      {
        "duration": 9,
        "start_time": "2023-03-11T16:32:38.756Z"
      },
      {
        "duration": 4222,
        "start_time": "2023-03-11T16:32:39.747Z"
      },
      {
        "duration": 1344,
        "start_time": "2023-03-11T16:32:43.972Z"
      },
      {
        "duration": 4,
        "start_time": "2023-03-11T16:32:45.318Z"
      },
      {
        "duration": 134,
        "start_time": "2023-03-11T16:32:45.324Z"
      },
      {
        "duration": 3,
        "start_time": "2023-03-11T16:32:45.460Z"
      },
      {
        "duration": 38,
        "start_time": "2023-03-11T16:32:45.464Z"
      },
      {
        "duration": 56,
        "start_time": "2023-03-11T16:32:45.504Z"
      },
      {
        "duration": 43,
        "start_time": "2023-03-11T16:32:45.562Z"
      },
      {
        "duration": 50,
        "start_time": "2023-03-11T16:32:45.607Z"
      },
      {
        "duration": 15,
        "start_time": "2023-03-11T16:32:45.659Z"
      },
      {
        "duration": 19,
        "start_time": "2023-03-11T16:32:45.676Z"
      },
      {
        "duration": 10,
        "start_time": "2023-03-11T16:32:45.697Z"
      },
      {
        "duration": 9,
        "start_time": "2023-03-11T16:32:45.709Z"
      },
      {
        "duration": 38,
        "start_time": "2023-03-11T16:32:45.721Z"
      },
      {
        "duration": 11,
        "start_time": "2023-03-11T16:32:45.761Z"
      },
      {
        "duration": 11,
        "start_time": "2023-03-11T16:32:45.774Z"
      },
      {
        "duration": 14,
        "start_time": "2023-03-11T16:32:45.786Z"
      },
      {
        "duration": 5,
        "start_time": "2023-03-11T16:32:45.801Z"
      },
      {
        "duration": 53,
        "start_time": "2023-03-11T16:32:45.807Z"
      },
      {
        "duration": 6,
        "start_time": "2023-03-11T16:32:45.862Z"
      },
      {
        "duration": 18,
        "start_time": "2023-03-11T16:32:45.870Z"
      },
      {
        "duration": 16,
        "start_time": "2023-03-11T16:32:45.890Z"
      },
      {
        "duration": 25,
        "start_time": "2023-03-11T16:32:45.907Z"
      },
      {
        "duration": 26,
        "start_time": "2023-03-11T16:32:45.934Z"
      },
      {
        "duration": 24,
        "start_time": "2023-03-11T16:32:46.402Z"
      },
      {
        "duration": 5,
        "start_time": "2023-03-11T16:32:46.569Z"
      },
      {
        "duration": 9,
        "start_time": "2023-03-11T16:32:46.699Z"
      },
      {
        "duration": 11,
        "start_time": "2023-03-11T16:32:47.331Z"
      },
      {
        "duration": 12,
        "start_time": "2023-03-11T16:32:47.532Z"
      },
      {
        "duration": 57,
        "start_time": "2023-03-11T16:32:47.987Z"
      },
      {
        "duration": 330,
        "start_time": "2023-03-11T16:32:48.617Z"
      },
      {
        "duration": 158,
        "start_time": "2023-03-11T16:32:48.949Z"
      },
      {
        "duration": 428,
        "start_time": "2023-03-11T16:32:49.547Z"
      },
      {
        "duration": 535,
        "start_time": "2023-03-11T16:32:49.977Z"
      },
      {
        "duration": 24,
        "start_time": "2023-03-11T16:32:50.515Z"
      },
      {
        "duration": 380,
        "start_time": "2023-03-11T16:32:50.789Z"
      },
      {
        "duration": 8,
        "start_time": "2023-03-11T16:32:51.172Z"
      },
      {
        "duration": 413,
        "start_time": "2023-03-11T16:32:51.620Z"
      },
      {
        "duration": 610,
        "start_time": "2023-03-11T16:32:52.035Z"
      },
      {
        "duration": 217,
        "start_time": "2023-03-11T16:32:53.084Z"
      },
      {
        "duration": 429,
        "start_time": "2023-03-11T16:32:53.900Z"
      },
      {
        "duration": 5,
        "start_time": "2023-03-11T16:32:55.940Z"
      },
      {
        "duration": 5255,
        "start_time": "2023-03-11T16:32:56.109Z"
      },
      {
        "duration": 5,
        "start_time": "2023-03-11T16:33:01.366Z"
      },
      {
        "duration": 248,
        "start_time": "2023-03-11T16:33:01.373Z"
      },
      {
        "duration": 160,
        "start_time": "2023-03-11T16:33:01.624Z"
      },
      {
        "duration": 60,
        "start_time": "2023-03-11T16:33:01.786Z"
      },
      {
        "duration": 4,
        "start_time": "2023-03-11T16:34:12.895Z"
      },
      {
        "duration": 19426,
        "start_time": "2023-03-11T16:34:14.728Z"
      },
      {
        "duration": 15505,
        "start_time": "2023-03-11T16:34:34.157Z"
      },
      {
        "duration": 3,
        "start_time": "2023-03-11T16:48:02.800Z"
      },
      {
        "duration": 149,
        "start_time": "2023-03-11T16:48:52.858Z"
      },
      {
        "duration": 3,
        "start_time": "2023-03-11T16:49:00.669Z"
      },
      {
        "duration": 14599,
        "start_time": "2023-03-11T16:49:06.681Z"
      },
      {
        "duration": 6,
        "start_time": "2023-03-11T16:49:30.194Z"
      },
      {
        "duration": 11,
        "start_time": "2023-03-11T16:49:35.409Z"
      },
      {
        "duration": 11,
        "start_time": "2023-03-11T16:49:39.524Z"
      }
    ],
    "colab": {
      "provenance": [],
      "toc_visible": true
    },
    "gpuClass": "standard",
    "kernelspec": {
      "display_name": "Python 3 (ipykernel)",
      "language": "python",
      "name": "python3"
    },
    "language_info": {
      "codemirror_mode": {
        "name": "ipython",
        "version": 3
      },
      "file_extension": ".py",
      "mimetype": "text/x-python",
      "name": "python",
      "nbconvert_exporter": "python",
      "pygments_lexer": "ipython3",
      "version": "3.9.5"
    },
    "toc": {
      "base_numbering": 1,
      "nav_menu": {},
      "number_sections": true,
      "sideBar": true,
      "skip_h1_title": true,
      "title_cell": "Table of Contents",
      "title_sidebar": "Contents",
      "toc_cell": false,
      "toc_position": {},
      "toc_section_display": true,
      "toc_window_display": false
    },
    "vscode": {
      "interpreter": {
        "hash": "bfd5a5b421765054be11a02d2db3d2a33761227d3ba46db1a7c4b0d36075a23e"
      }
    }
  },
  "nbformat": 4,
  "nbformat_minor": 0
}